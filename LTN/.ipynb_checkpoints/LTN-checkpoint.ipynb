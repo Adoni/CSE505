{
 "cells": [
  {
   "cell_type": "code",
   "execution_count": 1,
   "metadata": {
    "collapsed": true
   },
   "outputs": [],
   "source": [
    "import torch\n",
    "import torch.nn as nn\n",
    "from torch.autograd import Variable\n",
    "import torch.optim as optim\n",
    "from matplotlib import pyplot as plt\n",
    "import seaborn as sns\n",
    "from tqdm import tqdm\n",
    "import copy"
   ]
  },
  {
   "cell_type": "code",
   "execution_count": 2,
   "metadata": {
    "collapsed": true
   },
   "outputs": [],
   "source": [
    "emb_dim=100"
   ]
  },
  {
   "cell_type": "markdown",
   "metadata": {},
   "source": [
    "# Terms\n",
    "\n",
    "* variable\n",
    "* function\n",
    "* predicate\n",
    "* clause"
   ]
  },
  {
   "cell_type": "code",
   "execution_count": 3,
   "metadata": {
    "collapsed": true
   },
   "outputs": [],
   "source": [
    "class Predicate:\n",
    "    def __init__(self, name, variables, negation):\n",
    "        self.name=name\n",
    "        self.variables=variables\n",
    "        self.negation=negation\n",
    "    \n",
    "    def show(self):\n",
    "        s=''\n",
    "        if self.negation:\n",
    "            s+='¬'\n",
    "        s='%s%s(%s)'%(s,self.name,', '.join(self.variables))\n",
    "        return s"
   ]
  },
  {
   "cell_type": "code",
   "execution_count": 4,
   "metadata": {},
   "outputs": [],
   "source": [
    "class Clause:\n",
    "    def __init__(self, v,w,predicates):\n",
    "        self.v=float(v)\n",
    "        self.w=float(w)\n",
    "        self.predicates=predicates\n",
    "    def show(self):\n",
    "        ss=[]\n",
    "        for p in self.predicates:\n",
    "            ss.append(p.show())\n",
    "        ss=' ∨ '.join(ss)\n",
    "        return ss"
   ]
  },
  {
   "cell_type": "code",
   "execution_count": 5,
   "metadata": {
    "collapsed": true
   },
   "outputs": [],
   "source": [
    "class KnowledgeBase:\n",
    "    def __init__(self,clauses):\n",
    "        self.clauses=clauses\n",
    "    def show(self):\n",
    "        for i,c in enumerate(self.clauses):\n",
    "            print(c.show())\n",
    "    def union(self, knowledge_base):\n",
    "        new_knowledge_base=copy.deepcopy(knowledge_base)\n",
    "        for clause in self.clauses:\n",
    "            new_knowledge_base.clauses.append(clause)\n",
    "        return new_knowledge_base"
   ]
  },
  {
   "cell_type": "code",
   "execution_count": 6,
   "metadata": {
    "collapsed": true
   },
   "outputs": [],
   "source": [
    "class Propositional:\n",
    "    def __init__(self, v, w, conditions, clause):\n",
    "        self.v = v\n",
    "        self.w = w\n",
    "        self.conditions = conditions\n",
    "        self.clause = clause\n",
    "\n",
    "    def generate_knowledge_base(self,constants):\n",
    "        self.knowledge_base = KnowledgeBase([self.clause])\n",
    "        for condition in self.conditions:\n",
    "            new_knowledge_base = self.bound_knowledge_base(\n",
    "                self.knowledge_base, condition[1], constants, condition[0])\n",
    "            self.knowledge_base = new_knowledge_base\n",
    "        return self.knowledge_base\n",
    "\n",
    "    def bound_knowledge_base(self, knowledge_base, variable, constants,\n",
    "                             existential):\n",
    "        clauses = []\n",
    "        for clause in knowledge_base.clauses:\n",
    "            clauses += self.bound_clause_variable_with_constants(\n",
    "                clause, variable, constants, existential)\n",
    "        return KnowledgeBase(clauses=clauses)\n",
    "\n",
    "    def bound_clause_variable_with_constants(self, clause, variable, constants,\n",
    "                                             existential):\n",
    "        clauses = []\n",
    "        for constant in constants:\n",
    "            clauses.append(\n",
    "                self.bound_clause_variable_with_constant(\n",
    "                    clause, variable, constant))\n",
    "        if existential:\n",
    "            all_predicates = []\n",
    "            for clause in clauses:\n",
    "                all_predicates += clause.predicates\n",
    "            return [Clause(clauses[0].v, clauses[0].w, all_predicates)]\n",
    "        else:\n",
    "            return clauses\n",
    "\n",
    "    def bound_clause_variable_with_constant(self, clause, variable, constant):\n",
    "        new_clause = copy.deepcopy(clause)\n",
    "        for i in range(len(clause.predicates)):\n",
    "            for j in range(len(new_clause.predicates[i].variables)):\n",
    "                if new_clause.predicates[i].variables[j] == variable:\n",
    "                    new_clause.predicates[i].variables[j] = constant\n",
    "        return new_clause"
   ]
  },
  {
   "cell_type": "code",
   "execution_count": 7,
   "metadata": {
    "collapsed": true
   },
   "outputs": [],
   "source": [
    "def load_knowledge_base(filename):\n",
    "    clauses=[]\n",
    "    for line in open(filename):\n",
    "        line=line.strip().split('|')\n",
    "        v,w=line[0].split(',')\n",
    "        line=line[1].strip().split(',')\n",
    "        if line[0]=='not':\n",
    "            negation=True\n",
    "            line=line[1:]\n",
    "        else:\n",
    "            negation=False\n",
    "        predicate=Predicate(name=line[0],negation=negation,variables=line[1:])\n",
    "        clauses.append(Clause(v=v,w=w,predicates=[predicate]))\n",
    "    return KnowledgeBase(clauses)"
   ]
  },
  {
   "cell_type": "code",
   "execution_count": 8,
   "metadata": {},
   "outputs": [],
   "source": [
    "def load_propositional(filename):\n",
    "    propositionals=[]\n",
    "    for line in open(filename):\n",
    "        line=line.strip().split('|')\n",
    "        condition=[]\n",
    "        v,w=line[0].split(',')\n",
    "        for c in line[1].strip().split(','):\n",
    "            c=c.strip().split(' ')\n",
    "            if c[0]=='all':\n",
    "                c[0]=False\n",
    "            else:\n",
    "                c[0]=True\n",
    "            condition.append(c)\n",
    "        predicates=[]\n",
    "        for predicate in line[2:]:\n",
    "            predicate=predicate.strip().split(',')\n",
    "            if predicate[0]=='not':\n",
    "                predicate=Predicate(name=predicate[1],negation=True,variables=predicate[2:])\n",
    "            else:\n",
    "                predicate=Predicate(name=predicate[0],negation=False,variables=predicate[1:])\n",
    "            predicates.append(predicate)\n",
    "        propositionals.append(Propositional(v,w,condition,Clause(v,w,predicates)))\n",
    "    return propositionals"
   ]
  },
  {
   "cell_type": "code",
   "execution_count": 9,
   "metadata": {
    "collapsed": true
   },
   "outputs": [],
   "source": [
    "def show_results(model, knowledge_base):\n",
    "    wrong=0\n",
    "    for clause in knowledge_base.clauses:\n",
    "        output=model.forward(clause=clause)\n",
    "        if output[0].data.numpy()[0]<0.01:\n",
    "            continue\n",
    "        print(clause.show())\n",
    "        print(output[0].data.numpy()[0], output[1].data.numpy()[0])\n",
    "        wrong+=1\n",
    "    print(wrong)"
   ]
  },
  {
   "cell_type": "code",
   "execution_count": 10,
   "metadata": {
    "collapsed": true
   },
   "outputs": [],
   "source": [
    "class GConstants(nn.Module):\n",
    "    def __init__(self, constants,emb_dim):\n",
    "        super(GConstants, self).__init__()\n",
    "        self.symbol2id=dict()\n",
    "        self.id2symbol=dict()\n",
    "        for i,s in enumerate(constants):\n",
    "            self.symbol2id[s]=i\n",
    "            self.id2symbol[i]=s\n",
    "        self.embeddings = nn.Embedding(len(self.symbol2id), emb_dim)\n",
    "    def forward(self,constants):\n",
    "        constant_id=[]\n",
    "        for c in constants:\n",
    "            constant_id.append(self.symbol2id[c])\n",
    "        embs=self.embeddings(Variable(torch.LongTensor(constant_id)))\n",
    "        embs=torch.cat(embs).view(1,-1)\n",
    "        return embs"
   ]
  },
  {
   "cell_type": "code",
   "execution_count": 11,
   "metadata": {
    "collapsed": true
   },
   "outputs": [],
   "source": [
    "class GPredicate(nn.Module):\n",
    "    def __init__(self, name, variable_count, emb_dim):\n",
    "        super(GPredicate, self).__init__()\n",
    "        self.name=name\n",
    "        self.variable_count=variable_count\n",
    "        self.emb_dim=emb_dim\n",
    "        m=variable_count*emb_dim\n",
    "        self.variable_count=variable_count\n",
    "        self.W=Variable(torch.randn(m, emb_dim, m), requires_grad=True)\n",
    "        self.V=Variable(torch.randn(m, emb_dim), requires_grad=True)\n",
    "        self.B=Variable(torch.randn(emb_dim), requires_grad=True)\n",
    "        self.u=Variable(torch.randn(emb_dim), requires_grad=True)\n",
    "    def forward(self, embs, negation):\n",
    "        m=self.variable_count*self.emb_dim\n",
    "        W=self.W.view(m,-1)\n",
    "        output=torch.mm(embs,W)\n",
    "        output=output.view(-1,m)\n",
    "        output=torch.mm(output,embs.view(-1,1))\n",
    "        output=output.view(1,-1)\n",
    "        output=output.add(torch.mm(embs,self.V))\n",
    "        output=output.add(self.B)\n",
    "        output=output.view(-1)\n",
    "        output=torch.tanh(output)\n",
    "        output=torch.mul(output,self.u).sum()\n",
    "        output=torch.sigmoid(output)\n",
    "        if negation:\n",
    "            output=1.0-output\n",
    "        return output"
   ]
  },
  {
   "cell_type": "code",
   "execution_count": 12,
   "metadata": {
    "collapsed": true
   },
   "outputs": [],
   "source": [
    "class LTN(nn.Module):\n",
    "    def __init__(self, emb_dim, constants, predicates):\n",
    "        super(LTN, self).__init__()\n",
    "        self.emb_dim=emb_dim\n",
    "        self.Constants=GConstants(constants, emb_dim)\n",
    "        self.Predicates=dict()\n",
    "        for name,n in predicates:\n",
    "            self.Predicates[name]=GPredicate(name,n,emb_dim)\n",
    "    def forward(self, clause):\n",
    "        Phi=None\n",
    "        v=Variable(torch.FloatTensor([clause.v]))\n",
    "        w=Variable(torch.FloatTensor([clause.w]))\n",
    "        for predicate in clause.predicates:\n",
    "            negation=predicate.negation\n",
    "            name=predicate.name\n",
    "            constants=predicate.variables\n",
    "            embs=self.Constants.forward(constants)\n",
    "            output=self.Predicates[name].forward(embs,negation)\n",
    "            if Phi is None or Phi.data.numpy()[0]<output.data.numpy()[0]:\n",
    "                Phi=output\n",
    "        if (Phi>w).data.all():\n",
    "            loss=Phi-w\n",
    "        elif (Phi<v).data.all():\n",
    "            loss=v-Phi\n",
    "        else:\n",
    "            loss=Variable(torch.FloatTensor([0]),requires_grad=True)\n",
    "        return loss,Phi\n",
    "    def parameters(self):\n",
    "        results=list(self.Constants.parameters())\n",
    "        for name in self.Predicates:\n",
    "            results+=list(self.Predicates[name].parameters())\n",
    "        return results"
   ]
  },
  {
   "cell_type": "code",
   "execution_count": 13,
   "metadata": {},
   "outputs": [],
   "source": [
    "kb1=load_knowledge_base('./facts1.txt')\n",
    "kb2=load_knowledge_base('./facts2.txt')\n",
    "propositionals=load_propositional('./knowledge.txt')\n",
    "gkbs1=[]\n",
    "for p in propositionals:\n",
    "    gkbs1.append(p.generate_knowledge_base('abcdefgh'))\n",
    "gkb1=gkbs1[0]\n",
    "for tkb in gkbs1[1:]:\n",
    "    gkb1=gkb1.union(tkb)\n",
    "gkbs2=[]\n",
    "for p in propositionals:\n",
    "    gkbs2.append(p.generate_knowledge_base('ijklmn'))\n",
    "gkb2=gkbs2[0]\n",
    "for tkb in gkbs2[1:]:\n",
    "    gkb2=gkb2.union(tkb)"
   ]
  },
  {
   "cell_type": "code",
   "execution_count": null,
   "metadata": {
    "scrolled": true
   },
   "outputs": [
    {
     "name": "stderr",
     "output_type": "stream",
     "text": [
      "\r",
      "  0%|          | 0/2000 [00:00<?, ?it/s]"
     ]
    },
    {
     "data": {
      "image/png": "[encoded data removed]",
      "text/plain": [
       "<matplotlib.figure.Figure at 0x1a157df908>"
      ]
     },
     "metadata": {},
     "output_type": "display_data"
    },
    {
     "data": {
      "image/png": "[encoded data removed]",
      "text/plain": [
       "<matplotlib.figure.Figure at 0x1a1d124c88>"
      ]
     },
     "metadata": {},
     "output_type": "display_data"
    },
    {
     "name": "stdout",
     "output_type": "stream",
     "text": [
      "S(i)\n",
      "0.988445 0.011555\n",
      "¬S(j)\n",
      "0.769194 0.230806\n",
      "¬S(l)\n",
      "0.123239 0.876761\n",
      "F(i, j)\n",
      "0.999785 0.0002145\n",
      "F(i, m)\n",
      "0.993702 0.00629808\n",
      "F(k, l)\n",
      "0.644376 0.355624\n",
      "F(m, n)\n",
      "0.987018 0.0129816\n",
      "¬F(i, l)\n",
      "0.0133018 0.986698\n",
      "¬F(j, m)\n",
      "0.161299 0.838701\n",
      "¬F(l, n)\n",
      "0.999629 0.000370741\n",
      "¬F(l, m)\n",
      "1.0 0.0\n",
      "S(a)\n",
      "0.934985 0.0650152\n",
      "S(e)\n",
      "0.919937 0.0800627\n",
      "S(f)\n",
      "0.999724 0.000275875\n",
      "S(g)\n",
      "0.0135491 0.986451\n",
      "¬S(d)\n",
      "0.997347 0.00265324\n",
      "F(a, b)\n",
      "0.0520901 0.94791\n",
      "F(a, e)\n",
      "0.284325 0.715675\n",
      "F(a, g)\n",
      "0.370691 0.629309\n",
      "F(e, f)\n",
      "0.998736 0.00126434\n",
      "F(g, h)\n",
      "0.0397776 0.960222\n",
      "¬F(a, c)\n",
      "0.0139196 0.98608\n",
      "¬F(b, d)\n",
      "0.99999 1.00136e-05\n",
      "¬F(b, e)\n",
      "0.69851 0.30149\n",
      "¬F(b, f)\n",
      "0.996101 0.00389886\n",
      "¬F(b, g)\n",
      "0.999979 2.13385e-05\n"
     ]
    },
    {
     "name": "stderr",
     "output_type": "stream",
     "text": [
      "\r",
      "  0%|          | 1/2000 [00:01<52:29,  1.58s/it]"
     ]
    },
    {
     "name": "stdout",
     "output_type": "stream",
     "text": [
      "¬F(b, h)\n",
      "0.991098 0.00890231\n",
      "¬F(c, f)\n",
      "0.984843 0.0151569\n",
      "¬F(d, g)\n",
      "0.999899 0.000100732\n",
      "¬F(f, g)\n",
      "0.0175093 0.982491\n",
      "¬F(f, h)\n",
      "0.877192 0.122808\n",
      "C(a)\n",
      "0.445227 0.554773\n",
      "C(e)\n",
      "0.853861 0.146139\n",
      "¬C(b)\n",
      "0.188281 0.811719\n",
      "¬C(d)\n",
      "0.999751 0.000249326\n",
      "¬C(f)\n",
      "0.999998 1.66893e-06\n",
      "¬C(h)\n",
      "0.999936 6.4373e-05\n",
      "37\n"
     ]
    },
    {
     "name": "stderr",
     "output_type": "stream",
     "text": [
      "  5%|▌         | 100/2000 [01:12<22:56,  1.38it/s]"
     ]
    },
    {
     "data": {
      "image/png": "[encoded data removed]",
      "text/plain": [
       "<matplotlib.figure.Figure at 0x1a157a66a0>"
      ]
     },
     "metadata": {},
     "output_type": "display_data"
    },
    {
     "data": {
      "image/png": "[encoded data removed]",
      "text/plain": [
       "<matplotlib.figure.Figure at 0x1a1579e7b8>"
      ]
     },
     "metadata": {},
     "output_type": "display_data"
    },
    {
     "name": "stderr",
     "output_type": "stream",
     "text": [
      "\r",
      "  5%|▌         | 101/2000 [01:13<23:05,  1.37it/s]"
     ]
    },
    {
     "name": "stdout",
     "output_type": "stream",
     "text": [
      "S(e)\n",
      "0.515298 0.484702\n",
      "F(e, f)\n",
      "0.0207701 0.97923\n",
      "¬C(d)\n",
      "0.234211 0.765789\n",
      "3\n"
     ]
    },
    {
     "name": "stderr",
     "output_type": "stream",
     "text": [
      "  7%|▋         | 148/2000 [01:44<21:45,  1.42it/s]"
     ]
    }
   ],
   "source": [
    "ltn1=LTN(emb_dim,'abcdefghijklmn',[['S',1],['F',2],['C',1]])\n",
    "kb_train=kb1.union(kb2)\n",
    "optimizor=torch.optim.Adam(ltn1.parameters(),lr=0.1,weight_decay=0.1)\n",
    "mone=torch.FloatTensor([-1])\n",
    "one=torch.FloatTensor([1])\n",
    "average_prob=[]\n",
    "averate_loss=[]\n",
    "for i in tqdm(range(2000)):\n",
    "    optimizor.zero_grad()\n",
    "    total_probability=0.0\n",
    "    total_loss=0.0\n",
    "    for clause in kb_train.clauses:\n",
    "        loss,prob=ltn1.forward(clause=clause)\n",
    "        loss.backward(one)\n",
    "        total_probability+=prob.data.numpy()[0]\n",
    "        total_loss+=loss.data.numpy()[0]\n",
    "    optimizor.step()\n",
    "    average_prob.append(total_probability/len(kb_train.clauses))\n",
    "    averate_loss.append(total_loss/len(kb_train.clauses))\n",
    "    \n",
    "    if i%100==0:\n",
    "        plt.plot(average_prob)\n",
    "        plt.show()\n",
    "        plt.plot(averate_loss)\n",
    "        plt.show()\n",
    "        show_results(ltn1, kb_train)"
   ]
  },
  {
   "cell_type": "code",
   "execution_count": 16,
   "metadata": {
    "scrolled": true
   },
   "outputs": [
    {
     "name": "stdout",
     "output_type": "stream",
     "text": [
      "(Variable containing:\n",
      " 0.1600\n",
      "[torch.FloatTensor of size 1]\n",
      ", Variable containing:\n",
      " 0.8400\n",
      "[torch.FloatTensor of size 1]\n",
      ")\n",
      "F(c, b)\n"
     ]
    }
   ],
   "source": [
    "c=Clause(1,1,[Predicate('F',['c','b'],False)])\n",
    "print(ltn1.forward(c))\n",
    "print(c.show())"
   ]
  },
  {
   "cell_type": "code",
   "execution_count": 17,
   "metadata": {
    "scrolled": true
   },
   "outputs": [
    {
     "name": "stderr",
     "output_type": "stream",
     "text": [
      "\n",
      "  0%|          | 0/2000 [00:00<?, ?it/s]\u001b[A"
     ]
    },
    {
     "data": {
      "image/png": "[encoded data removed]",
      "text/plain": [
       "<matplotlib.figure.Figure at 0x1a1d26dac8>"
      ]
     },
     "metadata": {},
     "output_type": "display_data"
    },
    {
     "name": "stdout",
     "output_type": "stream",
     "text": [
      "¬S(j) ∨ C(j)\n",
      "0.0280519 0.971948\n",
      "¬S(k) ∨ C(k)\n",
      "0.406413 0.593587\n",
      "¬S(l) ∨ C(l)\n",
      "0.0142733 0.985727\n",
      "¬S(m) ∨ C(m)\n",
      "0.999704 0.000295944\n",
      "¬S(j) ∨ ¬F(j, i) ∨ S(i)\n",
      "0.984493 0.015507\n",
      "¬S(j) ∨ ¬F(j, j) ∨ S(j)\n",
      "0.015507 0.984493\n",
      "¬S(j) ∨ ¬F(j, l) ∨ S(l)\n",
      "0.984493 0.015507\n",
      "¬S(k) ∨ ¬F(k, j) ∨ S(j)\n",
      "0.015507 0.984493\n",
      "¬S(l) ∨ ¬F(l, i) ∨ S(i)\n",
      "0.0142733 0.985727\n",
      "¬S(l) ∨ ¬F(l, l) ∨ S(l)\n",
      "0.0142733 0.985727\n",
      "¬S(m) ∨ ¬F(m, l) ∨ S(l)\n",
      "0.882458 0.117542\n",
      "¬S(n) ∨ ¬F(n, i) ∨ S(i)\n",
      "0.0289114 0.971089\n",
      "¬F(j, j) ∨ F(j, j)\n",
      "0.302218 0.697782\n",
      "¬F(j, k) ∨ F(k, j)\n",
      "0.0110288 0.988971\n",
      "¬F(j, l) ∨ F(l, j)\n",
      "0.999891 0.000109315\n",
      "¬F(j, m) ∨ F(m, j)\n",
      "0.99731 0.00269037\n",
      "¬F(j, n) ∨ F(n, j)\n",
      "0.996806 0.0031942\n",
      "¬F(k, j) ∨ F(j, k)\n",
      "0.0173373 0.982663\n",
      "¬F(k, n) ∨ F(n, k)\n",
      "0.999934 6.61612e-05\n",
      "¬F(l, i) ∨ F(i, l)\n",
      "0.849527 0.150473\n",
      "¬F(l, m) ∨ F(m, l)\n",
      "0.117542 0.882458\n",
      "¬F(m, k) ∨ F(k, m)\n",
      "0.238973 0.761027\n",
      "¬F(m, l) ∨ F(l, m)\n",
      "0.117997 0.882003\n",
      "¬F(m, n) ∨ F(n, m)\n",
      "0.94463 0.05537\n",
      "¬F(n, i) ∨ F(i, n)\n",
      "0.0289114 0.971089\n",
      "¬F(j, j)\n",
      "0.302218 0.697782\n",
      "¬F(l, l)\n",
      "0.999458 0.000542223\n",
      "¬F(n, n)\n",
      "0.999997 3.33786e-06\n",
      "¬S(b) ∨ C(b)\n",
      "0.132793 0.867207\n",
      "¬S(d) ∨ C(d)\n",
      "0.78941 0.21059\n",
      "¬S(f) ∨ C(f)\n",
      "0.991083 0.00891705\n",
      "¬S(a) ∨ ¬F(a, b) ∨ S(b)\n",
      "0.867207 0.132793\n",
      "¬S(a) ∨ ¬F(a, c) ∨ S(c)\n",
      "0.483334 0.516666\n",
      "¬S(a) ∨ ¬F(a, d) ∨ S(d)\n",
      "0.21059 0.78941\n",
      "¬S(a) ∨ ¬F(a, e) ∨ S(e)\n",
      "0.0177639 0.982236\n",
      "¬S(a) ∨ ¬F(a, g) ∨ S(g)\n",
      "0.997135 0.0028653\n",
      "¬S(a) ∨ ¬F(a, h) ∨ S(h)\n",
      "0.219166 0.780834\n",
      "¬S(b) ∨ ¬F(b, b) ∨ S(b)\n",
      "0.132793 0.867207\n",
      "¬S(b) ∨ ¬F(b, d) ∨ S(d)\n",
      "0.132793 0.867207\n",
      "¬S(b) ∨ ¬F(b, e) ∨ S(e)\n",
      "0.0438544 0.956146\n",
      "¬S(b) ∨ ¬F(b, g) ∨ S(g)\n",
      "0.0921177 0.907882\n",
      "¬S(b) ∨ ¬F(b, h) ∨ S(h)\n",
      "0.132793 0.867207\n",
      "¬S(c) ∨ ¬F(c, c) ∨ S(c)\n",
      "0.099111 0.900889\n",
      "¬S(c) ∨ ¬F(c, e) ∨ S(e)\n",
      "0.436915 0.563085\n",
      "¬S(c) ∨ ¬F(c, g) ∨ S(g)\n",
      "0.327555 0.672445\n",
      "¬S(d) ∨ ¬F(d, b) ∨ S(b)\n",
      "0.78941 0.21059\n",
      "¬S(d) ∨ ¬F(d, c) ∨ S(c)\n",
      "0.118544 0.881456\n",
      "¬S(d) ∨ ¬F(d, e) ∨ S(e)\n",
      "0.242747 0.757253\n",
      "¬S(d) ∨ ¬F(d, g) ∨ S(g)\n",
      "0.181406 0.818594\n",
      "¬S(f) ∨ ¬F(f, c) ∨ S(c)\n",
      "0.0301615 0.969839\n",
      "¬S(f) ∨ ¬F(f, g) ∨ S(g)\n",
      "0.997135 0.0028653\n",
      "¬F(a, d) ∨ F(d, a)\n",
      "0.888639 0.111361\n",
      "¬F(a, f) ∨ F(f, a)\n",
      "0.116239 0.883761\n",
      "¬F(a, g) ∨ F(g, a)\n",
      "0.999361 0.000639073\n",
      "¬F(a, h) ∨ F(h, a)\n",
      "0.219166 0.780834\n",
      "¬F(b, e) ∨ F(e, b)\n",
      "0.0438544 0.956146\n",
      "¬F(b, h) ∨ F(h, b)\n",
      "0.963199 0.0368013\n",
      "¬F(c, c) ∨ F(c, c)\n",
      "0.099111 0.900889\n",
      "¬F(c, g) ∨ F(g, c)\n",
      "0.302557 0.697443\n",
      "¬F(d, c) ∨ F(c, d)\n",
      "0.118544 0.881456\n",
      "¬F(d, e) ∨ F(e, d)\n",
      "0.242747 0.757253\n",
      "¬F(e, a) ∨ F(a, e)\n",
      "0.982236 0.0177639\n",
      "¬F(e, c) ∨ F(c, e)\n",
      "0.563085 0.436915\n",
      "¬F(e, d) ∨ F(d, e)\n",
      "0.144359 0.855641\n",
      "¬F(e, f) ∨ F(f, e)\n",
      "0.999998 1.55709e-06\n",
      "¬F(f, a) ∨ F(a, f)\n",
      "0.179069 0.820931\n",
      "¬F(f, c) ∨ F(c, f)\n",
      "0.0301615 0.969839\n",
      "¬F(f, f) ∨ F(f, f)\n",
      "0.369052 0.630948\n",
      "¬F(f, g) ∨ F(g, f)\n",
      "0.241404 0.758596\n",
      "¬F(g, b) ∨ F(b, g)\n",
      "0.907882 0.0921177\n",
      "¬F(g, c) ∨ F(c, g)\n",
      "0.672445 0.327555\n",
      "¬F(g, d) ∨ F(d, g)\n",
      "0.818594 0.181406\n",
      "¬F(g, h) ∨ F(h, g)\n",
      "0.0308825 0.969118\n",
      "¬F(h, c) ∨ F(c, h)\n",
      "0.999317 0.000682912\n",
      "¬F(h, d) ∨ F(d, h)\n",
      "0.367751 0.632249\n",
      "¬F(h, g) ∨ F(g, h)\n",
      "0.276668 0.723332\n",
      "¬F(a, a)\n",
      "0.998605 0.00139529\n",
      "¬F(b, b)\n",
      "0.999958 4.24385e-05\n",
      "¬F(c, c)\n",
      "0.099111 0.900889\n",
      "¬F(e, e)\n",
      "1.0 1.19209e-07\n",
      "¬F(f, f)\n",
      "0.630948 0.369052\n",
      "S(i)\n",
      "0.999501 0.000498591\n",
      "¬S(j)\n",
      "0.984493 0.015507\n",
      "¬S(k)\n",
      "0.999967 3.26633e-05\n",
      "¬S(l)\n",
      "0.0142733 0.985727\n",
      "¬S(m)\n",
      "0.99976 0.000239909\n",
      "F(i, m)\n",
      "0.99987 0.000130381\n",
      "F(k, l)\n",
      "1.0 1.00955e-09\n",
      "¬F(j, k)\n",
      "0.0110288 0.988971\n",
      "¬F(j, l)\n",
      "0.999891 0.000109315\n",
      "¬F(j, m)\n",
      "0.999371 0.000629365\n",
      "¬F(j, n)\n",
      "0.999989 1.07288e-05\n",
      "¬F(l, m)\n",
      "0.882003 0.117997\n",
      "S(e)\n",
      "0.999904 9.60265e-05\n",
      "S(g)\n",
      "0.997135 0.0028653\n",
      "¬S(b)\n",
      "0.132793 0.867207\n",
      "¬S(c)\n",
      "0.516666 0.483334\n",
      "¬S(d)\n",
      "0.78941 0.21059\n",
      "F(a, e)\n",
      "0.982236 0.0177639\n",
      "F(a, f)\n",
      "0.179069 0.820931\n",
      "F(b, c)\n",
      "0.999983 1.66975e-05\n",
      "F(c, d)\n",
      "0.999932 6.82639e-05\n",
      "F(g, h)\n",
      "0.969118 0.0308825\n",
      "¬F(a, c)\n",
      "1.0 0.0\n",
      "¬F(a, d)\n",
      "0.999971 2.94447e-05\n",
      "¬F(a, h)\n",
      "0.219166 0.780834\n",
      "¬F(b, d)\n",
      "0.998246 0.00175405\n",
      "¬F(b, e)\n",
      "0.0438544 0.956146\n",
      "¬F(b, g)\n",
      "0.0921177 0.907882\n",
      "¬F(b, h)\n",
      "0.963199 0.0368013\n",
      "¬F(c, e)\n",
      "0.436915 0.563085\n",
      "¬F(c, g)\n",
      "0.327555 0.672445\n",
      "¬F(d, e)\n",
      "0.242747 0.757253\n"
     ]
    },
    {
     "name": "stderr",
     "output_type": "stream",
     "text": [
      "\n",
      "Exception in thread Thread-4:\n",
      "Traceback (most recent call last):\n",
      "  File \"/Users/sunxiaofei/anaconda3/lib/python3.6/threading.py\", line 916, in _bootstrap_inner\n",
      "    self.run()\n",
      "  File \"/Users/sunxiaofei/anaconda3/lib/python3.6/site-packages/tqdm/_tqdm.py\", line 144, in run\n",
      "    for instance in self.tqdm_cls._instances:\n",
      "  File \"/Users/sunxiaofei/anaconda3/lib/python3.6/_weakrefset.py\", line 60, in __iter__\n",
      "    for itemref in self.data:\n",
      "RuntimeError: Set changed size during iteration\n",
      "\n",
      "\r",
      "  0%|          | 1/2000 [00:06<3:28:33,  6.26s/it]"
     ]
    },
    {
     "name": "stdout",
     "output_type": "stream",
     "text": [
      "¬F(d, g)\n",
      "0.181406 0.818594\n",
      "¬F(f, g)\n",
      "0.997869 0.00213146\n",
      "C(e)\n",
      "0.999879 0.000120807\n",
      "¬C(c)\n",
      "0.994115 0.00588489\n",
      "¬C(d)\n",
      "0.0487496 0.95125\n",
      "¬C(h)\n",
      "0.999983 1.72853e-05\n",
      "119\n"
     ]
    },
    {
     "name": "stderr",
     "output_type": "stream",
     "text": [
      "  5%|▌         | 100/2000 [06:45<2:08:33,  4.06s/it]"
     ]
    },
    {
     "data": {
      "image/png": "[encoded data removed]",
      "text/plain": [
       "<matplotlib.figure.Figure at 0x1a1d346588>"
      ]
     },
     "metadata": {},
     "output_type": "display_data"
    },
    {
     "name": "stdout",
     "output_type": "stream",
     "text": [
      "F(k, i) ∨ F(k, j) ∨ F(k, k) ∨ F(k, l) ∨ F(k, m) ∨ F(k, n)\n",
      "0.999229 0.0007706\n",
      "F(l, i) ∨ F(l, j) ∨ F(l, k) ∨ F(l, l) ∨ F(l, m) ∨ F(l, n)\n",
      "0.990061 0.00993859\n",
      "F(m, i) ∨ F(m, j) ∨ F(m, k) ∨ F(m, l) ∨ F(m, m) ∨ F(m, n)\n",
      "0.997412 0.00258781\n",
      "¬F(n, n)\n",
      "0.999049 0.000950754\n",
      "¬S(d) ∨ C(d)\n",
      "0.994943 0.00505656\n",
      "¬S(e) ∨ C(e)\n",
      "0.989781 0.0102188\n",
      "¬S(a) ∨ ¬F(a, b) ∨ S(b)\n",
      "0.999978 2.17386e-05\n",
      "¬S(a) ∨ ¬F(a, f) ∨ S(f)\n",
      "0.948402 0.051598\n",
      "¬S(a) ∨ ¬F(a, g) ∨ S(g)\n",
      "0.035865 0.964135\n",
      "F(d, a) ∨ F(d, b) ∨ F(d, c) ∨ F(d, d) ∨ F(d, e) ∨ F(d, f) ∨ F(d, g) ∨ F(d, h)\n",
      "0.999854 0.000146293\n",
      "F(h, a) ∨ F(h, b) ∨ F(h, c) ∨ F(h, d) ∨ F(h, e) ∨ F(h, f) ∨ F(h, g) ∨ F(h, h)\n",
      "0.037552 0.962448\n",
      "¬F(c, a) ∨ F(a, c)\n",
      "0.993884 0.00611633\n",
      "¬F(f, a) ∨ F(a, f)\n",
      "0.051598 0.948402\n",
      "¬F(f, f) ∨ F(f, f)\n",
      "0.023585 0.976415\n",
      "¬F(g, a) ∨ F(a, g)\n",
      "0.964135 0.035865\n",
      "¬F(g, d) ∨ F(d, g)\n",
      "0.999999 1.07288e-06\n",
      "¬F(g, f) ∨ F(f, g)\n",
      "0.0603071 0.939693\n",
      "¬F(g, h) ∨ F(h, g)\n",
      "0.771185 0.228815\n",
      "¬F(h, a) ∨ F(a, h)\n",
      "0.962448 0.037552\n",
      "¬F(e, e)\n",
      "0.994666 0.00533438\n",
      "¬F(f, f)\n",
      "0.023585 0.976415\n",
      "¬S(j)\n",
      "0.999952 4.81606e-05\n",
      "¬S(k)\n",
      "1.0 1.19209e-07\n",
      "¬S(l)\n",
      "1.0 0.0\n",
      "F(i, m)\n",
      "0.999999 1.04195e-06\n",
      "F(k, l)\n",
      "1.0 4.14858e-14\n",
      "F(m, n)\n",
      "0.999986 1.42673e-05\n",
      "S(f)\n",
      "0.99999 9.78782e-06\n",
      "S(g)\n",
      "0.999652 0.000347829\n",
      "¬S(d)\n",
      "0.994943 0.00505656\n",
      "F(a, f)\n",
      "0.051598 0.948402\n",
      "F(a, g)\n",
      "0.964135 0.035865\n",
      "F(b, c)\n",
      "1.0 1.19218e-15\n",
      "F(c, d)\n",
      "0.999999 1.11238e-06\n",
      "F(e, f)\n",
      "0.998306 0.00169437\n",
      "F(g, h)\n",
      "0.228815 0.771185\n"
     ]
    },
    {
     "name": "stderr",
     "output_type": "stream",
     "text": [
      "\r",
      "  5%|▌         | 101/2000 [06:50<2:08:43,  4.07s/it]"
     ]
    },
    {
     "name": "stdout",
     "output_type": "stream",
     "text": [
      "C(e)\n",
      "0.989781 0.0102188\n",
      "¬C(b)\n",
      "0.0592972 0.940703\n",
      "38\n"
     ]
    },
    {
     "name": "stderr",
     "output_type": "stream",
     "text": [
      " 10%|█         | 200/2000 [12:51<1:55:46,  3.86s/it]"
     ]
    },
    {
     "data": {
      "image/png": "[encoded data removed]",
      "text/plain": [
       "<matplotlib.figure.Figure at 0x1a15809048>"
      ]
     },
     "metadata": {},
     "output_type": "display_data"
    },
    {
     "name": "stdout",
     "output_type": "stream",
     "text": [
      "F(k, i) ∨ F(k, j) ∨ F(k, k) ∨ F(k, l) ∨ F(k, m) ∨ F(k, n)\n",
      "0.677904 0.322096\n",
      "F(l, i) ∨ F(l, j) ∨ F(l, k) ∨ F(l, l) ∨ F(l, m) ∨ F(l, n)\n",
      "0.910914 0.0890857\n",
      "F(m, i) ∨ F(m, j) ∨ F(m, k) ∨ F(m, l) ∨ F(m, m) ∨ F(m, n)\n",
      "0.986776 0.0132241\n",
      "¬F(k, i) ∨ F(i, k)\n",
      "0.322096 0.677904\n",
      "¬F(l, i) ∨ F(i, l)\n",
      "0.0890856 0.910914\n",
      "¬F(m, j) ∨ F(j, m)\n",
      "0.0132241 0.986776\n",
      "¬F(n, n)\n",
      "0.99986 0.000140071\n",
      "¬S(e) ∨ C(e)\n",
      "0.142092 0.857908\n",
      "¬S(g) ∨ C(g)\n",
      "0.999962 3.82662e-05\n",
      "¬S(a) ∨ ¬F(a, b) ∨ S(b)\n",
      "0.996499 0.00350139\n",
      "¬S(a) ∨ ¬F(a, f) ∨ S(f)\n",
      "0.999784 0.000216067\n",
      "¬S(e) ∨ ¬F(e, h) ∨ S(h)\n",
      "0.015461 0.984539\n",
      "¬S(g) ∨ ¬F(g, h) ∨ S(h)\n",
      "0.0260837 0.973916\n",
      "F(d, a) ∨ F(d, b) ∨ F(d, c) ∨ F(d, d) ∨ F(d, e) ∨ F(d, f) ∨ F(d, g) ∨ F(d, h)\n",
      "0.998919 0.00108094\n",
      "F(e, a) ∨ F(e, b) ∨ F(e, c) ∨ F(e, d) ∨ F(e, e) ∨ F(e, f) ∨ F(e, g) ∨ F(e, h)\n",
      "0.984539 0.015461\n",
      "¬F(a, a) ∨ F(a, a)\n",
      "0.0185061 0.981494\n",
      "¬F(a, e) ∨ F(e, a)\n",
      "0.99999 1.0252e-05\n",
      "¬F(c, a) ∨ F(a, c)\n",
      "0.992059 0.00794101\n",
      "¬F(c, d) ∨ F(d, c)\n",
      "0.853262 0.146738\n",
      "¬F(c, h) ∨ F(h, c)\n",
      "0.0991373 0.900863\n",
      "¬F(e, h) ∨ F(h, e)\n",
      "0.015461 0.984539\n",
      "¬F(g, h) ∨ F(h, g)\n",
      "0.0260837 0.973916\n",
      "¬F(h, a) ∨ F(a, h)\n",
      "0.99855 0.00145024\n"
     ]
    },
    {
     "name": "stderr",
     "output_type": "stream",
     "text": [
      "\r",
      " 10%|█         | 201/2000 [12:56<1:55:51,  3.86s/it]"
     ]
    },
    {
     "name": "stdout",
     "output_type": "stream",
     "text": [
      "¬F(a, a)\n",
      "0.981494 0.0185061\n",
      "¬S(j)\n",
      "0.999295 0.000705123\n",
      "¬S(k)\n",
      "0.999651 0.000349402\n",
      "¬S(l)\n",
      "1.0 0.0\n",
      "F(i, m)\n",
      "0.999999 7.85865e-07\n",
      "F(k, l)\n",
      "1.0 2.2728e-12\n",
      "F(m, n)\n",
      "0.999999 8.17818e-07\n",
      "S(f)\n",
      "1.0 3.52278e-07\n",
      "F(b, c)\n",
      "1.0 1.19477e-08\n",
      "F(c, d)\n",
      "0.146738 0.853262\n",
      "F(e, f)\n",
      "1.0 1.2386e-08\n",
      "F(g, h)\n",
      "0.973916 0.0260837\n",
      "¬F(c, h)\n",
      "0.0991373 0.900863\n",
      "¬F(e, h)\n",
      "0.015461 0.984539\n",
      "C(e)\n",
      "0.142092 0.857908\n",
      "¬C(h)\n",
      "0.710831 0.289169\n",
      "39\n"
     ]
    },
    {
     "name": "stderr",
     "output_type": "stream",
     "text": [
      " 15%|█▌        | 300/2000 [18:09<1:42:56,  3.63s/it]"
     ]
    },
    {
     "data": {
      "image/png": "[encoded data removed]",
      "text/plain": [
       "<matplotlib.figure.Figure at 0x1a208f6630>"
      ]
     },
     "metadata": {},
     "output_type": "display_data"
    },
    {
     "name": "stdout",
     "output_type": "stream",
     "text": [
      "¬S(n) ∨ ¬F(n, m) ∨ S(m)\n",
      "0.0348114 0.965189\n",
      "F(k, i) ∨ F(k, j) ∨ F(k, k) ∨ F(k, l) ∨ F(k, m) ∨ F(k, n)\n",
      "0.605247 0.394753\n",
      "F(l, i) ∨ F(l, j) ∨ F(l, k) ∨ F(l, l) ∨ F(l, m) ∨ F(l, n)\n",
      "0.0623963 0.937604\n",
      "¬F(k, i) ∨ F(i, k)\n",
      "0.394753 0.605247\n",
      "¬F(l, i) ∨ F(i, l)\n",
      "0.937604 0.0623963\n",
      "¬F(m, n) ∨ F(n, m)\n",
      "0.965189 0.0348114\n",
      "¬F(n, n)\n",
      "0.999944 5.55515e-05\n",
      "¬S(g) ∨ C(g)\n",
      "0.999976 2.4143e-05\n",
      "¬S(a) ∨ ¬F(a, b) ∨ S(b)\n",
      "0.998702 0.00129796\n",
      "¬S(a) ∨ ¬F(a, f) ∨ S(f)\n",
      "0.999633 0.000367045\n",
      "F(d, a) ∨ F(d, b) ∨ F(d, c) ∨ F(d, d) ∨ F(d, e) ∨ F(d, f) ∨ F(d, g) ∨ F(d, h)\n",
      "0.0205325 0.979467\n",
      "F(e, a) ∨ F(e, b) ∨ F(e, c) ∨ F(e, d) ∨ F(e, e) ∨ F(e, f) ∨ F(e, g) ∨ F(e, h)\n",
      "0.999966 3.38095e-05\n",
      "F(h, a) ∨ F(h, b) ∨ F(h, c) ∨ F(h, d) ∨ F(h, e) ∨ F(h, f) ∨ F(h, g) ∨ F(h, h)\n",
      "0.999899 0.000100551\n",
      "¬F(a, e) ∨ F(e, a)\n",
      "0.11909 0.88091\n",
      "¬F(c, a) ∨ F(a, c)\n",
      "0.999238 0.000761846\n",
      "¬F(d, a) ∨ F(a, d)\n",
      "0.979467 0.0205325\n",
      "¬F(a, a)\n",
      "0.996887 0.00311261\n",
      "¬S(j)\n",
      "0.999599 0.000400603\n",
      "¬S(l)\n",
      "0.999614 0.000385761\n",
      "F(i, m)\n",
      "0.999427 0.000572696\n",
      "F(k, l)\n",
      "1.0 3.12732e-14\n"
     ]
    },
    {
     "name": "stderr",
     "output_type": "stream",
     "text": [
      "\r",
      " 15%|█▌        | 301/2000 [18:16<1:43:06,  3.64s/it]"
     ]
    },
    {
     "name": "stdout",
     "output_type": "stream",
     "text": [
      "S(f)\n",
      "1.0 4.15893e-07\n",
      "F(a, e)\n",
      "0.88091 0.11909\n",
      "F(b, c)\n",
      "1.0 9.7113e-09\n",
      "F(c, d)\n",
      "0.999995 5.50979e-06\n",
      "F(e, f)\n",
      "1.0 2.68391e-13\n",
      "F(g, h)\n",
      "0.999522 0.000477558\n",
      "27\n"
     ]
    },
    {
     "name": "stderr",
     "output_type": "stream",
     "text": [
      " 20%|██        | 400/2000 [24:06<1:36:27,  3.62s/it]"
     ]
    },
    {
     "data": {
      "image/png": "[encoded data removed]",
      "text/plain": [
       "<matplotlib.figure.Figure at 0x1a1d27b710>"
      ]
     },
     "metadata": {},
     "output_type": "display_data"
    },
    {
     "name": "stdout",
     "output_type": "stream",
     "text": [
      "F(k, i) ∨ F(k, j) ∨ F(k, k) ∨ F(k, l) ∨ F(k, m) ∨ F(k, n)\n",
      "0.998195 0.00180524\n",
      "F(l, i) ∨ F(l, j) ∨ F(l, k) ∨ F(l, l) ∨ F(l, m) ∨ F(l, n)\n",
      "0.37873 0.62127\n",
      "¬F(l, i) ∨ F(i, l)\n",
      "0.62127 0.37873\n",
      "¬F(m, n) ∨ F(n, m)\n",
      "0.999978 2.18153e-05\n",
      "¬F(n, n)\n",
      "0.999797 0.000202715\n",
      "¬S(g) ∨ C(g)\n",
      "0.999922 7.79629e-05\n",
      "¬S(a) ∨ ¬F(a, b) ∨ S(b)\n",
      "0.999977 2.26498e-05\n",
      "¬S(a) ∨ ¬F(a, f) ∨ S(f)\n",
      "0.999849 0.0001508\n",
      "F(e, a) ∨ F(e, b) ∨ F(e, c) ∨ F(e, d) ∨ F(e, e) ∨ F(e, f) ∨ F(e, g) ∨ F(e, h)\n",
      "0.999953 4.71702e-05\n",
      "¬F(a, e) ∨ F(e, a)\n",
      "0.886172 0.113828\n",
      "¬F(c, a) ∨ F(a, c)\n",
      "0.999842 0.000157598\n",
      "¬F(d, a) ∨ F(a, d)\n",
      "0.999136 0.00086385\n",
      "¬F(h, a) ∨ F(a, h)\n",
      "0.999876 0.000123978\n",
      "¬F(a, a)\n",
      "0.998654 0.00134599\n",
      "¬S(j)\n",
      "0.998054 0.00194645\n",
      "F(i, m)\n",
      "1.0 1.38289e-07\n",
      "F(k, l)\n",
      "1.0 4.81141e-12\n",
      "S(f)\n",
      "0.999998 2.351e-06\n",
      "F(a, e)\n",
      "0.113828 0.886172\n",
      "F(b, c)\n",
      "0.999997 2.97975e-06\n",
      "F(c, d)\n",
      "0.999999 8.83182e-07\n",
      "F(e, f)\n",
      "1.0"
     ]
    },
    {
     "name": "stderr",
     "output_type": "stream",
     "text": [
      "\r",
      " 20%|██        | 401/2000 [24:13<1:36:34,  3.62s/it]"
     ]
    },
    {
     "name": "stdout",
     "output_type": "stream",
     "text": [
      " 5.32118e-11\n",
      "F(g, h)\n",
      "0.99968 0.000320335\n",
      "23\n"
     ]
    },
    {
     "name": "stderr",
     "output_type": "stream",
     "text": [
      " 25%|██▌       | 500/2000 [29:53<1:29:40,  3.59s/it]"
     ]
    },
    {
     "data": {
      "image/png": "[encoded data removed]",
      "text/plain": [
       "<matplotlib.figure.Figure at 0x1a1576c978>"
      ]
     },
     "metadata": {},
     "output_type": "display_data"
    },
    {
     "name": "stdout",
     "output_type": "stream",
     "text": [
      "¬S(i) ∨ ¬F(i, j) ∨ S(j)\n",
      "0.146147 0.853853\n",
      "F(k, i) ∨ F(k, j) ∨ F(k, k) ∨ F(k, l) ∨ F(k, m) ∨ F(k, n)\n",
      "0.999133 0.000866918\n",
      "F(l, i) ∨ F(l, j) ∨ F(l, k) ∨ F(l, l) ∨ F(l, m) ∨ F(l, n)\n",
      "0.987399 0.0126005\n",
      "¬F(l, i) ∨ F(i, l)\n",
      "0.0126005 0.987399\n",
      "¬F(m, n) ∨ F(n, m)\n",
      "0.999871 0.000129104\n",
      "¬F(n, n)\n",
      "0.999793 0.000206649\n",
      "¬S(g) ∨ C(g)\n",
      "0.999841 0.000158906\n",
      "¬S(a) ∨ ¬F(a, b) ∨ S(b)\n",
      "0.99986 0.000140025\n",
      "¬S(a) ∨ ¬F(a, f) ∨ S(f)\n",
      "0.999847 0.000153184\n",
      "F(e, a) ∨ F(e, b) ∨ F(e, c) ∨ F(e, d) ∨ F(e, e) ∨ F(e, f) ∨ F(e, g) ∨ F(e, h)\n",
      "0.999997 2.94443e-06\n",
      "¬F(a, e) ∨ F(e, a)\n",
      "0.624944 0.375056\n",
      "¬F(c, a) ∨ F(a, c)\n",
      "0.999929 7.07166e-05\n",
      "¬F(d, a) ∨ F(a, d)\n",
      "0.999655 0.000345111\n"
     ]
    },
    {
     "name": "stderr",
     "output_type": "stream",
     "text": [
      "\r",
      " 25%|██▌       | 501/2000 [29:58<1:29:40,  3.59s/it]"
     ]
    },
    {
     "name": "stdout",
     "output_type": "stream",
     "text": [
      "¬F(h, a) ∨ F(a, h)\n",
      "0.999765 0.000234708\n",
      "¬F(a, a)\n",
      "0.994686 0.00531423\n",
      "¬S(j)\n",
      "0.853853 0.146147\n",
      "F(i, m)\n",
      "0.999999 7.4346e-07\n",
      "F(k, l)\n",
      "1.0 1.21093e-09\n",
      "S(f)\n",
      "0.999962 3.77528e-05\n",
      "F(a, e)\n",
      "0.375056 0.624944\n",
      "F(b, c)\n",
      "0.999978 2.16607e-05\n",
      "F(c, d)\n",
      "0.999937 6.2664e-05\n",
      "F(e, f)\n",
      "1.0 9.02241e-11\n",
      "F(g, h)\n",
      "0.999921 7.9287e-05\n",
      "24\n"
     ]
    },
    {
     "name": "stderr",
     "output_type": "stream",
     "text": [
      " 30%|███       | 600/2000 [54:21<2:06:50,  5.44s/it]"
     ]
    },
    {
     "data": {
      "image/png": "[encoded data removed]",
      "text/plain": [
       "<matplotlib.figure.Figure at 0x1a208ef128>"
      ]
     },
     "metadata": {},
     "output_type": "display_data"
    },
    {
     "name": "stdout",
     "output_type": "stream",
     "text": [
      "¬S(i) ∨ ¬F(i, j) ∨ S(j)\n",
      "0.610178 0.389822\n",
      "F(k, i) ∨ F(k, j) ∨ F(k, k) ∨ F(k, l) ∨ F(k, m) ∨ F(k, n)\n",
      "0.990059 0.0099414\n",
      "F(l, i) ∨ F(l, j) ∨ F(l, k) ∨ F(l, l) ∨ F(l, m) ∨ F(l, n)\n",
      "0.999958 4.23575e-05\n",
      "¬F(m, n) ∨ F(n, m)\n",
      "0.999804 0.00019604\n",
      "¬F(n, n)\n",
      "0.999819 0.000180662\n",
      "¬S(f) ∨ C(f)\n",
      "0.808154 0.191846\n",
      "¬S(g) ∨ C(g)\n",
      "0.999737 0.000262797\n",
      "¬S(a) ∨ ¬F(a, b) ∨ S(b)\n",
      "0.999733 0.00026692\n",
      "F(e, a) ∨ F(e, b) ∨ F(e, c) ∨ F(e, d) ∨ F(e, e) ∨ F(e, f) ∨ F(e, g) ∨ F(e, h)\n",
      "0.998944 0.00105634\n",
      "¬F(a, e) ∨ F(e, a)\n",
      "0.191222 0.808778\n",
      "¬F(c, a) ∨ F(a, c)\n",
      "0.999916 8.4223e-05\n",
      "¬F(d, a) ∨ F(a, d)\n",
      "0.99991 8.97228e-05\n"
     ]
    },
    {
     "name": "stderr",
     "output_type": "stream",
     "text": [
      "\r",
      " 30%|███       | 601/2000 [54:26<2:06:44,  5.44s/it]"
     ]
    },
    {
     "name": "stdout",
     "output_type": "stream",
     "text": [
      "¬F(h, a) ∨ F(a, h)\n",
      "0.999901 9.87967e-05\n",
      "¬F(a, a)\n",
      "0.99371 0.0062896\n",
      "¬S(j)\n",
      "0.389822 0.610178\n",
      "F(i, m)\n",
      "0.999999 1.36128e-06\n",
      "F(k, l)\n",
      "1.0 7.78596e-08\n",
      "F(a, e)\n",
      "0.808778 0.191222\n",
      "F(b, c)\n",
      "0.999995 4.59463e-06\n",
      "F(c, d)\n",
      "0.999997 2.8049e-06\n",
      "F(e, f)\n",
      "1.0 2.43313e-09\n",
      "F(g, h)\n",
      "0.999998 2.25291e-06\n",
      "¬C(f)\n",
      "0.191846 0.808154\n",
      "23\n"
     ]
    },
    {
     "name": "stderr",
     "output_type": "stream",
     "text": [
      " 35%|███▌      | 700/2000 [1:00:45<1:52:50,  5.21s/it]"
     ]
    },
    {
     "data": {
      "image/png": "[encoded data removed]",
      "text/plain": [
       "<matplotlib.figure.Figure at 0x1a1d36afd0>"
      ]
     },
     "metadata": {},
     "output_type": "display_data"
    },
    {
     "name": "stdout",
     "output_type": "stream",
     "text": [
      "¬S(i) ∨ ¬F(i, j) ∨ S(j)\n",
      "0.938209 0.0617909\n",
      "F(k, i) ∨ F(k, j) ∨ F(k, k) ∨ F(k, l) ∨ F(k, m) ∨ F(k, n)\n",
      "0.929816 0.0701838\n",
      "F(l, i) ∨ F(l, j) ∨ F(l, k) ∨ F(l, l) ∨ F(l, m) ∨ F(l, n)\n",
      "0.999888 0.000112292\n",
      "¬F(k, n) ∨ F(n, k)\n",
      "0.0701838 0.929816\n",
      "¬F(m, n) ∨ F(n, m)\n",
      "0.999774 0.000226319\n",
      "¬F(n, n)\n",
      "0.999835 0.000165105\n",
      "¬S(f) ∨ C(f)\n",
      "0.995688 0.00431222\n",
      "¬S(g) ∨ C(g)\n",
      "0.0556265 0.944373\n",
      "¬S(e) ∨ ¬F(e, a) ∨ S(a)\n",
      "0.990677 0.00932288\n",
      "¬S(f) ∨ ¬F(f, a) ∨ S(a)\n",
      "0.995688 0.00431222\n",
      "¬S(g) ∨ ¬F(g, a) ∨ S(a)\n",
      "0.681277 0.318723\n"
     ]
    },
    {
     "name": "stderr",
     "output_type": "stream",
     "text": [
      "\r",
      " 35%|███▌      | 701/2000 [1:00:50<1:52:44,  5.21s/it]"
     ]
    },
    {
     "name": "stdout",
     "output_type": "stream",
     "text": [
      "¬F(a, a)\n",
      "0.99984 0.000160456\n",
      "¬S(j)\n",
      "0.0617909 0.938209\n",
      "F(i, m)\n",
      "1.0 2.80409e-07\n",
      "F(k, l)\n",
      "0.999999 7.10747e-07\n",
      "S(a)\n",
      "1.0 3.74801e-08\n",
      "S(g)\n",
      "0.318723 0.681277\n",
      "F(b, c)\n",
      "0.999998 1.53048e-06\n",
      "F(c, d)\n",
      "0.999999 6.92822e-07\n",
      "F(e, f)\n",
      "1.0 2.05332e-08\n",
      "F(g, h)\n",
      "1.0 1.85679e-10\n",
      "¬F(a, c)\n",
      "1.0 0.0\n",
      "¬F(a, d)\n",
      "1.0 1.19209e-07\n",
      "¬F(a, h)\n",
      "1.0 0.0\n",
      "¬C(b)\n",
      "0.0119091 0.988091\n",
      "¬C(g)\n",
      "0.944373 0.0556265\n",
      "26\n"
     ]
    },
    {
     "name": "stderr",
     "output_type": "stream",
     "text": [
      " 40%|████      | 800/2000 [1:05:49<1:38:43,  4.94s/it]"
     ]
    },
    {
     "data": {
      "image/png": "[encoded data removed]",
      "text/plain": [
       "<matplotlib.figure.Figure at 0x1a156aa7b8>"
      ]
     },
     "metadata": {},
     "output_type": "display_data"
    },
    {
     "name": "stdout",
     "output_type": "stream",
     "text": [
      "¬S(i) ∨ ¬F(i, j) ∨ S(j)\n",
      "0.962617 0.0373834\n",
      "F(k, i) ∨ F(k, j) ∨ F(k, k) ∨ F(k, l) ∨ F(k, m) ∨ F(k, n)\n",
      "0.935723 0.0642766\n",
      "F(l, i) ∨ F(l, j) ∨ F(l, k) ∨ F(l, l) ∨ F(l, m) ∨ F(l, n)\n",
      "0.9999 9.99155e-05\n",
      "¬F(k, n) ∨ F(n, k)\n",
      "0.0642766 0.935723\n",
      "¬F(m, n) ∨ F(n, m)\n",
      "0.999761 0.000239313\n",
      "¬F(n, n)\n",
      "0.999838 0.000161648\n",
      "¬S(g) ∨ C(g)\n",
      "0.0422118 0.957788\n",
      "¬S(e) ∨ ¬F(e, a) ∨ S(a)\n",
      "0.9964 0.00359976\n",
      "¬S(g) ∨ ¬F(g, a) ∨ S(a)\n",
      "0.966568 0.0334322\n"
     ]
    },
    {
     "name": "stderr",
     "output_type": "stream",
     "text": [
      "\r",
      " 40%|████      | 801/2000 [1:05:53<1:38:38,  4.94s/it]"
     ]
    },
    {
     "name": "stdout",
     "output_type": "stream",
     "text": [
      "¬F(a, a)\n",
      "0.999995 5.24521e-06\n",
      "¬S(j)\n",
      "0.0373834 0.962617\n",
      "F(i, m)\n",
      "1.0 4.38811e-07\n",
      "F(k, l)\n",
      "0.999999 6.91883e-07\n",
      "S(a)\n",
      "0.999988 1.17303e-05\n",
      "S(f)\n",
      "0.999997 3.43668e-06\n",
      "S(g)\n",
      "0.0334322 0.966568\n",
      "F(b, c)\n",
      "1.0 2.25749e-08\n",
      "F(c, d)\n",
      "1.0 1.48555e-07\n",
      "F(e, f)\n",
      "1.0 1.68021e-07\n",
      "F(g, h)\n",
      "1.0 1.53211e-07\n",
      "¬F(a, c)\n",
      "1.0 0.0\n",
      "¬F(a, d)\n",
      "1.0 0.0\n",
      "¬F(a, h)\n",
      "1.0 0.0\n",
      "¬C(g)\n",
      "0.957788 0.0422118\n",
      "24\n"
     ]
    },
    {
     "name": "stderr",
     "output_type": "stream",
     "text": [
      " 45%|████▌     | 900/2000 [1:11:14<1:27:04,  4.75s/it]"
     ]
    },
    {
     "data": {
      "image/png": "[encoded data removed]",
      "text/plain": [
       "<matplotlib.figure.Figure at 0x1a1cb5cbe0>"
      ]
     },
     "metadata": {},
     "output_type": "display_data"
    },
    {
     "name": "stdout",
     "output_type": "stream",
     "text": [
      "¬S(i) ∨ ¬F(i, j) ∨ S(j)\n",
      "0.937871 0.0621286\n",
      "F(k, i) ∨ F(k, j) ∨ F(k, k) ∨ F(k, l) ∨ F(k, m) ∨ F(k, n)\n",
      "0.947491 0.0525087\n",
      "F(l, i) ∨ F(l, j) ∨ F(l, k) ∨ F(l, l) ∨ F(l, m) ∨ F(l, n)\n",
      "0.999906 9.43349e-05\n",
      "¬F(k, n) ∨ F(n, k)\n",
      "0.0525087 0.947491\n",
      "¬F(m, n) ∨ F(n, m)\n",
      "0.999762 0.000237644\n",
      "¬F(n, n)\n",
      "0.999844 0.000155926\n",
      "¬S(g) ∨ C(g)\n",
      "0.565797 0.434203\n",
      "¬S(e) ∨ ¬F(e, a) ∨ S(a)\n",
      "0.898651 0.101349\n",
      "¬S(g) ∨ ¬F(g, a) ∨ S(a)\n",
      "0.872079 0.127921\n"
     ]
    },
    {
     "name": "stderr",
     "output_type": "stream",
     "text": [
      "\r",
      " 45%|████▌     | 901/2000 [1:11:19<1:27:00,  4.75s/it]"
     ]
    },
    {
     "name": "stdout",
     "output_type": "stream",
     "text": [
      "¬F(a, a)\n",
      "1.0 0.0\n",
      "¬S(j)\n",
      "0.0621286 0.937871\n",
      "F(i, m)\n",
      "0.999999 1.31119e-06\n",
      "F(k, l)\n",
      "1.0 4.62288e-07\n",
      "S(a)\n",
      "0.999989 1.07548e-05\n",
      "S(e)\n",
      "0.101349 0.898651\n",
      "S(f)\n",
      "0.999768 0.000232297\n",
      "S(g)\n",
      "0.127921 0.872079\n",
      "F(b, c)\n",
      "1.0 7.29409e-08\n",
      "F(c, d)\n",
      "0.999996 3.99396e-06\n",
      "F(e, f)\n",
      "0.999999 5.94207e-07\n",
      "F(g, h)\n",
      "0.999992 8.13124e-06\n",
      "¬F(a, c)\n",
      "1.0 0.0\n",
      "¬F(a, d)\n",
      "1.0 0.0\n",
      "¬F(a, h)\n",
      "1.0 0.0\n",
      "¬C(g)\n",
      "0.434203 0.565797\n",
      "25\n"
     ]
    },
    {
     "name": "stderr",
     "output_type": "stream",
     "text": [
      " 50%|█████     | 1000/2000 [1:17:04<1:17:04,  4.62s/it]"
     ]
    },
    {
     "data": {
      "image/png": "[encoded data removed]",
      "text/plain": [
       "<matplotlib.figure.Figure at 0x1a1d3deda0>"
      ]
     },
     "metadata": {},
     "output_type": "display_data"
    },
    {
     "name": "stdout",
     "output_type": "stream",
     "text": [
      "¬S(i) ∨ ¬F(i, j) ∨ S(j)\n",
      "0.85976 0.14024\n",
      "F(k, i) ∨ F(k, j) ∨ F(k, k) ∨ F(k, l) ∨ F(k, m) ∨ F(k, n)\n",
      "0.946878 0.0531222\n",
      "F(l, i) ∨ F(l, j) ∨ F(l, k) ∨ F(l, l) ∨ F(l, m) ∨ F(l, n)\n",
      "0.999908 9.2396e-05\n",
      "¬F(k, n) ∨ F(n, k)\n",
      "0.0531222 0.946878\n",
      "¬F(m, n) ∨ F(n, m)\n",
      "0.999764 0.000235975\n",
      "¬F(n, n)\n",
      "0.999848 0.00015223\n",
      "¬S(e) ∨ ¬F(e, a) ∨ S(a)\n",
      "0.777634 0.222366\n"
     ]
    },
    {
     "name": "stderr",
     "output_type": "stream",
     "text": [
      "\r",
      " 50%|█████     | 1001/2000 [1:17:08<1:16:59,  4.62s/it]"
     ]
    },
    {
     "name": "stdout",
     "output_type": "stream",
     "text": [
      "¬F(a, a)\n",
      "1.0 0.0\n",
      "¬S(j)\n",
      "0.14024 0.85976\n",
      "F(i, m)\n",
      "0.999997 2.77942e-06\n",
      "F(k, l)\n",
      "1.0 4.09785e-07\n",
      "S(a)\n",
      "0.999999 9.58803e-07\n",
      "S(e)\n",
      "0.222366 0.777634\n",
      "S(f)\n",
      "0.999823 0.000176859\n",
      "S(g)\n",
      "1.0 4.66346e-07\n",
      "F(b, c)\n",
      "1.0 1.89447e-08\n",
      "F(c, d)\n",
      "0.999999 9.07986e-07\n",
      "F(e, f)\n",
      "1.0 2.711e-07\n",
      "F(g, h)\n",
      "0.999982 1.76726e-05\n",
      "¬F(a, c)\n",
      "1.0 0.0\n",
      "¬F(a, d)\n",
      "1.0 0.0\n",
      "¬F(a, h)\n",
      "1.0 0.0\n",
      "22\n"
     ]
    },
    {
     "name": "stderr",
     "output_type": "stream",
     "text": [
      " 55%|█████▌    | 1100/2000 [1:23:13<1:08:05,  4.54s/it]"
     ]
    },
    {
     "data": {
      "image/png": "[encoded data removed]",
      "text/plain": [
       "<matplotlib.figure.Figure at 0x1a209e93c8>"
      ]
     },
     "metadata": {},
     "output_type": "display_data"
    },
    {
     "name": "stdout",
     "output_type": "stream",
     "text": [
      "¬S(i) ∨ ¬F(i, j) ∨ S(j)\n",
      "0.780998 0.219002\n",
      "F(k, i) ∨ F(k, j) ∨ F(k, k) ∨ F(k, l) ∨ F(k, m) ∨ F(k, n)\n",
      "0.945438 0.0545616\n",
      "F(l, i) ∨ F(l, j) ∨ F(l, k) ∨ F(l, l) ∨ F(l, m) ∨ F(l, n)\n",
      "0.999909 9.07314e-05\n",
      "¬F(k, n) ∨ F(n, k)\n",
      "0.0545616 0.945438\n",
      "¬F(m, n) ∨ F(n, m)\n",
      "0.999763 0.000236809\n",
      "¬F(n, n)\n",
      "0.999849 0.0001508\n",
      "¬S(e) ∨ ¬F(e, a) ∨ S(a)\n",
      "0.87572 0.12428\n"
     ]
    },
    {
     "name": "stderr",
     "output_type": "stream",
     "text": [
      "\r",
      " 55%|█████▌    | 1101/2000 [1:23:18<1:08:01,  4.54s/it]"
     ]
    },
    {
     "name": "stdout",
     "output_type": "stream",
     "text": [
      "¬F(a, a)\n",
      "1.0 0.0\n",
      "¬S(j)\n",
      "0.219002 0.780998\n",
      "F(i, m)\n",
      "0.999995 5.2813e-06\n",
      "F(k, l)\n",
      "1.0 3.67696e-07\n",
      "S(a)\n",
      "0.999968 3.20388e-05\n",
      "S(e)\n",
      "0.12428 0.87572\n",
      "S(f)\n",
      "0.999793 0.000207329\n",
      "S(g)\n",
      "0.999994 5.75116e-06\n",
      "F(b, c)\n",
      "0.999995 5.04306e-06\n",
      "F(c, d)\n",
      "0.999994 5.87292e-06\n",
      "F(e, f)\n",
      "0.999992 8.33787e-06\n",
      "F(g, h)\n",
      "0.99999 9.89441e-06\n",
      "¬F(a, c)\n",
      "0.999999 7.15256e-07\n",
      "¬F(a, d)\n",
      "1.0 4.76837e-07\n",
      "¬F(a, h)\n",
      "0.999999 5.96046e-07\n",
      "22\n"
     ]
    },
    {
     "name": "stderr",
     "output_type": "stream",
     "text": [
      " 60%|██████    | 1200/2000 [1:29:59<59:59,  4.50s/it]  "
     ]
    },
    {
     "data": {
      "image/png": "[encoded data removed]",
      "text/plain": [
       "<matplotlib.figure.Figure at 0x1a2085cb00>"
      ]
     },
     "metadata": {},
     "output_type": "display_data"
    },
    {
     "name": "stdout",
     "output_type": "stream",
     "text": [
      "¬S(i) ∨ ¬F(i, j) ∨ S(j)\n",
      "0.731591 0.268409\n",
      "F(k, i) ∨ F(k, j) ∨ F(k, k) ∨ F(k, l) ∨ F(k, m) ∨ F(k, n)\n",
      "0.944533 0.0554672\n",
      "F(l, i) ∨ F(l, j) ∨ F(l, k) ∨ F(l, l) ∨ F(l, m) ∨ F(l, n)\n",
      "0.99991 9.01534e-05\n",
      "¬F(k, n) ∨ F(n, k)\n",
      "0.0554672 0.944533\n",
      "¬F(m, n) ∨ F(n, m)\n",
      "0.999763 0.000237405\n",
      "¬F(n, n)\n",
      "0.999851 0.000148892\n",
      "¬S(e) ∨ ¬F(e, a) ∨ S(a)"
     ]
    },
    {
     "name": "stderr",
     "output_type": "stream",
     "text": [
      "\r",
      " 60%|██████    | 1201/2000 [1:30:04<59:55,  4.50s/it]"
     ]
    },
    {
     "name": "stdout",
     "output_type": "stream",
     "text": [
      "\n",
      "0.876143 0.123857\n",
      "¬F(a, a)\n",
      "1.0 0.0\n",
      "¬S(j)\n",
      "0.268409 0.731591\n",
      "F(i, m)\n",
      "0.999993 7.07007e-06\n",
      "F(k, l)\n",
      "1.0 3.39006e-07\n",
      "S(a)\n",
      "0.999974 2.62074e-05\n",
      "S(e)\n",
      "0.123857 0.876143\n",
      "S(f)\n",
      "0.999791 0.000208814\n",
      "S(g)\n",
      "0.999794 0.000205704\n",
      "F(b, c)\n",
      "0.999995 4.95562e-06\n",
      "F(c, d)\n",
      "0.999995 5.05207e-06\n",
      "F(e, f)\n",
      "0.999994 6.47268e-06\n",
      "F(g, h)\n",
      "0.999995 5.2105e-06\n",
      "¬F(a, c)\n",
      "0.999845 0.00015533\n",
      "¬F(a, d)\n",
      "0.999857 0.00014329\n",
      "¬F(a, h)\n",
      "0.99983 0.000170231\n",
      "22\n"
     ]
    },
    {
     "name": "stderr",
     "output_type": "stream",
     "text": [
      " 65%|██████▌   | 1300/2000 [1:36:46<52:06,  4.47s/it]"
     ]
    },
    {
     "data": {
      "image/png": "[encoded data removed]",
      "text/plain": [
       "<matplotlib.figure.Figure at 0x1a20815ef0>"
      ]
     },
     "metadata": {},
     "output_type": "display_data"
    },
    {
     "name": "stdout",
     "output_type": "stream",
     "text": [
      "¬S(i) ∨ ¬F(i, j) ∨ S(j)\n",
      "0.709851 0.290149\n",
      "F(k, i) ∨ F(k, j) ∨ F(k, k) ∨ F(k, l) ∨ F(k, m) ∨ F(k, n)\n",
      "0.942767 0.0572328\n",
      "F(l, i) ∨ F(l, j) ∨ F(l, k) ∨ F(l, l) ∨ F(l, m) ∨ F(l, n)\n",
      "0.99991 9.01839e-05\n",
      "¬F(k, n) ∨ F(n, k)\n",
      "0.0572327 0.942767\n",
      "¬F(m, n) ∨ F(n, m)\n",
      "0.999762 0.000237882\n",
      "¬F(n, n)\n",
      "0.999853 0.000146747\n",
      "¬S(e) ∨ ¬F(e, a) ∨ S(a)\n",
      "0.862473 0.137527\n"
     ]
    },
    {
     "name": "stderr",
     "output_type": "stream",
     "text": [
      "\r",
      " 65%|██████▌   | 1301/2000 [1:36:51<52:02,  4.47s/it]"
     ]
    },
    {
     "name": "stdout",
     "output_type": "stream",
     "text": [
      "¬F(a, a)\n",
      "1.0 0.0\n",
      "¬S(j)\n",
      "0.290149 0.709851\n",
      "F(i, m)\n",
      "0.999993 7.28057e-06\n",
      "F(k, l)\n",
      "1.0 3.34133e-07\n",
      "S(a)\n",
      "0.999974 2.62555e-05\n",
      "S(e)\n",
      "0.137527 0.862473\n",
      "S(f)\n",
      "0.999792 0.000207595\n",
      "S(g)\n",
      "0.999792 0.000207769\n",
      "F(b, c)\n",
      "0.999995 4.92425e-06\n",
      "F(c, d)\n",
      "0.999995 5.02602e-06\n",
      "F(e, f)\n",
      "0.999994 6.04914e-06\n",
      "F(g, h)\n",
      "0.999995 5.01106e-06\n",
      "¬F(a, c)\n",
      "0.999866 0.00013423\n",
      "¬F(a, d)\n",
      "0.999865 0.000135183\n",
      "¬F(a, h)\n",
      "0.999843 0.00015676\n",
      "22\n"
     ]
    },
    {
     "name": "stderr",
     "output_type": "stream",
     "text": [
      " 70%|███████   | 1400/2000 [1:43:32<44:22,  4.44s/it]"
     ]
    },
    {
     "data": {
      "image/png": "[encoded data removed]",
      "text/plain": [
       "<matplotlib.figure.Figure at 0x1a1cf7a0b8>"
      ]
     },
     "metadata": {},
     "output_type": "display_data"
    },
    {
     "name": "stdout",
     "output_type": "stream",
     "text": [
      "¬S(i) ∨ ¬F(i, j) ∨ S(j)\n",
      "0.709568 0.290432\n",
      "F(k, i) ∨ F(k, j) ∨ F(k, k) ∨ F(k, l) ∨ F(k, m) ∨ F(k, n)\n",
      "0.941322 0.0586781\n",
      "F(l, i) ∨ F(l, j) ∨ F(l, k) ∨ F(l, l) ∨ F(l, m) ∨ F(l, n)\n",
      "0.99991 9.02484e-05\n",
      "¬F(k, n) ∨ F(n, k)\n",
      "0.0586782 0.941322\n",
      "¬F(m, n) ∨ F(n, m)\n",
      "0.999762 0.000238001\n",
      "¬F(n, n)\n",
      "0.999855 0.000145435\n",
      "¬S(e) ∨ ¬F(e, a) ∨ S(a)\n",
      "0.853857 0.146143\n"
     ]
    },
    {
     "name": "stderr",
     "output_type": "stream",
     "text": [
      "\r",
      " 70%|███████   | 1401/2000 [1:43:38<44:18,  4.44s/it]"
     ]
    },
    {
     "name": "stdout",
     "output_type": "stream",
     "text": [
      "¬F(a, a)\n",
      "1.0 0.0\n",
      "¬S(j)\n",
      "0.290432 0.709568\n",
      "F(i, m)\n",
      "0.999993 7.17858e-06\n",
      "F(k, l)\n",
      "1.0 3.3501e-07\n",
      "S(a)\n",
      "0.999972 2.83376e-05\n",
      "S(e)\n",
      "0.146143 0.853857\n",
      "S(f)\n",
      "0.999794 0.00020636\n",
      "S(g)\n",
      "0.999793 0.000206791\n",
      "F(b, c)\n",
      "0.999995 4.89759e-06\n",
      "F(c, d)\n",
      "0.999995 5.00916e-06\n",
      "F(e, f)\n",
      "0.999994 5.88276e-06\n",
      "F(g, h)\n",
      "0.999995 4.98776e-06\n",
      "¬F(a, c)\n",
      "0.999892 0.000107527\n",
      "¬F(a, d)\n",
      "0.999889 0.000110626\n",
      "¬F(a, h)\n",
      "0.999873 0.0001266\n",
      "22\n"
     ]
    },
    {
     "name": "stderr",
     "output_type": "stream",
     "text": [
      " 71%|███████▏  | 1426/2000 [1:45:50<42:36,  4.45s/it]\n"
     ]
    },
    {
     "ename": "KeyboardInterrupt",
     "evalue": "",
     "output_type": "error",
     "traceback": [
      "\u001b[0;31m---------------------------------------------------------------------------\u001b[0m",
      "\u001b[0;31mKeyboardInterrupt\u001b[0m                         Traceback (most recent call last)",
      "\u001b[0;32m<ipython-input-17-62a07a2fda5e>\u001b[0m in \u001b[0;36m<module>\u001b[0;34m()\u001b[0m\n\u001b[1;32m     10\u001b[0m     \u001b[0;32mfor\u001b[0m \u001b[0mclause\u001b[0m \u001b[0;32min\u001b[0m \u001b[0mkb_train\u001b[0m\u001b[0;34m.\u001b[0m\u001b[0mclauses\u001b[0m\u001b[0;34m:\u001b[0m\u001b[0;34m\u001b[0m\u001b[0m\n\u001b[1;32m     11\u001b[0m         \u001b[0mloss\u001b[0m\u001b[0;34m,\u001b[0m\u001b[0mprob\u001b[0m\u001b[0;34m=\u001b[0m\u001b[0mltn2\u001b[0m\u001b[0;34m.\u001b[0m\u001b[0mforward\u001b[0m\u001b[0;34m(\u001b[0m\u001b[0mclause\u001b[0m\u001b[0;34m=\u001b[0m\u001b[0mclause\u001b[0m\u001b[0;34m)\u001b[0m\u001b[0;34m\u001b[0m\u001b[0m\n\u001b[0;32m---> 12\u001b[0;31m         \u001b[0mloss\u001b[0m\u001b[0;34m.\u001b[0m\u001b[0mbackward\u001b[0m\u001b[0;34m(\u001b[0m\u001b[0mone\u001b[0m\u001b[0;34m)\u001b[0m\u001b[0;34m\u001b[0m\u001b[0m\n\u001b[0m\u001b[1;32m     13\u001b[0m         \u001b[0mtotal_probability\u001b[0m\u001b[0;34m+=\u001b[0m\u001b[0mprob\u001b[0m\u001b[0;34m.\u001b[0m\u001b[0mdata\u001b[0m\u001b[0;34m.\u001b[0m\u001b[0mnumpy\u001b[0m\u001b[0;34m(\u001b[0m\u001b[0;34m)\u001b[0m\u001b[0;34m[\u001b[0m\u001b[0;36m0\u001b[0m\u001b[0;34m]\u001b[0m\u001b[0;34m\u001b[0m\u001b[0m\n\u001b[1;32m     14\u001b[0m     \u001b[0moptimizor\u001b[0m\u001b[0;34m.\u001b[0m\u001b[0mstep\u001b[0m\u001b[0;34m(\u001b[0m\u001b[0;34m)\u001b[0m\u001b[0;34m\u001b[0m\u001b[0m\n",
      "\u001b[0;32m~/anaconda3/lib/python3.6/site-packages/torch/autograd/variable.py\u001b[0m in \u001b[0;36mbackward\u001b[0;34m(self, gradient, retain_graph, create_graph, retain_variables)\u001b[0m\n\u001b[1;32m    154\u001b[0m                 \u001b[0mVariable\u001b[0m\u001b[0;34m.\u001b[0m\u001b[0;34m\u001b[0m\u001b[0m\n\u001b[1;32m    155\u001b[0m         \"\"\"\n\u001b[0;32m--> 156\u001b[0;31m         \u001b[0mtorch\u001b[0m\u001b[0;34m.\u001b[0m\u001b[0mautograd\u001b[0m\u001b[0;34m.\u001b[0m\u001b[0mbackward\u001b[0m\u001b[0;34m(\u001b[0m\u001b[0mself\u001b[0m\u001b[0;34m,\u001b[0m \u001b[0mgradient\u001b[0m\u001b[0;34m,\u001b[0m \u001b[0mretain_graph\u001b[0m\u001b[0;34m,\u001b[0m \u001b[0mcreate_graph\u001b[0m\u001b[0;34m,\u001b[0m \u001b[0mretain_variables\u001b[0m\u001b[0;34m)\u001b[0m\u001b[0;34m\u001b[0m\u001b[0m\n\u001b[0m\u001b[1;32m    157\u001b[0m \u001b[0;34m\u001b[0m\u001b[0m\n\u001b[1;32m    158\u001b[0m     \u001b[0;32mdef\u001b[0m \u001b[0mregister_hook\u001b[0m\u001b[0;34m(\u001b[0m\u001b[0mself\u001b[0m\u001b[0;34m,\u001b[0m \u001b[0mhook\u001b[0m\u001b[0;34m)\u001b[0m\u001b[0;34m:\u001b[0m\u001b[0;34m\u001b[0m\u001b[0m\n",
      "\u001b[0;32m~/anaconda3/lib/python3.6/site-packages/torch/autograd/__init__.py\u001b[0m in \u001b[0;36mbackward\u001b[0;34m(variables, grad_variables, retain_graph, create_graph, retain_variables)\u001b[0m\n\u001b[1;32m     96\u001b[0m \u001b[0;34m\u001b[0m\u001b[0m\n\u001b[1;32m     97\u001b[0m     Variable._execution_engine.run_backward(\n\u001b[0;32m---> 98\u001b[0;31m         variables, grad_variables, retain_graph)\n\u001b[0m\u001b[1;32m     99\u001b[0m \u001b[0;34m\u001b[0m\u001b[0m\n\u001b[1;32m    100\u001b[0m \u001b[0;34m\u001b[0m\u001b[0m\n",
      "\u001b[0;31mKeyboardInterrupt\u001b[0m: "
     ]
    }
   ],
   "source": [
    "kb_train=kb1.union(kb2).union(gkb1).union(gkb2)\n",
    "ltn2=LTN(emb_dim,'abcdefghijklmn',[['S',1],['F',2],['C',1]])\n",
    "optimizor=torch.optim.Adam(ltn2.parameters(),lr=0.1,weight_decay=0.1)\n",
    "mone=torch.FloatTensor([-1])\n",
    "one=torch.FloatTensor([1])\n",
    "average_prob=[]\n",
    "averate_loss=[]\n",
    "for i in tqdm(range(2000)):\n",
    "    optimizor.zero_grad()\n",
    "    total_probability=0.0\n",
    "    total_loss=0.0\n",
    "    for clause in kb_train.clauses:\n",
    "        loss,prob=ltn2.forward(clause=clause)\n",
    "        loss.backward(one)\n",
    "        total_probability+=prob.data.numpy()[0]\n",
    "        total_loss+=loss.data.numpy()[0]\n",
    "    optimizor.step()\n",
    "    average_prob.append(total_probability/len(kb_train.clauses))\n",
    "    average_loss.append(total_loss/len(kb_train.clauses))\n",
    "    if i%100==0:\n",
    "        plt.plot(average_prob)\n",
    "        plt.show()\n",
    "        plt.plot(averate_loss)\n",
    "        plt.show()\n",
    "        show_results(ltn2,kb_train)"
   ]
  },
  {
   "cell_type": "code",
   "execution_count": 21,
   "metadata": {},
   "outputs": [
    {
     "name": "stdout",
     "output_type": "stream",
     "text": [
      "S(a)\n",
      "0.999971 2.89519e-05\n",
      "S(e)\n",
      "0.147613 0.852387\n",
      "S(f)\n",
      "0.999794 0.000206059\n",
      "S(g)\n",
      "0.999794 0.000206492\n",
      "F(b, c)\n",
      "0.999995 4.89541e-06\n",
      "F(c, d)\n",
      "0.999995 5.00549e-06\n",
      "F(e, f)\n",
      "0.999994 5.82879e-06\n",
      "F(g, h)\n",
      "0.999995 4.9862e-06\n",
      "¬F(a, c)\n",
      "0.999897 0.000103474\n",
      "¬F(a, d)\n",
      "0.999893 0.000106812\n",
      "¬F(a, h)\n",
      "0.999878 0.000121951\n",
      "11\n"
     ]
    }
   ],
   "source": [
    "show_results(ltn2,kb1)"
   ]
  }
 ],
 "metadata": {
  "kernelspec": {
   "display_name": "Python 3",
   "language": "python",
   "name": "python3"
  },
  "language_info": {
   "codemirror_mode": {
    "name": "ipython",
    "version": 3
   },
   "file_extension": ".py",
   "mimetype": "text/x-python",
   "name": "python",
   "nbconvert_exporter": "python",
   "pygments_lexer": "ipython3",
   "version": "3.6.2"
  }
 },
 "nbformat": 4,
 "nbformat_minor": 2
}
