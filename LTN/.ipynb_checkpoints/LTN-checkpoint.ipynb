{
 "cells": [
  {
   "cell_type": "code",
   "execution_count": 1219,
   "metadata": {
    "collapsed": true
   },
   "outputs": [],
   "source": [
    "import torch\n",
    "import torch.nn as nn\n",
    "from torch.autograd import Variable\n",
    "import torch.optim as optim\n",
    "from matplotlib import pyplot as plt\n",
    "import seaborn as sns\n",
    "from tqdm import tqdm\n",
    "import copy"
   ]
  },
  {
   "cell_type": "code",
   "execution_count": 1091,
   "metadata": {
    "collapsed": true
   },
   "outputs": [],
   "source": [
    "emb_dim=100"
   ]
  },
  {
   "cell_type": "code",
   "execution_count": 1343,
   "metadata": {},
   "outputs": [],
   "source": [
    "def load_facts(filename):\n",
    "    facts=[]\n",
    "    for line in open(filename):\n",
    "        line=line.strip().split(',')\n",
    "        fact=[]\n",
    "        if line[0]=='not':\n",
    "            fact.append(True)\n",
    "            line=line[1:]\n",
    "        else:\n",
    "            fact.append(False)\n",
    "        fact.append(line[0])\n",
    "        fact.append(line[1:])\n",
    "        facts.append([fact])\n",
    "    return facts"
   ]
  },
  {
   "cell_type": "code",
   "execution_count": 1388,
   "metadata": {
    "collapsed": true
   },
   "outputs": [],
   "source": [
    "def load_knowledge(filename):\n",
    "    knowledges=[]\n",
    "    for line in open(filename):\n",
    "        line=line.strip().split('|')\n",
    "        condition=[]\n",
    "        for c in line[0].strip().split(','):\n",
    "            c=c.strip().split(' ')\n",
    "            condition.append(c)\n",
    "        clause=[]\n",
    "        for predicate in line[1:]:\n",
    "            predicate=predicate.strip().split(',')\n",
    "            if predicate[0]=='not':\n",
    "                predicate=[True,predicate[1],predicate[2:]]\n",
    "            else:\n",
    "                predicate=[True,predicate[0],predicate[1:]]\n",
    "            clause.append(predicate)\n",
    "        knowledges.append([condition,clause])\n",
    "    return knowledges"
   ]
  },
  {
   "cell_type": "code",
   "execution_count": 1422,
   "metadata": {},
   "outputs": [],
   "source": [
    "def construct_training(clauses, variable, for_all, constants='abcdefghijklmn'):\n",
    "    new_clauses=[]\n",
    "    if for_all:\n",
    "        for clause in clauses:\n",
    "            new_clauses+=replace_clause(clause,variable,constants)\n",
    "    else:\n",
    "        for clause in clauses:\n",
    "            disjunction=[]\n",
    "            for clause in replace_clause(clause,variable,constants):\n",
    "                disjunction+=clause\n",
    "            new_clauses.append(disjunction)\n",
    "    return new_clauses\n",
    "\n",
    "def replace_clause(clause,variable,constants):\n",
    "    new_clauses=[]\n",
    "    for constant in constants:\n",
    "        new_clause=copy.deepcopy(clause)\n",
    "        for i in range(len(new_clause)):\n",
    "            for j in range(len(new_clause[i][2])):\n",
    "                if new_clause[i][2][j]==variable:\n",
    "                    new_clause[i][2][j]=constant\n",
    "        new_clauses.append(new_clause)\n",
    "    return new_clauses"
   ]
  },
  {
   "cell_type": "code",
   "execution_count": 1423,
   "metadata": {
    "collapsed": true
   },
   "outputs": [],
   "source": [
    "def construct_fact_from_knowledge(knowledges):\n",
    "    facts=[]\n",
    "    for knowledge in knowledges:\n",
    "        clause=[knowledge[1]]\n",
    "        for c in knowledge[0]:\n",
    "            if c[0]=='all':\n",
    "                clause=construct_training(clause,variable=c[1],for_all=True)\n",
    "            else:\n",
    "                clause=construct_training(clause,variable=c[1],for_all=False)\n",
    "        facts+=clause\n",
    "    return facts"
   ]
  },
  {
   "cell_type": "code",
   "execution_count": 1350,
   "metadata": {
    "collapsed": true
   },
   "outputs": [],
   "source": [
    "def show_results(facts):\n",
    "    wrong=0\n",
    "    for f in facts:\n",
    "        output=ltn.forward(clause=f)\n",
    "        if output[1].data.numpy()[0]>0.95:\n",
    "            continue\n",
    "        print(f)\n",
    "        print(output[1].data.numpy()[0])\n",
    "        wrong+=1\n",
    "    print(wrong)"
   ]
  },
  {
   "cell_type": "code",
   "execution_count": 1344,
   "metadata": {
    "collapsed": true
   },
   "outputs": [],
   "source": [
    "class Constants(nn.Module):\n",
    "    def __init__(self, constants,emb_dim):\n",
    "        super(Constants, self).__init__()\n",
    "        self.symbol2id=dict()\n",
    "        self.id2symbol=dict()\n",
    "        for i,s in enumerate(constants):\n",
    "            self.symbol2id[s]=i\n",
    "            self.id2symbol[i]=s\n",
    "        self.embeddings = nn.Embedding(len(self.symbol2id), emb_dim)\n",
    "    def forward(self,constants):\n",
    "        constant_id=[]\n",
    "        for c in constants:\n",
    "            constant_id.append(self.symbol2id[c])\n",
    "        embs=self.embeddings(Variable(torch.LongTensor(constant_id)))\n",
    "        embs=torch.cat(embs).view(1,-1)\n",
    "        return embs"
   ]
  },
  {
   "cell_type": "code",
   "execution_count": 1345,
   "metadata": {
    "collapsed": true
   },
   "outputs": [],
   "source": [
    "class Predicate(nn.Module):\n",
    "    def __init__(self, name, variable_count, emb_dim):\n",
    "        super(Predicate, self).__init__()\n",
    "        self.name=name\n",
    "        self.variable_count=variable_count\n",
    "        self.emb_dim=emb_dim\n",
    "        m=variable_count*emb_dim\n",
    "        self.variable_count=variable_count\n",
    "        self.W=Variable(torch.randn(m, emb_dim, m), requires_grad=True)\n",
    "        self.V=Variable(torch.randn(m, emb_dim), requires_grad=True)\n",
    "        self.B=Variable(torch.randn(emb_dim), requires_grad=True)\n",
    "        self.u=Variable(torch.randn(emb_dim), requires_grad=True)\n",
    "    def forward(self, embs, negation):\n",
    "        m=self.variable_count*self.emb_dim\n",
    "        W=self.W.view(m,-1)\n",
    "        output=torch.mm(embs,W)\n",
    "        output=output.view(-1,m)\n",
    "        output=torch.mm(output,embs.view(-1,1))\n",
    "        output=output.view(1,-1)\n",
    "        output=output.add(torch.mm(embs,self.V))\n",
    "        output=output.add(self.B)\n",
    "        output=output.view(-1)\n",
    "        output=torch.tanh(output)\n",
    "        output=torch.mul(output,self.u).sum()\n",
    "        output=torch.sigmoid(output)\n",
    "        if negation:\n",
    "            output=1.0-output\n",
    "        return output"
   ]
  },
  {
   "cell_type": "code",
   "execution_count": 1346,
   "metadata": {
    "collapsed": true
   },
   "outputs": [],
   "source": [
    "class LTN(nn.Module):\n",
    "    def __init__(self, emb_dim, constants, predicates):\n",
    "        super(LTN2, self).__init__()\n",
    "        self.emb_dim=emb_dim\n",
    "        self.Constants=Constants(constants, emb_dim)\n",
    "        self.Predicates=dict()\n",
    "        for name,n in predicates:\n",
    "            self.Predicates[name]=Predicate(name,n,emb_dim)\n",
    "    def forward(self, clause):\n",
    "        predicate_results=[]\n",
    "        Ans=None\n",
    "        for predicate in clause:\n",
    "            negation=predicate[0]\n",
    "            name=predicate[1]\n",
    "            constants=predicate[2]\n",
    "            embs=self.Constants.forward(constants)\n",
    "            output=self.Predicates[name].forward(embs,negation)\n",
    "            predicate_results.append(output)\n",
    "            if Ans is None or Ans.data.numpy()[0]<output.data.numpy()[0]:\n",
    "                Ans=output\n",
    "        return torch.log(Ans),Ans\n",
    "    def parameters(self):\n",
    "        results=list(self.Constants.parameters())\n",
    "        for name in self.Predicates:\n",
    "            results+=list(self.Predicates[name].parameters())\n",
    "        return results"
   ]
  },
  {
   "cell_type": "code",
   "execution_count": 1430,
   "metadata": {},
   "outputs": [],
   "source": [
    "facts1=load_facts('./facts1.txt')\n",
    "facts2=load_facts('./facts2.txt')\n",
    "knowledges=load_knowledge('./knowledge.txt')\n",
    "facts3=construct_fact_from_knowledge(knowledges)\n",
    "facts=facts1+facts2+facts3"
   ]
  },
  {
   "cell_type": "code",
   "execution_count": 1432,
   "metadata": {},
   "outputs": [
    {
     "name": "stderr",
     "output_type": "stream",
     "text": [
      "\r",
      "  0%|          | 0/2000 [00:00<?, ?it/s]"
     ]
    },
    {
     "data": {
      "image/png": "[encoded data removed]",
      "text/plain": [
       "<matplotlib.figure.Figure at 0x1a4d9e2908>"
      ]
     },
     "metadata": {},
     "output_type": "display_data"
    },
    {
     "name": "stdout",
     "output_type": "stream",
     "text": [
      "[[False, 'S', ['e']]]\n",
      "0.0760297\n",
      "[[False, 'S', ['f']]]\n",
      "3.07737e-05\n",
      "[[False, 'S', ['g']]]\n",
      "0.00178814\n",
      "[[True, 'S', ['c']]]\n",
      "0.48558\n",
      "[[True, 'S', ['d']]]\n",
      "2.2769e-05\n",
      "[[False, 'F', ['a', 'b']]]\n",
      "0.739353\n",
      "[[False, 'F', ['a', 'e']]]\n",
      "1.82066e-05\n",
      "[[False, 'F', ['c', 'd']]]\n",
      "0.847386\n",
      "[[False, 'F', ['g', 'h']]]\n",
      "0.0039073\n",
      "[[True, 'F', ['a', 'c']]]\n",
      "0.197484\n",
      "[[True, 'F', ['b', 'd']]]\n",
      "0.00031054\n",
      "[[True, 'F', ['b', 'g']]]\n",
      "0.389965\n",
      "[[True, 'F', ['b', 'h']]]\n",
      "0.00937635\n",
      "[[True, 'F', ['c', 'e']]]\n",
      "0.377267\n",
      "[[True, 'F', ['c', 'g']]]\n",
      "0.00986058\n",
      "[[True, 'F', ['d', 'e']]]\n",
      "1.37091e-05\n",
      "[[True, 'F', ['d', 'h']]]\n",
      "0.000106335\n",
      "[[True, 'F', ['e', 'g']]]\n",
      "0.420381\n",
      "[[True, 'F', ['e', 'h']]]\n",
      "0.0\n",
      "[[True, 'F', ['f', 'g']]]\n",
      "0.207687\n",
      "[[True, 'F', ['f', 'h']]]\n",
      "0.00589865\n",
      "[[False, 'C', ['a']]]\n",
      "0.718502\n",
      "[[False, 'C', ['e']]]\n",
      "0.000382722\n",
      "[[True, 'C', ['b']]]\n",
      "0.460035\n",
      "[[True, 'C', ['f']]]\n",
      "0.245504\n",
      "[[True, 'C', ['g']]]\n",
      "0.0108494\n",
      "[[False, 'S', ['i']]]\n",
      "0.0275125\n",
      "[[False, 'S', ['n']]]\n",
      "1.38003e-08\n",
      "[[True, 'S', ['l']]]\n",
      "0.556452\n",
      "[[False, 'F', ['i', 'm']]]\n",
      "0.0118119\n",
      "[[False, 'F', ['k', 'l']]]\n",
      "0.0452295\n",
      "[[True, 'F', ['i', 'k']]]\n",
      "0.416258\n",
      "[[True, 'F', ['i', 'n']]]\n",
      "0.640025\n",
      "[[True, 'F', ['j', 'k']]]\n",
      "0.203186\n",
      "[[True, 'F', ['j', 'n']]]\n",
      "0.774601\n",
      "[[True, 'F', ['l', 'n']]]\n",
      "0.738565\n",
      "[[True, 'F', ['k', 'm']]]\n",
      "0.219915\n",
      "[[True, 'F', ['l', 'm']]]\n",
      "0.92751\n",
      "[[True, 'F', ['a', 'a']]]\n",
      "0.000665367\n",
      "[[True, 'F', ['b', 'b']]]\n",
      "0.8509\n",
      "[[True, 'F', ['c', 'c']]]\n",
      "6.4373e-06\n",
      "[[True, 'F', ['d', 'd']]]\n",
      "0.942137\n",
      "[[True, 'F', ['e', 'e']]]\n",
      "0.454852\n",
      "[[True, 'F', ['h', 'h']]]\n",
      "5.51939e-05\n",
      "[[True, 'F', ['i', 'i']]]\n",
      "0.270994\n",
      "[[True, 'F', ['m', 'm']]]\n",
      "0.931647\n",
      "[[True, 'F', ['n', 'n']]]\n",
      "0.0439045\n",
      "[[True, 'F', ['a', 'a']], [True, 'F', ['a', 'a']]]\n",
      "0.000665367\n",
      "[[True, 'F', ['a', 'b']], [True, 'F', ['b', 'a']]]\n",
      "0.503396\n",
      "[[True, 'F', ['a', 'c']], [True, 'F', ['c', 'a']]]\n",
      "0.197484\n",
      "[[True, 'F', ['a', 'f']], [True, 'F', ['f', 'a']]]\n",
      "0.00155079\n",
      "[[True, 'F', ['a', 'g']], [True, 'F', ['g', 'a']]]\n",
      "0.000417411\n",
      "[[True, 'F', ['a', 'j']], [True, 'F', ['j', 'a']]]\n",
      "0.112246\n",
      "[[True, 'F', ['a', 'l']], [True, 'F', ['l', 'a']]]\n",
      "0.0215707\n",
      "[[True, 'F', ['a', 'm']], [True, 'F', ['m', 'a']]]\n",
      "0.000549018\n",
      "[[True, 'F', ['a', 'n']], [True, 'F', ['n', 'a']]]\n",
      "0.00165808\n",
      "[[True, 'F', ['b', 'a']], [True, 'F', ['a', 'b']]]\n",
      "0.503396\n",
      "[[True, 'F', ['b', 'b']], [True, 'F', ['b', 'b']]]\n",
      "0.8509\n",
      "[[True, 'F', ['b', 'd']], [True, 'F', ['d', 'b']]]\n",
      "0.0403797\n",
      "[[True, 'F', ['b', 'h']], [True, 'F', ['h', 'b']]]\n",
      "0.0139835\n",
      "[[True, 'F', ['b', 'i']], [True, 'F', ['i', 'b']]]\n",
      "0.901943\n",
      "[[True, 'F', ['c', 'a']], [True, 'F', ['a', 'c']]]\n",
      "0.197484\n",
      "[[True, 'F', ['c', 'c']], [True, 'F', ['c', 'c']]]\n",
      "6.4373e-06\n",
      "[[True, 'F', ['c', 'e']], [True, 'F', ['e', 'c']]]\n",
      "0.377267\n",
      "[[True, 'F', ['c', 'j']], [True, 'F', ['j', 'c']]]\n",
      "0.0209084\n",
      "[[True, 'F', ['c', 'm']], [True, 'F', ['m', 'c']]]\n",
      "0.376301\n",
      "[[True, 'F', ['c', 'n']], [True, 'F', ['n', 'c']]]\n",
      "0.759369\n",
      "[[True, 'F', ['d', 'b']], [True, 'F', ['b', 'd']]]\n",
      "0.0403797\n",
      "[[True, 'F', ['d', 'd']], [True, 'F', ['d', 'd']]]\n",
      "0.942137\n",
      "[[True, 'F', ['d', 'e']], [True, 'F', ['e', 'd']]]\n",
      "0.0198267\n",
      "[[True, 'F', ['d', 'h']], [True, 'F', ['h', 'd']]]\n",
      "0.000106335\n",
      "[[True, 'F', ['e', 'c']], [True, 'F', ['c', 'e']]]\n",
      "0.377267\n",
      "[[True, 'F', ['e', 'd']], [True, 'F', ['d', 'e']]]\n",
      "0.0198267\n",
      "[[True, 'F', ['e', 'e']], [True, 'F', ['e', 'e']]]\n",
      "0.454852\n",
      "[[True, 'F', ['e', 'f']], [True, 'F', ['f', 'e']]]\n",
      "0.273115\n",
      "[[True, 'F', ['e', 'g']], [True, 'F', ['g', 'e']]]\n",
      "0.851681\n",
      "[[True, 'F', ['e', 'i']], [True, 'F', ['i', 'e']]]\n",
      "9.10759e-05\n",
      "[[True, 'F', ['e', 'j']], [True, 'F', ['j', 'e']]]\n",
      "0.0717386\n",
      "[[True, 'F', ['e', 'k']], [True, 'F', ['k', 'e']]]\n",
      "0.0211015\n",
      "[[True, 'F', ['e', 'l']], [True, 'F', ['l', 'e']]]\n",
      "0.00103986\n",
      "[[True, 'F', ['e', 'm']], [True, 'F', ['m', 'e']]]\n",
      "2.38419e-07\n",
      "[[True, 'F', ['f', 'a']], [True, 'F', ['a', 'f']]]\n",
      "0.00155079\n",
      "[[True, 'F', ['f', 'e']], [True, 'F', ['e', 'f']]]\n",
      "0.273115\n",
      "[[True, 'F', ['f', 'h']], [True, 'F', ['h', 'f']]]\n",
      "0.00589865\n",
      "[[True, 'F', ['f', 'i']], [True, 'F', ['i', 'f']]]\n",
      "0.000299335\n",
      "[[True, 'F', ['f', 'm']], [True, 'F', ['m', 'f']]]\n",
      "0.0709444\n",
      "[[True, 'F', ['g', 'a']], [True, 'F', ['a', 'g']]]\n",
      "0.000417411\n",
      "[[True, 'F', ['g', 'e']], [True, 'F', ['e', 'g']]]\n",
      "0.851681\n",
      "[[True, 'F', ['g', 'i']], [True, 'F', ['i', 'g']]]\n",
      "0.136028\n",
      "[[True, 'F', ['g', 'n']], [True, 'F', ['n', 'g']]]\n",
      "0.000756145\n",
      "[[True, 'F', ['h', 'b']], [True, 'F', ['b', 'h']]]\n",
      "0.0139835\n",
      "[[True, 'F', ['h', 'd']], [True, 'F', ['d', 'h']]]\n",
      "0.000106335\n",
      "[[True, 'F', ['h', 'f']], [True, 'F', ['f', 'h']]]\n",
      "0.00589865\n",
      "[[True, 'F', ['h', 'h']], [True, 'F', ['h', 'h']]]\n",
      "5.51939e-05\n",
      "[[True, 'F', ['h', 'i']], [True, 'F', ['i', 'h']]]\n",
      "0.357064\n",
      "[[True, 'F', ['h', 'j']], [True, 'F', ['j', 'h']]]\n",
      "0.749368\n",
      "[[True, 'F', ['h', 'm']], [True, 'F', ['m', 'h']]]\n",
      "0.000876129\n",
      "[[True, 'F', ['h', 'n']], [True, 'F', ['n', 'h']]]\n",
      "0.563194\n",
      "[[True, 'F', ['i', 'b']], [True, 'F', ['b', 'i']]]\n",
      "0.901943\n",
      "[[True, 'F', ['i', 'e']], [True, 'F', ['e', 'i']]]\n",
      "9.10759e-05\n",
      "[[True, 'F', ['i', 'f']], [True, 'F', ['f', 'i']]]\n",
      "0.000299335\n",
      "[[True, 'F', ['i', 'g']], [True, 'F', ['g', 'i']]]\n",
      "0.136028\n",
      "[[True, 'F', ['i', 'h']], [True, 'F', ['h', 'i']]]\n",
      "0.357064\n",
      "[[True, 'F', ['i', 'i']], [True, 'F', ['i', 'i']]]\n",
      "0.270994\n",
      "[[True, 'F', ['i', 'k']], [True, 'F', ['k', 'i']]]\n",
      "0.416258\n",
      "[[True, 'F', ['i', 'n']], [True, 'F', ['n', 'i']]]\n",
      "0.640025\n",
      "[[True, 'F', ['j', 'a']], [True, 'F', ['a', 'j']]]\n",
      "0.112246\n",
      "[[True, 'F', ['j', 'c']], [True, 'F', ['c', 'j']]]\n",
      "0.0209084\n",
      "[[True, 'F', ['j', 'e']], [True, 'F', ['e', 'j']]]\n",
      "0.0717386\n",
      "[[True, 'F', ['j', 'h']], [True, 'F', ['h', 'j']]]\n",
      "0.749368\n",
      "[[True, 'F', ['j', 'n']], [True, 'F', ['n', 'j']]]\n",
      "0.774601\n",
      "[[True, 'F', ['k', 'e']], [True, 'F', ['e', 'k']]]\n",
      "0.0211015\n",
      "[[True, 'F', ['k', 'i']], [True, 'F', ['i', 'k']]]\n",
      "0.416258\n",
      "[[True, 'F', ['l', 'a']], [True, 'F', ['a', 'l']]]\n",
      "0.0215707\n",
      "[[True, 'F', ['l', 'e']], [True, 'F', ['e', 'l']]]\n",
      "0.00103986\n",
      "[[True, 'F', ['l', 'm']], [True, 'F', ['m', 'l']]]\n",
      "0.92751\n",
      "[[True, 'F', ['l', 'n']], [True, 'F', ['n', 'l']]]\n",
      "0.738565\n",
      "[[True, 'F', ['m', 'a']], [True, 'F', ['a', 'm']]]\n",
      "0.000549018\n",
      "[[True, 'F', ['m', 'c']], [True, 'F', ['c', 'm']]]\n",
      "0.376301\n",
      "[[True, 'F', ['m', 'e']], [True, 'F', ['e', 'm']]]\n",
      "2.38419e-07\n",
      "[[True, 'F', ['m', 'f']], [True, 'F', ['f', 'm']]]\n",
      "0.0709444\n",
      "[[True, 'F', ['m', 'h']], [True, 'F', ['h', 'm']]]\n",
      "0.000876129\n",
      "[[True, 'F', ['m', 'l']], [True, 'F', ['l', 'm']]]\n",
      "0.92751\n",
      "[[True, 'F', ['m', 'm']], [True, 'F', ['m', 'm']]]\n",
      "0.931647\n",
      "[[True, 'F', ['m', 'n']], [True, 'F', ['n', 'm']]]\n",
      "0.0394757\n",
      "[[True, 'F', ['n', 'a']], [True, 'F', ['a', 'n']]]\n",
      "0.00165808\n",
      "[[True, 'F', ['n', 'c']], [True, 'F', ['c', 'n']]]\n",
      "0.759369\n",
      "[[True, 'F', ['n', 'g']], [True, 'F', ['g', 'n']]]\n",
      "0.000756145\n",
      "[[True, 'F', ['n', 'h']], [True, 'F', ['h', 'n']]]\n",
      "0.563194\n",
      "[[True, 'F', ['n', 'i']], [True, 'F', ['i', 'n']]]\n",
      "0.640025\n",
      "[[True, 'F', ['n', 'j']], [True, 'F', ['j', 'n']]]\n",
      "0.774601\n",
      "[[True, 'F', ['n', 'l']], [True, 'F', ['l', 'n']]]\n",
      "0.738565\n",
      "[[True, 'F', ['n', 'm']], [True, 'F', ['m', 'n']]]\n",
      "0.0394757\n",
      "[[True, 'F', ['n', 'n']], [True, 'F', ['n', 'n']]]\n",
      "0.0439045\n",
      "[[True, 'F', ['e', 'a']], [True, 'F', ['e', 'b']], [True, 'F', ['e', 'c']], [True, 'F', ['e', 'd']], [True, 'F', ['e', 'e']], [True, 'F', ['e', 'f']], [True, 'F', ['e', 'g']], [True, 'F', ['e', 'h']], [True, 'F', ['e', 'i']], [True, 'F', ['e', 'j']], [True, 'F', ['e', 'k']], [True, 'F', ['e', 'l']], [True, 'F', ['e', 'm']], [True, 'F', ['e', 'n']]]\n",
      "0.454852\n",
      "[[True, 'S', ['a']], [True, 'F', ['a', 'a']], [True, 'S', ['a']]]\n",
      "0.000665367\n",
      "[[True, 'S', ['a']], [True, 'F', ['a', 'c']], [True, 'S', ['c']]]\n",
      "0.48558\n",
      "[[True, 'S', ['a']], [True, 'F', ['a', 'l']], [True, 'S', ['l']]]\n",
      "0.556452\n",
      "[[True, 'S', ['c']], [True, 'F', ['c', 'a']], [True, 'S', ['a']]]\n",
      "0.48558\n",
      "[[True, 'S', ['c']], [True, 'F', ['c', 'c']], [True, 'S', ['c']]]\n",
      "0.48558\n",
      "[[True, 'S', ['c']], [True, 'F', ['c', 'd']], [True, 'S', ['d']]]\n",
      "0.48558\n",
      "[[True, 'S', ['c']], [True, 'F', ['c', 'e']], [True, 'S', ['e']]]\n",
      "0.92397\n",
      "[[True, 'S', ['c']], [True, 'F', ['c', 'l']], [True, 'S', ['l']]]\n",
      "0.809456\n",
      "[[True, 'S', ['d']], [True, 'F', ['d', 'a']], [True, 'S', ['a']]]\n",
      "4.36306e-05\n",
      "[[True, 'S', ['d']], [True, 'F', ['d', 'd']], [True, 'S', ['d']]]\n",
      "0.942137\n",
      "[[True, 'S', ['d']], [True, 'F', ['d', 'e']], [True, 'S', ['e']]]\n",
      "0.92397\n",
      "[[True, 'S', ['d']], [True, 'F', ['d', 'l']], [True, 'S', ['l']]]\n",
      "0.556452\n",
      "[[True, 'S', ['e']], [True, 'F', ['e', 'a']], [True, 'S', ['a']]]\n",
      "0.92397\n",
      "[[True, 'S', ['e']], [True, 'F', ['e', 'c']], [True, 'S', ['c']]]\n",
      "0.92397\n",
      "[[True, 'S', ['e']], [True, 'F', ['e', 'd']], [True, 'S', ['d']]]\n",
      "0.92397\n",
      "[[True, 'S', ['e']], [True, 'F', ['e', 'e']], [True, 'S', ['e']]]\n",
      "0.92397\n"
     ]
    },
    {
     "name": "stdout",
     "output_type": "stream",
     "text": [
      "[[True, 'S', ['e']], [True, 'F', ['e', 'l']], [True, 'S', ['l']]]\n",
      "0.92397\n",
      "[[True, 'S', ['l']], [True, 'F', ['l', 'a']], [True, 'S', ['a']]]\n",
      "0.556452\n",
      "[[True, 'S', ['l']], [True, 'F', ['l', 'e']], [True, 'S', ['e']]]\n",
      "0.92397\n"
     ]
    },
    {
     "name": "stderr",
     "output_type": "stream",
     "text": [
      "\r",
      "  0%|          | 1/2000 [00:11<6:21:43, 11.46s/it]"
     ]
    },
    {
     "name": "stdout",
     "output_type": "stream",
     "text": [
      "[[True, 'S', ['a']], [True, 'C', ['a']]]\n",
      "0.281498\n",
      "155\n"
     ]
    },
    {
     "name": "stderr",
     "output_type": "stream",
     "text": [
      "  5%|▌         | 100/2000 [11:07<3:31:25,  6.68s/it]"
     ]
    },
    {
     "data": {
      "image/png": "[encoded data removed]",
      "text/plain": [
       "<matplotlib.figure.Figure at 0x1a4bded518>"
      ]
     },
     "metadata": {},
     "output_type": "display_data"
    },
    {
     "name": "stdout",
     "output_type": "stream",
     "text": [
      "[[False, 'S', ['e']]]\n",
      "0.00162581\n",
      "[[False, 'S', ['f']]]\n",
      "7.39534e-06\n",
      "[[False, 'S', ['g']]]\n",
      "0.00290089\n",
      "[[False, 'F', ['a', 'f']]]\n",
      "0.000772367\n",
      "[[False, 'F', ['g', 'h']]]\n",
      "2.42118e-07\n",
      "[[False, 'C', ['a']]]\n",
      "5.30377e-09\n",
      "[[False, 'S', ['i']]]\n",
      "0.867009\n",
      "[[False, 'S', ['n']]]\n",
      "0.00123412\n",
      "[[False, 'F', ['m', 'n']]]\n",
      "0.41403\n",
      "[[True, 'F', ['a', 'a']]]\n",
      "0.0110939\n",
      "[[True, 'F', ['a', 'a']], [True, 'F', ['a', 'a']]]\n",
      "0.0110939\n",
      "[[True, 'F', ['a', 'n']], [True, 'F', ['n', 'a']]]\n",
      "0.552965\n",
      "[[True, 'F', ['n', 'a']], [True, 'F', ['a', 'n']]]\n",
      "0.552965\n",
      "[[True, 'S', ['a']], [True, 'F', ['a', 'a']], [True, 'S', ['a']]]\n",
      "0.0110939\n"
     ]
    },
    {
     "name": "stderr",
     "output_type": "stream",
     "text": [
      "\r",
      "  5%|▌         | 101/2000 [11:18<3:32:29,  6.71s/it]"
     ]
    },
    {
     "name": "stdout",
     "output_type": "stream",
     "text": [
      "14\n"
     ]
    },
    {
     "name": "stderr",
     "output_type": "stream",
     "text": [
      " 10%|█         | 200/2000 [22:30<3:22:38,  6.75s/it]"
     ]
    },
    {
     "data": {
      "image/png": "[encoded data removed]",
      "text/plain": [
       "<matplotlib.figure.Figure at 0x1a4bc510b8>"
      ]
     },
     "metadata": {},
     "output_type": "display_data"
    },
    {
     "name": "stdout",
     "output_type": "stream",
     "text": [
      "[[False, 'S', ['a']]]\n",
      "0.799931\n",
      "[[False, 'S', ['e']]]\n",
      "0.00129992\n",
      "[[False, 'S', ['f']]]\n",
      "2.08641e-10\n",
      "[[False, 'S', ['g']]]\n",
      "1.15909e-06\n",
      "[[False, 'F', ['a', 'f']]]\n",
      "1.20251e-05\n",
      "[[False, 'F', ['a', 'g']]]\n",
      "0.761276\n",
      "[[False, 'F', ['g', 'h']]]\n",
      "2.66357e-07\n",
      "[[False, 'C', ['a']]]\n",
      "1.90323e-07\n",
      "[[False, 'S', ['n']]]\n",
      "3.37019e-05\n",
      "[[False, 'F', ['m', 'n']]]\n",
      "0.931985\n",
      "[[True, 'F', ['a', 'n']], [True, 'F', ['n', 'a']]]\n",
      "0.663853\n",
      "[[True, 'F', ['n', 'a']], [True, 'F', ['a', 'n']]]\n",
      "0.663853\n"
     ]
    },
    {
     "name": "stderr",
     "output_type": "stream",
     "text": [
      "\r",
      " 10%|█         | 201/2000 [22:39<3:22:45,  6.76s/it]"
     ]
    },
    {
     "name": "stdout",
     "output_type": "stream",
     "text": [
      "12\n"
     ]
    },
    {
     "name": "stderr",
     "output_type": "stream",
     "text": [
      " 15%|█▌        | 300/2000 [33:07<3:07:41,  6.62s/it]"
     ]
    },
    {
     "data": {
      "image/png": "[encoded data removed]",
      "text/plain": [
       "<matplotlib.figure.Figure at 0x1a3c2a62e8>"
      ]
     },
     "metadata": {},
     "output_type": "display_data"
    },
    {
     "name": "stdout",
     "output_type": "stream",
     "text": [
      "[[False, 'S', ['e']]]\n",
      "0.000205381\n",
      "[[False, 'S', ['g']]]\n",
      "1.45384e-09\n",
      "[[False, 'F', ['a', 'f']]]\n",
      "4.0627e-13\n",
      "[[False, 'F', ['g', 'h']]]\n",
      "4.47053e-10\n",
      "[[False, 'C', ['a']]]\n",
      "0.000772821\n",
      "[[False, 'S', ['n']]]\n",
      "1.22905e-09\n"
     ]
    },
    {
     "name": "stderr",
     "output_type": "stream",
     "text": [
      "\r",
      " 15%|█▌        | 301/2000 [33:15<3:07:44,  6.63s/it]"
     ]
    },
    {
     "name": "stdout",
     "output_type": "stream",
     "text": [
      "6\n"
     ]
    },
    {
     "name": "stderr",
     "output_type": "stream",
     "text": [
      " 20%|██        | 400/2000 [43:41<2:54:45,  6.55s/it]"
     ]
    },
    {
     "data": {
      "image/png": "[encoded data removed]",
      "text/plain": [
       "<matplotlib.figure.Figure at 0x1a4bbbce80>"
      ]
     },
     "metadata": {},
     "output_type": "display_data"
    },
    {
     "name": "stdout",
     "output_type": "stream",
     "text": [
      "[[False, 'S', ['e']]]\n",
      "6.4815e-06\n",
      "[[False, 'S', ['g']]]\n",
      "8.40605e-11\n",
      "[[False, 'F', ['a', 'f']]]\n",
      "5.1835e-05\n",
      "[[False, 'F', ['g', 'h']]]\n",
      "1.38669e-07\n",
      "[[False, 'C', ['a']]]\n",
      "0.0149536\n",
      "[[False, 'S', ['n']]]\n",
      "4.59131e-08\n"
     ]
    },
    {
     "name": "stderr",
     "output_type": "stream",
     "text": [
      "\r",
      " 20%|██        | 401/2000 [43:49<2:54:46,  6.56s/it]"
     ]
    },
    {
     "name": "stdout",
     "output_type": "stream",
     "text": [
      "6\n"
     ]
    },
    {
     "name": "stderr",
     "output_type": "stream",
     "text": [
      " 25%|██▌       | 500/2000 [55:27<2:46:21,  6.65s/it]"
     ]
    },
    {
     "data": {
      "image/png": "[encoded data removed]",
      "text/plain": [
       "<matplotlib.figure.Figure at 0x1a4be3dc50>"
      ]
     },
     "metadata": {},
     "output_type": "display_data"
    },
    {
     "name": "stdout",
     "output_type": "stream",
     "text": [
      "[[False, 'S', ['e']]]\n",
      "4.084e-06\n",
      "[[False, 'S', ['g']]]\n",
      "2.60958e-05\n",
      "[[False, 'F', ['a', 'f']]]\n",
      "0.0198298\n",
      "[[False, 'F', ['g', 'h']]]\n",
      "0.000152364\n",
      "[[False, 'S', ['n']]]\n",
      "9.85775e-06\n"
     ]
    },
    {
     "name": "stderr",
     "output_type": "stream",
     "text": [
      "\r",
      " 25%|██▌       | 501/2000 [55:36<2:46:21,  6.66s/it]"
     ]
    },
    {
     "name": "stdout",
     "output_type": "stream",
     "text": [
      "[[True, 'S', ['a']], [True, 'C', ['a']]]\n",
      "0.0171373\n",
      "6\n"
     ]
    },
    {
     "name": "stderr",
     "output_type": "stream",
     "text": [
      " 28%|██▊       | 570/2000 [1:23:33<3:29:37,  8.80s/it]"
     ]
    },
    {
     "ename": "KeyboardInterrupt",
     "evalue": "",
     "output_type": "error",
     "traceback": [
      "\u001b[0;31m---------------------------------------------------------------------------\u001b[0m",
      "\u001b[0;31mKeyboardInterrupt\u001b[0m                         Traceback (most recent call last)",
      "\u001b[0;32m<ipython-input-1432-06e3e008dd53>\u001b[0m in \u001b[0;36m<module>\u001b[0;34m()\u001b[0m\n\u001b[1;32m      7\u001b[0m     \u001b[0mtotal_probability\u001b[0m\u001b[0;34m=\u001b[0m\u001b[0;36m0\u001b[0m\u001b[0;34m\u001b[0m\u001b[0m\n\u001b[1;32m      8\u001b[0m     \u001b[0;32mfor\u001b[0m \u001b[0mf\u001b[0m \u001b[0;32min\u001b[0m \u001b[0mfacts\u001b[0m\u001b[0;34m:\u001b[0m\u001b[0;34m\u001b[0m\u001b[0m\n\u001b[0;32m----> 9\u001b[0;31m         \u001b[0mlog\u001b[0m\u001b[0;34m,\u001b[0m\u001b[0mprob\u001b[0m\u001b[0;34m=\u001b[0m\u001b[0mltn\u001b[0m\u001b[0;34m.\u001b[0m\u001b[0mforward\u001b[0m\u001b[0;34m(\u001b[0m\u001b[0mclause\u001b[0m\u001b[0;34m=\u001b[0m\u001b[0mf\u001b[0m\u001b[0;34m)\u001b[0m\u001b[0;34m\u001b[0m\u001b[0m\n\u001b[0m\u001b[1;32m     10\u001b[0m         \u001b[0mprob\u001b[0m\u001b[0;34m.\u001b[0m\u001b[0mbackward\u001b[0m\u001b[0;34m(\u001b[0m\u001b[0mmone\u001b[0m\u001b[0;34m)\u001b[0m\u001b[0;34m\u001b[0m\u001b[0m\n\u001b[1;32m     11\u001b[0m         \u001b[0mtotal_probability\u001b[0m\u001b[0;34m+=\u001b[0m\u001b[0mprob\u001b[0m\u001b[0;34m.\u001b[0m\u001b[0mdata\u001b[0m\u001b[0;34m.\u001b[0m\u001b[0mnumpy\u001b[0m\u001b[0;34m(\u001b[0m\u001b[0;34m)\u001b[0m\u001b[0;34m[\u001b[0m\u001b[0;36m0\u001b[0m\u001b[0;34m]\u001b[0m\u001b[0;34m\u001b[0m\u001b[0m\n",
      "\u001b[0;32m<ipython-input-1330-3c89bff91eb2>\u001b[0m in \u001b[0;36mforward\u001b[0;34m(self, clause)\u001b[0m\n\u001b[1;32m     15\u001b[0m             \u001b[0mconstants\u001b[0m\u001b[0;34m=\u001b[0m\u001b[0mpredicate\u001b[0m\u001b[0;34m[\u001b[0m\u001b[0;36m2\u001b[0m\u001b[0;34m]\u001b[0m\u001b[0;34m\u001b[0m\u001b[0m\n\u001b[1;32m     16\u001b[0m             \u001b[0membs\u001b[0m\u001b[0;34m=\u001b[0m\u001b[0mself\u001b[0m\u001b[0;34m.\u001b[0m\u001b[0mConstants\u001b[0m\u001b[0;34m.\u001b[0m\u001b[0mforward\u001b[0m\u001b[0;34m(\u001b[0m\u001b[0mconstants\u001b[0m\u001b[0;34m)\u001b[0m\u001b[0;34m\u001b[0m\u001b[0m\n\u001b[0;32m---> 17\u001b[0;31m             \u001b[0moutput\u001b[0m\u001b[0;34m=\u001b[0m\u001b[0mself\u001b[0m\u001b[0;34m.\u001b[0m\u001b[0mPredicates\u001b[0m\u001b[0;34m[\u001b[0m\u001b[0mname\u001b[0m\u001b[0;34m]\u001b[0m\u001b[0;34m.\u001b[0m\u001b[0mforward\u001b[0m\u001b[0;34m(\u001b[0m\u001b[0membs\u001b[0m\u001b[0;34m,\u001b[0m\u001b[0mnegation\u001b[0m\u001b[0;34m)\u001b[0m\u001b[0;34m\u001b[0m\u001b[0m\n\u001b[0m\u001b[1;32m     18\u001b[0m             \u001b[0mpredicate_results\u001b[0m\u001b[0;34m.\u001b[0m\u001b[0mappend\u001b[0m\u001b[0;34m(\u001b[0m\u001b[0moutput\u001b[0m\u001b[0;34m)\u001b[0m\u001b[0;34m\u001b[0m\u001b[0m\n\u001b[1;32m     19\u001b[0m             \u001b[0;32mif\u001b[0m \u001b[0mAns\u001b[0m \u001b[0;32mis\u001b[0m \u001b[0;32mNone\u001b[0m \u001b[0;32mor\u001b[0m \u001b[0mAns\u001b[0m\u001b[0;34m.\u001b[0m\u001b[0mdata\u001b[0m\u001b[0;34m.\u001b[0m\u001b[0mnumpy\u001b[0m\u001b[0;34m(\u001b[0m\u001b[0;34m)\u001b[0m\u001b[0;34m[\u001b[0m\u001b[0;36m0\u001b[0m\u001b[0;34m]\u001b[0m\u001b[0;34m<\u001b[0m\u001b[0moutput\u001b[0m\u001b[0;34m.\u001b[0m\u001b[0mdata\u001b[0m\u001b[0;34m.\u001b[0m\u001b[0mnumpy\u001b[0m\u001b[0;34m(\u001b[0m\u001b[0;34m)\u001b[0m\u001b[0;34m[\u001b[0m\u001b[0;36m0\u001b[0m\u001b[0;34m]\u001b[0m\u001b[0;34m:\u001b[0m\u001b[0;34m\u001b[0m\u001b[0m\n",
      "\u001b[0;32m<ipython-input-1345-84c9a1bf77e9>\u001b[0m in \u001b[0;36mforward\u001b[0;34m(self, embs, negation)\u001b[0m\n\u001b[1;32m     14\u001b[0m         \u001b[0mm\u001b[0m\u001b[0;34m=\u001b[0m\u001b[0mself\u001b[0m\u001b[0;34m.\u001b[0m\u001b[0mvariable_count\u001b[0m\u001b[0;34m*\u001b[0m\u001b[0mself\u001b[0m\u001b[0;34m.\u001b[0m\u001b[0memb_dim\u001b[0m\u001b[0;34m\u001b[0m\u001b[0m\n\u001b[1;32m     15\u001b[0m         \u001b[0mW\u001b[0m\u001b[0;34m=\u001b[0m\u001b[0mself\u001b[0m\u001b[0;34m.\u001b[0m\u001b[0mW\u001b[0m\u001b[0;34m.\u001b[0m\u001b[0mview\u001b[0m\u001b[0;34m(\u001b[0m\u001b[0mm\u001b[0m\u001b[0;34m,\u001b[0m\u001b[0;34m-\u001b[0m\u001b[0;36m1\u001b[0m\u001b[0;34m)\u001b[0m\u001b[0;34m\u001b[0m\u001b[0m\n\u001b[0;32m---> 16\u001b[0;31m         \u001b[0moutput\u001b[0m\u001b[0;34m=\u001b[0m\u001b[0mtorch\u001b[0m\u001b[0;34m.\u001b[0m\u001b[0mmm\u001b[0m\u001b[0;34m(\u001b[0m\u001b[0membs\u001b[0m\u001b[0;34m,\u001b[0m\u001b[0mW\u001b[0m\u001b[0;34m)\u001b[0m\u001b[0;34m\u001b[0m\u001b[0m\n\u001b[0m\u001b[1;32m     17\u001b[0m         \u001b[0moutput\u001b[0m\u001b[0;34m=\u001b[0m\u001b[0moutput\u001b[0m\u001b[0;34m.\u001b[0m\u001b[0mview\u001b[0m\u001b[0;34m(\u001b[0m\u001b[0;34m-\u001b[0m\u001b[0;36m1\u001b[0m\u001b[0;34m,\u001b[0m\u001b[0mm\u001b[0m\u001b[0;34m)\u001b[0m\u001b[0;34m\u001b[0m\u001b[0m\n\u001b[1;32m     18\u001b[0m         \u001b[0moutput\u001b[0m\u001b[0;34m=\u001b[0m\u001b[0mtorch\u001b[0m\u001b[0;34m.\u001b[0m\u001b[0mmm\u001b[0m\u001b[0;34m(\u001b[0m\u001b[0moutput\u001b[0m\u001b[0;34m,\u001b[0m\u001b[0membs\u001b[0m\u001b[0;34m.\u001b[0m\u001b[0mview\u001b[0m\u001b[0;34m(\u001b[0m\u001b[0;34m-\u001b[0m\u001b[0;36m1\u001b[0m\u001b[0;34m,\u001b[0m\u001b[0;36m1\u001b[0m\u001b[0;34m)\u001b[0m\u001b[0;34m)\u001b[0m\u001b[0;34m\u001b[0m\u001b[0m\n",
      "\u001b[0;32m~/anaconda3/lib/python3.6/site-packages/torch/autograd/variable.py\u001b[0m in \u001b[0;36mmm\u001b[0;34m(self, matrix)\u001b[0m\n\u001b[1;32m    577\u001b[0m     \u001b[0;32mdef\u001b[0m \u001b[0mmm\u001b[0m\u001b[0;34m(\u001b[0m\u001b[0mself\u001b[0m\u001b[0;34m,\u001b[0m \u001b[0mmatrix\u001b[0m\u001b[0;34m)\u001b[0m\u001b[0;34m:\u001b[0m\u001b[0;34m\u001b[0m\u001b[0m\n\u001b[1;32m    578\u001b[0m         \u001b[0moutput\u001b[0m \u001b[0;34m=\u001b[0m \u001b[0mVariable\u001b[0m\u001b[0;34m(\u001b[0m\u001b[0mself\u001b[0m\u001b[0;34m.\u001b[0m\u001b[0mdata\u001b[0m\u001b[0;34m.\u001b[0m\u001b[0mnew\u001b[0m\u001b[0;34m(\u001b[0m\u001b[0mself\u001b[0m\u001b[0;34m.\u001b[0m\u001b[0mdata\u001b[0m\u001b[0;34m.\u001b[0m\u001b[0msize\u001b[0m\u001b[0;34m(\u001b[0m\u001b[0;36m0\u001b[0m\u001b[0;34m)\u001b[0m\u001b[0;34m,\u001b[0m \u001b[0mmatrix\u001b[0m\u001b[0;34m.\u001b[0m\u001b[0mdata\u001b[0m\u001b[0;34m.\u001b[0m\u001b[0msize\u001b[0m\u001b[0;34m(\u001b[0m\u001b[0;36m1\u001b[0m\u001b[0;34m)\u001b[0m\u001b[0;34m)\u001b[0m\u001b[0;34m)\u001b[0m\u001b[0;34m\u001b[0m\u001b[0m\n\u001b[0;32m--> 579\u001b[0;31m         \u001b[0;32mreturn\u001b[0m \u001b[0mAddmm\u001b[0m\u001b[0;34m.\u001b[0m\u001b[0mapply\u001b[0m\u001b[0;34m(\u001b[0m\u001b[0moutput\u001b[0m\u001b[0;34m,\u001b[0m \u001b[0mself\u001b[0m\u001b[0;34m,\u001b[0m \u001b[0mmatrix\u001b[0m\u001b[0;34m,\u001b[0m \u001b[0;36m0\u001b[0m\u001b[0;34m,\u001b[0m \u001b[0;36m1\u001b[0m\u001b[0;34m,\u001b[0m \u001b[0;32mTrue\u001b[0m\u001b[0;34m)\u001b[0m\u001b[0;34m\u001b[0m\u001b[0m\n\u001b[0m\u001b[1;32m    580\u001b[0m \u001b[0;34m\u001b[0m\u001b[0m\n\u001b[1;32m    581\u001b[0m     \u001b[0;32mdef\u001b[0m \u001b[0mbmm\u001b[0m\u001b[0;34m(\u001b[0m\u001b[0mself\u001b[0m\u001b[0;34m,\u001b[0m \u001b[0mbatch\u001b[0m\u001b[0;34m)\u001b[0m\u001b[0;34m:\u001b[0m\u001b[0;34m\u001b[0m\u001b[0m\n",
      "\u001b[0;32m~/anaconda3/lib/python3.6/site-packages/torch/autograd/_functions/blas.py\u001b[0m in \u001b[0;36mforward\u001b[0;34m(ctx, add_matrix, matrix1, matrix2, alpha, beta, inplace)\u001b[0m\n\u001b[1;32m     24\u001b[0m         \u001b[0moutput\u001b[0m \u001b[0;34m=\u001b[0m \u001b[0m_get_output\u001b[0m\u001b[0;34m(\u001b[0m\u001b[0mctx\u001b[0m\u001b[0;34m,\u001b[0m \u001b[0madd_matrix\u001b[0m\u001b[0;34m,\u001b[0m \u001b[0minplace\u001b[0m\u001b[0;34m=\u001b[0m\u001b[0minplace\u001b[0m\u001b[0;34m)\u001b[0m\u001b[0;34m\u001b[0m\u001b[0m\n\u001b[1;32m     25\u001b[0m         return torch.addmm(alpha, add_matrix, beta,\n\u001b[0;32m---> 26\u001b[0;31m                            matrix1, matrix2, out=output)\n\u001b[0m\u001b[1;32m     27\u001b[0m \u001b[0;34m\u001b[0m\u001b[0m\n\u001b[1;32m     28\u001b[0m     \u001b[0;34m@\u001b[0m\u001b[0mstaticmethod\u001b[0m\u001b[0;34m\u001b[0m\u001b[0m\n",
      "\u001b[0;31mKeyboardInterrupt\u001b[0m: "
     ]
    }
   ],
   "source": [
    "ltn=LTN2(emb_dim,'abcdefghijklmn',[['S',1],['F',2],['C',1]])\n",
    "optimizor=torch.optim.Adam(ltn.parameters(),lr=0.1,weight_decay=0.1)\n",
    "mone=torch.FloatTensor([-1])\n",
    "errs=[]\n",
    "for i in tqdm(range(2000)):\n",
    "    optimizor.zero_grad()\n",
    "    total_probability=0\n",
    "    for f in facts:\n",
    "        log,prob=ltn.forward(clause=f)\n",
    "        prob.backward(mone)\n",
    "        total_probability+=prob.data.numpy()[0]\n",
    "    optimizor.step()\n",
    "    errs.append(total_probability/len(facts))\n",
    "    if i%100==0:\n",
    "        plt.plot(errs)\n",
    "        plt.show()\n",
    "        show_results(facts)"
   ]
  },
  {
   "cell_type": "code",
   "execution_count": 1339,
   "metadata": {},
   "outputs": [
    {
     "name": "stdout",
     "output_type": "stream",
     "text": [
      "[False, 'S', ['g']]\n",
      "0.00163262\n",
      "1\n"
     ]
    }
   ],
   "source": [
    "show_results(facts)"
   ]
  },
  {
   "cell_type": "code",
   "execution_count": 1427,
   "metadata": {},
   "outputs": [],
   "source": []
  }
 ],
 "metadata": {
  "kernelspec": {
   "display_name": "Python 3",
   "language": "python",
   "name": "python3"
  },
  "language_info": {
   "codemirror_mode": {
    "name": "ipython",
    "version": 3
   },
   "file_extension": ".py",
   "mimetype": "text/x-python",
   "name": "python",
   "nbconvert_exporter": "python",
   "pygments_lexer": "ipython3",
   "version": "3.6.2"
  }
 },
 "nbformat": 4,
 "nbformat_minor": 2
}
