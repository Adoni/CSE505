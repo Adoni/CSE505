{
 "cells": [
  {
   "cell_type": "code",
   "execution_count": 1219,
   "metadata": {
    "collapsed": true
   },
   "outputs": [],
   "source": [
    "import torch\n",
    "import torch.nn as nn\n",
    "from torch.autograd import Variable\n",
    "import torch.optim as optim\n",
    "from matplotlib import pyplot as plt\n",
    "import seaborn as sns\n",
    "from tqdm import tqdm\n",
    "import copy"
   ]
  },
  {
   "cell_type": "code",
   "execution_count": 1091,
   "metadata": {
    "collapsed": true
   },
   "outputs": [],
   "source": [
    "emb_dim=100"
   ]
  },
  {
   "cell_type": "code",
   "execution_count": 1343,
   "metadata": {},
   "outputs": [],
   "source": [
    "def load_facts(filename):\n",
    "    facts=[]\n",
    "    for line in open(filename):\n",
    "        line=line.strip().split(',')\n",
    "        fact=[]\n",
    "        if line[0]=='not':\n",
    "            fact.append(True)\n",
    "            line=line[1:]\n",
    "        else:\n",
    "            fact.append(False)\n",
    "        fact.append(line[0])\n",
    "        fact.append(line[1:])\n",
    "        facts.append([fact])\n",
    "    return facts"
   ]
  },
  {
   "cell_type": "code",
   "execution_count": 1456,
   "metadata": {
    "collapsed": true
   },
   "outputs": [],
   "source": [
    "def load_knowledge(filename):\n",
    "    knowledges=[]\n",
    "    for line in open(filename):\n",
    "        line=line.strip().split('|')\n",
    "        condition=[]\n",
    "        for c in line[0].strip().split(','):\n",
    "            c=c.strip().split(' ')\n",
    "            condition.append(c)\n",
    "        clause=[]\n",
    "        for predicate in line[1:]:\n",
    "            predicate=predicate.strip().split(',')\n",
    "            if predicate[0]=='not':\n",
    "                predicate=[True,predicate[1],predicate[2:]]\n",
    "            else:\n",
    "                predicate=[False,predicate[0],predicate[1:]]\n",
    "            clause.append(predicate)\n",
    "        knowledges.append([condition,clause])\n",
    "    return knowledges"
   ]
  },
  {
   "cell_type": "code",
   "execution_count": 1457,
   "metadata": {},
   "outputs": [],
   "source": [
    "def construct_training(clauses, variable, for_all, constants='abcdefghijklmn'):\n",
    "    new_clauses=[]\n",
    "    if for_all:\n",
    "        for clause in clauses:\n",
    "            new_clauses+=replace_clause(clause,variable,constants)\n",
    "    else:\n",
    "        for clause in clauses:\n",
    "            disjunction=[]\n",
    "            for clause in replace_clause(clause,variable,constants):\n",
    "                disjunction+=clause\n",
    "            new_clauses.append(disjunction)\n",
    "    return new_clauses\n",
    "\n",
    "def replace_clause(clause,variable,constants):\n",
    "    new_clauses=[]\n",
    "    for constant in constants:\n",
    "        new_clause=copy.deepcopy(clause)\n",
    "        for i in range(len(new_clause)):\n",
    "            for j in range(len(new_clause[i][2])):\n",
    "                if new_clause[i][2][j]==variable:\n",
    "                    new_clause[i][2][j]=constant\n",
    "        new_clauses.append(new_clause)\n",
    "    return new_clauses"
   ]
  },
  {
   "cell_type": "code",
   "execution_count": 1458,
   "metadata": {
    "collapsed": true
   },
   "outputs": [],
   "source": [
    "def construct_fact_from_knowledge(knowledges, constants):\n",
    "    facts=[]\n",
    "    for knowledge in knowledges:\n",
    "        clause=[knowledge[1]]\n",
    "        for c in knowledge[0]:\n",
    "            if c[0]=='all':\n",
    "                clause=construct_training(clause,variable=c[1],for_all=True, constants=constants)\n",
    "            else:\n",
    "                clause=construct_training(clause,variable=c[1],for_all=False, constants=constants)\n",
    "        facts+=clause\n",
    "    return facts"
   ]
  },
  {
   "cell_type": "code",
   "execution_count": 1459,
   "metadata": {
    "collapsed": true
   },
   "outputs": [],
   "source": [
    "def show_results(facts):\n",
    "    wrong=0\n",
    "    for f in facts:\n",
    "        output=ltn.forward(clause=f)\n",
    "        if output[1].data.numpy()[0]>0.95:\n",
    "            continue\n",
    "        print(f)\n",
    "        print(output[1].data.numpy()[0])\n",
    "        wrong+=1\n",
    "    print(wrong)"
   ]
  },
  {
   "cell_type": "code",
   "execution_count": 1466,
   "metadata": {
    "collapsed": true
   },
   "outputs": [],
   "source": [
    "class Constants(nn.Module):\n",
    "    def __init__(self, constants,emb_dim):\n",
    "        super(Constants, self).__init__()\n",
    "        self.symbol2id=dict()\n",
    "        self.id2symbol=dict()\n",
    "        for i,s in enumerate(constants):\n",
    "            self.symbol2id[s]=i\n",
    "            self.id2symbol[i]=s\n",
    "        self.embeddings = nn.Embedding(len(self.symbol2id), emb_dim)\n",
    "    def forward(self,constants):\n",
    "        constant_id=[]\n",
    "        for c in constants:\n",
    "            constant_id.append(self.symbol2id[c])\n",
    "        embs=self.embeddings(Variable(torch.LongTensor(constant_id)))\n",
    "        embs=torch.cat(embs).view(1,-1)\n",
    "        return embs"
   ]
  },
  {
   "cell_type": "code",
   "execution_count": 1467,
   "metadata": {
    "collapsed": true
   },
   "outputs": [],
   "source": [
    "class Predicate(nn.Module):\n",
    "    def __init__(self, name, variable_count, emb_dim):\n",
    "        super(Predicate, self).__init__()\n",
    "        self.name=name\n",
    "        self.variable_count=variable_count\n",
    "        self.emb_dim=emb_dim\n",
    "        m=variable_count*emb_dim\n",
    "        self.variable_count=variable_count\n",
    "        self.W=Variable(torch.randn(m, emb_dim, m), requires_grad=True)\n",
    "        self.V=Variable(torch.randn(m, emb_dim), requires_grad=True)\n",
    "        self.B=Variable(torch.randn(emb_dim), requires_grad=True)\n",
    "        self.u=Variable(torch.randn(emb_dim), requires_grad=True)\n",
    "    def forward(self, embs, negation):\n",
    "        m=self.variable_count*self.emb_dim\n",
    "        W=self.W.view(m,-1)\n",
    "        output=torch.mm(embs,W)\n",
    "        output=output.view(-1,m)\n",
    "        output=torch.mm(output,embs.view(-1,1))\n",
    "        output=output.view(1,-1)\n",
    "        output=output.add(torch.mm(embs,self.V))\n",
    "        output=output.add(self.B)\n",
    "        output=output.view(-1)\n",
    "        output=torch.tanh(output)\n",
    "        output=torch.mul(output,self.u).sum()\n",
    "        output=torch.sigmoid(output)\n",
    "        if negation:\n",
    "            output=1.0-output\n",
    "        return output"
   ]
  },
  {
   "cell_type": "code",
   "execution_count": 1468,
   "metadata": {
    "collapsed": true
   },
   "outputs": [],
   "source": [
    "class LTN(nn.Module):\n",
    "    def __init__(self, emb_dim, constants, predicates):\n",
    "        super(LTN2, self).__init__()\n",
    "        self.emb_dim=emb_dim\n",
    "        self.Constants=Constants(constants, emb_dim)\n",
    "        self.Predicates=dict()\n",
    "        for name,n in predicates:\n",
    "            self.Predicates[name]=Predicate(name,n,emb_dim)\n",
    "    def forward(self, clause):\n",
    "        predicate_results=[]\n",
    "        Ans=None\n",
    "        for predicate in clause:\n",
    "            negation=predicate[0]\n",
    "            name=predicate[1]\n",
    "            constants=predicate[2]\n",
    "            embs=self.Constants.forward(constants)\n",
    "            output=self.Predicates[name].forward(embs,negation)\n",
    "            predicate_results.append(output)\n",
    "            if Ans is None or Ans.data.numpy()[0]<output.data.numpy()[0]:\n",
    "                Ans=output\n",
    "        return torch.log(Ans),Ans\n",
    "    def parameters(self):\n",
    "        results=list(self.Constants.parameters())\n",
    "        for name in self.Predicates:\n",
    "            results+=list(self.Predicates[name].parameters())\n",
    "        return results"
   ]
  },
  {
   "cell_type": "code",
   "execution_count": 1469,
   "metadata": {},
   "outputs": [],
   "source": [
    "facts1=load_facts('./facts1.txt')\n",
    "facts2=load_facts('./facts2.txt')\n",
    "knowledges=load_knowledge('./knowledge.txt')\n",
    "facts3=construct_fact_from_knowledge(knowledges,constants='abcdefgh')\n",
    "facts4=construct_fact_from_knowledge(knowledges,constants='ijklmn')\n",
    "facts=facts1+facts2+facts3"
   ]
  },
  {
   "cell_type": "code",
   "execution_count": 1471,
   "metadata": {},
   "outputs": [
    {
     "name": "stderr",
     "output_type": "stream",
     "text": [
      "\r",
      "  0%|          | 0/2000 [00:00<?, ?it/s]"
     ]
    },
    {
     "data": {
      "image/png": "[encoded data removed]",
      "text/plain": [
       "<matplotlib.figure.Figure at 0x1a3c5444e0>"
      ]
     },
     "metadata": {},
     "output_type": "display_data"
    },
    {
     "name": "stdout",
     "output_type": "stream",
     "text": [
      "[[False, 'S', ['a']]]\n",
      "4.6943e-06\n",
      "[[False, 'S', ['e']]]\n",
      "9.61608e-05\n",
      "[[False, 'S', ['f']]]\n",
      "0.00139817\n",
      "[[True, 'S', ['b']]]\n",
      "0.846042\n",
      "[[True, 'S', ['c']]]\n",
      "1.94311e-05\n",
      "[[True, 'S', ['g']]]\n",
      "0.000254929\n",
      "[[True, 'S', ['h']]]\n",
      "0.0116063\n",
      "[[False, 'F', ['a', 'b']]]\n",
      "0.000145003\n",
      "[[False, 'F', ['c', 'd']]]\n",
      "0.00060148\n",
      "[[False, 'F', ['e', 'f']]]\n",
      "0.0047983\n",
      "[[False, 'F', ['g', 'h']]]\n",
      "0.00191976\n",
      "[[True, 'F', ['a', 'c']]]\n",
      "0.000135422\n",
      "[[True, 'F', ['a', 'd']]]\n",
      "0.00905585\n",
      "[[True, 'F', ['a', 'h']]]\n",
      "0.266914\n",
      "[[True, 'F', ['b', 'd']]]\n",
      "5.71012e-05\n",
      "[[True, 'F', ['b', 'e']]]\n",
      "0.0263224\n",
      "[[True, 'F', ['b', 'f']]]\n",
      "0.00256664\n",
      "[[True, 'F', ['b', 'g']]]\n",
      "0.0\n",
      "[[True, 'F', ['c', 'e']]]\n",
      "6.48499e-05\n",
      "[[True, 'F', ['c', 'g']]]\n",
      "0.411584\n",
      "[[True, 'F', ['c', 'h']]]\n",
      "0.628495\n",
      "[[True, 'F', ['d', 'e']]]\n",
      "0.0146568\n",
      "[[True, 'F', ['d', 'f']]]\n",
      "0.924848\n",
      "[[True, 'F', ['d', 'g']]]\n",
      "0.00612527\n",
      "[[False, 'C', ['a']]]\n",
      "0.0194467\n",
      "[[False, 'C', ['e']]]\n",
      "0.000718371\n",
      "[[True, 'C', ['b']]]\n",
      "0.0\n",
      "[[True, 'C', ['c']]]\n",
      "0.618793\n",
      "[[True, 'C', ['f']]]\n",
      "0.00103116\n",
      "[[True, 'C', ['h']]]\n",
      "0.0980177\n",
      "[[False, 'S', ['n']]]\n",
      "0.000116008\n",
      "[[True, 'S', ['k']]]\n",
      "0.000201166\n",
      "[[False, 'F', ['i', 'j']]]\n",
      "0.2471\n",
      "[[False, 'F', ['i', 'm']]]\n",
      "7.10849e-11\n",
      "[[False, 'F', ['m', 'n']]]\n",
      "2.02956e-06\n",
      "[[True, 'F', ['j', 'k']]]\n",
      "2.82526e-05\n",
      "[[True, 'F', ['j', 'l']]]\n",
      "0.00343227\n",
      "[[True, 'F', ['j', 'n']]]\n",
      "0.0\n",
      "[[True, 'F', ['a', 'a']]]\n",
      "0.729642\n",
      "[[True, 'F', ['b', 'b']]]\n",
      "0.48946\n",
      "[[True, 'F', ['e', 'e']]]\n",
      "0.00272578\n",
      "[[True, 'F', ['f', 'f']]]\n",
      "0.592429\n",
      "[[True, 'F', ['g', 'g']]]\n",
      "6.86646e-05\n",
      "[[True, 'F', ['h', 'h']]]\n",
      "0.0\n",
      "[[True, 'F', ['a', 'a']], [False, 'F', ['a', 'a']]]\n",
      "0.729642\n",
      "[[True, 'F', ['a', 'c']], [False, 'F', ['c', 'a']]]\n",
      "0.243889\n",
      "[[True, 'F', ['a', 'f']], [False, 'F', ['f', 'a']]]\n",
      "0.245996\n",
      "[[True, 'F', ['b', 'a']], [False, 'F', ['a', 'b']]]\n",
      "0.0677558\n",
      "[[True, 'F', ['b', 'b']], [False, 'F', ['b', 'b']]]\n",
      "0.51054\n",
      "[[True, 'F', ['b', 'd']], [False, 'F', ['d', 'b']]]\n",
      "0.269315\n",
      "[[True, 'F', ['b', 'e']], [False, 'F', ['e', 'b']]]\n",
      "0.0263224\n",
      "[[True, 'F', ['b', 'f']], [False, 'F', ['f', 'b']]]\n",
      "0.00256664\n",
      "[[True, 'F', ['c', 'e']], [False, 'F', ['e', 'c']]]\n",
      "6.48499e-05\n",
      "[[True, 'F', ['c', 'g']], [False, 'F', ['g', 'c']]]\n",
      "0.411584\n",
      "[[True, 'F', ['d', 'e']], [False, 'F', ['e', 'd']]]\n",
      "0.0146568\n",
      "[[True, 'F', ['d', 'f']], [False, 'F', ['f', 'd']]]\n",
      "0.924848\n",
      "[[True, 'F', ['d', 'g']], [False, 'F', ['g', 'd']]]\n",
      "0.00612527\n",
      "[[True, 'F', ['f', 'e']], [False, 'F', ['e', 'f']]]\n",
      "0.0047983\n",
      "[[True, 'F', ['f', 'f']], [False, 'F', ['f', 'f']]]\n",
      "0.592429\n",
      "[[True, 'F', ['g', 'e']], [False, 'F', ['e', 'g']]]\n",
      "0.0441452\n",
      "[[True, 'F', ['g', 'f']], [False, 'F', ['f', 'g']]]\n",
      "0.388436\n",
      "[[True, 'F', ['h', 'a']], [False, 'F', ['a', 'h']]]\n",
      "0.733086\n",
      "[[True, 'F', ['h', 'b']], [False, 'F', ['b', 'h']]]\n",
      "0.0372488\n",
      "[[True, 'F', ['h', 'c']], [False, 'F', ['c', 'h']]]\n",
      "0.371505\n",
      "[[True, 'F', ['h', 'd']], [False, 'F', ['d', 'h']]]\n",
      "2.88727e-07\n",
      "[[True, 'F', ['h', 'e']], [False, 'F', ['e', 'h']]]\n",
      "6.43498e-05\n",
      "[[True, 'F', ['h', 'f']], [False, 'F', ['f', 'h']]]\n",
      "1.31133e-12\n",
      "[[True, 'F', ['h', 'g']], [False, 'F', ['g', 'h']]]\n",
      "0.00191976\n",
      "[[True, 'S', ['b']], [True, 'F', ['b', 'a']], [False, 'S', ['a']]]\n",
      "0.846042\n",
      "[[True, 'S', ['b']], [True, 'F', ['b', 'b']], [False, 'S', ['b']]]\n",
      "0.846042\n",
      "[[True, 'S', ['b']], [True, 'F', ['b', 'd']], [False, 'S', ['d']]]\n",
      "0.846042\n",
      "[[True, 'S', ['b']], [True, 'F', ['b', 'e']], [False, 'S', ['e']]]\n",
      "0.846042\n",
      "[[True, 'S', ['b']], [True, 'F', ['b', 'f']], [False, 'S', ['f']]]\n",
      "0.846042\n",
      "[[True, 'S', ['c']], [True, 'F', ['c', 'a']], [False, 'S', ['a']]]\n",
      "0.756111\n",
      "[[True, 'S', ['c']], [True, 'F', ['c', 'e']], [False, 'S', ['e']]]\n",
      "9.61608e-05\n",
      "[[True, 'S', ['g']], [True, 'F', ['g', 'a']], [False, 'S', ['a']]]\n",
      "0.00265557\n",
      "[[True, 'S', ['g']], [True, 'F', ['g', 'b']], [False, 'S', ['b']]]\n",
      "0.153959\n",
      "[[True, 'S', ['g']], [True, 'F', ['g', 'e']], [False, 'S', ['e']]]\n",
      "0.0441452\n",
      "[[True, 'S', ['g']], [True, 'F', ['g', 'f']], [False, 'S', ['f']]]\n",
      "0.388436\n",
      "[[True, 'S', ['h']], [True, 'F', ['h', 'a']], [False, 'S', ['a']]]"
     ]
    },
    {
     "name": "stderr",
     "output_type": "stream",
     "text": [
      "\r",
      "  0%|          | 1/2000 [00:03<2:09:51,  3.90s/it]"
     ]
    },
    {
     "name": "stdout",
     "output_type": "stream",
     "text": [
      "\n",
      "0.0116063\n",
      "[[True, 'S', ['h']], [True, 'F', ['h', 'b']], [False, 'S', ['b']]]\n",
      "0.153959\n",
      "[[True, 'S', ['h']], [True, 'F', ['h', 'd']], [False, 'S', ['d']]]\n",
      "0.0204971\n",
      "[[True, 'S', ['h']], [True, 'F', ['h', 'e']], [False, 'S', ['e']]]\n",
      "0.0116063\n",
      "[[True, 'S', ['h']], [True, 'F', ['h', 'f']], [False, 'S', ['f']]]\n",
      "0.0116063\n",
      "[[True, 'S', ['c']], [False, 'C', ['c']]]\n",
      "0.381207\n",
      "[[True, 'S', ['g']], [False, 'C', ['g']]]\n",
      "0.000254929\n",
      "[[True, 'S', ['h']], [False, 'C', ['h']]]\n",
      "0.901982\n",
      "87\n"
     ]
    },
    {
     "name": "stderr",
     "output_type": "stream",
     "text": [
      "  5%|▌         | 100/2000 [04:37<1:28:01,  2.78s/it]"
     ]
    },
    {
     "data": {
      "image/png": "[encoded data removed]",
      "text/plain": [
       "<matplotlib.figure.Figure at 0x1276f6d68>"
      ]
     },
     "metadata": {},
     "output_type": "display_data"
    },
    {
     "name": "stdout",
     "output_type": "stream",
     "text": [
      "[[False, 'S', ['a']]]\n",
      "1.6383e-05\n",
      "[[False, 'S', ['e']]]\n",
      "0.00558976\n",
      "[[False, 'S', ['f']]]\n",
      "0.041533\n",
      "[[False, 'S', ['g']]]\n",
      "7.27739e-07\n",
      "[[False, 'F', ['a', 'e']]]\n",
      "0.910461\n",
      "[[False, 'F', ['a', 'f']]]\n",
      "0.170064\n",
      "[[False, 'F', ['c', 'd']]]\n",
      "3.85153e-05\n",
      "[[False, 'F', ['e', 'f']]]\n",
      "0.00161628\n",
      "[[False, 'F', ['g', 'h']]]\n",
      "0.88201\n",
      "[[True, 'F', ['b', 'g']]]\n",
      "0.0917892\n",
      "[[True, 'F', ['e', 'e']]]\n",
      "3.69549e-06\n",
      "[[True, 'F', ['g', 'g']]]\n",
      "0.00569808\n",
      "[[True, 'F', ['a', 'b']], [False, 'F', ['b', 'a']]]\n",
      "0.00593908\n",
      "[[True, 'F', ['a', 'e']], [False, 'F', ['e', 'a']]]\n",
      "0.0895386\n",
      "[[True, 'F', ['a', 'f']], [False, 'F', ['f', 'a']]]\n",
      "0.829936\n",
      "[[True, 'F', ['c', 'b']], [False, 'F', ['b', 'c']]]\n",
      "0.744431\n",
      "[[True, 'F', ['g', 'b']], [False, 'F', ['b', 'g']]]\n",
      "0.908211\n",
      "[[True, 'F', ['g', 'd']], [False, 'F', ['d', 'g']]]\n",
      "0.487044\n",
      "[[True, 'F', ['h', 'g']], [False, 'F', ['g', 'h']]]\n",
      "0.88201\n",
      "[[False, 'F', ['b', 'a']], [False, 'F', ['b', 'b']], [False, 'F', ['b', 'c']], [False, 'F', ['b', 'd']], [False, 'F', ['b', 'e']], [False, 'F', ['b', 'f']], [False, 'F', ['b', 'g']], [False, 'F', ['b', 'h']]]\n",
      "0.908211\n",
      "[[False, 'F', ['c', 'a']], [False, 'F', ['c', 'b']], [False, 'F', ['c', 'c']], [False, 'F', ['c', 'd']], [False, 'F', ['c', 'e']], [False, 'F', ['c', 'f']], [False, 'F', ['c', 'g']], [False, 'F', ['c', 'h']]]\n",
      "0.255569\n",
      "[[False, 'F', ['d', 'a']], [False, 'F', ['d', 'b']], [False, 'F', ['d', 'c']], [False, 'F', ['d', 'd']], [False, 'F', ['d', 'e']], [False, 'F', ['d', 'f']], [False, 'F', ['d', 'g']], [False, 'F', ['d', 'h']]]\n",
      "0.00798594\n",
      "[[False, 'F', ['f', 'a']], [False, 'F', ['f', 'b']], [False, 'F', ['f', 'c']], [False, 'F', ['f', 'd']], [False, 'F', ['f', 'e']], [False, 'F', ['f', 'f']], [False, 'F', ['f', 'g']], [False, 'F', ['f', 'h']]]\n",
      "0.0166074\n"
     ]
    },
    {
     "name": "stderr",
     "output_type": "stream",
     "text": [
      "\r",
      "  5%|▌         | 101/2000 [04:41<1:28:16,  2.79s/it]"
     ]
    },
    {
     "name": "stdout",
     "output_type": "stream",
     "text": [
      "23\n"
     ]
    },
    {
     "name": "stderr",
     "output_type": "stream",
     "text": [
      " 10%|█         | 200/2000 [09:30<1:25:36,  2.85s/it]"
     ]
    },
    {
     "data": {
      "image/png": "[encoded data removed]",
      "text/plain": [
       "<matplotlib.figure.Figure at 0x11fe56978>"
      ]
     },
     "metadata": {},
     "output_type": "display_data"
    },
    {
     "name": "stdout",
     "output_type": "stream",
     "text": [
      "[[False, 'S', ['a']]]\n",
      "7.88915e-05\n",
      "[[False, 'S', ['e']]]\n",
      "3.51398e-05\n",
      "[[False, 'S', ['f']]]\n",
      "0.472353\n",
      "[[False, 'S', ['g']]]\n",
      "6.03533e-07\n",
      "[[False, 'F', ['a', 'b']]]\n",
      "0.0363996\n",
      "[[False, 'F', ['a', 'e']]]\n",
      "0.00736419\n",
      "[[False, 'F', ['c', 'd']]]\n",
      "1.24301e-06\n",
      "[[False, 'F', ['e', 'f']]]\n",
      "1.43235e-06\n",
      "[[True, 'F', ['b', 'g']]]\n",
      "0.000311255\n",
      "[[True, 'F', ['e', 'e']]]\n",
      "8.34465e-07\n",
      "[[True, 'F', ['g', 'g']]]\n",
      "0.000712335\n",
      "[[True, 'F', ['a', 'f']], [False, 'F', ['f', 'a']]]\n",
      "0.00221348\n",
      "[[False, 'F', ['c', 'a']], [False, 'F', ['c', 'b']], [False, 'F', ['c', 'c']], [False, 'F', ['c', 'd']], [False, 'F', ['c', 'e']], [False, 'F', ['c', 'f']], [False, 'F', ['c', 'g']], [False, 'F', ['c', 'h']]]\n",
      "0.00530065\n",
      "[[False, 'F', ['d', 'a']], [False, 'F', ['d', 'b']], [False, 'F', ['d', 'c']], [False, 'F', ['d', 'd']], [False, 'F', ['d', 'e']], [False, 'F', ['d', 'f']], [False, 'F', ['d', 'g']], [False, 'F', ['d', 'h']]]\n",
      "0.000633177\n",
      "[[False, 'F', ['f', 'a']], [False, 'F', ['f', 'b']], [False, 'F', ['f', 'c']], [False, 'F', ['f', 'd']], [False, 'F', ['f', 'e']], [False, 'F', ['f', 'f']], [False, 'F', ['f', 'g']], [False, 'F', ['f', 'h']]]\n",
      "0.000327483\n"
     ]
    },
    {
     "name": "stderr",
     "output_type": "stream",
     "text": [
      "\r",
      " 10%|█         | 201/2000 [09:35<1:25:50,  2.86s/it]"
     ]
    },
    {
     "name": "stdout",
     "output_type": "stream",
     "text": [
      "[[True, 'S', ['f']], [False, 'C', ['f']]]\n",
      "0.527647\n",
      "16\n"
     ]
    },
    {
     "name": "stderr",
     "output_type": "stream",
     "text": [
      " 15%|█▌        | 300/2000 [14:44<1:23:33,  2.95s/it]"
     ]
    },
    {
     "data": {
      "image/png": "[encoded data removed]",
      "text/plain": [
       "<matplotlib.figure.Figure at 0x11b615160>"
      ]
     },
     "metadata": {},
     "output_type": "display_data"
    },
    {
     "name": "stdout",
     "output_type": "stream",
     "text": [
      "[[False, 'S', ['a']]]\n",
      "1.32149e-05\n",
      "[[False, 'S', ['e']]]\n",
      "0.000348373\n",
      "[[False, 'S', ['f']]]\n",
      "0.426671\n",
      "[[False, 'S', ['g']]]\n",
      "3.00902e-09\n",
      "[[False, 'F', ['a', 'b']]]\n",
      "0.000439965\n",
      "[[False, 'F', ['a', 'e']]]\n",
      "0.00245821\n",
      "[[False, 'F', ['a', 'f']]]\n",
      "0.934413\n",
      "[[False, 'F', ['c', 'd']]]\n",
      "7.22235e-05\n",
      "[[False, 'F', ['e', 'f']]]\n",
      "3.57724e-05\n",
      "[[True, 'F', ['b', 'g']]]\n",
      "0.000267684\n",
      "[[True, 'F', ['e', 'e']]]\n",
      "3.48091e-05\n",
      "[[True, 'F', ['g', 'g']]]\n",
      "0.0924598\n",
      "[[True, 'F', ['a', 'f']], [False, 'F', ['f', 'a']]]\n",
      "0.065587\n",
      "[[True, 'F', ['g', 'g']], [False, 'F', ['g', 'g']]]\n",
      "0.90754\n",
      "[[False, 'F', ['c', 'a']], [False, 'F', ['c', 'b']], [False, 'F', ['c', 'c']], [False, 'F', ['c', 'd']], [False, 'F', ['c', 'e']], [False, 'F', ['c', 'f']], [False, 'F', ['c', 'g']], [False, 'F', ['c', 'h']]]\n",
      "0.000254675\n",
      "[[False, 'F', ['d', 'a']], [False, 'F', ['d', 'b']], [False, 'F', ['d', 'c']], [False, 'F', ['d', 'd']], [False, 'F', ['d', 'e']], [False, 'F', ['d', 'f']], [False, 'F', ['d', 'g']], [False, 'F', ['d', 'h']]]\n",
      "0.000373681\n",
      "[[False, 'F', ['f', 'a']], [False, 'F', ['f', 'b']], [False, 'F', ['f', 'c']], [False, 'F', ['f', 'd']], [False, 'F', ['f', 'e']], [False, 'F', ['f', 'f']], [False, 'F', ['f', 'g']], [False, 'F', ['f', 'h']]]\n",
      "0.000176389\n"
     ]
    },
    {
     "name": "stderr",
     "output_type": "stream",
     "text": [
      "\r",
      " 15%|█▌        | 301/2000 [14:48<1:23:35,  2.95s/it]"
     ]
    },
    {
     "name": "stdout",
     "output_type": "stream",
     "text": [
      "[[True, 'S', ['f']], [False, 'C', ['f']]]\n",
      "0.573329\n",
      "18\n"
     ]
    },
    {
     "name": "stderr",
     "output_type": "stream",
     "text": [
      " 20%|██        | 400/2000 [19:37<1:18:31,  2.94s/it]"
     ]
    },
    {
     "data": {
      "image/png": "[encoded data removed]",
      "text/plain": [
       "<matplotlib.figure.Figure at 0x1a3e9f6630>"
      ]
     },
     "metadata": {},
     "output_type": "display_data"
    },
    {
     "name": "stdout",
     "output_type": "stream",
     "text": [
      "[[False, 'S', ['g']]]\n",
      "0.00010243\n",
      "[[False, 'F', ['a', 'b']]]\n",
      "0.00792623\n",
      "[[False, 'F', ['a', 'e']]]\n",
      "9.95396e-06\n",
      "[[False, 'F', ['a', 'f']]]\n",
      "0.0431327\n",
      "[[False, 'F', ['c', 'd']]]\n",
      "0.416464\n",
      "[[False, 'F', ['e', 'f']]]\n",
      "6.73131e-08\n",
      "[[True, 'F', ['a', 'c']]]\n",
      "0.817809\n",
      "[[True, 'F', ['b', 'g']]]\n",
      "0.0210524\n",
      "[[False, 'C', ['a']]]\n",
      "0.00669361\n",
      "[[True, 'C', ['f']]]\n",
      "0.00232679\n",
      "[[True, 'C', ['g']]]\n",
      "0.0322184\n",
      "[[True, 'F', ['g', 'g']]]\n",
      "0.000481486\n",
      "[[True, 'F', ['a', 'c']], [False, 'F', ['c', 'a']]]\n",
      "0.817809\n",
      "[[True, 'F', ['c', 'a']], [False, 'F', ['a', 'c']]]\n",
      "0.623346\n",
      "[[True, 'F', ['c', 'd']], [False, 'F', ['d', 'c']]]\n",
      "0.583536\n",
      "[[True, 'F', ['g', 'f']], [False, 'F', ['f', 'g']]]\n",
      "0.0441189\n",
      "[[False, 'F', ['c', 'a']], [False, 'F', ['c', 'b']], [False, 'F', ['c', 'c']], [False, 'F', ['c', 'd']], [False, 'F', ['c', 'e']], [False, 'F', ['c', 'f']], [False, 'F', ['c', 'g']], [False, 'F', ['c', 'h']]]\n",
      "0.416464\n",
      "[[False, 'F', ['d', 'a']], [False, 'F', ['d', 'b']], [False, 'F', ['d', 'c']], [False, 'F', ['d', 'd']], [False, 'F', ['d', 'e']], [False, 'F', ['d', 'f']], [False, 'F', ['d', 'g']], [False, 'F', ['d', 'h']]]\n",
      "0.00117003\n",
      "[[False, 'F', ['e', 'a']], [False, 'F', ['e', 'b']], [False, 'F', ['e', 'c']], [False, 'F', ['e', 'd']], [False, 'F', ['e', 'e']], [False, 'F', ['e', 'f']], [False, 'F', ['e', 'g']], [False, 'F', ['e', 'h']]]\n",
      "0.0288939\n",
      "[[False, 'F', ['f', 'a']], [False, 'F', ['f', 'b']], [False, 'F', ['f', 'c']], [False, 'F', ['f', 'd']], [False, 'F', ['f', 'e']], [False, 'F', ['f', 'f']], [False, 'F', ['f', 'g']], [False, 'F', ['f', 'h']]]\n",
      "0.00546079\n",
      "[[True, 'S', ['a']], [True, 'F', ['a', 'c']], [False, 'S', ['c']]]\n",
      "0.817809\n",
      "[[True, 'S', ['a']], [True, 'F', ['a', 'g']], [False, 'S', ['g']]]\n",
      "0.00672024\n"
     ]
    },
    {
     "name": "stderr",
     "output_type": "stream",
     "text": [
      "\r",
      " 20%|██        | 401/2000 [19:41<1:18:30,  2.95s/it]"
     ]
    },
    {
     "name": "stdout",
     "output_type": "stream",
     "text": [
      "[[True, 'S', ['a']], [False, 'C', ['a']]]\n",
      "0.00669361\n",
      "23\n"
     ]
    },
    {
     "name": "stderr",
     "output_type": "stream",
     "text": [
      " 25%|██▌       | 500/2000 [24:35<1:13:47,  2.95s/it]"
     ]
    },
    {
     "data": {
      "image/png": "[encoded data removed]",
      "text/plain": [
       "<matplotlib.figure.Figure at 0x1a3b7d2cf8>"
      ]
     },
     "metadata": {},
     "output_type": "display_data"
    },
    {
     "name": "stdout",
     "output_type": "stream",
     "text": [
      "[[False, 'S', ['a']]]\n",
      "0.0289382\n",
      "[[False, 'S', ['g']]]\n",
      "5.08433e-11\n",
      "[[False, 'F', ['a', 'b']]]\n",
      "5.94822e-12\n",
      "[[False, 'F', ['a', 'e']]]\n",
      "1.59119e-08\n",
      "[[False, 'F', ['a', 'g']]]\n",
      "0.00249976\n",
      "[[False, 'F', ['e', 'f']]]\n",
      "0.00270202\n",
      "[[False, 'C', ['a']]]\n",
      "4.06431e-06\n",
      "[[True, 'C', ['f']]]\n",
      "2.38419e-07\n",
      "[[True, 'F', ['a', 'f']], [False, 'F', ['f', 'a']]]\n",
      "0.000108361\n",
      "[[True, 'F', ['c', 'd']], [False, 'F', ['d', 'c']]]\n",
      "4.48227e-05\n",
      "[[False, 'F', ['b', 'a']], [False, 'F', ['b', 'b']], [False, 'F', ['b', 'c']], [False, 'F', ['b', 'd']], [False, 'F', ['b', 'e']], [False, 'F', ['b', 'f']], [False, 'F', ['b', 'g']], [False, 'F', ['b', 'h']]]\n",
      "0.000449179\n",
      "[[False, 'F', ['d', 'a']], [False, 'F', ['d', 'b']], [False, 'F', ['d', 'c']], [False, 'F', ['d', 'd']], [False, 'F', ['d', 'e']], [False, 'F', ['d', 'f']], [False, 'F', ['d', 'g']], [False, 'F', ['d', 'h']]]\n",
      "0.0220889\n",
      "[[False, 'F', ['e', 'a']], [False, 'F', ['e', 'b']], [False, 'F', ['e', 'c']], [False, 'F', ['e', 'd']], [False, 'F', ['e', 'e']], [False, 'F', ['e', 'f']], [False, 'F', ['e', 'g']], [False, 'F', ['e', 'h']]]\n",
      "0.00270202\n",
      "[[False, 'F', ['f', 'a']], [False, 'F', ['f', 'b']], [False, 'F', ['f', 'c']], [False, 'F', ['f', 'd']], [False, 'F', ['f', 'e']], [False, 'F', ['f', 'f']], [False, 'F', ['f', 'g']], [False, 'F', ['f', 'h']]]\n",
      "2.40839e-07\n"
     ]
    },
    {
     "name": "stderr",
     "output_type": "stream",
     "text": [
      "\r",
      " 25%|██▌       | 501/2000 [24:39<1:13:47,  2.95s/it]"
     ]
    },
    {
     "name": "stdout",
     "output_type": "stream",
     "text": [
      "14\n"
     ]
    },
    {
     "name": "stderr",
     "output_type": "stream",
     "text": [
      " 30%|███       | 600/2000 [29:42<1:09:19,  2.97s/it]"
     ]
    },
    {
     "data": {
      "image/png": "[encoded data removed]",
      "text/plain": [
       "<matplotlib.figure.Figure at 0x1a431edb38>"
      ]
     },
     "metadata": {},
     "output_type": "display_data"
    },
    {
     "name": "stdout",
     "output_type": "stream",
     "text": [
      "[[False, 'S', ['a']]]\n",
      "0.0113635\n",
      "[[False, 'S', ['g']]]\n",
      "2.00866e-11\n",
      "[[False, 'F', ['a', 'b']]]\n",
      "7.17056e-11\n",
      "[[False, 'F', ['a', 'e']]]\n",
      "3.90246e-07\n",
      "[[False, 'F', ['a', 'g']]]\n",
      "1.43105e-06\n",
      "[[False, 'C', ['a']]]\n",
      "2.33775e-05\n",
      "[[True, 'C', ['f']]]\n",
      "0.000250757\n",
      "[[True, 'F', ['a', 'f']], [False, 'F', ['f', 'a']]]\n",
      "0.000168204\n",
      "[[True, 'F', ['c', 'd']], [False, 'F', ['d', 'c']]]\n",
      "0.000117302\n",
      "[[True, 'F', ['e', 'f']], [False, 'F', ['f', 'e']]]\n",
      "0.000260174\n",
      "[[False, 'F', ['b', 'a']], [False, 'F', ['b', 'b']], [False, 'F', ['b', 'c']], [False, 'F', ['b', 'd']], [False, 'F', ['b', 'e']], [False, 'F', ['b', 'f']], [False, 'F', ['b', 'g']], [False, 'F', ['b', 'h']]]\n",
      "0.000279996\n",
      "[[False, 'F', ['d', 'a']], [False, 'F', ['d', 'b']], [False, 'F', ['d', 'c']], [False, 'F', ['d', 'd']], [False, 'F', ['d', 'e']], [False, 'F', ['d', 'f']], [False, 'F', ['d', 'g']], [False, 'F', ['d', 'h']]]\n",
      "0.000807931\n",
      "[[False, 'F', ['f', 'a']], [False, 'F', ['f', 'b']], [False, 'F', ['f', 'c']], [False, 'F', ['f', 'd']], [False, 'F', ['f', 'e']], [False, 'F', ['f', 'f']], [False, 'F', ['f', 'g']], [False, 'F', ['f', 'h']]]\n",
      "0.00010415\n"
     ]
    },
    {
     "name": "stderr",
     "output_type": "stream",
     "text": [
      "\r",
      " 30%|███       | 601/2000 [29:48<1:09:23,  2.98s/it]"
     ]
    },
    {
     "name": "stdout",
     "output_type": "stream",
     "text": [
      "13\n"
     ]
    },
    {
     "name": "stderr",
     "output_type": "stream",
     "text": [
      " 35%|███▌      | 700/2000 [34:37<1:04:18,  2.97s/it]"
     ]
    },
    {
     "data": {
      "image/png": "[encoded data removed]",
      "text/plain": [
       "<matplotlib.figure.Figure at 0x1a465f1cf8>"
      ]
     },
     "metadata": {},
     "output_type": "display_data"
    },
    {
     "name": "stdout",
     "output_type": "stream",
     "text": [
      "[[False, 'S', ['a']]]\n",
      "0.726306\n",
      "[[False, 'S', ['g']]]\n",
      "8.9028e-09\n",
      "[[False, 'F', ['a', 'b']]]\n",
      "7.23624e-14\n",
      "[[False, 'F', ['a', 'e']]]\n",
      "5.07333e-07\n",
      "[[False, 'F', ['a', 'g']]]\n",
      "1.54186e-06\n",
      "[[False, 'C', ['a']]]\n",
      "0.00014744\n",
      "[[True, 'C', ['f']]]\n",
      "4.27961e-05\n",
      "[[True, 'F', ['a', 'f']], [False, 'F', ['f', 'a']]]\n",
      "0.000255287\n",
      "[[True, 'F', ['c', 'd']], [False, 'F', ['d', 'c']]]\n",
      "0.000215948\n",
      "[[True, 'F', ['e', 'f']], [False, 'F', ['f', 'e']]]\n",
      "5.00679e-06\n",
      "[[False, 'F', ['b', 'a']], [False, 'F', ['b', 'b']], [False, 'F', ['b', 'c']], [False, 'F', ['b', 'd']], [False, 'F', ['b', 'e']], [False, 'F', ['b', 'f']], [False, 'F', ['b', 'g']], [False, 'F', ['b', 'h']]]\n",
      "4.4316e-05\n",
      "[[False, 'F', ['d', 'a']], [False, 'F', ['d', 'b']], [False, 'F', ['d', 'c']], [False, 'F', ['d', 'd']], [False, 'F', ['d', 'e']], [False, 'F', ['d', 'f']], [False, 'F', ['d', 'g']], [False, 'F', ['d', 'h']]]\n",
      "9.8185e-05\n",
      "[[False, 'F', ['f', 'a']], [False, 'F', ['f', 'b']], [False, 'F', ['f', 'c']], [False, 'F', ['f', 'd']], [False, 'F', ['f', 'e']], [False, 'F', ['f', 'f']], [False, 'F', ['f', 'g']], [False, 'F', ['f', 'h']]]\n",
      "6.79613e-05\n"
     ]
    },
    {
     "name": "stderr",
     "output_type": "stream",
     "text": [
      "\r",
      " 35%|███▌      | 701/2000 [34:41<1:04:17,  2.97s/it]"
     ]
    },
    {
     "name": "stdout",
     "output_type": "stream",
     "text": [
      "[[True, 'S', ['a']], [False, 'C', ['a']]]\n",
      "0.273694\n",
      "14\n"
     ]
    },
    {
     "name": "stderr",
     "output_type": "stream",
     "text": [
      " 40%|████      | 800/2000 [39:17<58:56,  2.95s/it]  "
     ]
    },
    {
     "data": {
      "image/png": "[encoded data removed]",
      "text/plain": [
       "<matplotlib.figure.Figure at 0x1a3ea4fd30>"
      ]
     },
     "metadata": {},
     "output_type": "display_data"
    },
    {
     "name": "stdout",
     "output_type": "stream",
     "text": [
      "[[False, 'S', ['g']]]\n",
      "1.56842e-09\n",
      "[[False, 'F', ['a', 'b']]]\n",
      "2.69724e-09\n",
      "[[False, 'F', ['a', 'e']]]\n",
      "4.52193e-08\n",
      "[[False, 'F', ['a', 'g']]]\n",
      "3.12779e-05\n",
      "[[True, 'C', ['f']]]\n",
      "0.00081414\n",
      "[[True, 'F', ['a', 'f']], [False, 'F', ['f', 'a']]]\n",
      "0.000363827\n",
      "[[True, 'F', ['c', 'd']], [False, 'F', ['d', 'c']]]\n",
      "0.000183642\n",
      "[[True, 'F', ['e', 'f']], [False, 'F', ['f', 'e']]]\n",
      "0.00014019\n",
      "[[False, 'F', ['b', 'a']], [False, 'F', ['b', 'b']], [False, 'F', ['b', 'c']], [False, 'F', ['b', 'd']], [False, 'F', ['b', 'e']], [False, 'F', ['b', 'f']], [False, 'F', ['b', 'g']], [False, 'F', ['b', 'h']]]\n",
      "0.0130919\n",
      "[[False, 'F', ['d', 'a']], [False, 'F', ['d', 'b']], [False, 'F', ['d', 'c']], [False, 'F', ['d', 'd']], [False, 'F', ['d', 'e']], [False, 'F', ['d', 'f']], [False, 'F', ['d', 'g']], [False, 'F', ['d', 'h']]]\n",
      "4.80773e-05\n",
      "[[False, 'F', ['f', 'a']], [False, 'F', ['f', 'b']], [False, 'F', ['f', 'c']], [False, 'F', ['f', 'd']], [False, 'F', ['f', 'e']], [False, 'F', ['f', 'f']], [False, 'F', ['f', 'g']], [False, 'F', ['f', 'h']]]\n",
      "1.09213e-05\n"
     ]
    },
    {
     "name": "stderr",
     "output_type": "stream",
     "text": [
      "\r",
      " 40%|████      | 801/2000 [39:21<58:54,  2.95s/it]"
     ]
    },
    {
     "name": "stdout",
     "output_type": "stream",
     "text": [
      "11\n"
     ]
    },
    {
     "name": "stderr",
     "output_type": "stream",
     "text": [
      " 45%|████▌     | 900/2000 [44:04<53:52,  2.94s/it]"
     ]
    },
    {
     "data": {
      "image/png": "[encoded data removed]",
      "text/plain": [
       "<matplotlib.figure.Figure at 0x1a3ef43ac8>"
      ]
     },
     "metadata": {},
     "output_type": "display_data"
    },
    {
     "name": "stdout",
     "output_type": "stream",
     "text": [
      "[[False, 'S', ['g']]]\n",
      "1.40489e-06\n",
      "[[False, 'F', ['a', 'b']]]\n",
      "2.0957e-05\n",
      "[[False, 'F', ['a', 'e']]]\n",
      "2.2317e-05\n",
      "[[False, 'F', ['a', 'g']]]\n",
      "4.21276e-05\n",
      "[[True, 'C', ['f']]]\n",
      "0.26876\n",
      "[[True, 'F', ['a', 'f']], [False, 'F', ['f', 'a']]]\n",
      "0.000208795\n",
      "[[True, 'F', ['c', 'd']], [False, 'F', ['d', 'c']]]\n",
      "0.000396192\n",
      "[[True, 'F', ['e', 'f']], [False, 'F', ['f', 'e']]]\n",
      "0.000217378\n",
      "[[False, 'F', ['b', 'a']], [False, 'F', ['b', 'b']], [False, 'F', ['b', 'c']], [False, 'F', ['b', 'd']], [False, 'F', ['b', 'e']], [False, 'F', ['b', 'f']], [False, 'F', ['b', 'g']], [False, 'F', ['b', 'h']]]\n",
      "0.000273247\n",
      "[[False, 'F', ['d', 'a']], [False, 'F', ['d', 'b']], [False, 'F', ['d', 'c']], [False, 'F', ['d', 'd']], [False, 'F', ['d', 'e']], [False, 'F', ['d', 'f']], [False, 'F', ['d', 'g']], [False, 'F', ['d', 'h']]]\n",
      "5.06046e-05\n",
      "[[False, 'F', ['f', 'a']], [False, 'F', ['f', 'b']], [False, 'F', ['f', 'c']], [False, 'F', ['f', 'd']], [False, 'F', ['f', 'e']], [False, 'F', ['f', 'f']], [False, 'F', ['f', 'g']], [False, 'F', ['f', 'h']]]\n",
      "0.000132803\n"
     ]
    },
    {
     "name": "stderr",
     "output_type": "stream",
     "text": [
      "\r",
      " 45%|████▌     | 901/2000 [44:08<53:50,  2.94s/it]"
     ]
    },
    {
     "name": "stdout",
     "output_type": "stream",
     "text": [
      "[[True, 'S', ['f']], [False, 'C', ['f']]]\n",
      "0.73124\n",
      "12\n"
     ]
    },
    {
     "name": "stderr",
     "output_type": "stream",
     "text": [
      " 50%|█████     | 1000/2000 [48:51<48:51,  2.93s/it]"
     ]
    },
    {
     "data": {
      "image/png": "[encoded data removed]",
      "text/plain": [
       "<matplotlib.figure.Figure at 0x126cc5828>"
      ]
     },
     "metadata": {},
     "output_type": "display_data"
    },
    {
     "name": "stdout",
     "output_type": "stream",
     "text": [
      "[[False, 'S', ['g']]]\n",
      "8.50818e-05\n",
      "[[False, 'F', ['a', 'b']]]\n",
      "1.12748e-05\n",
      "[[False, 'F', ['a', 'e']]]\n",
      "1.78132e-05\n",
      "[[False, 'F', ['a', 'g']]]\n",
      "3.96059e-05\n",
      "[[True, 'C', ['f']]]\n",
      "0.922118\n",
      "[[True, 'F', ['a', 'f']], [False, 'F', ['f', 'a']]]\n",
      "0.000262558\n",
      "[[True, 'F', ['c', 'd']], [False, 'F', ['d', 'c']]]\n",
      "0.000473619\n",
      "[[True, 'F', ['e', 'f']], [False, 'F', ['f', 'e']]]\n",
      "0.000243723\n",
      "[[False, 'F', ['b', 'a']], [False, 'F', ['b', 'b']], [False, 'F', ['b', 'c']], [False, 'F', ['b', 'd']], [False, 'F', ['b', 'e']], [False, 'F', ['b', 'f']], [False, 'F', ['b', 'g']], [False, 'F', ['b', 'h']]]\n",
      "4.41205e-05\n",
      "[[False, 'F', ['d', 'a']], [False, 'F', ['d', 'b']], [False, 'F', ['d', 'c']], [False, 'F', ['d', 'd']], [False, 'F', ['d', 'e']], [False, 'F', ['d', 'f']], [False, 'F', ['d', 'g']], [False, 'F', ['d', 'h']]]\n",
      "3.30372e-05\n",
      "[[False, 'F', ['f', 'a']], [False, 'F', ['f', 'b']], [False, 'F', ['f', 'c']], [False, 'F', ['f', 'd']], [False, 'F', ['f', 'e']], [False, 'F', ['f', 'f']], [False, 'F', ['f', 'g']], [False, 'F', ['f', 'h']]]\n",
      "9.94896e-05\n"
     ]
    },
    {
     "name": "stderr",
     "output_type": "stream",
     "text": [
      "\r",
      " 50%|█████     | 1001/2000 [48:55<48:49,  2.93s/it]"
     ]
    },
    {
     "name": "stdout",
     "output_type": "stream",
     "text": [
      "[[True, 'S', ['f']], [False, 'C', ['f']]]\n",
      "0.0778815\n",
      "12\n"
     ]
    },
    {
     "name": "stderr",
     "output_type": "stream",
     "text": [
      " 55%|█████▌    | 1100/2000 [53:41<43:55,  2.93s/it]"
     ]
    },
    {
     "data": {
      "image/png": "[encoded data removed]",
      "text/plain": [
       "<matplotlib.figure.Figure at 0x1a3b145668>"
      ]
     },
     "metadata": {},
     "output_type": "display_data"
    },
    {
     "name": "stdout",
     "output_type": "stream",
     "text": [
      "[[False, 'S', ['g']]]\n",
      "8.51672e-05\n",
      "[[False, 'F', ['a', 'b']]]\n",
      "1.12575e-05\n",
      "[[False, 'F', ['a', 'e']]]\n",
      "1.71817e-05\n",
      "[[False, 'F', ['a', 'g']]]\n",
      "5.03181e-05\n",
      "[[True, 'F', ['a', 'f']], [False, 'F', ['f', 'a']]]\n",
      "0.000235975\n",
      "[[True, 'F', ['c', 'd']], [False, 'F', ['d', 'c']]]\n",
      "0.000449955\n",
      "[[True, 'F', ['e', 'f']], [False, 'F', ['f', 'e']]]\n",
      "0.000226557\n",
      "[[False, 'F', ['b', 'a']], [False, 'F', ['b', 'b']], [False, 'F', ['b', 'c']], [False, 'F', ['b', 'd']], [False, 'F', ['b', 'e']], [False, 'F', ['b', 'f']], [False, 'F', ['b', 'g']], [False, 'F', ['b', 'h']]]\n",
      "3.75572e-05\n",
      "[[False, 'F', ['d', 'a']], [False, 'F', ['d', 'b']], [False, 'F', ['d', 'c']], [False, 'F', ['d', 'd']], [False, 'F', ['d', 'e']], [False, 'F', ['d', 'f']], [False, 'F', ['d', 'g']], [False, 'F', ['d', 'h']]]\n",
      "2.46868e-05\n",
      "[[False, 'F', ['f', 'a']], [False, 'F', ['f', 'b']], [False, 'F', ['f', 'c']], [False, 'F', ['f', 'd']], [False, 'F', ['f', 'e']], [False, 'F', ['f', 'f']], [False, 'F', ['f', 'g']], [False, 'F', ['f', 'h']]]"
     ]
    },
    {
     "name": "stderr",
     "output_type": "stream",
     "text": [
      "\r",
      " 55%|█████▌    | 1101/2000 [53:45<43:53,  2.93s/it]"
     ]
    },
    {
     "name": "stdout",
     "output_type": "stream",
     "text": [
      "\n",
      "8.39057e-05\n",
      "[[True, 'S', ['f']], [False, 'C', ['f']]]\n",
      "0.011164\n",
      "11\n"
     ]
    },
    {
     "name": "stderr",
     "output_type": "stream",
     "text": [
      " 60%|██████    | 1200/2000 [59:01<39:21,  2.95s/it]"
     ]
    },
    {
     "data": {
      "image/png": "[encoded data removed]",
      "text/plain": [
       "<matplotlib.figure.Figure at 0x1a3c242c88>"
      ]
     },
     "metadata": {},
     "output_type": "display_data"
    },
    {
     "name": "stdout",
     "output_type": "stream",
     "text": [
      "[[False, 'S', ['g']]]\n",
      "8.19643e-05\n",
      "[[False, 'F', ['a', 'b']]]\n",
      "1.03324e-05\n",
      "[[False, 'F', ['a', 'e']]]\n",
      "1.48715e-05\n",
      "[[False, 'F', ['a', 'g']]]\n",
      "5.13764e-05\n",
      "[[True, 'F', ['a', 'f']], [False, 'F', ['f', 'a']]]\n",
      "0.000218451\n",
      "[[True, 'F', ['c', 'd']], [False, 'F', ['d', 'c']]]\n",
      "0.000424445\n",
      "[[True, 'F', ['e', 'f']], [False, 'F', ['f', 'e']]]\n",
      "0.000222385\n",
      "[[False, 'F', ['b', 'a']], [False, 'F', ['b', 'b']], [False, 'F', ['b', 'c']], [False, 'F', ['b', 'd']], [False, 'F', ['b', 'e']], [False, 'F', ['b', 'f']], [False, 'F', ['b', 'g']], [False, 'F', ['b', 'h']]]\n",
      "3.62402e-05\n",
      "[[False, 'F', ['d', 'a']], [False, 'F', ['d', 'b']], [False, 'F', ['d', 'c']], [False, 'F', ['d', 'd']], [False, 'F', ['d', 'e']], [False, 'F', ['d', 'f']], [False, 'F', ['d', 'g']], [False, 'F', ['d', 'h']]]\n",
      "2.90167e-05\n",
      "[[False, 'F', ['f', 'a']], [False, 'F', ['f', 'b']], [False, 'F', ['f', 'c']], [False, 'F', ['f', 'd']], [False, 'F', ['f', 'e']], [False, 'F', ['f', 'f']], [False, 'F', ['f', 'g']], [False, 'F', ['f', 'h']]]\n",
      "8.33875e-05\n"
     ]
    },
    {
     "name": "stderr",
     "output_type": "stream",
     "text": [
      "\r",
      " 60%|██████    | 1201/2000 [59:06<39:19,  2.95s/it]"
     ]
    },
    {
     "name": "stdout",
     "output_type": "stream",
     "text": [
      "[[True, 'S', ['f']], [False, 'C', ['f']]]\n",
      "0.00429967\n",
      "11\n"
     ]
    },
    {
     "name": "stderr",
     "output_type": "stream",
     "text": [
      " 64%|██████▎   | 1270/2000 [1:03:24<36:26,  3.00s/it]"
     ]
    },
    {
     "ename": "KeyboardInterrupt",
     "evalue": "",
     "output_type": "error",
     "traceback": [
      "\u001b[0;31m---------------------------------------------------------------------------\u001b[0m",
      "\u001b[0;31mKeyboardInterrupt\u001b[0m                         Traceback (most recent call last)",
      "\u001b[0;32m<ipython-input-1471-06e3e008dd53>\u001b[0m in \u001b[0;36m<module>\u001b[0;34m()\u001b[0m\n\u001b[1;32m      8\u001b[0m     \u001b[0;32mfor\u001b[0m \u001b[0mf\u001b[0m \u001b[0;32min\u001b[0m \u001b[0mfacts\u001b[0m\u001b[0;34m:\u001b[0m\u001b[0;34m\u001b[0m\u001b[0m\n\u001b[1;32m      9\u001b[0m         \u001b[0mlog\u001b[0m\u001b[0;34m,\u001b[0m\u001b[0mprob\u001b[0m\u001b[0;34m=\u001b[0m\u001b[0mltn\u001b[0m\u001b[0;34m.\u001b[0m\u001b[0mforward\u001b[0m\u001b[0;34m(\u001b[0m\u001b[0mclause\u001b[0m\u001b[0;34m=\u001b[0m\u001b[0mf\u001b[0m\u001b[0;34m)\u001b[0m\u001b[0;34m\u001b[0m\u001b[0m\n\u001b[0;32m---> 10\u001b[0;31m         \u001b[0mprob\u001b[0m\u001b[0;34m.\u001b[0m\u001b[0mbackward\u001b[0m\u001b[0;34m(\u001b[0m\u001b[0mmone\u001b[0m\u001b[0;34m)\u001b[0m\u001b[0;34m\u001b[0m\u001b[0m\n\u001b[0m\u001b[1;32m     11\u001b[0m         \u001b[0mtotal_probability\u001b[0m\u001b[0;34m+=\u001b[0m\u001b[0mprob\u001b[0m\u001b[0;34m.\u001b[0m\u001b[0mdata\u001b[0m\u001b[0;34m.\u001b[0m\u001b[0mnumpy\u001b[0m\u001b[0;34m(\u001b[0m\u001b[0;34m)\u001b[0m\u001b[0;34m[\u001b[0m\u001b[0;36m0\u001b[0m\u001b[0;34m]\u001b[0m\u001b[0;34m\u001b[0m\u001b[0m\n\u001b[1;32m     12\u001b[0m     \u001b[0moptimizor\u001b[0m\u001b[0;34m.\u001b[0m\u001b[0mstep\u001b[0m\u001b[0;34m(\u001b[0m\u001b[0;34m)\u001b[0m\u001b[0;34m\u001b[0m\u001b[0m\n",
      "\u001b[0;32m~/anaconda3/lib/python3.6/site-packages/torch/autograd/variable.py\u001b[0m in \u001b[0;36mbackward\u001b[0;34m(self, gradient, retain_graph, create_graph, retain_variables)\u001b[0m\n\u001b[1;32m    154\u001b[0m                 \u001b[0mVariable\u001b[0m\u001b[0;34m.\u001b[0m\u001b[0;34m\u001b[0m\u001b[0m\n\u001b[1;32m    155\u001b[0m         \"\"\"\n\u001b[0;32m--> 156\u001b[0;31m         \u001b[0mtorch\u001b[0m\u001b[0;34m.\u001b[0m\u001b[0mautograd\u001b[0m\u001b[0;34m.\u001b[0m\u001b[0mbackward\u001b[0m\u001b[0;34m(\u001b[0m\u001b[0mself\u001b[0m\u001b[0;34m,\u001b[0m \u001b[0mgradient\u001b[0m\u001b[0;34m,\u001b[0m \u001b[0mretain_graph\u001b[0m\u001b[0;34m,\u001b[0m \u001b[0mcreate_graph\u001b[0m\u001b[0;34m,\u001b[0m \u001b[0mretain_variables\u001b[0m\u001b[0;34m)\u001b[0m\u001b[0;34m\u001b[0m\u001b[0m\n\u001b[0m\u001b[1;32m    157\u001b[0m \u001b[0;34m\u001b[0m\u001b[0m\n\u001b[1;32m    158\u001b[0m     \u001b[0;32mdef\u001b[0m \u001b[0mregister_hook\u001b[0m\u001b[0;34m(\u001b[0m\u001b[0mself\u001b[0m\u001b[0;34m,\u001b[0m \u001b[0mhook\u001b[0m\u001b[0;34m)\u001b[0m\u001b[0;34m:\u001b[0m\u001b[0;34m\u001b[0m\u001b[0m\n",
      "\u001b[0;32m~/anaconda3/lib/python3.6/site-packages/torch/autograd/__init__.py\u001b[0m in \u001b[0;36mbackward\u001b[0;34m(variables, grad_variables, retain_graph, create_graph, retain_variables)\u001b[0m\n\u001b[1;32m     96\u001b[0m \u001b[0;34m\u001b[0m\u001b[0m\n\u001b[1;32m     97\u001b[0m     Variable._execution_engine.run_backward(\n\u001b[0;32m---> 98\u001b[0;31m         variables, grad_variables, retain_graph)\n\u001b[0m\u001b[1;32m     99\u001b[0m \u001b[0;34m\u001b[0m\u001b[0m\n\u001b[1;32m    100\u001b[0m \u001b[0;34m\u001b[0m\u001b[0m\n",
      "\u001b[0;31mKeyboardInterrupt\u001b[0m: "
     ]
    }
   ],
   "source": [
    "ltn=LTN2(emb_dim,'abcdefghijklmn',[['S',1],['F',2],['C',1]])\n",
    "optimizor=torch.optim.Adam(ltn.parameters(),lr=0.1,weight_decay=0.1)\n",
    "mone=torch.FloatTensor([-1])\n",
    "errs=[]\n",
    "for i in tqdm(range(2000)):\n",
    "    optimizor.zero_grad()\n",
    "    total_probability=0\n",
    "    for f in facts:\n",
    "        log,prob=ltn.forward(clause=f)\n",
    "        prob.backward(mone)\n",
    "        total_probability+=prob.data.numpy()[0]\n",
    "    optimizor.step()\n",
    "    errs.append(total_probability/len(facts))\n",
    "    if i%100==0:\n",
    "        plt.plot(errs)\n",
    "        plt.show()\n",
    "        show_results(facts)"
   ]
  },
  {
   "cell_type": "code",
   "execution_count": 1339,
   "metadata": {},
   "outputs": [
    {
     "name": "stdout",
     "output_type": "stream",
     "text": [
      "[False, 'S', ['g']]\n",
      "0.00163262\n",
      "1\n"
     ]
    }
   ],
   "source": [
    "show_results(facts)"
   ]
  },
  {
   "cell_type": "code",
   "execution_count": 1445,
   "metadata": {},
   "outputs": [
    {
     "data": {
      "text/plain": [
       "(Variable containing:\n",
       " 1.00000e-04 *\n",
       "  -1.0580\n",
       " [torch.FloatTensor of size 1], Variable containing:\n",
       "  0.9999\n",
       " [torch.FloatTensor of size 1])"
      ]
     },
     "execution_count": 1445,
     "metadata": {},
     "output_type": "execute_result"
    }
   ],
   "source": [
    "ltn.forward(clause=[[True,'C',['f']]])"
   ]
  },
  {
   "cell_type": "code",
   "execution_count": 1446,
   "metadata": {},
   "outputs": [
    {
     "data": {
      "text/plain": [
       "(Variable containing:\n",
       " 1.00000e-04 *\n",
       "  -1.6870\n",
       " [torch.FloatTensor of size 1], Variable containing:\n",
       "  0.9998\n",
       " [torch.FloatTensor of size 1])"
      ]
     },
     "execution_count": 1446,
     "metadata": {},
     "output_type": "execute_result"
    }
   ],
   "source": [
    "ltn.forward(clause=[[False,'S',['f']]])"
   ]
  },
  {
   "cell_type": "code",
   "execution_count": 1448,
   "metadata": {},
   "outputs": [
    {
     "data": {
      "text/plain": [
       "(Variable containing:\n",
       " -8.6875\n",
       " [torch.FloatTensor of size 1], Variable containing:\n",
       " 1.00000e-04 *\n",
       "   1.6868\n",
       " [torch.FloatTensor of size 1])"
      ]
     },
     "execution_count": 1448,
     "metadata": {},
     "output_type": "execute_result"
    }
   ],
   "source": [
    "ltn.forward(clause=[[True,'S',['f']],[False,'C',['f']]])"
   ]
  },
  {
   "cell_type": "code",
   "execution_count": 1465,
   "metadata": {},
   "outputs": [
    {
     "data": {
      "text/plain": [
       "True"
      ]
     },
     "execution_count": 1465,
     "metadata": {},
     "output_type": "execute_result"
    }
   ],
   "source": [
    "[[True,'S',['f']],[False,'C',['f']]] in facts"
   ]
  },
  {
   "cell_type": "code",
   "execution_count": 1453,
   "metadata": {},
   "outputs": [
    {
     "data": {
      "text/plain": [
       "[[['all', 'x']], [[True, 'S', ['x']], [True, 'C', ['x']]]]"
      ]
     },
     "execution_count": 1453,
     "metadata": {},
     "output_type": "execute_result"
    }
   ],
   "source": [
    "knowledges[-1]"
   ]
  },
  {
   "cell_type": "code",
   "execution_count": 1464,
   "metadata": {},
   "outputs": [
    {
     "data": {
      "text/plain": [
       "[[[True, 'S', ['a']], [False, 'C', ['a']]],\n",
       " [[True, 'S', ['b']], [False, 'C', ['b']]],\n",
       " [[True, 'S', ['c']], [False, 'C', ['c']]],\n",
       " [[True, 'S', ['d']], [False, 'C', ['d']]],\n",
       " [[True, 'S', ['e']], [False, 'C', ['e']]],\n",
       " [[True, 'S', ['f']], [False, 'C', ['f']]],\n",
       " [[True, 'S', ['g']], [False, 'C', ['g']]],\n",
       " [[True, 'S', ['h']], [False, 'C', ['h']]]]"
      ]
     },
     "execution_count": 1464,
     "metadata": {},
     "output_type": "execute_result"
    }
   ],
   "source": [
    "construct_fact_from_knowledge(knowledges[-1:],constants='abcdefgh')"
   ]
  }
 ],
 "metadata": {
  "kernelspec": {
   "display_name": "Python 3",
   "language": "python",
   "name": "python3"
  },
  "language_info": {
   "codemirror_mode": {
    "name": "ipython",
    "version": 3
   },
   "file_extension": ".py",
   "mimetype": "text/x-python",
   "name": "python",
   "nbconvert_exporter": "python",
   "pygments_lexer": "ipython3",
   "version": "3.6.2"
  }
 },
 "nbformat": 4,
 "nbformat_minor": 2
}
