{
 "cells": [
  {
   "cell_type": "code",
   "execution_count": 13,
   "metadata": {
    "collapsed": true
   },
   "outputs": [],
   "source": [
    "import torch\n",
    "import torch.nn as nn\n",
    "from torch.autograd import Variable\n",
    "import torch.optim as optim\n",
    "from matplotlib import pyplot as plt\n",
    "import seaborn as sns\n",
    "from tqdm import tqdm\n",
    "import copy\n",
    "from utils import Predicate,Clause,KnowledgeBase, Propositional\n",
    "from utils import load_knowledge_base,load_propositional"
   ]
  },
  {
   "cell_type": "code",
   "execution_count": 20,
   "metadata": {
    "collapsed": true
   },
   "outputs": [],
   "source": [
    "emb_dim=10"
   ]
  },
  {
   "cell_type": "code",
   "execution_count": 4,
   "metadata": {
    "collapsed": true
   },
   "outputs": [],
   "source": [
    "def show_results(model, knowledge_base):\n",
    "    wrong=0\n",
    "    for clause in knowledge_base.clauses:\n",
    "        output=model.forward(clause=clause)\n",
    "        if output[0].data.numpy()[0]<0.01:\n",
    "            continue\n",
    "        print(clause.show())\n",
    "        print(output[0].data.numpy()[0], output[1].data.numpy()[0])\n",
    "        wrong+=1\n",
    "    print(wrong)"
   ]
  },
  {
   "cell_type": "code",
   "execution_count": 8,
   "metadata": {},
   "outputs": [],
   "source": [
    "class GConstants(nn.Module):\n",
    "    def __init__(self, constants,emb_dim):\n",
    "        super(GConstants, self).__init__()\n",
    "        self.symbol2id=dict()\n",
    "        self.id2symbol=dict()\n",
    "        for i,s in enumerate(constants):\n",
    "            self.symbol2id[s]=i\n",
    "            self.id2symbol[i]=s\n",
    "        self.embeddings = nn.Embedding(len(self.symbol2id), emb_dim)\n",
    "    def forward(self,constants):\n",
    "        constant_id=[]\n",
    "        for c in constants:\n",
    "            constant_id.append(self.symbol2id[c])\n",
    "        embs=self.embeddings(Variable(torch.LongTensor(constant_id)))\n",
    "        embs=torch.cat(embs).view(1,-1)\n",
    "        return embs"
   ]
  },
  {
   "cell_type": "code",
   "execution_count": 16,
   "metadata": {
    "collapsed": true
   },
   "outputs": [],
   "source": []
  },
  {
   "cell_type": "code",
   "execution_count": 17,
   "metadata": {
    "collapsed": true
   },
   "outputs": [],
   "source": [
    "class LTN(nn.Module):\n",
    "    def __init__(self, emb_dim, constants, predicates):\n",
    "        super(LTN, self).__init__()\n",
    "        self.emb_dim=emb_dim\n",
    "        self.Constants=GConstants(constants, emb_dim)\n",
    "        self.Predicates=dict()\n",
    "        for name,n in predicates:\n",
    "            self.Predicates[name]=GPredicate(name,n,emb_dim)\n",
    "    def forward(self, clause):\n",
    "        Phi=None\n",
    "        v=Variable(torch.FloatTensor([clause.v]))\n",
    "        w=Variable(torch.FloatTensor([clause.w]))\n",
    "        for predicate in clause.predicates:\n",
    "            negation=predicate.negation\n",
    "            name=predicate.name\n",
    "            constants=predicate.variables\n",
    "            embs=self.Constants.forward(constants)\n",
    "            output=self.Predicates[name].forward(embs,negation)\n",
    "            if Phi is None or Phi.data.numpy()[0]<output.data.numpy()[0]:\n",
    "                Phi=output\n",
    "        if (Phi>w).data.all():\n",
    "            loss=Phi-w\n",
    "        elif (Phi<v).data.all():\n",
    "            loss=v-Phi\n",
    "        else:\n",
    "            loss=Variable(torch.FloatTensor([0]),requires_grad=True)\n",
    "        return loss,Phi\n",
    "    def parameters(self):\n",
    "        results=list(self.Constants.parameters())\n",
    "        for name in self.Predicates:\n",
    "            results+=list(self.Predicates[name].parameters())\n",
    "        return results"
   ]
  },
  {
   "cell_type": "code",
   "execution_count": 18,
   "metadata": {},
   "outputs": [],
   "source": [
    "kb1=load_knowledge_base('./facts1.txt')\n",
    "kb2=load_knowledge_base('./facts2.txt')\n",
    "propositionals=load_propositional('./knowledge.txt')\n",
    "gkbs1=[]\n",
    "for p in propositionals:\n",
    "    gkbs1.append(p.generate_knowledge_base('abcdefgh'))\n",
    "gkb1=gkbs1[0]\n",
    "for tkb in gkbs1[1:]:\n",
    "    gkb1=gkb1.union(tkb)\n",
    "gkbs2=[]\n",
    "for p in propositionals:\n",
    "    gkbs2.append(p.generate_knowledge_base('ijklmn'))\n",
    "gkb2=gkbs2[0]\n",
    "for tkb in gkbs2[1:]:\n",
    "    gkb2=gkb2.union(tkb)"
   ]
  },
  {
   "cell_type": "code",
   "execution_count": 21,
   "metadata": {
    "scrolled": true
   },
   "outputs": [
    {
     "name": "stderr",
     "output_type": "stream",
     "text": [
      "\r",
      "  0%|          | 0/2000 [00:00<?, ?it/s]"
     ]
    },
    {
     "data": {
      "image/png": "[encoded data removed]",
      "text/plain": [
       "<matplotlib.figure.Figure at 0x1a14d402e8>"
      ]
     },
     "metadata": {},
     "output_type": "display_data"
    },
    {
     "data": {
      "image/png": "[encoded data removed]",
      "text/plain": [
       "<matplotlib.figure.Figure at 0x1a20ff9780>"
      ]
     },
     "metadata": {},
     "output_type": "display_data"
    },
    {
     "name": "stderr",
     "output_type": "stream",
     "text": [
      "\r",
      "  0%|          | 1/2000 [00:00<31:34,  1.06it/s]"
     ]
    },
    {
     "name": "stdout",
     "output_type": "stream",
     "text": [
      "S(a)\n",
      "[ 0.43360639] [ 0.56639361]\n",
      "S(e)\n",
      "[ 0.27917832] [ 0.72082168]\n",
      "S(f)\n",
      "[ 0.33024299] [ 0.66975701]\n",
      "S(g)\n",
      "[ 0.35235035] [ 0.64764965]\n",
      "¬S(b)\n",
      "[ 0.25084233] [ 0.74915767]\n",
      "¬S(c)\n",
      "[ 0.21292365] [ 0.78707635]\n",
      "¬S(d)\n",
      "[ 0.31742001] [ 0.68257999]\n",
      "¬S(h)\n",
      "[ 0.40868449] [ 0.59131551]\n",
      "F(a, b)\n",
      "[ 0.22070754] [ 0.77929246]\n",
      "F(a, e)\n",
      "[ 0.57059687] [ 0.42940313]\n",
      "F(a, f)\n",
      "[ 0.82219583] [ 0.17780417]\n",
      "F(a, g)\n",
      "[ 0.64854002] [ 0.35146001]\n",
      "F(b, c)\n",
      "[ 0.39501935] [ 0.60498065]\n",
      "F(c, d)\n",
      "[ 0.33415866] [ 0.66584134]\n",
      "F(e, f)\n",
      "[ 0.8370586] [ 0.1629414]\n",
      "F(g, h)\n",
      "[ 0.71584946] [ 0.28415054]\n",
      "¬F(a, c)\n",
      "[ 0.66680169] [ 0.33319831]\n",
      "¬F(a, d)\n",
      "[ 0.13460755] [ 0.86539245]\n",
      "¬F(a, h)\n",
      "[ 0.29907346] [ 0.70092654]\n",
      "¬F(b, d)\n",
      "[ 0.25862163] [ 0.74137837]\n",
      "¬F(b, e)\n",
      "[ 0.14571118] [ 0.85428882]\n",
      "¬F(b, f)\n",
      "[ 0.13395321] [ 0.86604679]\n",
      "¬F(b, g)\n",
      "[ 0.16626906] [ 0.83373094]\n",
      "¬F(b, h)\n",
      "[ 0.11595905] [ 0.88404095]\n",
      "¬F(c, e)\n",
      "[ 0.12704384] [ 0.87295616]\n",
      "¬F(c, f)\n",
      "[ 0.12604856] [ 0.87395144]\n",
      "¬F(c, g)\n",
      "[ 0.23126352] [ 0.76873648]\n",
      "¬F(c, h)\n",
      "[ 0.12130314] [ 0.87869686]\n",
      "¬F(d, e)\n",
      "[ 0.11431104] [ 0.88568896]\n",
      "¬F(d, f)\n",
      "[ 0.19531578] [ 0.80468422]\n",
      "¬F(d, g)\n",
      "[ 0.11541891] [ 0.88458109]\n",
      "¬F(d, h)\n",
      "[ 0.21412694] [ 0.78587306]\n",
      "¬F(e, g)\n",
      "[ 0.26402497] [ 0.73597503]\n",
      "¬F(e, h)\n",
      "[ 0.18659306] [ 0.81340694]\n",
      "¬F(f, g)\n",
      "[ 0.11523372] [ 0.88476628]\n",
      "¬F(f, h)\n",
      "[ 0.12455463] [ 0.87544537]\n",
      "C(a)\n",
      "[ 0.2712037] [ 0.7287963]\n",
      "C(e)\n",
      "[ 0.46988678] [ 0.53011322]\n",
      "¬C(b)\n",
      "[ 0.3400442] [ 0.6599558]\n",
      "¬C(c)\n",
      "[ 0.34337187] [ 0.65662813]\n",
      "¬C(d)\n",
      "[ 0.36656493] [ 0.63343507]\n",
      "¬C(f)\n",
      "[ 0.44128305] [ 0.55871695]\n",
      "¬C(g)\n",
      "[ 0.28321791] [ 0.71678209]\n",
      "¬C(h)\n",
      "[ 0.49445939] [ 0.50554061]\n",
      "S(i)\n",
      "[ 0.22004282] [ 0.77995718]\n",
      "S(n)\n",
      "[ 0.36065668] [ 0.63934332]\n",
      "¬S(j)\n",
      "[ 0.36929965] [ 0.63070035]\n",
      "¬S(k)\n",
      "[ 0.21113253] [ 0.78886747]\n",
      "¬S(l)\n",
      "[ 0.27495044] [ 0.72504956]\n",
      "¬S(m)\n",
      "[ 0.36761463] [ 0.63238537]\n",
      "F(i, j)\n",
      "[ 0.48610616] [ 0.51389384]\n",
      "F(i, m)\n",
      "[ 0.64884377] [ 0.35115623]\n",
      "F(k, l)\n",
      "[ 0.86349398] [ 0.13650601]\n",
      "F(m, n)\n",
      "[ 0.6850419] [ 0.3149581]\n",
      "¬F(i, k)\n",
      "[ 0.14653015] [ 0.85346985]\n",
      "¬F(i, l)\n",
      "[ 0.24608374] [ 0.75391626]\n",
      "¬F(i, n)\n",
      "[ 0.30682755] [ 0.69317245]\n",
      "¬F(j, k)\n",
      "[ 0.1145125] [ 0.8854875]\n",
      "¬F(j, l)\n",
      "[ 0.11441666] [ 0.88558334]\n",
      "¬F(j, m)\n",
      "[ 0.11431295] [ 0.88568705]\n",
      "¬F(j, n)\n",
      "[ 0.11430997] [ 0.88569003]\n",
      "¬F(l, n)\n",
      "[ 0.11453116] [ 0.88546884]\n",
      "¬F(k, m)\n",
      "[ 0.11490142] [ 0.88509858]\n",
      "¬F(l, m)\n",
      "[ 0.12589514] [ 0.87410486]\n",
      "64\n"
     ]
    },
    {
     "name": "stderr",
     "output_type": "stream",
     "text": [
      "  5%|▌         | 100/2000 [00:27<08:34,  3.69it/s]"
     ]
    },
    {
     "data": {
      "image/png": "[encoded data removed]",
      "text/plain": [
       "<matplotlib.figure.Figure at 0x1a14d3f198>"
      ]
     },
     "metadata": {},
     "output_type": "display_data"
    },
    {
     "data": {
      "image/png": "[encoded data removed]",
      "text/plain": [
       "<matplotlib.figure.Figure at 0x1a20e7d828>"
      ]
     },
     "metadata": {},
     "output_type": "display_data"
    },
    {
     "name": "stderr",
     "output_type": "stream",
     "text": [
      "\r",
      "  5%|▌         | 101/2000 [00:27<08:40,  3.65it/s]"
     ]
    },
    {
     "name": "stdout",
     "output_type": "stream",
     "text": [
      "S(a)\n",
      "[ 0.01231712] [ 0.98768288]\n",
      "S(f)\n",
      "[ 0.01427805] [ 0.98572195]\n",
      "C(a)\n",
      "[ 0.01132846] [ 0.98867154]\n",
      "C(e)\n",
      "[ 0.02248323] [ 0.97751677]\n",
      "¬C(b)\n",
      "[ 0.01698709] [ 0.98301291]\n",
      "¬C(c)\n",
      "[ 0.01190966] [ 0.98809034]\n",
      "¬C(d)\n",
      "[ 0.01343602] [ 0.98656398]\n",
      "¬C(f)\n",
      "[ 0.01684999] [ 0.98315001]\n",
      "¬C(g)\n",
      "[ 0.01166141] [ 0.98833859]\n",
      "¬C(h)\n",
      "[ 0.01131207] [ 0.98868793]\n",
      "S(n)\n",
      "[ 0.01224267] [ 0.98775733]\n",
      "¬S(j)\n",
      "[ 0.01194686] [ 0.98805314]\n",
      "¬S(k)\n",
      "[ 0.01452559] [ 0.98547441]\n",
      "¬S(l)\n",
      "[ 0.01278108] [ 0.98721892]\n",
      "¬S(m)\n",
      "[ 0.0132125] [ 0.9867875]\n",
      "15\n"
     ]
    },
    {
     "name": "stderr",
     "output_type": "stream",
     "text": [
      " 10%|█         | 200/2000 [00:57<08:35,  3.49it/s]"
     ]
    },
    {
     "data": {
      "image/png": "[encoded data removed]",
      "text/plain": [
       "<matplotlib.figure.Figure at 0x1a14d7deb8>"
      ]
     },
     "metadata": {},
     "output_type": "display_data"
    },
    {
     "data": {
      "image/png": "[encoded data removed]",
      "text/plain": [
       "<matplotlib.figure.Figure at 0x1a20d27550>"
      ]
     },
     "metadata": {},
     "output_type": "display_data"
    },
    {
     "name": "stderr",
     "output_type": "stream",
     "text": [
      "\r",
      " 10%|█         | 201/2000 [00:57<08:37,  3.47it/s]"
     ]
    },
    {
     "name": "stdout",
     "output_type": "stream",
     "text": [
      "S(a)\n",
      "[ 0.01232225] [ 0.98767775]\n",
      "S(f)\n",
      "[ 0.01469463] [ 0.98530537]\n",
      "C(a)\n",
      "[ 0.0112167] [ 0.9887833]\n",
      "C(e)\n",
      "[ 0.02244496] [ 0.97755504]\n",
      "¬C(b)\n",
      "[ 0.01714808] [ 0.98285192]\n",
      "¬C(c)\n",
      "[ 0.01171583] [ 0.98828417]\n",
      "¬C(d)\n",
      "[ 0.01318556] [ 0.98681444]\n",
      "¬C(f)\n",
      "[ 0.01668453] [ 0.98331547]\n",
      "¬C(g)\n",
      "[ 0.01169348] [ 0.98830652]\n",
      "¬C(h)\n",
      "[ 0.01109451] [ 0.98890549]\n",
      "S(n)\n",
      "[ 0.0124526] [ 0.9875474]\n",
      "¬S(j)\n",
      "[ 0.01198345] [ 0.98801655]\n",
      "¬S(k)\n",
      "[ 0.01485431] [ 0.98514569]\n",
      "¬S(l)\n",
      "[ 0.01291025] [ 0.98708975]\n",
      "¬S(m)\n",
      "[ 0.01329327] [ 0.98670673]\n",
      "15\n"
     ]
    },
    {
     "name": "stderr",
     "output_type": "stream",
     "text": [
      " 15%|█▌        | 300/2000 [01:41<09:36,  2.95it/s]"
     ]
    },
    {
     "data": {
      "image/png": "[encoded data removed]",
      "text/plain": [
       "<matplotlib.figure.Figure at 0x1a14c98da0>"
      ]
     },
     "metadata": {},
     "output_type": "display_data"
    },
    {
     "data": {
      "image/png": "[encoded data removed]",
      "text/plain": [
       "<matplotlib.figure.Figure at 0x1a14d186d8>"
      ]
     },
     "metadata": {},
     "output_type": "display_data"
    },
    {
     "name": "stderr",
     "output_type": "stream",
     "text": [
      "\r",
      " 15%|█▌        | 301/2000 [01:42<09:39,  2.93it/s]"
     ]
    },
    {
     "name": "stdout",
     "output_type": "stream",
     "text": [
      "S(a)\n",
      "[ 0.01196265] [ 0.98803735]\n",
      "S(e)\n",
      "[ 0.01121122] [ 0.98878878]\n",
      "S(f)\n",
      "[ 0.01094216] [ 0.98905784]\n",
      "¬S(b)\n",
      "[ 0.02100641] [ 0.97899359]\n",
      "¬S(c)\n",
      "[ 0.02668822] [ 0.97331178]\n",
      "¬S(h)\n",
      "[ 0.01473582] [ 0.98526418]\n",
      "F(b, c)\n",
      "[ 0.99993211] [  6.78912111e-05]\n",
      "F(c, d)\n",
      "[ 0.01015848] [ 0.98984152]\n",
      "F(e, f)\n",
      "[ 0.02045006] [ 0.97954994]\n",
      "¬F(e, g)\n",
      "[ 0.01803136] [ 0.98196864]\n",
      "C(a)\n",
      "[ 0.01063365] [ 0.98936635]\n",
      "C(e)\n",
      "[ 0.01783127] [ 0.98216873]\n",
      "S(i)\n",
      "[ 0.01095754] [ 0.98904246]\n",
      "S(n)\n",
      "[ 0.01349223] [ 0.98650777]\n",
      "¬S(j)\n",
      "[ 0.0321216] [ 0.9678784]\n",
      "¬S(k)\n",
      "[ 0.02556026] [ 0.97443974]\n",
      "¬S(l)\n",
      "[ 0.03148884] [ 0.96851116]\n",
      "¬S(m)\n",
      "[ 0.03002757] [ 0.96997243]\n",
      "F(m, n)\n",
      "[ 0.02554554] [ 0.97445446]\n",
      "¬F(i, n)\n",
      "[ 0.01175994] [ 0.98824006]\n",
      "20\n"
     ]
    },
    {
     "name": "stderr",
     "output_type": "stream",
     "text": [
      " 20%|██        | 400/2000 [02:22<09:28,  2.81it/s]"
     ]
    },
    {
     "data": {
      "image/png": "[encoded data removed]",
      "text/plain": [
       "<matplotlib.figure.Figure at 0x1a20dd85c0>"
      ]
     },
     "metadata": {},
     "output_type": "display_data"
    },
    {
     "data": {
      "image/png": "[encoded data removed]",
      "text/plain": [
       "<matplotlib.figure.Figure at 0x1a20ce9be0>"
      ]
     },
     "metadata": {},
     "output_type": "display_data"
    },
    {
     "name": "stdout",
     "output_type": "stream",
     "text": [
      "S(a)\n",
      "[ 0.01141948] [ 0.98858052]\n",
      "S(f)\n",
      "[ 0.01358271] [ 0.98641729]\n",
      "¬S(b)\n",
      "[ 0.01102483] [ 0.98897517]\n",
      "F(a, g)\n",
      "[ 0.01050359] [ 0.98949641]\n",
      "F(b, c)\n",
      "[ 0.99698925] [ 0.00301075]\n",
      "¬F(e, g)\n",
      "[ 0.01098281] [ 0.98901719]\n",
      "C(a)\n",
      "[ 0.01239294] [ 0.98760706]\n",
      "C(e)\n",
      "[ 0.01983935] [ 0.98016065]\n",
      "¬C(b)\n",
      "[ 0.01563042] [ 0.98436958]\n",
      "¬C(c)\n",
      "[ 0.01398247] [ 0.98601753]\n",
      "¬C(d)\n",
      "[ 0.01234418] [ 0.98765582]\n",
      "¬C(f)\n",
      "[ 0.01579106] [ 0.98420894]\n",
      "¬C(g)\n",
      "[ 0.0127449] [ 0.9872551]\n",
      "¬C(h)\n",
      "[ 0.01306474] [ 0.98693526]\n",
      "S(i)\n",
      "[ 0.01100373] [ 0.98899627]\n",
      "S(n)\n",
      "[ 0.01324677] [ 0.98675323]\n"
     ]
    },
    {
     "name": "stderr",
     "output_type": "stream",
     "text": [
      "\r",
      " 20%|██        | 401/2000 [02:23<09:30,  2.80it/s]"
     ]
    },
    {
     "name": "stdout",
     "output_type": "stream",
     "text": [
      "¬S(j)\n",
      "[ 0.01066613] [ 0.98933387]\n",
      "¬S(k)\n",
      "[ 0.01456487] [ 0.98543513]\n",
      "¬S(l)\n",
      "[ 0.01068693] [ 0.98931307]\n",
      "¬S(m)\n",
      "[ 0.01392269] [ 0.98607731]\n",
      "20\n"
     ]
    },
    {
     "name": "stderr",
     "output_type": "stream",
     "text": [
      " 25%|██▌       | 500/2000 [02:55<08:46,  2.85it/s]"
     ]
    },
    {
     "data": {
      "image/png": "[encoded data removed]",
      "text/plain": [
       "<matplotlib.figure.Figure at 0x1a20d064a8>"
      ]
     },
     "metadata": {},
     "output_type": "display_data"
    },
    {
     "data": {
      "image/png": "[encoded data removed]",
      "text/plain": [
       "<matplotlib.figure.Figure at 0x1a2082a978>"
      ]
     },
     "metadata": {},
     "output_type": "display_data"
    },
    {
     "name": "stderr",
     "output_type": "stream",
     "text": [
      "\r",
      " 25%|██▌       | 501/2000 [02:56<08:47,  2.84it/s]"
     ]
    },
    {
     "name": "stdout",
     "output_type": "stream",
     "text": [
      "S(a)\n",
      "[ 0.01329464] [ 0.98670536]\n",
      "S(f)\n",
      "[ 0.01410431] [ 0.98589569]\n",
      "¬S(b)\n",
      "[ 0.01123786] [ 0.98876214]\n",
      "F(b, c)\n",
      "[ 0.99808323] [ 0.00191675]\n",
      "¬F(e, g)\n",
      "[ 0.01005459] [ 0.98994541]\n",
      "C(a)\n",
      "[ 0.0115335] [ 0.9884665]\n",
      "C(e)\n",
      "[ 0.02102864] [ 0.97897136]\n",
      "¬C(b)\n",
      "[ 0.01505196] [ 0.98494804]\n",
      "¬C(c)\n",
      "[ 0.01364493] [ 0.98635507]\n",
      "¬C(d)\n",
      "[ 0.01209998] [ 0.98790002]\n",
      "¬C(f)\n",
      "[ 0.01520991] [ 0.98479009]\n",
      "¬C(g)\n",
      "[ 0.01257551] [ 0.98742449]\n",
      "¬C(h)\n",
      "[ 0.01386374] [ 0.98613626]\n",
      "S(n)\n",
      "[ 0.01221174] [ 0.98778826]\n",
      "¬S(k)\n",
      "[ 0.01435685] [ 0.98564315]\n",
      "¬S(l)\n",
      "[ 0.01031315] [ 0.98968685]\n",
      "¬S(m)\n",
      "[ 0.01471794] [ 0.98528206]\n",
      "17\n"
     ]
    },
    {
     "name": "stderr",
     "output_type": "stream",
     "text": [
      " 30%|███       | 600/2000 [03:35<08:22,  2.79it/s]"
     ]
    },
    {
     "data": {
      "image/png": "[encoded data removed]",
      "text/plain": [
       "<matplotlib.figure.Figure at 0x1104b9f60>"
      ]
     },
     "metadata": {},
     "output_type": "display_data"
    },
    {
     "data": {
      "image/png": "[encoded data removed]",
      "text/plain": [
       "<matplotlib.figure.Figure at 0x110617b38>"
      ]
     },
     "metadata": {},
     "output_type": "display_data"
    },
    {
     "name": "stderr",
     "output_type": "stream",
     "text": [
      "\r",
      " 30%|███       | 601/2000 [03:36<08:23,  2.78it/s]"
     ]
    },
    {
     "name": "stdout",
     "output_type": "stream",
     "text": [
      "S(a)\n",
      "[ 0.01255709] [ 0.98744291]\n",
      "S(f)\n",
      "[ 0.01483035] [ 0.98516965]\n",
      "¬S(b)\n",
      "[ 0.01075488] [ 0.98924512]\n",
      "F(b, c)\n",
      "[ 0.99774039] [ 0.00225963]\n",
      "¬F(e, g)\n",
      "[ 0.01093256] [ 0.98906744]\n",
      "C(a)\n",
      "[ 0.01101083] [ 0.98898917]\n",
      "C(e)\n",
      "[ 0.0223406] [ 0.9776594]\n",
      "¬C(b)\n",
      "[ 0.01630682] [ 0.98369318]\n",
      "¬C(c)\n",
      "[ 0.01458782] [ 0.98541218]\n",
      "¬C(d)\n",
      "[ 0.01195008] [ 0.98804992]\n",
      "¬C(f)\n",
      "[ 0.0153017] [ 0.9846983]\n",
      "¬C(g)\n",
      "[ 0.01138848] [ 0.98861152]\n",
      "¬C(h)\n",
      "[ 0.0135206] [ 0.9864794]\n",
      "S(n)\n",
      "[ 0.01336473] [ 0.98663527]\n",
      "¬S(j)\n",
      "[ 0.01087719] [ 0.98912281]\n",
      "¬S(k)\n",
      "[ 0.0154838] [ 0.9845162]\n",
      "¬S(l)\n",
      "[ 0.01019317] [ 0.98980683]\n",
      "¬S(m)\n",
      "[ 0.01267534] [ 0.98732466]\n",
      "18\n"
     ]
    },
    {
     "name": "stderr",
     "output_type": "stream",
     "text": [
      " 35%|███▌      | 700/2000 [04:14<07:51,  2.75it/s]"
     ]
    },
    {
     "data": {
      "image/png": "[encoded data removed]",
      "text/plain": [
       "<matplotlib.figure.Figure at 0x1106a9748>"
      ]
     },
     "metadata": {},
     "output_type": "display_data"
    },
    {
     "data": {
      "image/png": "[encoded data removed]",
      "text/plain": [
       "<matplotlib.figure.Figure at 0x110572518>"
      ]
     },
     "metadata": {},
     "output_type": "display_data"
    },
    {
     "name": "stderr",
     "output_type": "stream",
     "text": [
      "\r",
      " 35%|███▌      | 701/2000 [04:14<07:51,  2.75it/s]"
     ]
    },
    {
     "name": "stdout",
     "output_type": "stream",
     "text": [
      "S(a)\n",
      "[ 0.0117541] [ 0.9882459]\n",
      "S(f)\n",
      "[ 0.01441365] [ 0.98558635]\n",
      "¬S(b)\n",
      "[ 0.01076263] [ 0.98923737]\n",
      "F(b, c)\n",
      "[ 0.99781662] [ 0.00218338]\n",
      "¬F(e, g)\n",
      "[ 0.01073664] [ 0.98926336]\n",
      "C(a)\n",
      "[ 0.01150507] [ 0.98849493]\n",
      "C(e)\n",
      "[ 0.02188259] [ 0.97811741]\n",
      "¬C(b)\n",
      "[ 0.01641744] [ 0.98358256]\n",
      "¬C(c)\n",
      "[ 0.0145151] [ 0.9854849]\n",
      "¬C(d)\n",
      "[ 0.01192528] [ 0.98807472]\n",
      "¬C(f)\n",
      "[ 0.01556695] [ 0.98443305]\n",
      "¬C(g)\n",
      "[ 0.01117003] [ 0.98882997]\n",
      "¬C(h)\n",
      "[ 0.01355779] [ 0.98644221]\n",
      "S(n)\n",
      "[ 0.01320165] [ 0.98679835]\n",
      "¬S(j)\n",
      "[ 0.01095092] [ 0.98904908]\n",
      "¬S(k)\n",
      "[ 0.01556516] [ 0.98443484]\n",
      "¬S(m)\n",
      "[ 0.01250911] [ 0.98749089]\n",
      "17\n"
     ]
    },
    {
     "name": "stderr",
     "output_type": "stream",
     "text": [
      " 40%|████      | 800/2000 [04:39<06:59,  2.86it/s]"
     ]
    },
    {
     "data": {
      "image/png": "[encoded data removed]",
      "text/plain": [
       "<matplotlib.figure.Figure at 0x1a20dd8898>"
      ]
     },
     "metadata": {},
     "output_type": "display_data"
    },
    {
     "data": {
      "image/png": "[encoded data removed]",
      "text/plain": [
       "<matplotlib.figure.Figure at 0x1a14dc3ef0>"
      ]
     },
     "metadata": {},
     "output_type": "display_data"
    },
    {
     "name": "stderr",
     "output_type": "stream",
     "text": [
      "\r",
      " 40%|████      | 801/2000 [04:40<06:59,  2.86it/s]"
     ]
    },
    {
     "name": "stdout",
     "output_type": "stream",
     "text": [
      "S(a)\n",
      "[ 0.01154494] [ 0.98845506]\n",
      "S(f)\n",
      "[ 0.01425338] [ 0.98574662]\n",
      "¬S(b)\n",
      "[ 0.01076144] [ 0.98923856]\n",
      "F(b, c)\n",
      "[ 0.99785244] [ 0.00214755]\n",
      "¬F(e, g)\n",
      "[ 0.01068521] [ 0.98931479]\n",
      "C(a)\n",
      "[ 0.01158893] [ 0.98841107]\n",
      "C(e)\n",
      "[ 0.02177227] [ 0.97822773]\n",
      "¬C(b)\n",
      "[ 0.016424] [ 0.983576]\n",
      "¬C(c)\n",
      "[ 0.01452959] [ 0.98547041]\n",
      "¬C(d)\n",
      "[ 0.01191127] [ 0.98808873]\n",
      "¬C(f)\n",
      "[ 0.01564091] [ 0.98435909]\n",
      "¬C(g)\n",
      "[ 0.0111233] [ 0.9888767]\n",
      "¬C(h)\n",
      "[ 0.01358736] [ 0.98641264]\n",
      "S(n)\n",
      "[ 0.01318401] [ 0.98681599]\n",
      "¬S(j)\n",
      "[ 0.01099443] [ 0.98900557]\n",
      "¬S(k)\n",
      "[ 0.01538581] [ 0.98461419]\n",
      "¬S(m)\n",
      "[ 0.01247138] [ 0.98752862]\n",
      "17\n"
     ]
    },
    {
     "name": "stderr",
     "output_type": "stream",
     "text": [
      " 45%|████▌     | 900/2000 [05:06<06:14,  2.94it/s]"
     ]
    },
    {
     "data": {
      "image/png": "[encoded data removed]",
      "text/plain": [
       "<matplotlib.figure.Figure at 0x1a14d18860>"
      ]
     },
     "metadata": {},
     "output_type": "display_data"
    },
    {
     "data": {
      "image/png": "[encoded data removed]",
      "text/plain": [
       "<matplotlib.figure.Figure at 0x1a1c56d470>"
      ]
     },
     "metadata": {},
     "output_type": "display_data"
    },
    {
     "name": "stderr",
     "output_type": "stream",
     "text": [
      "\r",
      " 45%|████▌     | 901/2000 [05:06<06:14,  2.94it/s]"
     ]
    },
    {
     "name": "stdout",
     "output_type": "stream",
     "text": [
      "S(a)\n",
      "[ 0.01151651] [ 0.98848349]\n",
      "S(f)\n",
      "[ 0.01422662] [ 0.98577338]\n",
      "¬S(b)\n",
      "[ 0.01076621] [ 0.98923379]\n",
      "F(b, c)\n",
      "[ 0.99786019] [ 0.00213982]\n",
      "¬F(e, g)\n",
      "[ 0.01068479] [ 0.98931521]\n",
      "C(a)\n",
      "[ 0.01159084] [ 0.98840916]\n",
      "C(e)\n",
      "[ 0.0217644] [ 0.9782356]\n",
      "¬C(b)\n",
      "[ 0.01642138] [ 0.98357862]\n",
      "¬C(c)\n",
      "[ 0.01452845] [ 0.98547155]\n",
      "¬C(d)\n",
      "[ 0.01190323] [ 0.98809677]\n",
      "¬C(f)\n",
      "[ 0.01565444] [ 0.98434556]\n",
      "¬C(g)\n",
      "[ 0.01111484] [ 0.98888516]\n",
      "¬C(h)\n",
      "[ 0.01360226] [ 0.98639774]\n",
      "S(n)\n",
      "[ 0.01318598] [ 0.98681402]\n",
      "¬S(j)\n",
      "[ 0.01099926] [ 0.98900074]\n",
      "¬S(k)\n",
      "[ 0.01535255] [ 0.98464745]\n",
      "¬S(m)\n",
      "[ 0.01246285] [ 0.98753715]\n",
      "17\n"
     ]
    },
    {
     "name": "stderr",
     "output_type": "stream",
     "text": [
      " 50%|█████     | 1000/2000 [05:32<05:32,  3.01it/s]"
     ]
    },
    {
     "data": {
      "image/png": "[encoded data removed]",
      "text/plain": [
       "<matplotlib.figure.Figure at 0x1a1c07d748>"
      ]
     },
     "metadata": {},
     "output_type": "display_data"
    },
    {
     "data": {
      "image/png": "[encoded data removed]",
      "text/plain": [
       "<matplotlib.figure.Figure at 0x1a14cef080>"
      ]
     },
     "metadata": {},
     "output_type": "display_data"
    },
    {
     "name": "stderr",
     "output_type": "stream",
     "text": [
      "\r",
      " 50%|█████     | 1001/2000 [05:32<05:32,  3.01it/s]"
     ]
    },
    {
     "name": "stdout",
     "output_type": "stream",
     "text": [
      "S(a)\n",
      "[ 0.0115115] [ 0.9884885]\n",
      "S(f)\n",
      "[ 0.01422095] [ 0.98577905]\n",
      "¬S(b)\n",
      "[ 0.01076752] [ 0.98923248]\n",
      "F(b, c)\n",
      "[ 0.9978618] [ 0.00213822]\n",
      "¬F(e, g)\n",
      "[ 0.01068538] [ 0.98931462]\n",
      "C(a)\n",
      "[ 0.01159048] [ 0.98840952]\n",
      "C(e)\n",
      "[ 0.02176327] [ 0.97823673]\n",
      "¬C(b)\n",
      "[ 0.01642066] [ 0.98357934]\n",
      "¬C(c)\n",
      "[ 0.01452792] [ 0.98547208]\n",
      "¬C(d)\n",
      "[ 0.01190144] [ 0.98809856]\n",
      "¬C(f)\n",
      "[ 0.01565707] [ 0.98434293]\n",
      "¬C(g)\n",
      "[ 0.01111317] [ 0.98888683]\n",
      "¬C(h)\n",
      "[ 0.01360583] [ 0.98639417]\n",
      "S(n)\n",
      "[ 0.01318669] [ 0.98681331]\n",
      "¬S(j)\n",
      "[ 0.01099986] [ 0.98900014]\n",
      "¬S(k)\n",
      "[ 0.01534581] [ 0.98465419]\n",
      "¬S(m)\n",
      "[ 0.01246107] [ 0.98753893]\n",
      "17\n"
     ]
    },
    {
     "name": "stderr",
     "output_type": "stream",
     "text": [
      " 55%|█████▌    | 1100/2000 [05:59<04:54,  3.06it/s]"
     ]
    },
    {
     "data": {
      "image/png": "[encoded data removed]",
      "text/plain": [
       "<matplotlib.figure.Figure at 0x1106ae4e0>"
      ]
     },
     "metadata": {},
     "output_type": "display_data"
    },
    {
     "data": {
      "image/png": "[encoded data removed]",
      "text/plain": [
       "<matplotlib.figure.Figure at 0x1a14dc7a20>"
      ]
     },
     "metadata": {},
     "output_type": "display_data"
    },
    {
     "name": "stderr",
     "output_type": "stream",
     "text": [
      "\r",
      " 55%|█████▌    | 1101/2000 [06:00<04:54,  3.05it/s]"
     ]
    },
    {
     "name": "stdout",
     "output_type": "stream",
     "text": [
      "S(a)\n",
      "[ 0.01151031] [ 0.98848969]\n",
      "S(f)\n",
      "[ 0.01421934] [ 0.98578066]\n",
      "¬S(b)\n",
      "[ 0.01076788] [ 0.98923212]\n",
      "F(b, c)\n",
      "[ 0.99786222] [ 0.0021378]\n",
      "¬F(e, g)\n",
      "[ 0.01068562] [ 0.98931438]\n",
      "C(a)\n",
      "[ 0.01159036] [ 0.98840964]\n",
      "C(e)\n",
      "[ 0.02176291] [ 0.97823709]\n",
      "¬C(b)\n",
      "[ 0.01642042] [ 0.98357958]\n",
      "¬C(c)\n",
      "[ 0.01452768] [ 0.98547232]\n",
      "¬C(d)\n",
      "[ 0.01190102] [ 0.98809898]\n",
      "¬C(f)\n",
      "[ 0.01565772] [ 0.98434228]\n",
      "¬C(g)\n",
      "[ 0.01111275] [ 0.98888725]\n",
      "¬C(h)\n",
      "[ 0.01360685] [ 0.98639315]\n",
      "S(n)\n",
      "[ 0.01318693] [ 0.98681307]\n",
      "¬S(j)\n",
      "[ 0.01099998] [ 0.98900002]\n",
      "¬S(k)\n",
      "[ 0.01534402] [ 0.98465598]\n",
      "¬S(m)\n",
      "[ 0.01246053] [ 0.98753947]\n",
      "17\n"
     ]
    },
    {
     "name": "stderr",
     "output_type": "stream",
     "text": [
      " 60%|██████    | 1200/2000 [06:24<04:16,  3.12it/s]"
     ]
    },
    {
     "data": {
      "image/png": "[encoded data removed]",
      "text/plain": [
       "<matplotlib.figure.Figure at 0x1a14cf8908>"
      ]
     },
     "metadata": {},
     "output_type": "display_data"
    },
    {
     "data": {
      "image/png": "[encoded data removed]",
      "text/plain": [
       "<matplotlib.figure.Figure at 0x1a14cc9358>"
      ]
     },
     "metadata": {},
     "output_type": "display_data"
    },
    {
     "name": "stderr",
     "output_type": "stream",
     "text": [
      "\r",
      " 60%|██████    | 1201/2000 [06:25<04:16,  3.12it/s]"
     ]
    },
    {
     "name": "stdout",
     "output_type": "stream",
     "text": [
      "S(a)\n",
      "[ 0.01151007] [ 0.98848993]\n",
      "S(f)\n",
      "[ 0.01421887] [ 0.98578113]\n",
      "¬S(b)\n",
      "[ 0.010768] [ 0.989232]\n",
      "F(b, c)\n",
      "[ 0.99786234] [ 0.00213768]\n",
      "¬F(e, g)\n",
      "[ 0.01068574] [ 0.98931426]\n",
      "C(a)\n",
      "[ 0.01159036] [ 0.98840964]\n",
      "C(e)\n",
      "[ 0.02176279] [ 0.97823721]\n",
      "¬C(b)\n",
      "[ 0.0164203] [ 0.9835797]\n",
      "¬C(c)\n",
      "[ 0.01452762] [ 0.98547238]\n",
      "¬C(d)\n",
      "[ 0.01190084] [ 0.98809916]\n",
      "¬C(f)\n",
      "[ 0.0156579] [ 0.9843421]\n",
      "¬C(g)\n",
      "[ 0.01111263] [ 0.98888737]\n",
      "¬C(h)\n",
      "[ 0.01360708] [ 0.98639292]\n",
      "S(n)\n",
      "[ 0.01318693] [ 0.98681307]\n",
      "¬S(j)\n",
      "[ 0.01100004] [ 0.98899996]\n",
      "¬S(k)\n",
      "[ 0.01534355] [ 0.98465645]\n",
      "¬S(m)\n",
      "[ 0.01246041] [ 0.98753959]\n",
      "17\n"
     ]
    },
    {
     "name": "stderr",
     "output_type": "stream",
     "text": [
      " 65%|██████▌   | 1300/2000 [06:55<03:43,  3.13it/s]"
     ]
    },
    {
     "data": {
      "image/png": "[encoded data removed]",
      "text/plain": [
       "<matplotlib.figure.Figure at 0x1a1ca52358>"
      ]
     },
     "metadata": {},
     "output_type": "display_data"
    },
    {
     "data": {
      "image/png": "[encoded data removed]",
      "text/plain": [
       "<matplotlib.figure.Figure at 0x1a1c077550>"
      ]
     },
     "metadata": {},
     "output_type": "display_data"
    },
    {
     "name": "stderr",
     "output_type": "stream",
     "text": [
      "\r",
      " 65%|██████▌   | 1301/2000 [06:55<03:43,  3.13it/s]"
     ]
    },
    {
     "name": "stdout",
     "output_type": "stream",
     "text": [
      "S(a)\n",
      "[ 0.0115099] [ 0.9884901]\n",
      "S(f)\n",
      "[ 0.01421887] [ 0.98578113]\n",
      "¬S(b)\n",
      "[ 0.010768] [ 0.989232]\n",
      "F(b, c)\n",
      "[ 0.99786234] [ 0.00213765]\n",
      "¬F(e, g)\n",
      "[ 0.01068562] [ 0.98931438]\n",
      "C(a)\n",
      "[ 0.01159024] [ 0.98840976]\n",
      "C(e)\n",
      "[ 0.02176279] [ 0.97823721]\n",
      "¬C(b)\n",
      "[ 0.01642025] [ 0.98357975]\n",
      "¬C(c)\n",
      "[ 0.01452762] [ 0.98547238]\n",
      "¬C(d)\n",
      "[ 0.01190084] [ 0.98809916]\n",
      "¬C(f)\n",
      "[ 0.01565796] [ 0.98434204]\n",
      "¬C(g)\n",
      "[ 0.01111263] [ 0.98888737]\n",
      "¬C(h)\n",
      "[ 0.0136072] [ 0.9863928]\n",
      "S(n)\n",
      "[ 0.01318693] [ 0.98681307]\n",
      "¬S(j)\n",
      "[ 0.0110001] [ 0.9889999]\n",
      "¬S(k)\n",
      "[ 0.01534337] [ 0.98465663]\n",
      "¬S(m)\n",
      "[ 0.01246041] [ 0.98753959]\n",
      "17\n"
     ]
    },
    {
     "name": "stderr",
     "output_type": "stream",
     "text": [
      " 70%|███████   | 1400/2000 [07:29<03:12,  3.12it/s]"
     ]
    },
    {
     "data": {
      "image/png": "[encoded data removed]",
      "text/plain": [
       "<matplotlib.figure.Figure at 0x1a14e95390>"
      ]
     },
     "metadata": {},
     "output_type": "display_data"
    },
    {
     "data": {
      "image/png": "[encoded data removed]",
      "text/plain": [
       "<matplotlib.figure.Figure at 0x1a20e739b0>"
      ]
     },
     "metadata": {},
     "output_type": "display_data"
    },
    {
     "name": "stderr",
     "output_type": "stream",
     "text": [
      "\r",
      " 70%|███████   | 1401/2000 [07:30<03:12,  3.11it/s]"
     ]
    },
    {
     "name": "stdout",
     "output_type": "stream",
     "text": [
      "S(a)\n",
      "[ 0.0115099] [ 0.9884901]\n",
      "S(f)\n",
      "[ 0.01421887] [ 0.98578113]\n",
      "¬S(b)\n",
      "[ 0.010768] [ 0.989232]\n",
      "F(b, c)\n",
      "[ 0.99786234] [ 0.00213763]\n",
      "¬F(e, g)\n",
      "[ 0.01068568] [ 0.98931432]\n",
      "C(a)\n",
      "[ 0.01159024] [ 0.98840976]\n",
      "C(e)\n",
      "[ 0.02176291] [ 0.97823709]\n",
      "¬C(b)\n",
      "[ 0.0164203] [ 0.9835797]\n",
      "¬C(c)\n",
      "[ 0.01452762] [ 0.98547238]\n",
      "¬C(d)\n",
      "[ 0.01190084] [ 0.98809916]\n",
      "¬C(f)\n",
      "[ 0.01565796] [ 0.98434204]\n",
      "¬C(g)\n",
      "[ 0.01111263] [ 0.98888737]\n",
      "¬C(h)\n",
      "[ 0.0136072] [ 0.9863928]\n",
      "S(n)\n",
      "[ 0.01318693] [ 0.98681307]\n",
      "¬S(j)\n",
      "[ 0.0110001] [ 0.9889999]\n",
      "¬S(k)\n",
      "[ 0.01534337] [ 0.98465663]\n",
      "¬S(m)\n",
      "[ 0.01246041] [ 0.98753959]\n",
      "17\n"
     ]
    },
    {
     "name": "stderr",
     "output_type": "stream",
     "text": [
      " 75%|███████▌  | 1500/2000 [07:56<02:38,  3.15it/s]"
     ]
    },
    {
     "data": {
      "image/png": "[encoded data removed]",
      "text/plain": [
       "<matplotlib.figure.Figure at 0x1107ea438>"
      ]
     },
     "metadata": {},
     "output_type": "display_data"
    },
    {
     "data": {
      "image/png": "[encoded data removed]",
      "text/plain": [
       "<matplotlib.figure.Figure at 0x1a1ca78240>"
      ]
     },
     "metadata": {},
     "output_type": "display_data"
    },
    {
     "name": "stderr",
     "output_type": "stream",
     "text": [
      "\r",
      " 75%|███████▌  | 1501/2000 [07:57<02:38,  3.15it/s]"
     ]
    },
    {
     "name": "stdout",
     "output_type": "stream",
     "text": [
      "S(a)\n",
      "[ 0.0115099] [ 0.9884901]\n",
      "S(f)\n",
      "[ 0.01421875] [ 0.98578125]\n",
      "¬S(b)\n",
      "[ 0.010768] [ 0.989232]\n",
      "F(b, c)\n",
      "[ 0.99786234] [ 0.00213764]\n",
      "¬F(e, g)\n",
      "[ 0.01068592] [ 0.98931408]\n",
      "C(a)\n",
      "[ 0.01159024] [ 0.98840976]\n",
      "C(e)\n",
      "[ 0.02176279] [ 0.97823721]\n",
      "¬C(b)\n",
      "[ 0.01642025] [ 0.98357975]\n",
      "¬C(c)\n",
      "[ 0.01452762] [ 0.98547238]\n",
      "¬C(d)\n",
      "[ 0.01190084] [ 0.98809916]\n",
      "¬C(f)\n",
      "[ 0.01565796] [ 0.98434204]\n",
      "¬C(g)\n",
      "[ 0.01111263] [ 0.98888737]\n",
      "¬C(h)\n",
      "[ 0.0136072] [ 0.9863928]\n",
      "S(n)\n",
      "[ 0.01318693] [ 0.98681307]\n",
      "¬S(j)\n",
      "[ 0.0110001] [ 0.9889999]\n",
      "¬S(k)\n",
      "[ 0.01534337] [ 0.98465663]\n",
      "¬S(m)\n",
      "[ 0.01246035] [ 0.98753965]\n",
      "17\n"
     ]
    },
    {
     "name": "stderr",
     "output_type": "stream",
     "text": [
      " 80%|████████  | 1600/2000 [08:24<02:06,  3.17it/s]"
     ]
    },
    {
     "data": {
      "image/png": "[encoded data removed]",
      "text/plain": [
       "<matplotlib.figure.Figure at 0x1063b6a20>"
      ]
     },
     "metadata": {},
     "output_type": "display_data"
    },
    {
     "data": {
      "image/png": "[encoded data removed]",
      "text/plain": [
       "<matplotlib.figure.Figure at 0x1a1c4e1198>"
      ]
     },
     "metadata": {},
     "output_type": "display_data"
    },
    {
     "name": "stderr",
     "output_type": "stream",
     "text": [
      "\r",
      " 80%|████████  | 1601/2000 [08:25<02:06,  3.17it/s]"
     ]
    },
    {
     "name": "stdout",
     "output_type": "stream",
     "text": [
      "S(a)\n",
      "[ 0.0115099] [ 0.9884901]\n",
      "S(f)\n",
      "[ 0.01421875] [ 0.98578125]\n",
      "¬S(b)\n",
      "[ 0.010768] [ 0.989232]\n",
      "F(b, c)\n",
      "[ 0.99786234] [ 0.00213764]\n",
      "¬F(e, g)\n",
      "[ 0.01068622] [ 0.98931378]\n",
      "C(a)\n",
      "[ 0.01159024] [ 0.98840976]\n",
      "C(e)\n",
      "[ 0.02176279] [ 0.97823721]\n",
      "¬C(b)\n",
      "[ 0.01642025] [ 0.98357975]\n",
      "¬C(c)\n",
      "[ 0.01452762] [ 0.98547238]\n",
      "¬C(d)\n",
      "[ 0.01190084] [ 0.98809916]\n",
      "¬C(f)\n",
      "[ 0.01565796] [ 0.98434204]\n",
      "¬C(g)\n",
      "[ 0.01111263] [ 0.98888737]\n",
      "¬C(h)\n",
      "[ 0.0136072] [ 0.9863928]\n",
      "S(n)\n",
      "[ 0.01318693] [ 0.98681307]\n",
      "¬S(j)\n",
      "[ 0.01100004] [ 0.98899996]\n",
      "¬S(k)\n",
      "[ 0.01534337] [ 0.98465663]\n",
      "¬S(m)\n",
      "[ 0.01246041] [ 0.98753959]\n",
      "17\n"
     ]
    },
    {
     "name": "stderr",
     "output_type": "stream",
     "text": [
      " 85%|████████▌ | 1700/2000 [08:49<01:33,  3.21it/s]"
     ]
    },
    {
     "data": {
      "image/png": "[encoded data removed]",
      "text/plain": [
       "<matplotlib.figure.Figure at 0x108e05d30>"
      ]
     },
     "metadata": {},
     "output_type": "display_data"
    },
    {
     "data": {
      "image/png": "[encoded data removed]",
      "text/plain": [
       "<matplotlib.figure.Figure at 0x1a20f68358>"
      ]
     },
     "metadata": {},
     "output_type": "display_data"
    },
    {
     "name": "stderr",
     "output_type": "stream",
     "text": [
      "\r",
      " 85%|████████▌ | 1701/2000 [08:50<01:33,  3.21it/s]"
     ]
    },
    {
     "name": "stdout",
     "output_type": "stream",
     "text": [
      "S(a)\n",
      "[ 0.01150978] [ 0.98849022]\n",
      "S(f)\n",
      "[ 0.01421863] [ 0.98578137]\n",
      "¬S(b)\n",
      "[ 0.010768] [ 0.989232]\n",
      "F(b, c)\n",
      "[ 0.99786305] [ 0.00213697]\n",
      "¬F(e, g)\n",
      "[ 0.01063591] [ 0.98936409]\n",
      "C(a)\n",
      "[ 0.01159096] [ 0.98840904]\n",
      "C(e)\n",
      "[ 0.02176416] [ 0.97823584]\n",
      "¬C(b)\n",
      "[ 0.01642019] [ 0.98357981]\n",
      "¬C(c)\n",
      "[ 0.01452744] [ 0.98547256]\n",
      "¬C(d)\n",
      "[ 0.01190078] [ 0.98809922]\n",
      "¬C(f)\n",
      "[ 0.0156579] [ 0.9843421]\n",
      "¬C(g)\n",
      "[ 0.01111257] [ 0.98888743]\n",
      "¬C(h)\n",
      "[ 0.01360691] [ 0.98639309]\n",
      "S(n)\n",
      "[ 0.01318693] [ 0.98681307]\n",
      "¬S(j)\n",
      "[ 0.01099998] [ 0.98900002]\n",
      "¬S(k)\n",
      "[ 0.01534331] [ 0.98465669]\n",
      "¬S(m)\n",
      "[ 0.01246053] [ 0.98753947]\n",
      "17\n"
     ]
    },
    {
     "name": "stderr",
     "output_type": "stream",
     "text": [
      " 90%|█████████ | 1800/2000 [09:14<01:01,  3.24it/s]"
     ]
    },
    {
     "data": {
      "image/png": "[encoded data removed]",
      "text/plain": [
       "<matplotlib.figure.Figure at 0x1a14ce5940>"
      ]
     },
     "metadata": {},
     "output_type": "display_data"
    },
    {
     "data": {
      "image/png": "[encoded data removed]",
      "text/plain": [
       "<matplotlib.figure.Figure at 0x1a1c4f5b00>"
      ]
     },
     "metadata": {},
     "output_type": "display_data"
    },
    {
     "name": "stderr",
     "output_type": "stream",
     "text": [
      "\r",
      " 90%|█████████ | 1801/2000 [09:15<01:01,  3.24it/s]"
     ]
    },
    {
     "name": "stdout",
     "output_type": "stream",
     "text": [
      "S(e)\n",
      "[ 0.01339561] [ 0.98660439]\n",
      "S(f)\n",
      "[ 0.01722759] [ 0.98277241]\n",
      "S(g)\n",
      "[ 0.01176828] [ 0.98823172]\n",
      "¬S(b)\n",
      "[ 0.01627785] [ 0.98372215]\n",
      "F(a, f)\n",
      "[ 0.02968299] [ 0.97031701]\n",
      "F(b, c)\n",
      "[ 0.99999231] [  7.68027985e-06]\n",
      "F(g, h)\n",
      "[ 0.99998099] [  1.89958482e-05]\n",
      "¬F(a, d)\n",
      "[ 0.03982037] [ 0.96017963]\n",
      "C(a)\n",
      "[ 0.03142458] [ 0.96857542]\n",
      "C(e)\n",
      "[ 0.03229958] [ 0.96770042]\n",
      "¬C(b)\n",
      "[ 0.01136827] [ 0.98863173]\n",
      "¬C(f)\n",
      "[ 0.0203988] [ 0.9796012]\n",
      "¬C(g)\n",
      "[ 0.02128673] [ 0.97871327]\n",
      "¬S(m)\n",
      "[ 0.01487571] [ 0.98512429]\n",
      "F(k, l)\n",
      "[ 0.01600242] [ 0.98399758]\n",
      "F(m, n)\n",
      "[ 0.99847978] [ 0.00152024]\n",
      "16\n"
     ]
    },
    {
     "name": "stderr",
     "output_type": "stream",
     "text": [
      " 95%|█████████▌| 1900/2000 [09:39<00:30,  3.28it/s]"
     ]
    },
    {
     "data": {
      "image/png": "[encoded data removed]",
      "text/plain": [
       "<matplotlib.figure.Figure at 0x1a20f5b8d0>"
      ]
     },
     "metadata": {},
     "output_type": "display_data"
    },
    {
     "data": {
      "image/png": "[encoded data removed]",
      "text/plain": [
       "<matplotlib.figure.Figure at 0x1a20ecaf60>"
      ]
     },
     "metadata": {},
     "output_type": "display_data"
    },
    {
     "name": "stderr",
     "output_type": "stream",
     "text": [
      "\r",
      " 95%|█████████▌| 1901/2000 [09:39<00:30,  3.28it/s]"
     ]
    },
    {
     "name": "stdout",
     "output_type": "stream",
     "text": [
      "S(a)\n",
      "[ 0.01159197] [ 0.98840803]\n",
      "S(f)\n",
      "[ 0.01442409] [ 0.98557591]\n",
      "F(b, c)\n",
      "[ 0.9985323] [ 0.00146773]\n",
      "¬F(e, g)\n",
      "[ 0.01135904] [ 0.98864096]\n",
      "C(a)\n",
      "[ 0.0117566] [ 0.9882434]\n",
      "C(e)\n",
      "[ 0.020643] [ 0.979357]\n",
      "¬C(b)\n",
      "[ 0.01577497] [ 0.98422503]\n",
      "¬C(c)\n",
      "[ 0.01454347] [ 0.98545653]\n",
      "¬C(d)\n",
      "[ 0.01305032] [ 0.98694968]\n",
      "¬C(f)\n",
      "[ 0.01599652] [ 0.98400348]\n",
      "¬C(g)\n",
      "[ 0.01250839] [ 0.98749161]\n",
      "¬C(h)\n",
      "[ 0.01306862] [ 0.98693138]\n",
      "S(n)\n",
      "[ 0.0137881] [ 0.9862119]\n",
      "¬S(j)\n",
      "[ 0.01108664] [ 0.98891336]\n",
      "¬S(k)\n",
      "[ 0.01449567] [ 0.98550433]\n",
      "¬S(l)\n",
      "[ 0.01044524] [ 0.98955476]\n",
      "¬S(m)\n",
      "[ 0.01307547] [ 0.98692453]\n",
      "17\n"
     ]
    },
    {
     "name": "stderr",
     "output_type": "stream",
     "text": [
      "100%|██████████| 2000/2000 [10:03<00:00,  3.31it/s]\n"
     ]
    }
   ],
   "source": [
    "ltn1=LTN(emb_dim,'abcdefghijklmn',[['S',1],['F',2],['C',1]])\n",
    "kb_train=kb1.union(kb2)\n",
    "optimizor=torch.optim.Adam(ltn1.parameters(),lr=0.1,weight_decay=0.1)\n",
    "mone=torch.FloatTensor([-1])\n",
    "one=torch.FloatTensor([1])\n",
    "average_prob=[]\n",
    "averate_loss=[]\n",
    "for i in tqdm(range(2000)):\n",
    "    optimizor.zero_grad()\n",
    "    total_probability=0.0\n",
    "    total_loss=0.0\n",
    "    for clause in kb_train.clauses:\n",
    "        loss,prob=ltn1.forward(clause=clause)\n",
    "        loss.backward(one)\n",
    "        total_probability+=prob.data.numpy()[0]\n",
    "        total_loss+=loss.data.numpy()[0]\n",
    "    optimizor.step()\n",
    "    average_prob.append(total_probability/len(kb_train.clauses))\n",
    "    averate_loss.append(total_loss/len(kb_train.clauses))\n",
    "    \n",
    "    if i%100==0:\n",
    "        plt.plot(average_prob)\n",
    "        plt.show()\n",
    "        plt.plot(averate_loss)\n",
    "        plt.show()\n",
    "        show_results(ltn1, kb_train)"
   ]
  },
  {
   "cell_type": "code",
   "execution_count": 25,
   "metadata": {
    "scrolled": true
   },
   "outputs": [
    {
     "name": "stdout",
     "output_type": "stream",
     "text": [
      "(Variable containing:\n",
      "1.00000e-02 *\n",
      "  7.9611\n",
      "[torch.FloatTensor of size 1]\n",
      ", Variable containing:\n",
      " 0.9204\n",
      "[torch.FloatTensor of size 1]\n",
      ")\n",
      "F(c, b)\n"
     ]
    }
   ],
   "source": [
    "c=Clause(1,1,[Predicate('F',['c','b'],False)])\n",
    "print(ltn1.forward(c))\n",
    "print(c.show())"
   ]
  },
  {
   "cell_type": "code",
   "execution_count": 27,
   "metadata": {
    "scrolled": true
   },
   "outputs": [
    {
     "name": "stderr",
     "output_type": "stream",
     "text": [
      "\n",
      "  0%|          | 0/2000 [00:00<?, ?it/s]\u001b[A"
     ]
    },
    {
     "data": {
      "image/png": "[encoded data removed]",
      "text/plain": [
       "<matplotlib.figure.Figure at 0x1a157ef240>"
      ]
     },
     "metadata": {},
     "output_type": "display_data"
    },
    {
     "data": {
      "image/png": "[encoded data removed]",
      "text/plain": [
       "<matplotlib.figure.Figure at 0x1a16be9cf8>"
      ]
     },
     "metadata": {},
     "output_type": "display_data"
    },
    {
     "name": "stdout",
     "output_type": "stream",
     "text": [
      "¬S(i) ∨ C(i)\n",
      "0.999967 3.28403e-05\n",
      "¬S(i) ∨ ¬F(i, j) ∨ S(j)\n",
      "0.999586 0.000414431\n",
      "¬S(i) ∨ ¬F(i, l) ∨ S(l)\n",
      "0.997065 0.00293487\n",
      "¬S(k) ∨ ¬F(k, j) ∨ S(j)\n",
      "0.562536 0.437464\n",
      "¬S(k) ∨ ¬F(k, l) ∨ S(l)\n",
      "0.730473 0.269527\n",
      "¬S(k) ∨ ¬F(k, m) ∨ S(m)\n",
      "0.200082 0.799918\n",
      "¬S(k) ∨ ¬F(k, n) ∨ S(n)\n",
      "0.730473 0.269527\n",
      "¬F(i, i) ∨ F(i, i)\n",
      "0.28875 0.71125\n",
      "¬F(i, j) ∨ F(j, i)\n",
      "0.982799 0.0172014\n",
      "¬F(i, l) ∨ F(l, i)\n",
      "0.681322 0.318678\n",
      "¬F(j, k) ∨ F(k, j)\n",
      "0.437464 0.562536\n",
      "¬F(j, l) ∨ F(l, j)\n",
      "0.907557 0.0924428\n",
      "¬F(j, n) ∨ F(n, j)\n",
      "0.0436706 0.956329\n",
      "¬F(k, i) ∨ F(i, k)\n",
      "0.997872 0.00212765\n",
      "¬F(k, j) ∨ F(j, k)\n",
      "0.0297787 0.970221\n",
      "¬F(k, m) ∨ F(m, k)\n",
      "0.200082 0.799918\n",
      "¬F(k, n) ∨ F(n, k)\n",
      "0.999914 8.58307e-05\n",
      "¬F(m, i) ∨ F(i, m)\n",
      "0.982785 0.0172148\n",
      "¬F(m, k) ∨ F(k, m)\n",
      "0.516389 0.483611\n",
      "¬F(m, l) ∨ F(l, m)\n",
      "0.973237 0.0267631\n",
      "¬F(m, n) ∨ F(n, m)\n",
      "0.954235 0.0457647\n",
      "¬F(n, i) ∨ F(i, n)\n",
      "0.999784 0.000216067\n",
      "¬F(n, j) ∨ F(j, n)\n",
      "0.178497 0.821503\n",
      "¬F(n, n) ∨ F(n, n)\n",
      "0.0473002 0.9527\n",
      "¬F(i, i)\n",
      "0.28875 0.71125\n",
      "¬F(l, l)\n",
      "1.0 3.57628e-07\n",
      "¬F(m, m)\n",
      "1.0 0.0\n",
      "¬F(n, n)\n",
      "0.0473002 0.9527\n",
      "¬S(a) ∨ C(a)\n",
      "0.997716 0.00228357\n",
      "¬S(c) ∨ C(c)\n",
      "0.371984 0.628016\n",
      "¬S(a) ∨ ¬F(a, b) ∨ S(b)\n",
      "0.950621 0.049379\n",
      "¬S(a) ∨ ¬F(a, c) ∨ S(c)\n",
      "0.628016 0.371984\n",
      "¬S(a) ∨ ¬F(a, d) ∨ S(d)\n",
      "0.997716 0.00228357\n",
      "¬S(a) ∨ ¬F(a, e) ∨ S(e)\n",
      "0.997716 0.00228357\n",
      "¬S(c) ∨ ¬F(c, c) ∨ S(c)\n",
      "0.019493 0.980507\n",
      "¬S(c) ∨ ¬F(c, e) ∨ S(e)\n",
      "0.371984 0.628016\n",
      "¬S(g) ∨ ¬F(g, b) ∨ S(b)\n",
      "0.176412 0.823588\n",
      "¬S(g) ∨ ¬F(g, c) ∨ S(c)\n",
      "0.628016 0.371984\n",
      "¬S(g) ∨ ¬F(g, d) ∨ S(d)\n",
      "0.971184 0.0288159\n",
      "¬S(g) ∨ ¬F(g, e) ∨ S(e)\n",
      "0.997456 0.00254399\n",
      "¬S(g) ∨ ¬F(g, f) ∨ S(f)\n",
      "0.0860333 0.913967\n",
      "F(c, a) ∨ F(c, b) ∨ F(c, c) ∨ F(c, d) ∨ F(c, e) ∨ F(c, f) ∨ F(c, g) ∨ F(c, h)\n",
      "0.0595183 0.940482\n",
      "¬F(a, b) ∨ F(b, a)\n",
      "0.897184 0.102816\n",
      "¬F(a, c) ∨ F(c, a)\n",
      "0.999978 2.15769e-05\n",
      "¬F(a, e) ∨ F(e, a)\n",
      "0.0192059 0.980794\n",
      "¬F(a, g) ∨ F(g, a)\n",
      "0.0405267 0.959473\n",
      "¬F(b, a) ∨ F(a, b)\n",
      "0.049379 0.950621\n",
      "¬F(b, b) ∨ F(b, b)\n",
      "0.248675 0.751325\n",
      "¬F(b, c) ∨ F(c, b)\n",
      "0.999366 0.000633947\n",
      "¬F(b, d) ∨ F(d, b)\n",
      "0.783331 0.216669\n",
      "¬F(b, e) ∨ F(e, b)\n",
      "0.369969 0.630031\n",
      "¬F(b, f) ∨ F(f, b)\n",
      "0.949914 0.0500858\n",
      "¬F(c, c) ∨ F(c, c)\n",
      "0.019493 0.980507\n",
      "¬F(c, e) ∨ F(e, c)\n",
      "0.771246 0.228754\n",
      "¬F(d, c) ∨ F(c, d)\n",
      "0.96248 0.0375197\n",
      "¬F(d, e) ∨ F(e, d)\n",
      "0.0113231 0.988677\n",
      "¬F(e, c) ∨ F(c, e)\n",
      "0.0595183 0.940482\n",
      "¬F(e, d) ∨ F(d, e)\n",
      "0.483038 0.516962\n",
      "¬F(f, a) ∨ F(a, f)\n",
      "0.999855 0.000144551\n",
      "¬F(f, b) ∨ F(b, f)\n",
      "0.013315 0.986685\n",
      "¬F(f, c) ∨ F(c, f)\n",
      "0.996343 0.00365707\n",
      "¬F(f, d) ∨ F(d, f)\n",
      "0.872086 0.127914\n",
      "¬F(f, e) ∨ F(e, f)\n",
      "0.253655 0.746345\n",
      "¬F(f, f) ∨ F(f, f)\n",
      "0.259416 0.740584\n",
      "¬F(f, g) ∨ F(g, f)\n",
      "0.844696 0.155304\n",
      "¬F(g, b) ∨ F(b, g)\n",
      "0.176412 0.823588\n",
      "¬F(g, c) ∨ F(c, g)\n",
      "0.694811 0.305189\n",
      "¬F(g, d) ∨ F(d, g)\n",
      "0.971184 0.0288159\n",
      "¬F(g, e) ∨ F(e, g)\n",
      "0.0342185 0.965782\n",
      "¬F(g, f) ∨ F(f, g)\n",
      "0.0860333 0.913967\n",
      "¬F(h, c) ∨ F(c, h)\n",
      "0.0109828 0.989017\n",
      "¬F(h, d) ∨ F(d, h)\n",
      "0.135179 0.864821\n",
      "¬F(h, e) ∨ F(e, h)\n",
      "0.998978 0.00102174\n",
      "¬F(h, f) ∨ F(f, h)\n",
      "0.75313 0.24687\n",
      "¬F(h, g) ∨ F(g, h)\n",
      "0.999994 6.19888e-06\n",
      "¬F(a, a)\n",
      "0.999983 1.74046e-05\n",
      "¬F(b, b)\n",
      "0.248675 0.751325\n",
      "¬F(c, c)\n",
      "0.019493 0.980507\n",
      "¬F(d, d)\n",
      "0.999985 1.46627e-05\n",
      "¬F(e, e)\n",
      "1.0 1.19209e-07\n",
      "¬F(f, f)\n",
      "0.259416 0.740584\n",
      "¬F(g, g)\n",
      "0.999997 2.5034e-06\n",
      "S(n)\n",
      "1.0 1.26043e-09\n",
      "¬S(k)\n",
      "0.730473 0.269527\n",
      "F(i, m)\n",
      "0.99777 0.00222955\n",
      "¬F(i, l)\n",
      "0.997065 0.00293487\n",
      "¬F(j, k)\n",
      "0.970221 0.0297787\n",
      "¬F(j, l)\n",
      "0.999102 0.000897527\n",
      "¬F(j, n)\n",
      "0.821503 0.178497\n",
      "¬F(l, n)\n",
      "0.999624 0.000376463\n",
      "¬F(k, m)\n",
      "0.200082 0.799918\n",
      "S(e)\n",
      "0.999261 0.000739253\n",
      "S(f)\n",
      "0.996154 0.00384613\n",
      "¬S(c)\n",
      "0.371984 0.628016\n",
      "F(a, b)\n",
      "0.049379 0.950621\n",
      "F(a, f)\n",
      "0.999855 "
     ]
    },
    {
     "name": "stderr",
     "output_type": "stream",
     "text": [
      "\n",
      "  0%|          | 1/2000 [00:06<3:45:29,  6.77s/it]\u001b[A"
     ]
    },
    {
     "name": "stdout",
     "output_type": "stream",
     "text": [
      "0.000144551\n",
      "F(c, d)\n",
      "0.998947 0.00105302\n",
      "F(e, f)\n",
      "0.253655 0.746345\n",
      "F(g, h)\n",
      "1.0 1.47258e-08\n",
      "¬F(a, c)\n",
      "0.999978 2.15769e-05\n",
      "¬F(a, d)\n",
      "0.999858 0.000142097\n",
      "¬F(b, d)\n",
      "0.783331 0.216669\n",
      "¬F(b, e)\n",
      "0.999887 0.00011313\n",
      "¬F(b, f)\n",
      "0.986685 0.013315\n",
      "¬F(c, e)\n",
      "0.940482 0.0595183\n",
      "¬F(c, g)\n",
      "0.305189 0.694811\n",
      "¬F(d, e)\n",
      "0.516962 0.483038\n",
      "¬F(d, f)\n",
      "0.127914 0.872086\n",
      "¬F(d, h)\n",
      "0.864821 0.135179\n",
      "¬F(e, g)\n",
      "0.965782 0.0342185\n",
      "¬F(f, g)\n",
      "0.844696 0.155304\n",
      "C(a)\n",
      "0.999963 3.74586e-05\n",
      "¬C(b)\n",
      "0.990892 0.00910848\n",
      "¬C(c)\n",
      "0.0228243 0.977176\n",
      "¬C(f)\n",
      "0.999994 5.72205e-06\n",
      "¬C(g)\n",
      "1.0 2.38419e-07\n",
      "¬C(h)\n",
      "0.999702 0.000298202\n",
      "117\n"
     ]
    },
    {
     "name": "stderr",
     "output_type": "stream",
     "text": [
      "\n",
      "Exception in thread Thread-6:\n",
      "Traceback (most recent call last):\n",
      "  File \"/Users/sunxiaofei/anaconda3/lib/python3.6/threading.py\", line 916, in _bootstrap_inner\n",
      "    self.run()\n",
      "  File \"/Users/sunxiaofei/anaconda3/lib/python3.6/site-packages/tqdm/_tqdm.py\", line 144, in run\n",
      "    for instance in self.tqdm_cls._instances:\n",
      "  File \"/Users/sunxiaofei/anaconda3/lib/python3.6/_weakrefset.py\", line 60, in __iter__\n",
      "    for itemref in self.data:\n",
      "RuntimeError: Set changed size during iteration\n",
      "\n",
      "  5%|▌         | 100/2000 [07:35<2:24:19,  4.56s/it]"
     ]
    },
    {
     "data": {
      "image/png": "[encoded data removed]",
      "text/plain": [
       "<matplotlib.figure.Figure at 0x1a2034e828>"
      ]
     },
     "metadata": {},
     "output_type": "display_data"
    },
    {
     "data": {
      "image/png": "[encoded data removed]",
      "text/plain": [
       "<matplotlib.figure.Figure at 0x1a1cf909b0>"
      ]
     },
     "metadata": {},
     "output_type": "display_data"
    },
    {
     "name": "stdout",
     "output_type": "stream",
     "text": [
      "¬S(i) ∨ ¬F(i, j) ∨ S(j)\n",
      "0.0269589 0.973041\n",
      "¬S(i) ∨ ¬F(i, m) ∨ S(m)\n",
      "0.650642 0.349358\n",
      "¬S(k) ∨ ¬F(k, j) ∨ S(j)\n",
      "0.0440266 0.955973\n",
      "F(i, i) ∨ F(i, j) ∨ F(i, k) ∨ F(i, l) ∨ F(i, m) ∨ F(i, n)\n",
      "0.349358 0.650642\n",
      "F(k, i) ∨ F(k, j) ∨ F(k, k) ∨ F(k, l) ∨ F(k, m) ∨ F(k, n)\n",
      "0.955973 0.0440266\n",
      "¬F(i, j) ∨ F(j, i)\n",
      "0.0269589 0.973041\n",
      "¬F(k, j) ∨ F(j, k)\n",
      "0.0440266 0.955973\n",
      "¬F(l, j) ∨ F(j, l)\n",
      "0.997081 0.00291854\n",
      "¬F(m, i) ∨ F(i, m)\n",
      "0.349358 0.650642\n",
      "¬F(n, m) ∨ F(m, n)\n",
      "0.982923 0.0170768\n",
      "¬S(g) ∨ C(g)\n",
      "0.224109 0.775891\n",
      "¬S(a) ∨ ¬F(a, a) ∨ S(a)\n",
      "0.0102258 0.989774\n",
      "¬S(a) ∨ ¬F(a, d) ∨ S(d)\n",
      "0.0102258 0.989774\n",
      "¬S(a) ∨ ¬F(a, e) ∨ S(e)\n",
      "0.0102258 0.989774\n",
      "¬S(a) ∨ ¬F(a, f) ∨ S(f)\n",
      "0.0102258 0.989774\n",
      "¬S(g) ∨ ¬F(g, a) ∨ S(a)\n",
      "0.0824531 0.917547\n",
      "¬S(g) ∨ ¬F(g, d) ∨ S(d)\n",
      "0.888589 0.111411\n",
      "¬S(g) ∨ ¬F(g, e) ∨ S(e)\n",
      "0.136586 0.863414\n",
      "F(g, a) ∨ F(g, b) ∨ F(g, c) ∨ F(g, d) ∨ F(g, e) ∨ F(g, f) ∨ F(g, g) ∨ F(g, h)\n",
      "0.111411 0.888589\n",
      "¬F(a, g) ∨ F(g, a)\n",
      "0.917547 0.0824532\n",
      "¬F(b, a) ∨ F(a, b)\n",
      "0.483566 0.516434\n",
      "¬F(b, c) ∨ F(c, b)\n",
      "0.61824 0.38176\n",
      "¬F(b, e) ∨ F(e, b)\n",
      "0.0194556 0.980544\n",
      "¬F(d, a) ∨ F(a, d)\n",
      "0.0163388 0.983661\n",
      "¬F(e, d) ∨ F(d, e)\n",
      "0.038527 0.961473\n",
      "¬F(f, a) ∨ F(a, f)\n",
      "0.0193817 0.980618\n",
      "¬F(f, d) ∨ F(d, f)\n",
      "0.0123721 0.987628\n",
      "¬F(g, d) ∨ F(d, g)\n",
      "0.888589 0.111411\n",
      "¬F(g, e) ∨ F(e, g)\n",
      "0.136586 0.863414\n",
      "¬F(h, f) ∨ F(f, h)\n",
      "0.0107619 0.989238\n",
      "¬F(a, a)\n",
      "0.999995 5.126e-06\n",
      "¬F(e, e)\n",
      "1.0 1.19209e-07\n",
      "S(n)\n",
      "0.998003 0.00199718\n",
      "¬S(k)\n",
      "0.0711683 0.928832\n",
      "F(i, j)\n",
      "0.973041 0.0269589\n",
      "F(i, m)\n",
      "0.349358 0.650642\n",
      "F(k, l)\n",
      "0.999199 0.00080053\n",
      "F(m, n)\n",
      "0.982923 0.0170768\n",
      "¬F(j, n)\n",
      "0.998887 0.00111324\n",
      "S(a)\n",
      "0.989774 0.0102258\n",
      "S(e)\n",
      "1.0 2.32241e-08\n",
      "S(f)\n",
      "0.994037 0.00596276\n",
      "F(a, b)\n",
      "0.999274 0.000725741\n",
      "F(a, f)\n",
      "0.0193817 0.980618\n",
      "F(b, c)\n",
      "0.38176 0.61824\n",
      "F(c, d)\n",
      "1.0 5.01951e-10\n",
      "F(g, h)\n",
      "1.0 3.99625e-13\n"
     ]
    },
    {
     "name": "stderr",
     "output_type": "stream",
     "text": [
      "\r",
      "  5%|▌         | 101/2000 [07:43<2:25:19,  4.59s/it]"
     ]
    },
    {
     "name": "stdout",
     "output_type": "stream",
     "text": [
      "¬F(a, d)\n",
      "0.983661 0.0163388\n",
      "¬F(b, e)\n",
      "0.998005 0.00199467\n",
      "¬F(c, e)\n",
      "0.999984 1.5974e-05\n",
      "¬F(d, e)\n",
      "0.961473 0.038527\n",
      "¬F(e, h)\n",
      "0.994865 0.00513452\n",
      "¬C(d)\n",
      "0.0113711 0.988629\n",
      "¬C(f)\n",
      "1.0 2.38419e-07\n",
      "¬C(g)\n",
      "0.775891 0.224109\n",
      "55\n"
     ]
    },
    {
     "name": "stderr",
     "output_type": "stream",
     "text": [
      " 10%|█         | 200/2000 [13:35<2:02:15,  4.08s/it]"
     ]
    },
    {
     "data": {
      "image/png": "[encoded data removed]",
      "text/plain": [
       "<matplotlib.figure.Figure at 0x1a1d028668>"
      ]
     },
     "metadata": {},
     "output_type": "display_data"
    },
    {
     "data": {
      "image/png": "[encoded data removed]",
      "text/plain": [
       "<matplotlib.figure.Figure at 0x1a2099ef28>"
      ]
     },
     "metadata": {},
     "output_type": "display_data"
    },
    {
     "name": "stdout",
     "output_type": "stream",
     "text": [
      "F(k, i) ∨ F(k, j) ∨ F(k, k) ∨ F(k, l) ∨ F(k, m) ∨ F(k, n)\n",
      "0.999963 3.71318e-05\n",
      "F(l, i) ∨ F(l, j) ∨ F(l, k) ∨ F(l, l) ∨ F(l, m) ∨ F(l, n)\n",
      "0.996622 0.0033778\n",
      "¬F(i, j) ∨ F(j, i)\n",
      "0.76611 0.23389\n",
      "¬F(m, m) ∨ F(m, m)\n",
      "0.0101128 0.989887\n",
      "¬F(n, l) ∨ F(l, n)\n",
      "0.0122289 0.987771\n",
      "¬F(m, m)\n",
      "0.0101128 0.989887\n",
      "¬F(n, n)\n",
      "0.999978 2.20537e-05\n",
      "¬S(d) ∨ C(d)\n",
      "0.999866 0.00013411\n",
      "¬S(g) ∨ C(g)\n",
      "0.677575 0.322425\n",
      "¬S(d) ∨ ¬F(d, a) ∨ S(a)\n",
      "0.996775 0.00322455\n",
      "¬S(d) ∨ ¬F(d, b) ∨ S(b)\n",
      "0.856931 0.143069\n",
      "¬S(d) ∨ ¬F(d, e) ∨ S(e)\n",
      "0.998467 0.00153322\n",
      "¬S(d) ∨ ¬F(d, h) ∨ S(h)\n",
      "0.0969861 0.903014\n",
      "¬S(g) ∨ ¬F(g, a) ∨ S(a)\n",
      "0.677575 0.322425\n",
      "F(c, a) ∨ F(c, b) ∨ F(c, c) ∨ F(c, d) ∨ F(c, e) ∨ F(c, f) ∨ F(c, g) ∨ F(c, h)\n",
      "0.0877462 0.912254\n",
      "¬F(a, b) ∨ F(b, a)\n",
      "0.0538503 0.94615\n",
      "¬F(a, c) ∨ F(c, a)\n",
      "0.0765228 0.923477\n",
      "¬F(a, h) ∨ F(h, a)\n",
      "0.0626419 0.937358\n",
      "¬F(b, c) ∨ F(c, b)\n",
      "0.513888 0.486112\n",
      "¬F(b, d) ∨ F(d, b)\n",
      "0.143069 0.856931\n",
      "¬F(b, e) ∨ F(e, b)\n",
      "0.0427703 0.95723\n",
      "¬F(b, g) ∨ F(g, b)\n",
      "0.0328944 0.967106\n",
      "¬F(d, b) ∨ F(b, d)\n",
      "0.0704491 0.929551\n",
      "¬F(d, h) ∨ F(h, d)\n",
      "0.0969861 0.903014\n",
      "¬F(e, b) ∨ F(b, e)\n",
      "0.0132715 0.986728\n",
      "¬F(e, c) ∨ F(c, e)\n",
      "0.0877462 0.912254\n",
      "¬F(e, g) ∨ F(g, e)\n",
      "0.0277758 0.972224\n",
      "¬F(f, a) ∨ F(a, f)\n",
      "0.0246351 0.975365\n",
      "¬F(f, b) ∨ F(b, f)\n",
      "0.0344248 0.965575\n",
      "¬F(f, c) ∨ F(c, f)\n",
      "0.997679 0.00232059\n",
      "¬F(f, f) ∨ F(f, f)\n",
      "0.0875087 0.912491\n"
     ]
    },
    {
     "name": "stderr",
     "output_type": "stream",
     "text": [
      "\r",
      " 10%|█         | 201/2000 [13:39<2:02:17,  4.08s/it]"
     ]
    },
    {
     "name": "stdout",
     "output_type": "stream",
     "text": [
      "¬F(h, e) ∨ F(e, h)\n",
      "0.99423 0.00577033\n",
      "¬F(a, a)\n",
      "1.0 0.0\n",
      "¬F(b, b)\n",
      "0.99166 0.0083403\n",
      "¬F(e, e)\n",
      "1.0 0.0\n",
      "¬F(f, f)\n",
      "0.0875087 0.912491\n",
      "S(i)\n",
      "0.999472 0.000528416\n",
      "S(n)\n",
      "0.999491 0.000508819\n",
      "F(i, j)\n",
      "0.23389 0.76611\n",
      "F(k, l)\n",
      "0.999985 1.45364e-05\n",
      "¬F(j, n)\n",
      "0.999881 0.00011909\n",
      "S(a)\n",
      "0.999931 6.86524e-05\n",
      "S(e)\n",
      "0.998467 0.00153322\n",
      "S(f)\n",
      "0.999778 0.000222318\n",
      "S(g)\n",
      "0.322425 0.677575\n",
      "¬S(d)\n",
      "0.999866 0.00013411\n",
      "F(a, f)\n",
      "0.0246351 0.975365\n",
      "F(b, c)\n",
      "0.486112 0.513888\n",
      "F(c, d)\n",
      "1.0 1.20241e-12\n",
      "F(g, h)\n",
      "0.999992 8.28352e-06\n",
      "¬F(a, c)\n",
      "0.0765228 0.923477\n",
      "¬F(a, d)\n",
      "0.999985 1.49012e-05\n",
      "¬F(a, h)\n",
      "0.0626419 0.937358\n",
      "¬F(b, d)\n",
      "0.929551 0.0704491\n",
      "¬F(b, e)\n",
      "0.0427703 0.95723\n",
      "¬F(b, g)\n",
      "0.0328944 0.967106\n",
      "¬F(c, e)\n",
      "0.912254 0.0877462\n",
      "¬F(d, e)\n",
      "0.999963 3.68357e-05\n",
      "¬F(d, h)\n",
      "0.0969861 0.903014\n",
      "¬F(e, g)\n",
      "0.0277758 0.972224\n",
      "C(a)\n",
      "0.080063 0.919937\n",
      "C(e)\n",
      "0.128677 0.871323\n",
      "¬C(c)\n",
      "0.0132217 0.986778\n",
      "¬C(f)\n",
      "0.0137491 0.986251\n",
      "64\n"
     ]
    },
    {
     "name": "stderr",
     "output_type": "stream",
     "text": [
      " 15%|█▌        | 300/2000 [19:51<1:52:30,  3.97s/it]"
     ]
    },
    {
     "data": {
      "image/png": "[encoded data removed]",
      "text/plain": [
       "<matplotlib.figure.Figure at 0x1a209aac18>"
      ]
     },
     "metadata": {},
     "output_type": "display_data"
    },
    {
     "data": {
      "image/png": "[encoded data removed]",
      "text/plain": [
       "<matplotlib.figure.Figure at 0x1a209ec080>"
      ]
     },
     "metadata": {},
     "output_type": "display_data"
    },
    {
     "name": "stdout",
     "output_type": "stream",
     "text": [
      "F(k, i) ∨ F(k, j) ∨ F(k, k) ∨ F(k, l) ∨ F(k, m) ∨ F(k, n)\n",
      "0.999824 0.000176011\n",
      "F(l, i) ∨ F(l, j) ∨ F(l, k) ∨ F(l, l) ∨ F(l, m) ∨ F(l, n)\n",
      "0.999962 3.77395e-05\n",
      "¬F(i, j) ∨ F(j, i)\n",
      "0.0373932 0.962607\n",
      "¬F(n, n)\n",
      "1.0 0.0\n",
      "¬S(d) ∨ ¬F(d, a) ∨ S(a)\n",
      "0.0159132 0.984087\n",
      "F(h, a) ∨ F(h, b) ∨ F(h, c) ∨ F(h, d) ∨ F(h, e) ∨ F(h, f) ∨ F(h, g) ∨ F(h, h)\n",
      "0.88919 0.11081\n",
      "¬F(a, e) ∨ F(e, a)\n",
      "0.0621815 0.937818\n",
      "¬F(c, a) ∨ F(a, c)\n",
      "0.230709 0.769291\n",
      "¬F(c, d) ∨ F(d, c)\n",
      "0.0237843 0.976216\n",
      "¬F(d, a) ∨ F(a, d)\n",
      "0.0115722 0.988428\n",
      "¬F(f, e) ∨ F(e, f)\n",
      "0.0112273 0.988773\n",
      "¬F(h, b) ∨ F(b, h)\n",
      "0.11081 0.88919\n",
      "¬F(a, a)\n",
      "1.0 0.0\n",
      "¬F(e, e)\n",
      "0.998908 0.00109231\n",
      "¬F(f, f)\n",
      "0.99997 3.016e-05\n",
      "S(i)\n",
      "0.999757 0.000243258\n",
      "S(n)\n",
      "0.999928 7.17393e-05\n",
      "F(i, j)\n",
      "0.962607 0.0373931\n",
      "F(k, l)\n",
      "0.999979 2.08029e-05\n",
      "¬F(j, n)\n",
      "0.999965 3.46899e-05\n",
      "S(a)\n",
      "1.0 1.18117e-08\n",
      "S(e)\n",
      "0.998592 0.00140748\n",
      "S(f)\n",
      "0.999987 1.27246e-05\n",
      "S(g)\n",
      "0.997954 0.00204574\n",
      "¬S(d)\n",
      "0.0159132 0.984087\n",
      "F(b, c)\n",
      "0.992819 0.00718144\n",
      "F(c, d)\n",
      "0.976216 0.0237843\n",
      "F(e, f)\n",
      "0.0112273 0.988773\n",
      "F(g, h)\n",
      "1.0 2.53589e-12\n",
      "¬F(a, c)\n",
      "0.769291 0.230709\n",
      "¬F(a, d)\n",
      "0.988428 0.0115722\n"
     ]
    },
    {
     "name": "stderr",
     "output_type": "stream",
     "text": [
      "\r",
      " 15%|█▌        | 301/2000 [19:56<1:52:33,  3.97s/it]"
     ]
    },
    {
     "name": "stdout",
     "output_type": "stream",
     "text": [
      "¬C(d)\n",
      "0.999995 5.126e-06\n",
      "32\n"
     ]
    },
    {
     "name": "stderr",
     "output_type": "stream",
     "text": [
      " 20%|██        | 400/2000 [26:59<1:47:59,  4.05s/it]"
     ]
    },
    {
     "data": {
      "image/png": "[encoded data removed]",
      "text/plain": [
       "<matplotlib.figure.Figure at 0x1a1d0a3898>"
      ]
     },
     "metadata": {},
     "output_type": "display_data"
    },
    {
     "data": {
      "image/png": "[encoded data removed]",
      "text/plain": [
       "<matplotlib.figure.Figure at 0x1a209f3828>"
      ]
     },
     "metadata": {},
     "output_type": "display_data"
    },
    {
     "name": "stdout",
     "output_type": "stream",
     "text": [
      "F(k, i) ∨ F(k, j) ∨ F(k, k) ∨ F(k, l) ∨ F(k, m) ∨ F(k, n)\n",
      "0.844794 0.155206\n",
      "F(l, i) ∨ F(l, j) ∨ F(l, k) ∨ F(l, l) ∨ F(l, m) ∨ F(l, n)\n",
      "0.999952 4.84772e-05\n",
      "¬F(i, j) ∨ F(j, i)\n",
      "0.0171546 0.982845\n",
      "¬F(k, j) ∨ F(j, k)\n",
      "0.155206 0.844794\n",
      "¬F(n, n)\n",
      "0.99999 1.03712e-05\n",
      "F(h, a) ∨ F(h, b) ∨ F(h, c) ∨ F(h, d) ∨ F(h, e) ∨ F(h, f) ∨ F(h, g) ∨ F(h, h)\n",
      "0.999458 0.000542287\n",
      "¬F(c, a) ∨ F(a, c)\n",
      "0.527877 0.472123\n",
      "¬F(d, a) ∨ F(a, d)\n",
      "0.163409 0.836591\n",
      "¬F(f, e) ∨ F(e, f)\n",
      "0.01131 0.98869\n"
     ]
    },
    {
     "name": "stderr",
     "output_type": "stream",
     "text": [
      "\r",
      " 20%|██        | 401/2000 [27:05<1:48:00,  4.05s/it]"
     ]
    },
    {
     "name": "stdout",
     "output_type": "stream",
     "text": [
      "¬F(a, a)\n",
      "1.0 0.0\n",
      "¬F(e, e)\n",
      "0.998544 0.00145578\n",
      "¬F(f, f)\n",
      "0.999998 1.90735e-06\n",
      "S(i)\n",
      "0.999871 0.000129106\n",
      "S(n)\n",
      "0.99975 0.000250423\n",
      "F(i, j)\n",
      "0.982845 0.0171546\n",
      "F(k, l)\n",
      "0.999996 3.60727e-06\n",
      "¬F(j, n)\n",
      "0.999857 0.000143051\n",
      "S(a)\n",
      "1.0 3.96539e-10\n",
      "S(e)\n",
      "0.999869 0.000130727\n",
      "S(f)\n",
      "0.999986 1.41327e-05\n",
      "S(g)\n",
      "0.999679 0.000320772\n",
      "F(b, c)\n",
      "0.99996 3.96077e-05\n",
      "F(c, d)\n",
      "0.999969 3.13077e-05\n",
      "F(e, f)\n",
      "0.01131 0.98869\n",
      "F(g, h)\n",
      "1.0 3.71791e-09\n",
      "¬F(a, c)\n",
      "0.472123 0.527877\n",
      "¬F(a, d)\n",
      "0.836591 0.163409\n",
      "27\n"
     ]
    },
    {
     "name": "stderr",
     "output_type": "stream",
     "text": [
      " 25%|██▌       | 500/2000 [34:10<1:42:30,  4.10s/it]"
     ]
    },
    {
     "data": {
      "image/png": "[encoded data removed]",
      "text/plain": [
       "<matplotlib.figure.Figure at 0x1a1d043fd0>"
      ]
     },
     "metadata": {},
     "output_type": "display_data"
    },
    {
     "data": {
      "image/png": "[encoded data removed]",
      "text/plain": [
       "<matplotlib.figure.Figure at 0x1a1d433080>"
      ]
     },
     "metadata": {},
     "output_type": "display_data"
    },
    {
     "name": "stdout",
     "output_type": "stream",
     "text": [
      "¬S(n) ∨ ¬F(n, m) ∨ S(m)\n",
      "0.187914 0.812086\n",
      "F(j, i) ∨ F(j, j) ∨ F(j, k) ∨ F(j, l) ∨ F(j, m) ∨ F(j, n)\n",
      "0.279725 0.720275\n",
      "¬F(j, i) ∨ F(i, j)\n",
      "0.720275 0.279725\n",
      "¬F(k, i) ∨ F(i, k)\n",
      "0.199172 0.800828\n",
      "¬F(l, i) ∨ F(i, l)\n",
      "0.959407 0.0405928\n",
      "¬F(d, a) ∨ F(a, d)\n",
      "0.954995 0.0450049\n",
      "¬F(h, a) ∨ F(a, h)\n",
      "0.991314 0.00868596\n",
      "¬F(a, a)\n",
      "1.0 0.0\n",
      "¬F(e, e)\n",
      "0.99997 2.99215e-05\n",
      "¬F(f, f)\n",
      "0.999929 7.12872e-05\n",
      "S(i)\n",
      "1.0 1.71518e-10\n",
      "S(n)\n",
      "0.812086 0.187914\n",
      "F(i, j)\n",
      "0.998019 0.00198058\n",
      "F(k, l)\n",
      "0.997534 0.00246594\n",
      "¬F(i, k)\n",
      "0.800828 0.199172\n",
      "¬F(i, l)\n",
      "0.0405928 0.959407\n",
      "S(a)\n",
      "1.0 6.95196e-11\n",
      "S(e)\n",
      "0.999558 0.000441752\n",
      "S(f)\n",
      "0.999999 7.89589e-07\n"
     ]
    },
    {
     "name": "stderr",
     "output_type": "stream",
     "text": [
      "\r",
      " 25%|██▌       | 501/2000 [34:14<1:42:27,  4.10s/it]"
     ]
    },
    {
     "name": "stdout",
     "output_type": "stream",
     "text": [
      "S(g)\n",
      "0.999503 0.000496774\n",
      "F(b, c)\n",
      "0.999947 5.31859e-05\n",
      "F(c, d)\n",
      "0.999999 1.259e-06\n",
      "F(g, h)\n",
      "1.0 9.75674e-10\n",
      "¬F(a, c)\n",
      "0.99999 1.01328e-05\n",
      "¬F(a, d)\n",
      "0.0450049 0.954995\n",
      "25\n"
     ]
    },
    {
     "name": "stderr",
     "output_type": "stream",
     "text": [
      " 30%|███       | 600/2000 [39:36<1:32:26,  3.96s/it]"
     ]
    },
    {
     "data": {
      "image/png": "[encoded data removed]",
      "text/plain": [
       "<matplotlib.figure.Figure at 0x1a158039e8>"
      ]
     },
     "metadata": {},
     "output_type": "display_data"
    },
    {
     "data": {
      "image/png": "[encoded data removed]",
      "text/plain": [
       "<matplotlib.figure.Figure at 0x1a2084b240>"
      ]
     },
     "metadata": {},
     "output_type": "display_data"
    },
    {
     "name": "stdout",
     "output_type": "stream",
     "text": [
      "¬S(n) ∨ ¬F(n, m) ∨ S(m)\n",
      "0.0100932 0.989907\n",
      "F(j, i) ∨ F(j, j) ∨ F(j, k) ∨ F(j, l) ∨ F(j, m) ∨ F(j, n)\n",
      "0.986045 0.0139554\n",
      "¬F(j, i) ∨ F(i, j)\n",
      "0.0139554 0.986045\n",
      "¬F(k, i) ∨ F(i, k)\n",
      "0.99987 0.000130436\n",
      "¬F(l, i) ∨ F(i, l)\n",
      "0.999735 0.000265413\n",
      "¬F(d, a) ∨ F(a, d)\n",
      "0.122507 0.877493\n",
      "¬F(h, a) ∨ F(a, h)\n",
      "0.497952 0.502048\n",
      "¬F(a, a)\n",
      "1.0 0.0\n",
      "¬F(e, e)\n",
      "0.999933 6.69956e-05\n",
      "¬F(f, f)\n",
      "0.995219 0.00478071\n",
      "S(i)\n",
      "0.999998 1.614e-06\n",
      "S(n)\n",
      "0.989907 0.0100932\n",
      "F(i, j)\n",
      "0.999996 3.52591e-06\n",
      "F(k, l)\n",
      "0.999041 0.000958967\n"
     ]
    },
    {
     "name": "stderr",
     "output_type": "stream",
     "text": [
      "\r",
      " 30%|███       | 601/2000 [39:42<1:32:24,  3.96s/it]"
     ]
    },
    {
     "name": "stdout",
     "output_type": "stream",
     "text": [
      "S(a)\n",
      "1.0 5.93507e-09\n",
      "S(e)\n",
      "0.999953 4.72138e-05\n",
      "S(f)\n",
      "1.0 4.73346e-08\n",
      "S(g)\n",
      "0.999658 0.000342338\n",
      "F(b, c)\n",
      "0.999999 8.89595e-07\n",
      "F(c, d)\n",
      "0.999987 1.27252e-05\n",
      "F(g, h)\n",
      "1.0 3.26956e-10\n",
      "¬F(a, c)\n",
      "0.999891 0.000108957\n",
      "¬F(a, d)\n",
      "0.877493 0.122507\n",
      "¬F(a, h)\n",
      "0.502048 0.497952\n",
      "24\n"
     ]
    },
    {
     "name": "stderr",
     "output_type": "stream",
     "text": [
      " 35%|███▌      | 700/2000 [45:53<1:25:13,  3.93s/it]"
     ]
    },
    {
     "data": {
      "image/png": "[encoded data removed]",
      "text/plain": [
       "<matplotlib.figure.Figure at 0x1a157ddd68>"
      ]
     },
     "metadata": {},
     "output_type": "display_data"
    },
    {
     "data": {
      "image/png": "[encoded data removed]",
      "text/plain": [
       "<matplotlib.figure.Figure at 0x1a1d38edd8>"
      ]
     },
     "metadata": {},
     "output_type": "display_data"
    },
    {
     "name": "stdout",
     "output_type": "stream",
     "text": [
      "¬S(n) ∨ ¬F(n, m) ∨ S(m)\n",
      "0.883961 0.116039\n",
      "F(j, i) ∨ F(j, j) ∨ F(j, k) ∨ F(j, l) ∨ F(j, m) ∨ F(j, n)\n",
      "0.999977 2.3434e-05\n",
      "F(k, i) ∨ F(k, j) ∨ F(k, k) ∨ F(k, l) ∨ F(k, m) ∨ F(k, n)\n",
      "0.999978 2.16552e-05\n",
      "F(l, i) ∨ F(l, j) ∨ F(l, k) ∨ F(l, l) ∨ F(l, m) ∨ F(l, n)\n",
      "0.999973 2.70928e-05\n",
      "¬F(e, e) ∨ F(e, e)\n",
      "0.21224 0.78776\n",
      "¬F(a, a)\n",
      "1.0 0.0\n",
      "¬F(e, e)\n",
      "0.78776 0.21224\n",
      "S(i)\n",
      "0.994974 0.0050259\n",
      "S(n)\n",
      "0.116039 0.883961\n",
      "F(i, j)\n",
      "1.0 2.97627e-08\n",
      "F(k, l)\n",
      "0.999999 1.44469e-06\n",
      "S(a)\n",
      "0.999999 1.24209e-06\n",
      "S(e)\n",
      "0.999907 9.29209e-05\n",
      "S(f)\n",
      "0.999797 0.000202669\n",
      "S(g)\n",
      "0.999631 0.000368649\n",
      "F(b, c)\n",
      "1.0 5.40045e-08\n",
      "F(c, d)\n",
      "1.0 1.60005e-07\n",
      "F(e, f)\n",
      "0.999918 8.16721e-05\n",
      "F(g, h)\n",
      "1.0 1.15326e-13\n",
      "¬F(a, c)\n",
      "1.0 1.19209e-07\n",
      "¬F(a, d)\n",
      "0.999992 7.51019e-06\n",
      "¬F(a, h)\n",
      "0.995942 0.00405842\n"
     ]
    },
    {
     "name": "stderr",
     "output_type": "stream",
     "text": [
      "\r",
      " 35%|███▌      | 701/2000 [45:58<1:25:11,  3.93s/it]"
     ]
    },
    {
     "name": "stdout",
     "output_type": "stream",
     "text": [
      "22\n"
     ]
    },
    {
     "name": "stderr",
     "output_type": "stream",
     "text": [
      " 40%|████      | 800/2000 [52:24<1:18:37,  3.93s/it]"
     ]
    },
    {
     "data": {
      "image/png": "[encoded data removed]",
      "text/plain": [
       "<matplotlib.figure.Figure at 0x1a1d2f7438>"
      ]
     },
     "metadata": {},
     "output_type": "display_data"
    },
    {
     "data": {
      "image/png": "[encoded data removed]",
      "text/plain": [
       "<matplotlib.figure.Figure at 0x1a1cfd9d30>"
      ]
     },
     "metadata": {},
     "output_type": "display_data"
    },
    {
     "name": "stdout",
     "output_type": "stream",
     "text": [
      "¬S(i) ∨ ¬F(i, m) ∨ S(m)\n",
      "0.999661 0.000338912\n",
      "¬S(n) ∨ ¬F(n, m) ∨ S(m)\n",
      "0.99099 0.00900972\n",
      "F(j, i) ∨ F(j, j) ∨ F(j, k) ∨ F(j, l) ∨ F(j, m) ∨ F(j, n)\n",
      "0.999969 3.07332e-05\n",
      "F(k, i) ∨ F(k, j) ∨ F(k, k) ∨ F(k, l) ∨ F(k, m) ∨ F(k, n)\n",
      "0.999977 2.34098e-05\n",
      "F(l, i) ∨ F(l, j) ∨ F(l, k) ∨ F(l, l) ∨ F(l, m) ∨ F(l, n)\n",
      "0.999973 2.66201e-05\n",
      "¬S(e) ∨ ¬F(e, a) ∨ S(a)\n",
      "0.719671 0.280329\n",
      "¬F(c, a) ∨ F(a, c)\n",
      "0.193273 0.806727\n",
      "¬F(h, a) ∨ F(a, h)\n",
      "0.18807 0.81193\n",
      "¬F(a, a)\n",
      "1.0 0.0\n",
      "F(i, j)\n",
      "0.999965 3.54238e-05\n",
      "F(k, l)\n",
      "1.0 7.18977e-08\n",
      "S(a)\n",
      "1.0 9.17321e-09\n",
      "S(e)\n",
      "0.280329 0.719671\n",
      "S(f)\n",
      "0.999888 0.000112476\n",
      "S(g)\n",
      "0.999756 0.000243742\n"
     ]
    },
    {
     "name": "stderr",
     "output_type": "stream",
     "text": [
      "\r",
      " 40%|████      | 801/2000 [52:32<1:18:38,  3.94s/it]"
     ]
    },
    {
     "name": "stdout",
     "output_type": "stream",
     "text": [
      "F(b, c)\n",
      "0.999787 0.000213308\n",
      "F(c, d)\n",
      "1.0 5.04012e-07\n",
      "F(e, f)\n",
      "0.999963 3.68506e-05\n",
      "F(g, h)\n",
      "1.0 1.16142e-09\n",
      "¬F(a, c)\n",
      "0.806727 0.193273\n",
      "¬F(a, d)\n",
      "0.999735 0.000265181\n",
      "¬F(a, h)\n",
      "0.81193 0.18807\n",
      "22\n"
     ]
    },
    {
     "name": "stderr",
     "output_type": "stream",
     "text": [
      " 45%|████▌     | 900/2000 [1:00:14<1:13:37,  4.02s/it]"
     ]
    },
    {
     "data": {
      "image/png": "[encoded data removed]",
      "text/plain": [
       "<matplotlib.figure.Figure at 0x1a1cfb2630>"
      ]
     },
     "metadata": {},
     "output_type": "display_data"
    },
    {
     "data": {
      "image/png": "[encoded data removed]",
      "text/plain": [
       "<matplotlib.figure.Figure at 0x1a1d9178d0>"
      ]
     },
     "metadata": {},
     "output_type": "display_data"
    },
    {
     "name": "stdout",
     "output_type": "stream",
     "text": [
      "¬S(i) ∨ ¬F(i, m) ∨ S(m)\n",
      "0.999637 0.000362515\n",
      "¬S(n) ∨ ¬F(n, m) ∨ S(m)\n",
      "0.998617 0.00138295\n",
      "F(j, i) ∨ F(j, j) ∨ F(j, k) ∨ F(j, l) ∨ F(j, m) ∨ F(j, n)\n",
      "0.999972 2.84108e-05\n",
      "F(k, i) ∨ F(k, j) ∨ F(k, k) ∨ F(k, l) ∨ F(k, m) ∨ F(k, n)\n",
      "0.999974 2.55733e-05\n",
      "F(l, i) ∨ F(l, j) ∨ F(l, k) ∨ F(l, l) ∨ F(l, m) ∨ F(l, n)\n",
      "0.999974 2.59656e-05\n",
      "¬S(e) ∨ ¬F(e, a) ∨ S(a)\n",
      "0.273797 0.726203\n",
      "¬F(c, a) ∨ F(a, c)\n",
      "0.0114677 0.988532\n",
      "¬F(d, a) ∨ F(a, d)\n",
      "0.261262 0.738738\n",
      "¬F(a, a)\n",
      "1.0 0.0\n",
      "F(i, j)\n",
      "0.999983 1.73128e-05\n",
      "F(k, l)\n",
      "1.0 1.32807e-08\n",
      "S(a)"
     ]
    },
    {
     "name": "stderr",
     "output_type": "stream",
     "text": [
      "\r",
      " 45%|████▌     | 901/2000 [1:00:19<1:13:34,  4.02s/it]"
     ]
    },
    {
     "name": "stdout",
     "output_type": "stream",
     "text": [
      "\n",
      "0.999982 1.84727e-05\n",
      "S(e)\n",
      "0.726203 0.273797\n",
      "S(f)\n",
      "0.999966 3.39538e-05\n",
      "S(g)\n",
      "0.999758 0.000242322\n",
      "F(b, c)\n",
      "0.99999 9.85373e-06\n",
      "F(c, d)\n",
      "0.999996 4.16477e-06\n",
      "F(e, f)\n",
      "0.999982 1.7762e-05\n",
      "F(g, h)\n",
      "1.0 4.19915e-07\n",
      "¬F(a, c)\n",
      "0.988532 0.0114677\n",
      "¬F(a, d)\n",
      "0.738738 0.261262\n",
      "¬F(a, h)\n",
      "0.996643 0.0033567\n",
      "22\n"
     ]
    },
    {
     "name": "stderr",
     "output_type": "stream",
     "text": [
      " 50%|█████     | 1000/2000 [1:06:42<1:06:42,  4.00s/it]"
     ]
    },
    {
     "data": {
      "image/png": "[encoded data removed]",
      "text/plain": [
       "<matplotlib.figure.Figure at 0x1a1d4457f0>"
      ]
     },
     "metadata": {},
     "output_type": "display_data"
    },
    {
     "data": {
      "image/png": "[encoded data removed]",
      "text/plain": [
       "<matplotlib.figure.Figure at 0x1a1d2294a8>"
      ]
     },
     "metadata": {},
     "output_type": "display_data"
    },
    {
     "name": "stdout",
     "output_type": "stream",
     "text": [
      "¬S(i) ∨ ¬F(i, m) ∨ S(m)\n",
      "0.999517 0.000482798\n",
      "¬S(n) ∨ ¬F(n, m) ∨ S(m)\n",
      "0.999306 0.000694394\n",
      "F(j, i) ∨ F(j, j) ∨ F(j, k) ∨ F(j, l) ∨ F(j, m) ∨ F(j, n)\n",
      "0.999973 2.67297e-05\n",
      "F(k, i) ∨ F(k, j) ∨ F(k, k) ∨ F(k, l) ∨ F(k, m) ∨ F(k, n)\n",
      "0.999974 2.59141e-05\n",
      "F(l, i) ∨ F(l, j) ∨ F(l, k) ∨ F(l, l) ∨ F(l, m) ∨ F(l, n)\n",
      "0.999975 2.5225e-05\n",
      "¬S(e) ∨ ¬F(e, a) ∨ S(a)\n",
      "0.953375 0.046625\n",
      "¬F(c, a) ∨ F(a, c)\n",
      "0.0429934 0.957007\n",
      "¬F(d, a) ∨ F(a, d)\n",
      "0.741019 0.258981\n",
      "¬F(h, a) ∨ F(a, h)\n",
      "0.0149907 0.985009\n",
      "¬F(a, a)\n",
      "1.0 0.0\n",
      "F(i, j)\n",
      "0.999984 1.57515e-05\n",
      "F(k, l)\n"
     ]
    },
    {
     "name": "stderr",
     "output_type": "stream",
     "text": [
      "\r",
      " 50%|█████     | 1001/2000 [1:06:47<1:06:39,  4.00s/it]"
     ]
    },
    {
     "name": "stdout",
     "output_type": "stream",
     "text": [
      "1.0 5.96904e-09\n",
      "S(a)\n",
      "0.999952 4.75124e-05\n",
      "S(e)\n",
      "0.046625 0.953375\n",
      "S(f)\n",
      "0.999892 0.000108339\n",
      "S(g)\n",
      "0.999757 0.00024271\n",
      "F(b, c)\n",
      "0.999991 9.26918e-06\n",
      "F(c, d)\n",
      "0.999998 2.3659e-06\n",
      "F(e, f)\n",
      "0.999994 6.06891e-06\n",
      "F(g, h)\n",
      "0.999998 1.59045e-06\n",
      "¬F(a, c)\n",
      "0.957007 0.0429934\n",
      "¬F(a, d)\n",
      "0.258981 0.741019\n",
      "¬F(a, h)\n",
      "0.985009 0.0149907\n",
      "23\n"
     ]
    },
    {
     "name": "stderr",
     "output_type": "stream",
     "text": [
      " 52%|█████▏    | 1048/2000 [1:10:02<1:03:37,  4.01s/it]\n"
     ]
    },
    {
     "ename": "KeyboardInterrupt",
     "evalue": "",
     "output_type": "error",
     "traceback": [
      "\u001b[0;31m---------------------------------------------------------------------------\u001b[0m",
      "\u001b[0;31mKeyboardInterrupt\u001b[0m                         Traceback (most recent call last)",
      "\u001b[0;32m<ipython-input-27-d3690be08930>\u001b[0m in \u001b[0;36m<module>\u001b[0;34m()\u001b[0m\n\u001b[1;32m     11\u001b[0m     \u001b[0mtotal_loss\u001b[0m\u001b[0;34m=\u001b[0m\u001b[0;36m0.0\u001b[0m\u001b[0;34m\u001b[0m\u001b[0m\n\u001b[1;32m     12\u001b[0m     \u001b[0;32mfor\u001b[0m \u001b[0mclause\u001b[0m \u001b[0;32min\u001b[0m \u001b[0mkb_train\u001b[0m\u001b[0;34m.\u001b[0m\u001b[0mclauses\u001b[0m\u001b[0;34m:\u001b[0m\u001b[0;34m\u001b[0m\u001b[0m\n\u001b[0;32m---> 13\u001b[0;31m         \u001b[0mloss\u001b[0m\u001b[0;34m,\u001b[0m\u001b[0mprob\u001b[0m\u001b[0;34m=\u001b[0m\u001b[0mltn2\u001b[0m\u001b[0;34m.\u001b[0m\u001b[0mforward\u001b[0m\u001b[0;34m(\u001b[0m\u001b[0mclause\u001b[0m\u001b[0;34m=\u001b[0m\u001b[0mclause\u001b[0m\u001b[0;34m)\u001b[0m\u001b[0;34m\u001b[0m\u001b[0m\n\u001b[0m\u001b[1;32m     14\u001b[0m         \u001b[0mloss\u001b[0m\u001b[0;34m.\u001b[0m\u001b[0mbackward\u001b[0m\u001b[0;34m(\u001b[0m\u001b[0mone\u001b[0m\u001b[0;34m)\u001b[0m\u001b[0;34m\u001b[0m\u001b[0m\n\u001b[1;32m     15\u001b[0m         \u001b[0mtotal_probability\u001b[0m\u001b[0;34m+=\u001b[0m\u001b[0mprob\u001b[0m\u001b[0;34m.\u001b[0m\u001b[0mdata\u001b[0m\u001b[0;34m.\u001b[0m\u001b[0mnumpy\u001b[0m\u001b[0;34m(\u001b[0m\u001b[0;34m)\u001b[0m\u001b[0;34m[\u001b[0m\u001b[0;36m0\u001b[0m\u001b[0;34m]\u001b[0m\u001b[0;34m\u001b[0m\u001b[0m\n",
      "\u001b[0;32m<ipython-input-12-f1cb3570244f>\u001b[0m in \u001b[0;36mforward\u001b[0;34m(self, clause)\u001b[0m\n\u001b[1;32m     16\u001b[0m             \u001b[0mconstants\u001b[0m\u001b[0;34m=\u001b[0m\u001b[0mpredicate\u001b[0m\u001b[0;34m.\u001b[0m\u001b[0mvariables\u001b[0m\u001b[0;34m\u001b[0m\u001b[0m\n\u001b[1;32m     17\u001b[0m             \u001b[0membs\u001b[0m\u001b[0;34m=\u001b[0m\u001b[0mself\u001b[0m\u001b[0;34m.\u001b[0m\u001b[0mConstants\u001b[0m\u001b[0;34m.\u001b[0m\u001b[0mforward\u001b[0m\u001b[0;34m(\u001b[0m\u001b[0mconstants\u001b[0m\u001b[0;34m)\u001b[0m\u001b[0;34m\u001b[0m\u001b[0m\n\u001b[0;32m---> 18\u001b[0;31m             \u001b[0moutput\u001b[0m\u001b[0;34m=\u001b[0m\u001b[0mself\u001b[0m\u001b[0;34m.\u001b[0m\u001b[0mPredicates\u001b[0m\u001b[0;34m[\u001b[0m\u001b[0mname\u001b[0m\u001b[0;34m]\u001b[0m\u001b[0;34m.\u001b[0m\u001b[0mforward\u001b[0m\u001b[0;34m(\u001b[0m\u001b[0membs\u001b[0m\u001b[0;34m,\u001b[0m\u001b[0mnegation\u001b[0m\u001b[0;34m)\u001b[0m\u001b[0;34m\u001b[0m\u001b[0m\n\u001b[0m\u001b[1;32m     19\u001b[0m             \u001b[0;32mif\u001b[0m \u001b[0mPhi\u001b[0m \u001b[0;32mis\u001b[0m \u001b[0;32mNone\u001b[0m \u001b[0;32mor\u001b[0m \u001b[0mPhi\u001b[0m\u001b[0;34m.\u001b[0m\u001b[0mdata\u001b[0m\u001b[0;34m.\u001b[0m\u001b[0mnumpy\u001b[0m\u001b[0;34m(\u001b[0m\u001b[0;34m)\u001b[0m\u001b[0;34m[\u001b[0m\u001b[0;36m0\u001b[0m\u001b[0;34m]\u001b[0m\u001b[0;34m<\u001b[0m\u001b[0moutput\u001b[0m\u001b[0;34m.\u001b[0m\u001b[0mdata\u001b[0m\u001b[0;34m.\u001b[0m\u001b[0mnumpy\u001b[0m\u001b[0;34m(\u001b[0m\u001b[0;34m)\u001b[0m\u001b[0;34m[\u001b[0m\u001b[0;36m0\u001b[0m\u001b[0;34m]\u001b[0m\u001b[0;34m:\u001b[0m\u001b[0;34m\u001b[0m\u001b[0m\n\u001b[1;32m     20\u001b[0m                 \u001b[0mPhi\u001b[0m\u001b[0;34m=\u001b[0m\u001b[0moutput\u001b[0m\u001b[0;34m\u001b[0m\u001b[0m\n",
      "\u001b[0;32m<ipython-input-11-e0d67b044166>\u001b[0m in \u001b[0;36mforward\u001b[0;34m(self, embs, negation)\u001b[0m\n\u001b[1;32m     14\u001b[0m         \u001b[0mm\u001b[0m\u001b[0;34m=\u001b[0m\u001b[0mself\u001b[0m\u001b[0;34m.\u001b[0m\u001b[0mvariable_count\u001b[0m\u001b[0;34m*\u001b[0m\u001b[0mself\u001b[0m\u001b[0;34m.\u001b[0m\u001b[0memb_dim\u001b[0m\u001b[0;34m\u001b[0m\u001b[0m\n\u001b[1;32m     15\u001b[0m         \u001b[0mW\u001b[0m\u001b[0;34m=\u001b[0m\u001b[0mself\u001b[0m\u001b[0;34m.\u001b[0m\u001b[0mW\u001b[0m\u001b[0;34m.\u001b[0m\u001b[0mview\u001b[0m\u001b[0;34m(\u001b[0m\u001b[0mm\u001b[0m\u001b[0;34m,\u001b[0m\u001b[0;34m-\u001b[0m\u001b[0;36m1\u001b[0m\u001b[0;34m)\u001b[0m\u001b[0;34m\u001b[0m\u001b[0m\n\u001b[0;32m---> 16\u001b[0;31m         \u001b[0moutput\u001b[0m\u001b[0;34m=\u001b[0m\u001b[0mtorch\u001b[0m\u001b[0;34m.\u001b[0m\u001b[0mmm\u001b[0m\u001b[0;34m(\u001b[0m\u001b[0membs\u001b[0m\u001b[0;34m,\u001b[0m\u001b[0mW\u001b[0m\u001b[0;34m)\u001b[0m\u001b[0;34m\u001b[0m\u001b[0m\n\u001b[0m\u001b[1;32m     17\u001b[0m         \u001b[0moutput\u001b[0m\u001b[0;34m=\u001b[0m\u001b[0moutput\u001b[0m\u001b[0;34m.\u001b[0m\u001b[0mview\u001b[0m\u001b[0;34m(\u001b[0m\u001b[0;34m-\u001b[0m\u001b[0;36m1\u001b[0m\u001b[0;34m,\u001b[0m\u001b[0mm\u001b[0m\u001b[0;34m)\u001b[0m\u001b[0;34m\u001b[0m\u001b[0m\n\u001b[1;32m     18\u001b[0m         \u001b[0moutput\u001b[0m\u001b[0;34m=\u001b[0m\u001b[0mtorch\u001b[0m\u001b[0;34m.\u001b[0m\u001b[0mmm\u001b[0m\u001b[0;34m(\u001b[0m\u001b[0moutput\u001b[0m\u001b[0;34m,\u001b[0m\u001b[0membs\u001b[0m\u001b[0;34m.\u001b[0m\u001b[0mview\u001b[0m\u001b[0;34m(\u001b[0m\u001b[0;34m-\u001b[0m\u001b[0;36m1\u001b[0m\u001b[0;34m,\u001b[0m\u001b[0;36m1\u001b[0m\u001b[0;34m)\u001b[0m\u001b[0;34m)\u001b[0m\u001b[0;34m\u001b[0m\u001b[0m\n",
      "\u001b[0;32m~/anaconda3/lib/python3.6/site-packages/torch/autograd/variable.py\u001b[0m in \u001b[0;36mmm\u001b[0;34m(self, matrix)\u001b[0m\n\u001b[1;32m    577\u001b[0m     \u001b[0;32mdef\u001b[0m \u001b[0mmm\u001b[0m\u001b[0;34m(\u001b[0m\u001b[0mself\u001b[0m\u001b[0;34m,\u001b[0m \u001b[0mmatrix\u001b[0m\u001b[0;34m)\u001b[0m\u001b[0;34m:\u001b[0m\u001b[0;34m\u001b[0m\u001b[0m\n\u001b[1;32m    578\u001b[0m         \u001b[0moutput\u001b[0m \u001b[0;34m=\u001b[0m \u001b[0mVariable\u001b[0m\u001b[0;34m(\u001b[0m\u001b[0mself\u001b[0m\u001b[0;34m.\u001b[0m\u001b[0mdata\u001b[0m\u001b[0;34m.\u001b[0m\u001b[0mnew\u001b[0m\u001b[0;34m(\u001b[0m\u001b[0mself\u001b[0m\u001b[0;34m.\u001b[0m\u001b[0mdata\u001b[0m\u001b[0;34m.\u001b[0m\u001b[0msize\u001b[0m\u001b[0;34m(\u001b[0m\u001b[0;36m0\u001b[0m\u001b[0;34m)\u001b[0m\u001b[0;34m,\u001b[0m \u001b[0mmatrix\u001b[0m\u001b[0;34m.\u001b[0m\u001b[0mdata\u001b[0m\u001b[0;34m.\u001b[0m\u001b[0msize\u001b[0m\u001b[0;34m(\u001b[0m\u001b[0;36m1\u001b[0m\u001b[0;34m)\u001b[0m\u001b[0;34m)\u001b[0m\u001b[0;34m)\u001b[0m\u001b[0;34m\u001b[0m\u001b[0m\n\u001b[0;32m--> 579\u001b[0;31m         \u001b[0;32mreturn\u001b[0m \u001b[0mAddmm\u001b[0m\u001b[0;34m.\u001b[0m\u001b[0mapply\u001b[0m\u001b[0;34m(\u001b[0m\u001b[0moutput\u001b[0m\u001b[0;34m,\u001b[0m \u001b[0mself\u001b[0m\u001b[0;34m,\u001b[0m \u001b[0mmatrix\u001b[0m\u001b[0;34m,\u001b[0m \u001b[0;36m0\u001b[0m\u001b[0;34m,\u001b[0m \u001b[0;36m1\u001b[0m\u001b[0;34m,\u001b[0m \u001b[0;32mTrue\u001b[0m\u001b[0;34m)\u001b[0m\u001b[0;34m\u001b[0m\u001b[0m\n\u001b[0m\u001b[1;32m    580\u001b[0m \u001b[0;34m\u001b[0m\u001b[0m\n\u001b[1;32m    581\u001b[0m     \u001b[0;32mdef\u001b[0m \u001b[0mbmm\u001b[0m\u001b[0;34m(\u001b[0m\u001b[0mself\u001b[0m\u001b[0;34m,\u001b[0m \u001b[0mbatch\u001b[0m\u001b[0;34m)\u001b[0m\u001b[0;34m:\u001b[0m\u001b[0;34m\u001b[0m\u001b[0m\n",
      "\u001b[0;32m~/anaconda3/lib/python3.6/site-packages/torch/autograd/_functions/blas.py\u001b[0m in \u001b[0;36mforward\u001b[0;34m(ctx, add_matrix, matrix1, matrix2, alpha, beta, inplace)\u001b[0m\n\u001b[1;32m     24\u001b[0m         \u001b[0moutput\u001b[0m \u001b[0;34m=\u001b[0m \u001b[0m_get_output\u001b[0m\u001b[0;34m(\u001b[0m\u001b[0mctx\u001b[0m\u001b[0;34m,\u001b[0m \u001b[0madd_matrix\u001b[0m\u001b[0;34m,\u001b[0m \u001b[0minplace\u001b[0m\u001b[0;34m=\u001b[0m\u001b[0minplace\u001b[0m\u001b[0;34m)\u001b[0m\u001b[0;34m\u001b[0m\u001b[0m\n\u001b[1;32m     25\u001b[0m         return torch.addmm(alpha, add_matrix, beta,\n\u001b[0;32m---> 26\u001b[0;31m                            matrix1, matrix2, out=output)\n\u001b[0m\u001b[1;32m     27\u001b[0m \u001b[0;34m\u001b[0m\u001b[0m\n\u001b[1;32m     28\u001b[0m     \u001b[0;34m@\u001b[0m\u001b[0mstaticmethod\u001b[0m\u001b[0;34m\u001b[0m\u001b[0m\n",
      "\u001b[0;31mKeyboardInterrupt\u001b[0m: "
     ]
    }
   ],
   "source": [
    "kb_train=kb1.union(kb2).union(gkb1).union(gkb2)\n",
    "ltn2=LTN(emb_dim,'abcdefghijklmn',[['S',1],['F',2],['C',1]])\n",
    "optimizor=torch.optim.Adam(ltn2.parameters(),lr=0.1,weight_decay=0.1)\n",
    "mone=torch.FloatTensor([-1])\n",
    "one=torch.FloatTensor([1])\n",
    "average_prob=[]\n",
    "average_loss=[]\n",
    "for i in tqdm(range(2000)):\n",
    "    optimizor.zero_grad()\n",
    "    total_probability=0.0\n",
    "    total_loss=0.0\n",
    "    for clause in kb_train.clauses:\n",
    "        loss,prob=ltn2.forward(clause=clause)\n",
    "        loss.backward(one)\n",
    "        total_probability+=prob.data.numpy()[0]\n",
    "        total_loss+=loss.data.numpy()[0]\n",
    "    optimizor.step()\n",
    "    average_prob.append(total_probability/len(kb_train.clauses))\n",
    "    average_loss.append(total_loss/len(kb_train.clauses))\n",
    "    if i%100==0:\n",
    "        plt.plot(average_prob)\n",
    "        plt.show()\n",
    "        plt.plot(averate_loss)\n",
    "        plt.show()\n",
    "        show_results(ltn2,kb_train)"
   ]
  },
  {
   "cell_type": "code",
   "execution_count": 21,
   "metadata": {},
   "outputs": [
    {
     "name": "stdout",
     "output_type": "stream",
     "text": [
      "S(a)\n",
      "0.999971 2.89519e-05\n",
      "S(e)\n",
      "0.147613 0.852387\n",
      "S(f)\n",
      "0.999794 0.000206059\n",
      "S(g)\n",
      "0.999794 0.000206492\n",
      "F(b, c)\n",
      "0.999995 4.89541e-06\n",
      "F(c, d)\n",
      "0.999995 5.00549e-06\n",
      "F(e, f)\n",
      "0.999994 5.82879e-06\n",
      "F(g, h)\n",
      "0.999995 4.9862e-06\n",
      "¬F(a, c)\n",
      "0.999897 0.000103474\n",
      "¬F(a, d)\n",
      "0.999893 0.000106812\n",
      "¬F(a, h)\n",
      "0.999878 0.000121951\n",
      "11\n"
     ]
    }
   ],
   "source": [
    "show_results(ltn2,kb1)"
   ]
  },
  {
   "cell_type": "code",
   "execution_count": 37,
   "metadata": {
    "collapsed": true
   },
   "outputs": [],
   "source": [
    "import pandas as pd\n",
    "import numpy"
   ]
  },
  {
   "cell_type": "code",
   "execution_count": 49,
   "metadata": {},
   "outputs": [
    {
     "data": {
      "text/html": [
       "<div>\n",
       "<style>\n",
       "    .dataframe thead tr:only-child th {\n",
       "        text-align: right;\n",
       "    }\n",
       "\n",
       "    .dataframe thead th {\n",
       "        text-align: left;\n",
       "    }\n",
       "\n",
       "    .dataframe tbody tr th {\n",
       "        vertical-align: top;\n",
       "    }\n",
       "</style>\n",
       "<table border=\"1\" class=\"dataframe\">\n",
       "  <thead>\n",
       "    <tr style=\"text-align: right;\">\n",
       "      <th></th>\n",
       "      <th>a</th>\n",
       "      <th>b</th>\n",
       "      <th>c</th>\n",
       "    </tr>\n",
       "  </thead>\n",
       "  <tbody>\n",
       "    <tr>\n",
       "      <th>a</th>\n",
       "      <td>NaN</td>\n",
       "      <td>NaN</td>\n",
       "      <td>NaN</td>\n",
       "    </tr>\n",
       "    <tr>\n",
       "      <th>b</th>\n",
       "      <td>NaN</td>\n",
       "      <td>NaN</td>\n",
       "      <td>NaN</td>\n",
       "    </tr>\n",
       "    <tr>\n",
       "      <th>c</th>\n",
       "      <td>NaN</td>\n",
       "      <td>NaN</td>\n",
       "      <td>NaN</td>\n",
       "    </tr>\n",
       "    <tr>\n",
       "      <th>d</th>\n",
       "      <td>NaN</td>\n",
       "      <td>NaN</td>\n",
       "      <td>NaN</td>\n",
       "    </tr>\n",
       "  </tbody>\n",
       "</table>\n",
       "</div>"
      ],
      "text/plain": [
       "     a    b    c\n",
       "a  NaN  NaN  NaN\n",
       "b  NaN  NaN  NaN\n",
       "c  NaN  NaN  NaN\n",
       "d  NaN  NaN  NaN"
      ]
     },
     "execution_count": 49,
     "metadata": {},
     "output_type": "execute_result"
    }
   ],
   "source": [
    "data={\n",
    "}\n",
    "pd.DataFrame(index=list('abcd'),columns=['a','b','c'])"
   ]
  },
  {
   "cell_type": "code",
   "execution_count": 119,
   "metadata": {
    "collapsed": true
   },
   "outputs": [],
   "source": [
    "def get_DF_S(model,constants):\n",
    "    constants=list(constants)\n",
    "    df=pd.DataFrame(index=constants,columns=['S'])\n",
    "    for a in constants:\n",
    "        clause=Clause(1,1,[Predicate(name='S',variables=[a],negation=False)])\n",
    "        result=model.forward(clause)\n",
    "        df['S'][a]='%0.2f'%result[1].data.numpy()[0]\n",
    "    return df"
   ]
  },
  {
   "cell_type": "code",
   "execution_count": 120,
   "metadata": {
    "collapsed": true
   },
   "outputs": [],
   "source": [
    "def get_DF_C(model,constants):\n",
    "    constants=list(constants)\n",
    "    df=pd.DataFrame(index=constants,columns=['C'])\n",
    "    for a in constants:\n",
    "        clause=Clause(1,1,[Predicate(name='C',variables=[a],negation=False)])\n",
    "        result=model.forward(clause)\n",
    "        df['C'][a]='%0.2f'%result[1].data.numpy()[0]\n",
    "    return df"
   ]
  },
  {
   "cell_type": "code",
   "execution_count": 131,
   "metadata": {
    "collapsed": true
   },
   "outputs": [],
   "source": [
    "def get_DF_F(model,constants):\n",
    "    constants=list(constants)\n",
    "    df=pd.DataFrame(index=constants, columns=constants)\n",
    "    for a in constants:\n",
    "        for b in constants:\n",
    "#             if a>=b:\n",
    "#                 df[b][a]='-'\n",
    "#                 continue\n",
    "            clause=Clause(1,1,[Predicate(name='F',variables=[a,b],negation=False)])\n",
    "            result=model.forward(clause)\n",
    "            df[b][a]='%0.2f'%result[1].data.numpy()[0]\n",
    "    return df"
   ]
  },
  {
   "cell_type": "code",
   "execution_count": 132,
   "metadata": {
    "collapsed": true
   },
   "outputs": [],
   "source": [
    "def get_DF(model,constants):\n",
    "    df1=get_DF_S(model,constants)\n",
    "    df2=get_DF_C(model,constants)\n",
    "    df3=get_DF_F(model,constants)\n",
    "    df=pd.concat([df1,df2,df3],axis=1)\n",
    "    return df"
   ]
  },
  {
   "cell_type": "code",
   "execution_count": 136,
   "metadata": {},
   "outputs": [
    {
     "data": {
      "text/html": [
       "<div>\n",
       "<style>\n",
       "    .dataframe thead tr:only-child th {\n",
       "        text-align: right;\n",
       "    }\n",
       "\n",
       "    .dataframe thead th {\n",
       "        text-align: left;\n",
       "    }\n",
       "\n",
       "    .dataframe tbody tr th {\n",
       "        vertical-align: top;\n",
       "    }\n",
       "</style>\n",
       "<table border=\"1\" class=\"dataframe\">\n",
       "  <thead>\n",
       "    <tr style=\"text-align: right;\">\n",
       "      <th></th>\n",
       "      <th>S</th>\n",
       "      <th>C</th>\n",
       "      <th>a</th>\n",
       "      <th>b</th>\n",
       "      <th>c</th>\n",
       "      <th>d</th>\n",
       "      <th>e</th>\n",
       "      <th>f</th>\n",
       "      <th>g</th>\n",
       "      <th>h</th>\n",
       "    </tr>\n",
       "  </thead>\n",
       "  <tbody>\n",
       "    <tr>\n",
       "      <th>a</th>\n",
       "      <td>1.00</td>\n",
       "      <td>1.00</td>\n",
       "      <td>0.08</td>\n",
       "      <td>1.00</td>\n",
       "      <td>0.00</td>\n",
       "      <td>0.00</td>\n",
       "      <td>1.00</td>\n",
       "      <td>1.00</td>\n",
       "      <td>1.00</td>\n",
       "      <td>0.00</td>\n",
       "    </tr>\n",
       "    <tr>\n",
       "      <th>b</th>\n",
       "      <td>0.00</td>\n",
       "      <td>0.00</td>\n",
       "      <td>1.00</td>\n",
       "      <td>0.02</td>\n",
       "      <td>1.00</td>\n",
       "      <td>0.00</td>\n",
       "      <td>0.00</td>\n",
       "      <td>0.00</td>\n",
       "      <td>0.00</td>\n",
       "      <td>0.00</td>\n",
       "    </tr>\n",
       "    <tr>\n",
       "      <th>c</th>\n",
       "      <td>0.00</td>\n",
       "      <td>0.00</td>\n",
       "      <td>1.00</td>\n",
       "      <td>0.92</td>\n",
       "      <td>0.93</td>\n",
       "      <td>1.00</td>\n",
       "      <td>0.00</td>\n",
       "      <td>0.00</td>\n",
       "      <td>0.00</td>\n",
       "      <td>0.00</td>\n",
       "    </tr>\n",
       "    <tr>\n",
       "      <th>d</th>\n",
       "      <td>0.00</td>\n",
       "      <td>0.00</td>\n",
       "      <td>0.05</td>\n",
       "      <td>0.00</td>\n",
       "      <td>0.00</td>\n",
       "      <td>0.00</td>\n",
       "      <td>0.00</td>\n",
       "      <td>0.00</td>\n",
       "      <td>0.00</td>\n",
       "      <td>0.00</td>\n",
       "    </tr>\n",
       "    <tr>\n",
       "      <th>e</th>\n",
       "      <td>1.00</td>\n",
       "      <td>1.00</td>\n",
       "      <td>1.00</td>\n",
       "      <td>1.00</td>\n",
       "      <td>1.00</td>\n",
       "      <td>0.34</td>\n",
       "      <td>0.96</td>\n",
       "      <td>1.00</td>\n",
       "      <td>0.00</td>\n",
       "      <td>0.00</td>\n",
       "    </tr>\n",
       "    <tr>\n",
       "      <th>f</th>\n",
       "      <td>1.00</td>\n",
       "      <td>0.00</td>\n",
       "      <td>0.04</td>\n",
       "      <td>1.00</td>\n",
       "      <td>1.00</td>\n",
       "      <td>0.98</td>\n",
       "      <td>0.54</td>\n",
       "      <td>1.00</td>\n",
       "      <td>0.00</td>\n",
       "      <td>0.00</td>\n",
       "    </tr>\n",
       "    <tr>\n",
       "      <th>g</th>\n",
       "      <td>1.00</td>\n",
       "      <td>0.00</td>\n",
       "      <td>1.00</td>\n",
       "      <td>0.26</td>\n",
       "      <td>0.88</td>\n",
       "      <td>0.09</td>\n",
       "      <td>0.00</td>\n",
       "      <td>1.00</td>\n",
       "      <td>0.00</td>\n",
       "      <td>1.00</td>\n",
       "    </tr>\n",
       "    <tr>\n",
       "      <th>h</th>\n",
       "      <td>0.00</td>\n",
       "      <td>0.00</td>\n",
       "      <td>0.98</td>\n",
       "      <td>0.99</td>\n",
       "      <td>0.00</td>\n",
       "      <td>0.00</td>\n",
       "      <td>0.37</td>\n",
       "      <td>0.00</td>\n",
       "      <td>0.00</td>\n",
       "      <td>0.00</td>\n",
       "    </tr>\n",
       "  </tbody>\n",
       "</table>\n",
       "</div>"
      ],
      "text/plain": [
       "      S     C     a     b     c     d     e     f     g     h\n",
       "a  1.00  1.00  0.08  1.00  0.00  0.00  1.00  1.00  1.00  0.00\n",
       "b  0.00  0.00  1.00  0.02  1.00  0.00  0.00  0.00  0.00  0.00\n",
       "c  0.00  0.00  1.00  0.92  0.93  1.00  0.00  0.00  0.00  0.00\n",
       "d  0.00  0.00  0.05  0.00  0.00  0.00  0.00  0.00  0.00  0.00\n",
       "e  1.00  1.00  1.00  1.00  1.00  0.34  0.96  1.00  0.00  0.00\n",
       "f  1.00  0.00  0.04  1.00  1.00  0.98  0.54  1.00  0.00  0.00\n",
       "g  1.00  0.00  1.00  0.26  0.88  0.09  0.00  1.00  0.00  1.00\n",
       "h  0.00  0.00  0.98  0.99  0.00  0.00  0.37  0.00  0.00  0.00"
      ]
     },
     "execution_count": 136,
     "metadata": {},
     "output_type": "execute_result"
    }
   ],
   "source": [
    "get_DF(ltn1,'abcdefgh')"
   ]
  },
  {
   "cell_type": "code",
   "execution_count": 134,
   "metadata": {},
   "outputs": [
    {
     "data": {
      "text/html": [
       "<div>\n",
       "<style>\n",
       "    .dataframe thead tr:only-child th {\n",
       "        text-align: right;\n",
       "    }\n",
       "\n",
       "    .dataframe thead th {\n",
       "        text-align: left;\n",
       "    }\n",
       "\n",
       "    .dataframe tbody tr th {\n",
       "        vertical-align: top;\n",
       "    }\n",
       "</style>\n",
       "<table border=\"1\" class=\"dataframe\">\n",
       "  <thead>\n",
       "    <tr style=\"text-align: right;\">\n",
       "      <th></th>\n",
       "      <th>S</th>\n",
       "      <th>C</th>\n",
       "      <th>i</th>\n",
       "      <th>j</th>\n",
       "      <th>k</th>\n",
       "      <th>l</th>\n",
       "      <th>m</th>\n",
       "      <th>n</th>\n",
       "    </tr>\n",
       "  </thead>\n",
       "  <tbody>\n",
       "    <tr>\n",
       "      <th>i</th>\n",
       "      <td>1.00</td>\n",
       "      <td>1.00</td>\n",
       "      <td>0.91</td>\n",
       "      <td>1.00</td>\n",
       "      <td>0.00</td>\n",
       "      <td>0.00</td>\n",
       "      <td>1.00</td>\n",
       "      <td>0.00</td>\n",
       "    </tr>\n",
       "    <tr>\n",
       "      <th>j</th>\n",
       "      <td>0.00</td>\n",
       "      <td>1.00</td>\n",
       "      <td>1.00</td>\n",
       "      <td>0.00</td>\n",
       "      <td>0.00</td>\n",
       "      <td>0.00</td>\n",
       "      <td>0.00</td>\n",
       "      <td>0.00</td>\n",
       "    </tr>\n",
       "    <tr>\n",
       "      <th>k</th>\n",
       "      <td>0.00</td>\n",
       "      <td>1.00</td>\n",
       "      <td>1.00</td>\n",
       "      <td>1.00</td>\n",
       "      <td>1.00</td>\n",
       "      <td>1.00</td>\n",
       "      <td>0.00</td>\n",
       "      <td>1.00</td>\n",
       "    </tr>\n",
       "    <tr>\n",
       "      <th>l</th>\n",
       "      <td>0.00</td>\n",
       "      <td>0.88</td>\n",
       "      <td>1.00</td>\n",
       "      <td>0.53</td>\n",
       "      <td>0.00</td>\n",
       "      <td>0.00</td>\n",
       "      <td>0.00</td>\n",
       "      <td>0.00</td>\n",
       "    </tr>\n",
       "    <tr>\n",
       "      <th>m</th>\n",
       "      <td>0.00</td>\n",
       "      <td>0.03</td>\n",
       "      <td>1.00</td>\n",
       "      <td>0.08</td>\n",
       "      <td>0.31</td>\n",
       "      <td>0.97</td>\n",
       "      <td>0.07</td>\n",
       "      <td>1.00</td>\n",
       "    </tr>\n",
       "    <tr>\n",
       "      <th>n</th>\n",
       "      <td>1.00</td>\n",
       "      <td>1.00</td>\n",
       "      <td>1.00</td>\n",
       "      <td>1.00</td>\n",
       "      <td>0.15</td>\n",
       "      <td>1.00</td>\n",
       "      <td>0.09</td>\n",
       "      <td>0.99</td>\n",
       "    </tr>\n",
       "  </tbody>\n",
       "</table>\n",
       "</div>"
      ],
      "text/plain": [
       "      S     C     i     j     k     l     m     n\n",
       "i  1.00  1.00  0.91  1.00  0.00  0.00  1.00  0.00\n",
       "j  0.00  1.00  1.00  0.00  0.00  0.00  0.00  0.00\n",
       "k  0.00  1.00  1.00  1.00  1.00  1.00  0.00  1.00\n",
       "l  0.00  0.88  1.00  0.53  0.00  0.00  0.00  0.00\n",
       "m  0.00  0.03  1.00  0.08  0.31  0.97  0.07  1.00\n",
       "n  1.00  1.00  1.00  1.00  0.15  1.00  0.09  0.99"
      ]
     },
     "execution_count": 134,
     "metadata": {},
     "output_type": "execute_result"
    }
   ],
   "source": [
    "get_DF(ltn1,'ijklmn')"
   ]
  }
 ],
 "metadata": {
  "kernelspec": {
   "display_name": "Python 3",
   "language": "python",
   "name": "python3"
  },
  "language_info": {
   "codemirror_mode": {
    "name": "ipython",
    "version": 3
   },
   "file_extension": ".py",
   "mimetype": "text/x-python",
   "name": "python",
   "nbconvert_exporter": "python",
   "pygments_lexer": "ipython3",
   "version": "3.6.2"
  }
 },
 "nbformat": 4,
 "nbformat_minor": 2
}
