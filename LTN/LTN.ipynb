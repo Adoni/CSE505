{
 "cells": [
  {
   "cell_type": "code",
   "execution_count": 976,
   "metadata": {
    "collapsed": true
   },
   "outputs": [],
   "source": [
    "import torch\n",
    "import torch.nn as nn\n",
    "from torch.autograd import Variable\n",
    "import torch.optim as optim\n",
    "from matplotlib import pyplot as plt\n",
    "import seaborn as sns\n",
    "from tqdm import tqdm"
   ]
  },
  {
   "cell_type": "code",
   "execution_count": 966,
   "metadata": {
    "collapsed": true
   },
   "outputs": [],
   "source": [
    "def load_facts(filename):\n",
    "    facts=[]\n",
    "    for line in open(filename):\n",
    "        line=line.strip().split(',')\n",
    "        fact=[]\n",
    "        if line[0]=='not':\n",
    "            fact.append(True)\n",
    "            line=line[1:]\n",
    "        else:\n",
    "            fact.append(False)\n",
    "        fact.append(line[0])\n",
    "        fact.append(line[1:])\n",
    "        facts.append(fact)\n",
    "    return facts\n",
    "        "
   ]
  },
  {
   "cell_type": "code",
   "execution_count": 1091,
   "metadata": {
    "collapsed": true
   },
   "outputs": [],
   "source": [
    "emb_dim=100"
   ]
  },
  {
   "cell_type": "code",
   "execution_count": 1136,
   "metadata": {},
   "outputs": [],
   "source": [
    "class LTN(nn.Module):\n",
    "    def __init__(self, emb_dim, constants, predicates):\n",
    "        super(LTN, self).__init__()\n",
    "        self.emb_dim=emb_dim\n",
    "        self.symbol2id=dict()\n",
    "        self.id2symbol=dict()\n",
    "        for i,s in enumerate(constants):\n",
    "            self.symbol2id[s]=i\n",
    "            self.id2symbol[i]=s\n",
    "        self.pos_embeddings = nn.Embedding(len(self.symbol2id), emb_dim)\n",
    "        self.predicate_params=dict()\n",
    "        for symbol,n in predicates:\n",
    "            params=[]\n",
    "            m=n*self.emb_dim\n",
    "            params.append(m)\n",
    "            params.append(Variable(torch.randn(m, self.emb_dim, m), requires_grad=True))\n",
    "            params.append(Variable(torch.randn(m, self.emb_dim), requires_grad=True))\n",
    "            params.append(Variable(torch.randn(self.emb_dim), requires_grad=True))\n",
    "            params.append(Variable(torch.randn(self.emb_dim), requires_grad=True))\n",
    "            self.predicate_params[symbol]=params\n",
    "    def forward(self, predicats):\n",
    "        predicate_results=[]\n",
    "        Ans=None\n",
    "        for i,p in enumerate(predicats):\n",
    "            negations=p[0]\n",
    "            P=p[1]\n",
    "            constants=p[2]\n",
    "            constant_id=[]\n",
    "            for c in constants:\n",
    "                constant_id.append(self.symbol2id[c])\n",
    "            embs=self.pos_embeddings(Variable(torch.LongTensor(constant_id)))\n",
    "            embs=torch.cat(embs).view(1,-1)\n",
    "            m,W,V,B,u=self.predicate_params[P]\n",
    "            W=W.view(m,-1)\n",
    "            output=torch.mm(embs,W)\n",
    "            output=output.view(-1,m)\n",
    "            output=torch.mm(output,embs.view(-1,1))\n",
    "            output=output.view(1,-1)\n",
    "            output=output.add(torch.mm(embs,V))\n",
    "            output=output.add(B)\n",
    "            output=output.view(-1)\n",
    "            output=torch.tanh(output)\n",
    "            output=torch.mul(output,u).sum()\n",
    "            output=torch.sigmoid(output)\n",
    "            if negations:\n",
    "                output=1.0-output\n",
    "            predicate_results.append(output)\n",
    "            if Ans is None or Ans.data.numpy()[0]<output.data.numpy()[0]:\n",
    "                Ans=output\n",
    "#         predicate_results=Variable(torch.FloatTensor(predicate_results))\n",
    "#         return predicate_results[0]\n",
    "        return torch.log(Ans),Ans"
   ]
  },
  {
   "cell_type": "code",
   "execution_count": 1152,
   "metadata": {},
   "outputs": [
    {
     "data": {
      "text/plain": [
       "(Variable containing:\n",
       " -0.4608\n",
       " [torch.FloatTensor of size 1], Variable containing:\n",
       "  0.6308\n",
       " [torch.FloatTensor of size 1])"
      ]
     },
     "execution_count": 1152,
     "metadata": {},
     "output_type": "execute_result"
    }
   ],
   "source": [
    "facts1=load_facts('./facts1.txt')\n",
    "facts2=load_facts('./facts2.txt')\n",
    "facts=facts1+facts2\n",
    "ltn=LTN(emb_dim,'abcdefghijklmn',[['S',1],['F',2],['C',1]])\n",
    "ltn.forward(predicats=facts[0:1])"
   ]
  },
  {
   "cell_type": "code",
   "execution_count": 1153,
   "metadata": {},
   "outputs": [
    {
     "name": "stderr",
     "output_type": "stream",
     "text": [
      "100%|██████████| 200/200 [02:18<00:00,  1.44it/s]\n"
     ]
    },
    {
     "data": {
      "image/png": "[encoded data removed]",
      "text/plain": [
       "<matplotlib.figure.Figure at 0x1a3f398e80>"
      ]
     },
     "metadata": {},
     "output_type": "display_data"
    }
   ],
   "source": [
    "optimizor=torch.optim.Adam(ltn.parameters(),lr=0.1,weight_decay=0.1)\n",
    "mone=torch.FloatTensor([-1])\n",
    "errs=[]\n",
    "for i in tqdm(range(200)):\n",
    "    optimizor.zero_grad()\n",
    "    total_probability=0\n",
    "    for f in facts:\n",
    "        log,prob=ltn.forward(predicats=[f])\n",
    "        prob.backward(mone)\n",
    "        total_probability+=prob.data.numpy()[0]\n",
    "    optimizor.step()\n",
    "    errs.append(total_probability/len(facts))\n",
    "plt.plot(errs)\n",
    "plt.show()"
   ]
  },
  {
   "cell_type": "code",
   "execution_count": 1154,
   "metadata": {
    "collapsed": true
   },
   "outputs": [],
   "source": [
    "def show_results(facts):\n",
    "    for f in facts:\n",
    "        output=ltn.forward(predicats=[f])\n",
    "        if output[1].data.numpy()[0]>0.9:\n",
    "            continue\n",
    "        print(f)\n",
    "        print(output[1].data.numpy()[0])"
   ]
  },
  {
   "cell_type": "code",
   "execution_count": 1155,
   "metadata": {},
   "outputs": [
    {
     "name": "stdout",
     "output_type": "stream",
     "text": [
      "[False, 'S', ['g']]\n",
      "0.683382\n",
      "[True, 'S', ['g']]\n",
      "0.316618\n",
      "[False, 'F', ['a', 'g']]\n",
      "0.0558051\n",
      "[True, 'C', ['g']]\n",
      "0.0\n"
     ]
    }
   ],
   "source": [
    "show_results(facts)"
   ]
  }
 ],
 "metadata": {
  "kernelspec": {
   "display_name": "Python 3",
   "language": "python",
   "name": "python3"
  },
  "language_info": {
   "codemirror_mode": {
    "name": "ipython",
    "version": 3
   },
   "file_extension": ".py",
   "mimetype": "text/x-python",
   "name": "python",
   "nbconvert_exporter": "python",
   "pygments_lexer": "ipython3",
   "version": "3.6.2"
  }
 },
 "nbformat": 4,
 "nbformat_minor": 2
}
