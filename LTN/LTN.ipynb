{
 "cells": [
  {
   "cell_type": "code",
   "execution_count": 1,
   "metadata": {
    "collapsed": true
   },
   "outputs": [],
   "source": [
    "import torch\n",
    "import torch.nn as nn\n",
    "from torch.autograd import Variable\n",
    "import torch.optim as optim\n",
    "from matplotlib import pyplot as plt\n",
    "import seaborn as sns\n",
    "from tqdm import tqdm\n",
    "import copy"
   ]
  },
  {
   "cell_type": "code",
   "execution_count": 2,
   "metadata": {
    "collapsed": true
   },
   "outputs": [],
   "source": [
    "emb_dim=100"
   ]
  },
  {
   "cell_type": "code",
   "execution_count": 9,
   "metadata": {
    "collapsed": true
   },
   "outputs": [],
   "source": [
    "def show_results(model, knowledge_base):\n",
    "    wrong=0\n",
    "    for clause in knowledge_base.clauses:\n",
    "        output=model.forward(clause=clause)\n",
    "        if output[0].data.numpy()[0]<0.01:\n",
    "            continue\n",
    "        print(clause.show())\n",
    "        print(output[0].data.numpy()[0], output[1].data.numpy()[0])\n",
    "        wrong+=1\n",
    "    print(wrong)"
   ]
  },
  {
   "cell_type": "code",
   "execution_count": 10,
   "metadata": {
    "collapsed": true
   },
   "outputs": [],
   "source": [
    "class GConstants(nn.Module):\n",
    "    def __init__(self, constants,emb_dim):\n",
    "        super(GConstants, self).__init__()\n",
    "        self.symbol2id=dict()\n",
    "        self.id2symbol=dict()\n",
    "        for i,s in enumerate(constants):\n",
    "            self.symbol2id[s]=i\n",
    "            self.id2symbol[i]=s\n",
    "        self.embeddings = nn.Embedding(len(self.symbol2id), emb_dim)\n",
    "    def forward(self,constants):\n",
    "        constant_id=[]\n",
    "        for c in constants:\n",
    "            constant_id.append(self.symbol2id[c])\n",
    "        embs=self.embeddings(Variable(torch.LongTensor(constant_id)))\n",
    "        embs=torch.cat(embs).view(1,-1)\n",
    "        return embs"
   ]
  },
  {
   "cell_type": "code",
   "execution_count": 11,
   "metadata": {
    "collapsed": true
   },
   "outputs": [],
   "source": [
    "class GPredicate(nn.Module):\n",
    "    def __init__(self, name, variable_count, emb_dim):\n",
    "        super(GPredicate, self).__init__()\n",
    "        self.name=name\n",
    "        self.variable_count=variable_count\n",
    "        self.emb_dim=emb_dim\n",
    "        m=variable_count*emb_dim\n",
    "        self.variable_count=variable_count\n",
    "        self.W=Variable(torch.randn(m, emb_dim, m), requires_grad=True)\n",
    "        self.V=Variable(torch.randn(m, emb_dim), requires_grad=True)\n",
    "        self.B=Variable(torch.randn(emb_dim), requires_grad=True)\n",
    "        self.u=Variable(torch.randn(emb_dim), requires_grad=True)\n",
    "    def forward(self, embs, negation):\n",
    "        m=self.variable_count*self.emb_dim\n",
    "        W=self.W.view(m,-1)\n",
    "        output=torch.mm(embs,W)\n",
    "        output=output.view(-1,m)\n",
    "        output=torch.mm(output,embs.view(-1,1))\n",
    "        output=output.view(1,-1)\n",
    "        output=output.add(torch.mm(embs,self.V))\n",
    "        output=output.add(self.B)\n",
    "        output=output.view(-1)\n",
    "        output=torch.tanh(output)\n",
    "        output=torch.mul(output,self.u).sum()\n",
    "        output=torch.sigmoid(output)\n",
    "        if negation:\n",
    "            output=1.0-output\n",
    "        return output"
   ]
  },
  {
   "cell_type": "code",
   "execution_count": 12,
   "metadata": {
    "collapsed": true
   },
   "outputs": [],
   "source": [
    "class LTN(nn.Module):\n",
    "    def __init__(self, emb_dim, constants, predicates):\n",
    "        super(LTN, self).__init__()\n",
    "        self.emb_dim=emb_dim\n",
    "        self.Constants=GConstants(constants, emb_dim)\n",
    "        self.Predicates=dict()\n",
    "        for name,n in predicates:\n",
    "            self.Predicates[name]=GPredicate(name,n,emb_dim)\n",
    "    def forward(self, clause):\n",
    "        Phi=None\n",
    "        v=Variable(torch.FloatTensor([clause.v]))\n",
    "        w=Variable(torch.FloatTensor([clause.w]))\n",
    "        for predicate in clause.predicates:\n",
    "            negation=predicate.negation\n",
    "            name=predicate.name\n",
    "            constants=predicate.variables\n",
    "            embs=self.Constants.forward(constants)\n",
    "            output=self.Predicates[name].forward(embs,negation)\n",
    "            if Phi is None or Phi.data.numpy()[0]<output.data.numpy()[0]:\n",
    "                Phi=output\n",
    "        if (Phi>w).data.all():\n",
    "            loss=Phi-w\n",
    "        elif (Phi<v).data.all():\n",
    "            loss=v-Phi\n",
    "        else:\n",
    "            loss=Variable(torch.FloatTensor([0]),requires_grad=True)\n",
    "        return loss,Phi\n",
    "    def parameters(self):\n",
    "        results=list(self.Constants.parameters())\n",
    "        for name in self.Predicates:\n",
    "            results+=list(self.Predicates[name].parameters())\n",
    "        return results"
   ]
  },
  {
   "cell_type": "code",
   "execution_count": 13,
   "metadata": {
    "collapsed": true
   },
   "outputs": [],
   "source": [
    "kb1=load_knowledge_base('./facts1.txt')\n",
    "kb2=load_knowledge_base('./facts2.txt')\n",
    "propositionals=load_propositional('./knowledge.txt')\n",
    "gkbs1=[]\n",
    "for p in propositionals:\n",
    "    gkbs1.append(p.generate_knowledge_base('abcdefgh'))\n",
    "gkb1=gkbs1[0]\n",
    "for tkb in gkbs1[1:]:\n",
    "    gkb1=gkb1.union(tkb)\n",
    "gkbs2=[]\n",
    "for p in propositionals:\n",
    "    gkbs2.append(p.generate_knowledge_base('ijklmn'))\n",
    "gkb2=gkbs2[0]\n",
    "for tkb in gkbs2[1:]:\n",
    "    gkb2=gkb2.union(tkb)"
   ]
  },
  {
   "cell_type": "code",
   "execution_count": 24,
   "metadata": {
    "scrolled": true
   },
   "outputs": [
    {
     "name": "stderr",
     "output_type": "stream",
     "text": [
      "\r",
      "  0%|          | 0/2000 [00:00<?, ?it/s]"
     ]
    },
    {
     "data": {
      "image/png": "[encoded data removed]",
      "text/plain": [
       "<matplotlib.figure.Figure at 0x1a157df908>"
      ]
     },
     "metadata": {},
     "output_type": "display_data"
    },
    {
     "data": {
      "image/png": "[encoded data removed]",
      "text/plain": [
       "<matplotlib.figure.Figure at 0x1a1d124c88>"
      ]
     },
     "metadata": {},
     "output_type": "display_data"
    },
    {
     "name": "stdout",
     "output_type": "stream",
     "text": [
      "S(i)\n",
      "0.988445 0.011555\n",
      "¬S(j)\n",
      "0.769194 0.230806\n",
      "¬S(l)\n",
      "0.123239 0.876761\n",
      "F(i, j)\n",
      "0.999785 0.0002145\n",
      "F(i, m)\n",
      "0.993702 0.00629808\n",
      "F(k, l)\n",
      "0.644376 0.355624\n",
      "F(m, n)\n",
      "0.987018 0.0129816\n",
      "¬F(i, l)\n",
      "0.0133018 0.986698\n",
      "¬F(j, m)\n",
      "0.161299 0.838701\n",
      "¬F(l, n)\n",
      "0.999629 0.000370741\n",
      "¬F(l, m)\n",
      "1.0 0.0\n",
      "S(a)\n",
      "0.934985 0.0650152\n",
      "S(e)\n",
      "0.919937 0.0800627\n",
      "S(f)\n",
      "0.999724 0.000275875\n",
      "S(g)\n",
      "0.0135491 0.986451\n",
      "¬S(d)\n",
      "0.997347 0.00265324\n",
      "F(a, b)\n",
      "0.0520901 0.94791\n",
      "F(a, e)\n",
      "0.284325 0.715675\n",
      "F(a, g)\n",
      "0.370691 0.629309\n",
      "F(e, f)\n",
      "0.998736 0.00126434\n",
      "F(g, h)\n",
      "0.0397776 0.960222\n",
      "¬F(a, c)\n",
      "0.0139196 0.98608\n",
      "¬F(b, d)\n",
      "0.99999 1.00136e-05\n",
      "¬F(b, e)\n",
      "0.69851 0.30149\n",
      "¬F(b, f)\n",
      "0.996101 0.00389886\n",
      "¬F(b, g)\n",
      "0.999979 2.13385e-05\n"
     ]
    },
    {
     "name": "stderr",
     "output_type": "stream",
     "text": [
      "\r",
      "  0%|          | 1/2000 [00:01<52:29,  1.58s/it]"
     ]
    },
    {
     "name": "stdout",
     "output_type": "stream",
     "text": [
      "¬F(b, h)\n",
      "0.991098 0.00890231\n",
      "¬F(c, f)\n",
      "0.984843 0.0151569\n",
      "¬F(d, g)\n",
      "0.999899 0.000100732\n",
      "¬F(f, g)\n",
      "0.0175093 0.982491\n",
      "¬F(f, h)\n",
      "0.877192 0.122808\n",
      "C(a)\n",
      "0.445227 0.554773\n",
      "C(e)\n",
      "0.853861 0.146139\n",
      "¬C(b)\n",
      "0.188281 0.811719\n",
      "¬C(d)\n",
      "0.999751 0.000249326\n",
      "¬C(f)\n",
      "0.999998 1.66893e-06\n",
      "¬C(h)\n",
      "0.999936 6.4373e-05\n",
      "37\n"
     ]
    },
    {
     "name": "stderr",
     "output_type": "stream",
     "text": [
      "  5%|▌         | 100/2000 [01:12<22:56,  1.38it/s]"
     ]
    },
    {
     "data": {
      "image/png": "[encoded data removed]",
      "text/plain": [
       "<matplotlib.figure.Figure at 0x1a157a66a0>"
      ]
     },
     "metadata": {},
     "output_type": "display_data"
    },
    {
     "data": {
      "image/png": "[encoded data removed]",
      "text/plain": [
       "<matplotlib.figure.Figure at 0x1a1579e7b8>"
      ]
     },
     "metadata": {},
     "output_type": "display_data"
    },
    {
     "name": "stderr",
     "output_type": "stream",
     "text": [
      "\r",
      "  5%|▌         | 101/2000 [01:13<23:05,  1.37it/s]"
     ]
    },
    {
     "name": "stdout",
     "output_type": "stream",
     "text": [
      "S(e)\n",
      "0.515298 0.484702\n",
      "F(e, f)\n",
      "0.0207701 0.97923\n",
      "¬C(d)\n",
      "0.234211 0.765789\n",
      "3\n"
     ]
    },
    {
     "name": "stderr",
     "output_type": "stream",
     "text": [
      " 10%|█         | 200/2000 [02:32<22:55,  1.31it/s]"
     ]
    },
    {
     "data": {
      "image/png": "[encoded data removed]",
      "text/plain": [
       "<matplotlib.figure.Figure at 0x1a1d3de2e8>"
      ]
     },
     "metadata": {},
     "output_type": "display_data"
    },
    {
     "data": {
      "image/png": "[encoded data removed]",
      "text/plain": [
       "<matplotlib.figure.Figure at 0x1a1d139b70>"
      ]
     },
     "metadata": {},
     "output_type": "display_data"
    },
    {
     "name": "stderr",
     "output_type": "stream",
     "text": [
      "\r",
      " 10%|█         | 201/2000 [02:34<23:00,  1.30it/s]"
     ]
    },
    {
     "name": "stdout",
     "output_type": "stream",
     "text": [
      "0\n"
     ]
    },
    {
     "name": "stderr",
     "output_type": "stream",
     "text": [
      " 11%|█         | 220/2000 [02:47<22:34,  1.31it/s]"
     ]
    },
    {
     "ename": "KeyboardInterrupt",
     "evalue": "",
     "output_type": "error",
     "traceback": [
      "\u001b[0;31m---------------------------------------------------------------------------\u001b[0m",
      "\u001b[0;31mKeyboardInterrupt\u001b[0m                         Traceback (most recent call last)",
      "\u001b[0;32m<ipython-input-24-04230ee0ca87>\u001b[0m in \u001b[0;36m<module>\u001b[0;34m()\u001b[0m\n\u001b[1;32m     12\u001b[0m     \u001b[0;32mfor\u001b[0m \u001b[0mclause\u001b[0m \u001b[0;32min\u001b[0m \u001b[0mkb_train\u001b[0m\u001b[0;34m.\u001b[0m\u001b[0mclauses\u001b[0m\u001b[0;34m:\u001b[0m\u001b[0;34m\u001b[0m\u001b[0m\n\u001b[1;32m     13\u001b[0m         \u001b[0mloss\u001b[0m\u001b[0;34m,\u001b[0m\u001b[0mprob\u001b[0m\u001b[0;34m=\u001b[0m\u001b[0mltn1\u001b[0m\u001b[0;34m.\u001b[0m\u001b[0mforward\u001b[0m\u001b[0;34m(\u001b[0m\u001b[0mclause\u001b[0m\u001b[0;34m=\u001b[0m\u001b[0mclause\u001b[0m\u001b[0;34m)\u001b[0m\u001b[0;34m\u001b[0m\u001b[0m\n\u001b[0;32m---> 14\u001b[0;31m         \u001b[0mloss\u001b[0m\u001b[0;34m.\u001b[0m\u001b[0mbackward\u001b[0m\u001b[0;34m(\u001b[0m\u001b[0mone\u001b[0m\u001b[0;34m)\u001b[0m\u001b[0;34m\u001b[0m\u001b[0m\n\u001b[0m\u001b[1;32m     15\u001b[0m         \u001b[0mtotal_probability\u001b[0m\u001b[0;34m+=\u001b[0m\u001b[0mprob\u001b[0m\u001b[0;34m.\u001b[0m\u001b[0mdata\u001b[0m\u001b[0;34m.\u001b[0m\u001b[0mnumpy\u001b[0m\u001b[0;34m(\u001b[0m\u001b[0;34m)\u001b[0m\u001b[0;34m[\u001b[0m\u001b[0;36m0\u001b[0m\u001b[0;34m]\u001b[0m\u001b[0;34m\u001b[0m\u001b[0m\n\u001b[1;32m     16\u001b[0m         \u001b[0mtotal_loss\u001b[0m\u001b[0;34m+=\u001b[0m\u001b[0mloss\u001b[0m\u001b[0;34m.\u001b[0m\u001b[0mdata\u001b[0m\u001b[0;34m.\u001b[0m\u001b[0mnumpy\u001b[0m\u001b[0;34m(\u001b[0m\u001b[0;34m)\u001b[0m\u001b[0;34m[\u001b[0m\u001b[0;36m0\u001b[0m\u001b[0;34m]\u001b[0m\u001b[0;34m\u001b[0m\u001b[0m\n",
      "\u001b[0;32m~/anaconda3/lib/python3.6/site-packages/torch/autograd/variable.py\u001b[0m in \u001b[0;36mbackward\u001b[0;34m(self, gradient, retain_graph, create_graph, retain_variables)\u001b[0m\n\u001b[1;32m    154\u001b[0m                 \u001b[0mVariable\u001b[0m\u001b[0;34m.\u001b[0m\u001b[0;34m\u001b[0m\u001b[0m\n\u001b[1;32m    155\u001b[0m         \"\"\"\n\u001b[0;32m--> 156\u001b[0;31m         \u001b[0mtorch\u001b[0m\u001b[0;34m.\u001b[0m\u001b[0mautograd\u001b[0m\u001b[0;34m.\u001b[0m\u001b[0mbackward\u001b[0m\u001b[0;34m(\u001b[0m\u001b[0mself\u001b[0m\u001b[0;34m,\u001b[0m \u001b[0mgradient\u001b[0m\u001b[0;34m,\u001b[0m \u001b[0mretain_graph\u001b[0m\u001b[0;34m,\u001b[0m \u001b[0mcreate_graph\u001b[0m\u001b[0;34m,\u001b[0m \u001b[0mretain_variables\u001b[0m\u001b[0;34m)\u001b[0m\u001b[0;34m\u001b[0m\u001b[0m\n\u001b[0m\u001b[1;32m    157\u001b[0m \u001b[0;34m\u001b[0m\u001b[0m\n\u001b[1;32m    158\u001b[0m     \u001b[0;32mdef\u001b[0m \u001b[0mregister_hook\u001b[0m\u001b[0;34m(\u001b[0m\u001b[0mself\u001b[0m\u001b[0;34m,\u001b[0m \u001b[0mhook\u001b[0m\u001b[0;34m)\u001b[0m\u001b[0;34m:\u001b[0m\u001b[0;34m\u001b[0m\u001b[0m\n",
      "\u001b[0;32m~/anaconda3/lib/python3.6/site-packages/torch/autograd/__init__.py\u001b[0m in \u001b[0;36mbackward\u001b[0;34m(variables, grad_variables, retain_graph, create_graph, retain_variables)\u001b[0m\n\u001b[1;32m     96\u001b[0m \u001b[0;34m\u001b[0m\u001b[0m\n\u001b[1;32m     97\u001b[0m     Variable._execution_engine.run_backward(\n\u001b[0;32m---> 98\u001b[0;31m         variables, grad_variables, retain_graph)\n\u001b[0m\u001b[1;32m     99\u001b[0m \u001b[0;34m\u001b[0m\u001b[0m\n\u001b[1;32m    100\u001b[0m \u001b[0;34m\u001b[0m\u001b[0m\n",
      "\u001b[0;31mKeyboardInterrupt\u001b[0m: "
     ]
    }
   ],
   "source": [
    "ltn1=LTN(emb_dim,'abcdefghijklmn',[['S',1],['F',2],['C',1]])\n",
    "kb_train=kb1.union(kb2)\n",
    "optimizor=torch.optim.Adam(ltn1.parameters(),lr=0.1,weight_decay=0.1)\n",
    "mone=torch.FloatTensor([-1])\n",
    "one=torch.FloatTensor([1])\n",
    "average_prob=[]\n",
    "averate_loss=[]\n",
    "for i in tqdm(range(2000)):\n",
    "    optimizor.zero_grad()\n",
    "    total_probability=0.0\n",
    "    total_loss=0.0\n",
    "    for clause in kb_train.clauses:\n",
    "        loss,prob=ltn1.forward(clause=clause)\n",
    "        loss.backward(one)\n",
    "        total_probability+=prob.data.numpy()[0]\n",
    "        total_loss+=loss.data.numpy()[0]\n",
    "    optimizor.step()\n",
    "    average_prob.append(total_probability/len(kb_train.clauses))\n",
    "    averate_loss.append(total_loss/len(kb_train.clauses))\n",
    "    \n",
    "    if i%100==0:\n",
    "        plt.plot(average_prob)\n",
    "        plt.show()\n",
    "        plt.plot(averate_loss)\n",
    "        plt.show()\n",
    "        show_results(ltn1, kb_train)"
   ]
  },
  {
   "cell_type": "code",
   "execution_count": 25,
   "metadata": {
    "scrolled": true
   },
   "outputs": [
    {
     "name": "stdout",
     "output_type": "stream",
     "text": [
      "(Variable containing:\n",
      "1.00000e-02 *\n",
      "  7.9611\n",
      "[torch.FloatTensor of size 1]\n",
      ", Variable containing:\n",
      " 0.9204\n",
      "[torch.FloatTensor of size 1]\n",
      ")\n",
      "F(c, b)\n"
     ]
    }
   ],
   "source": [
    "c=Clause(1,1,[Predicate('F',['c','b'],False)])\n",
    "print(ltn1.forward(c))\n",
    "print(c.show())"
   ]
  },
  {
   "cell_type": "code",
   "execution_count": 27,
   "metadata": {
    "scrolled": true
   },
   "outputs": [
    {
     "name": "stderr",
     "output_type": "stream",
     "text": [
      "\n",
      "  0%|          | 0/2000 [00:00<?, ?it/s]\u001b[A"
     ]
    },
    {
     "data": {
      "image/png": "[encoded data removed]",
      "text/plain": [
       "<matplotlib.figure.Figure at 0x1a157ef240>"
      ]
     },
     "metadata": {},
     "output_type": "display_data"
    },
    {
     "data": {
      "image/png": "[encoded data removed]",
      "text/plain": [
       "<matplotlib.figure.Figure at 0x1a16be9cf8>"
      ]
     },
     "metadata": {},
     "output_type": "display_data"
    },
    {
     "name": "stdout",
     "output_type": "stream",
     "text": [
      "¬S(i) ∨ C(i)\n",
      "0.999967 3.28403e-05\n",
      "¬S(i) ∨ ¬F(i, j) ∨ S(j)\n",
      "0.999586 0.000414431\n",
      "¬S(i) ∨ ¬F(i, l) ∨ S(l)\n",
      "0.997065 0.00293487\n",
      "¬S(k) ∨ ¬F(k, j) ∨ S(j)\n",
      "0.562536 0.437464\n",
      "¬S(k) ∨ ¬F(k, l) ∨ S(l)\n",
      "0.730473 0.269527\n",
      "¬S(k) ∨ ¬F(k, m) ∨ S(m)\n",
      "0.200082 0.799918\n",
      "¬S(k) ∨ ¬F(k, n) ∨ S(n)\n",
      "0.730473 0.269527\n",
      "¬F(i, i) ∨ F(i, i)\n",
      "0.28875 0.71125\n",
      "¬F(i, j) ∨ F(j, i)\n",
      "0.982799 0.0172014\n",
      "¬F(i, l) ∨ F(l, i)\n",
      "0.681322 0.318678\n",
      "¬F(j, k) ∨ F(k, j)\n",
      "0.437464 0.562536\n",
      "¬F(j, l) ∨ F(l, j)\n",
      "0.907557 0.0924428\n",
      "¬F(j, n) ∨ F(n, j)\n",
      "0.0436706 0.956329\n",
      "¬F(k, i) ∨ F(i, k)\n",
      "0.997872 0.00212765\n",
      "¬F(k, j) ∨ F(j, k)\n",
      "0.0297787 0.970221\n",
      "¬F(k, m) ∨ F(m, k)\n",
      "0.200082 0.799918\n",
      "¬F(k, n) ∨ F(n, k)\n",
      "0.999914 8.58307e-05\n",
      "¬F(m, i) ∨ F(i, m)\n",
      "0.982785 0.0172148\n",
      "¬F(m, k) ∨ F(k, m)\n",
      "0.516389 0.483611\n",
      "¬F(m, l) ∨ F(l, m)\n",
      "0.973237 0.0267631\n",
      "¬F(m, n) ∨ F(n, m)\n",
      "0.954235 0.0457647\n",
      "¬F(n, i) ∨ F(i, n)\n",
      "0.999784 0.000216067\n",
      "¬F(n, j) ∨ F(j, n)\n",
      "0.178497 0.821503\n",
      "¬F(n, n) ∨ F(n, n)\n",
      "0.0473002 0.9527\n",
      "¬F(i, i)\n",
      "0.28875 0.71125\n",
      "¬F(l, l)\n",
      "1.0 3.57628e-07\n",
      "¬F(m, m)\n",
      "1.0 0.0\n",
      "¬F(n, n)\n",
      "0.0473002 0.9527\n",
      "¬S(a) ∨ C(a)\n",
      "0.997716 0.00228357\n",
      "¬S(c) ∨ C(c)\n",
      "0.371984 0.628016\n",
      "¬S(a) ∨ ¬F(a, b) ∨ S(b)\n",
      "0.950621 0.049379\n",
      "¬S(a) ∨ ¬F(a, c) ∨ S(c)\n",
      "0.628016 0.371984\n",
      "¬S(a) ∨ ¬F(a, d) ∨ S(d)\n",
      "0.997716 0.00228357\n",
      "¬S(a) ∨ ¬F(a, e) ∨ S(e)\n",
      "0.997716 0.00228357\n",
      "¬S(c) ∨ ¬F(c, c) ∨ S(c)\n",
      "0.019493 0.980507\n",
      "¬S(c) ∨ ¬F(c, e) ∨ S(e)\n",
      "0.371984 0.628016\n",
      "¬S(g) ∨ ¬F(g, b) ∨ S(b)\n",
      "0.176412 0.823588\n",
      "¬S(g) ∨ ¬F(g, c) ∨ S(c)\n",
      "0.628016 0.371984\n",
      "¬S(g) ∨ ¬F(g, d) ∨ S(d)\n",
      "0.971184 0.0288159\n",
      "¬S(g) ∨ ¬F(g, e) ∨ S(e)\n",
      "0.997456 0.00254399\n",
      "¬S(g) ∨ ¬F(g, f) ∨ S(f)\n",
      "0.0860333 0.913967\n",
      "F(c, a) ∨ F(c, b) ∨ F(c, c) ∨ F(c, d) ∨ F(c, e) ∨ F(c, f) ∨ F(c, g) ∨ F(c, h)\n",
      "0.0595183 0.940482\n",
      "¬F(a, b) ∨ F(b, a)\n",
      "0.897184 0.102816\n",
      "¬F(a, c) ∨ F(c, a)\n",
      "0.999978 2.15769e-05\n",
      "¬F(a, e) ∨ F(e, a)\n",
      "0.0192059 0.980794\n",
      "¬F(a, g) ∨ F(g, a)\n",
      "0.0405267 0.959473\n",
      "¬F(b, a) ∨ F(a, b)\n",
      "0.049379 0.950621\n",
      "¬F(b, b) ∨ F(b, b)\n",
      "0.248675 0.751325\n",
      "¬F(b, c) ∨ F(c, b)\n",
      "0.999366 0.000633947\n",
      "¬F(b, d) ∨ F(d, b)\n",
      "0.783331 0.216669\n",
      "¬F(b, e) ∨ F(e, b)\n",
      "0.369969 0.630031\n",
      "¬F(b, f) ∨ F(f, b)\n",
      "0.949914 0.0500858\n",
      "¬F(c, c) ∨ F(c, c)\n",
      "0.019493 0.980507\n",
      "¬F(c, e) ∨ F(e, c)\n",
      "0.771246 0.228754\n",
      "¬F(d, c) ∨ F(c, d)\n",
      "0.96248 0.0375197\n",
      "¬F(d, e) ∨ F(e, d)\n",
      "0.0113231 0.988677\n",
      "¬F(e, c) ∨ F(c, e)\n",
      "0.0595183 0.940482\n",
      "¬F(e, d) ∨ F(d, e)\n",
      "0.483038 0.516962\n",
      "¬F(f, a) ∨ F(a, f)\n",
      "0.999855 0.000144551\n",
      "¬F(f, b) ∨ F(b, f)\n",
      "0.013315 0.986685\n",
      "¬F(f, c) ∨ F(c, f)\n",
      "0.996343 0.00365707\n",
      "¬F(f, d) ∨ F(d, f)\n",
      "0.872086 0.127914\n",
      "¬F(f, e) ∨ F(e, f)\n",
      "0.253655 0.746345\n",
      "¬F(f, f) ∨ F(f, f)\n",
      "0.259416 0.740584\n",
      "¬F(f, g) ∨ F(g, f)\n",
      "0.844696 0.155304\n",
      "¬F(g, b) ∨ F(b, g)\n",
      "0.176412 0.823588\n",
      "¬F(g, c) ∨ F(c, g)\n",
      "0.694811 0.305189\n",
      "¬F(g, d) ∨ F(d, g)\n",
      "0.971184 0.0288159\n",
      "¬F(g, e) ∨ F(e, g)\n",
      "0.0342185 0.965782\n",
      "¬F(g, f) ∨ F(f, g)\n",
      "0.0860333 0.913967\n",
      "¬F(h, c) ∨ F(c, h)\n",
      "0.0109828 0.989017\n",
      "¬F(h, d) ∨ F(d, h)\n",
      "0.135179 0.864821\n",
      "¬F(h, e) ∨ F(e, h)\n",
      "0.998978 0.00102174\n",
      "¬F(h, f) ∨ F(f, h)\n",
      "0.75313 0.24687\n",
      "¬F(h, g) ∨ F(g, h)\n",
      "0.999994 6.19888e-06\n",
      "¬F(a, a)\n",
      "0.999983 1.74046e-05\n",
      "¬F(b, b)\n",
      "0.248675 0.751325\n",
      "¬F(c, c)\n",
      "0.019493 0.980507\n",
      "¬F(d, d)\n",
      "0.999985 1.46627e-05\n",
      "¬F(e, e)\n",
      "1.0 1.19209e-07\n",
      "¬F(f, f)\n",
      "0.259416 0.740584\n",
      "¬F(g, g)\n",
      "0.999997 2.5034e-06\n",
      "S(n)\n",
      "1.0 1.26043e-09\n",
      "¬S(k)\n",
      "0.730473 0.269527\n",
      "F(i, m)\n",
      "0.99777 0.00222955\n",
      "¬F(i, l)\n",
      "0.997065 0.00293487\n",
      "¬F(j, k)\n",
      "0.970221 0.0297787\n",
      "¬F(j, l)\n",
      "0.999102 0.000897527\n",
      "¬F(j, n)\n",
      "0.821503 0.178497\n",
      "¬F(l, n)\n",
      "0.999624 0.000376463\n",
      "¬F(k, m)\n",
      "0.200082 0.799918\n",
      "S(e)\n",
      "0.999261 0.000739253\n",
      "S(f)\n",
      "0.996154 0.00384613\n",
      "¬S(c)\n",
      "0.371984 0.628016\n",
      "F(a, b)\n",
      "0.049379 0.950621\n",
      "F(a, f)\n",
      "0.999855 "
     ]
    },
    {
     "name": "stderr",
     "output_type": "stream",
     "text": [
      "\n",
      "  0%|          | 1/2000 [00:06<3:45:29,  6.77s/it]\u001b[A"
     ]
    },
    {
     "name": "stdout",
     "output_type": "stream",
     "text": [
      "0.000144551\n",
      "F(c, d)\n",
      "0.998947 0.00105302\n",
      "F(e, f)\n",
      "0.253655 0.746345\n",
      "F(g, h)\n",
      "1.0 1.47258e-08\n",
      "¬F(a, c)\n",
      "0.999978 2.15769e-05\n",
      "¬F(a, d)\n",
      "0.999858 0.000142097\n",
      "¬F(b, d)\n",
      "0.783331 0.216669\n",
      "¬F(b, e)\n",
      "0.999887 0.00011313\n",
      "¬F(b, f)\n",
      "0.986685 0.013315\n",
      "¬F(c, e)\n",
      "0.940482 0.0595183\n",
      "¬F(c, g)\n",
      "0.305189 0.694811\n",
      "¬F(d, e)\n",
      "0.516962 0.483038\n",
      "¬F(d, f)\n",
      "0.127914 0.872086\n",
      "¬F(d, h)\n",
      "0.864821 0.135179\n",
      "¬F(e, g)\n",
      "0.965782 0.0342185\n",
      "¬F(f, g)\n",
      "0.844696 0.155304\n",
      "C(a)\n",
      "0.999963 3.74586e-05\n",
      "¬C(b)\n",
      "0.990892 0.00910848\n",
      "¬C(c)\n",
      "0.0228243 0.977176\n",
      "¬C(f)\n",
      "0.999994 5.72205e-06\n",
      "¬C(g)\n",
      "1.0 2.38419e-07\n",
      "¬C(h)\n",
      "0.999702 0.000298202\n",
      "117\n"
     ]
    },
    {
     "name": "stderr",
     "output_type": "stream",
     "text": [
      "\n",
      "Exception in thread Thread-6:\n",
      "Traceback (most recent call last):\n",
      "  File \"/Users/sunxiaofei/anaconda3/lib/python3.6/threading.py\", line 916, in _bootstrap_inner\n",
      "    self.run()\n",
      "  File \"/Users/sunxiaofei/anaconda3/lib/python3.6/site-packages/tqdm/_tqdm.py\", line 144, in run\n",
      "    for instance in self.tqdm_cls._instances:\n",
      "  File \"/Users/sunxiaofei/anaconda3/lib/python3.6/_weakrefset.py\", line 60, in __iter__\n",
      "    for itemref in self.data:\n",
      "RuntimeError: Set changed size during iteration\n",
      "\n",
      "  5%|▌         | 100/2000 [07:35<2:24:19,  4.56s/it]"
     ]
    },
    {
     "data": {
      "image/png": "[encoded data removed]",
      "text/plain": [
       "<matplotlib.figure.Figure at 0x1a2034e828>"
      ]
     },
     "metadata": {},
     "output_type": "display_data"
    },
    {
     "data": {
      "image/png": "[encoded data removed]",
      "text/plain": [
       "<matplotlib.figure.Figure at 0x1a1cf909b0>"
      ]
     },
     "metadata": {},
     "output_type": "display_data"
    },
    {
     "name": "stdout",
     "output_type": "stream",
     "text": [
      "¬S(i) ∨ ¬F(i, j) ∨ S(j)\n",
      "0.0269589 0.973041\n",
      "¬S(i) ∨ ¬F(i, m) ∨ S(m)\n",
      "0.650642 0.349358\n",
      "¬S(k) ∨ ¬F(k, j) ∨ S(j)\n",
      "0.0440266 0.955973\n",
      "F(i, i) ∨ F(i, j) ∨ F(i, k) ∨ F(i, l) ∨ F(i, m) ∨ F(i, n)\n",
      "0.349358 0.650642\n",
      "F(k, i) ∨ F(k, j) ∨ F(k, k) ∨ F(k, l) ∨ F(k, m) ∨ F(k, n)\n",
      "0.955973 0.0440266\n",
      "¬F(i, j) ∨ F(j, i)\n",
      "0.0269589 0.973041\n",
      "¬F(k, j) ∨ F(j, k)\n",
      "0.0440266 0.955973\n",
      "¬F(l, j) ∨ F(j, l)\n",
      "0.997081 0.00291854\n",
      "¬F(m, i) ∨ F(i, m)\n",
      "0.349358 0.650642\n",
      "¬F(n, m) ∨ F(m, n)\n",
      "0.982923 0.0170768\n",
      "¬S(g) ∨ C(g)\n",
      "0.224109 0.775891\n",
      "¬S(a) ∨ ¬F(a, a) ∨ S(a)\n",
      "0.0102258 0.989774\n",
      "¬S(a) ∨ ¬F(a, d) ∨ S(d)\n",
      "0.0102258 0.989774\n",
      "¬S(a) ∨ ¬F(a, e) ∨ S(e)\n",
      "0.0102258 0.989774\n",
      "¬S(a) ∨ ¬F(a, f) ∨ S(f)\n",
      "0.0102258 0.989774\n",
      "¬S(g) ∨ ¬F(g, a) ∨ S(a)\n",
      "0.0824531 0.917547\n",
      "¬S(g) ∨ ¬F(g, d) ∨ S(d)\n",
      "0.888589 0.111411\n",
      "¬S(g) ∨ ¬F(g, e) ∨ S(e)\n",
      "0.136586 0.863414\n",
      "F(g, a) ∨ F(g, b) ∨ F(g, c) ∨ F(g, d) ∨ F(g, e) ∨ F(g, f) ∨ F(g, g) ∨ F(g, h)\n",
      "0.111411 0.888589\n",
      "¬F(a, g) ∨ F(g, a)\n",
      "0.917547 0.0824532\n",
      "¬F(b, a) ∨ F(a, b)\n",
      "0.483566 0.516434\n",
      "¬F(b, c) ∨ F(c, b)\n",
      "0.61824 0.38176\n",
      "¬F(b, e) ∨ F(e, b)\n",
      "0.0194556 0.980544\n",
      "¬F(d, a) ∨ F(a, d)\n",
      "0.0163388 0.983661\n",
      "¬F(e, d) ∨ F(d, e)\n",
      "0.038527 0.961473\n",
      "¬F(f, a) ∨ F(a, f)\n",
      "0.0193817 0.980618\n",
      "¬F(f, d) ∨ F(d, f)\n",
      "0.0123721 0.987628\n",
      "¬F(g, d) ∨ F(d, g)\n",
      "0.888589 0.111411\n",
      "¬F(g, e) ∨ F(e, g)\n",
      "0.136586 0.863414\n",
      "¬F(h, f) ∨ F(f, h)\n",
      "0.0107619 0.989238\n",
      "¬F(a, a)\n",
      "0.999995 5.126e-06\n",
      "¬F(e, e)\n",
      "1.0 1.19209e-07\n",
      "S(n)\n",
      "0.998003 0.00199718\n",
      "¬S(k)\n",
      "0.0711683 0.928832\n",
      "F(i, j)\n",
      "0.973041 0.0269589\n",
      "F(i, m)\n",
      "0.349358 0.650642\n",
      "F(k, l)\n",
      "0.999199 0.00080053\n",
      "F(m, n)\n",
      "0.982923 0.0170768\n",
      "¬F(j, n)\n",
      "0.998887 0.00111324\n",
      "S(a)\n",
      "0.989774 0.0102258\n",
      "S(e)\n",
      "1.0 2.32241e-08\n",
      "S(f)\n",
      "0.994037 0.00596276\n",
      "F(a, b)\n",
      "0.999274 0.000725741\n",
      "F(a, f)\n",
      "0.0193817 0.980618\n",
      "F(b, c)\n",
      "0.38176 0.61824\n",
      "F(c, d)\n",
      "1.0 5.01951e-10\n",
      "F(g, h)\n",
      "1.0 3.99625e-13\n"
     ]
    },
    {
     "name": "stderr",
     "output_type": "stream",
     "text": [
      "\r",
      "  5%|▌         | 101/2000 [07:43<2:25:19,  4.59s/it]"
     ]
    },
    {
     "name": "stdout",
     "output_type": "stream",
     "text": [
      "¬F(a, d)\n",
      "0.983661 0.0163388\n",
      "¬F(b, e)\n",
      "0.998005 0.00199467\n",
      "¬F(c, e)\n",
      "0.999984 1.5974e-05\n",
      "¬F(d, e)\n",
      "0.961473 0.038527\n",
      "¬F(e, h)\n",
      "0.994865 0.00513452\n",
      "¬C(d)\n",
      "0.0113711 0.988629\n",
      "¬C(f)\n",
      "1.0 2.38419e-07\n",
      "¬C(g)\n",
      "0.775891 0.224109\n",
      "55\n"
     ]
    },
    {
     "name": "stderr",
     "output_type": "stream",
     "text": [
      " 10%|█         | 200/2000 [13:35<2:02:15,  4.08s/it]"
     ]
    },
    {
     "data": {
      "image/png": "[encoded data removed]",
      "text/plain": [
       "<matplotlib.figure.Figure at 0x1a1d028668>"
      ]
     },
     "metadata": {},
     "output_type": "display_data"
    },
    {
     "data": {
      "image/png": "[encoded data removed]",
      "text/plain": [
       "<matplotlib.figure.Figure at 0x1a2099ef28>"
      ]
     },
     "metadata": {},
     "output_type": "display_data"
    },
    {
     "name": "stdout",
     "output_type": "stream",
     "text": [
      "F(k, i) ∨ F(k, j) ∨ F(k, k) ∨ F(k, l) ∨ F(k, m) ∨ F(k, n)\n",
      "0.999963 3.71318e-05\n",
      "F(l, i) ∨ F(l, j) ∨ F(l, k) ∨ F(l, l) ∨ F(l, m) ∨ F(l, n)\n",
      "0.996622 0.0033778\n",
      "¬F(i, j) ∨ F(j, i)\n",
      "0.76611 0.23389\n",
      "¬F(m, m) ∨ F(m, m)\n",
      "0.0101128 0.989887\n",
      "¬F(n, l) ∨ F(l, n)\n",
      "0.0122289 0.987771\n",
      "¬F(m, m)\n",
      "0.0101128 0.989887\n",
      "¬F(n, n)\n",
      "0.999978 2.20537e-05\n",
      "¬S(d) ∨ C(d)\n",
      "0.999866 0.00013411\n",
      "¬S(g) ∨ C(g)\n",
      "0.677575 0.322425\n",
      "¬S(d) ∨ ¬F(d, a) ∨ S(a)\n",
      "0.996775 0.00322455\n",
      "¬S(d) ∨ ¬F(d, b) ∨ S(b)\n",
      "0.856931 0.143069\n",
      "¬S(d) ∨ ¬F(d, e) ∨ S(e)\n",
      "0.998467 0.00153322\n",
      "¬S(d) ∨ ¬F(d, h) ∨ S(h)\n",
      "0.0969861 0.903014\n",
      "¬S(g) ∨ ¬F(g, a) ∨ S(a)\n",
      "0.677575 0.322425\n",
      "F(c, a) ∨ F(c, b) ∨ F(c, c) ∨ F(c, d) ∨ F(c, e) ∨ F(c, f) ∨ F(c, g) ∨ F(c, h)\n",
      "0.0877462 0.912254\n",
      "¬F(a, b) ∨ F(b, a)\n",
      "0.0538503 0.94615\n",
      "¬F(a, c) ∨ F(c, a)\n",
      "0.0765228 0.923477\n",
      "¬F(a, h) ∨ F(h, a)\n",
      "0.0626419 0.937358\n",
      "¬F(b, c) ∨ F(c, b)\n",
      "0.513888 0.486112\n",
      "¬F(b, d) ∨ F(d, b)\n",
      "0.143069 0.856931\n",
      "¬F(b, e) ∨ F(e, b)\n",
      "0.0427703 0.95723\n",
      "¬F(b, g) ∨ F(g, b)\n",
      "0.0328944 0.967106\n",
      "¬F(d, b) ∨ F(b, d)\n",
      "0.0704491 0.929551\n",
      "¬F(d, h) ∨ F(h, d)\n",
      "0.0969861 0.903014\n",
      "¬F(e, b) ∨ F(b, e)\n",
      "0.0132715 0.986728\n",
      "¬F(e, c) ∨ F(c, e)\n",
      "0.0877462 0.912254\n",
      "¬F(e, g) ∨ F(g, e)\n",
      "0.0277758 0.972224\n",
      "¬F(f, a) ∨ F(a, f)\n",
      "0.0246351 0.975365\n",
      "¬F(f, b) ∨ F(b, f)\n",
      "0.0344248 0.965575\n",
      "¬F(f, c) ∨ F(c, f)\n",
      "0.997679 0.00232059\n",
      "¬F(f, f) ∨ F(f, f)\n",
      "0.0875087 0.912491\n"
     ]
    },
    {
     "name": "stderr",
     "output_type": "stream",
     "text": [
      "\r",
      " 10%|█         | 201/2000 [13:39<2:02:17,  4.08s/it]"
     ]
    },
    {
     "name": "stdout",
     "output_type": "stream",
     "text": [
      "¬F(h, e) ∨ F(e, h)\n",
      "0.99423 0.00577033\n",
      "¬F(a, a)\n",
      "1.0 0.0\n",
      "¬F(b, b)\n",
      "0.99166 0.0083403\n",
      "¬F(e, e)\n",
      "1.0 0.0\n",
      "¬F(f, f)\n",
      "0.0875087 0.912491\n",
      "S(i)\n",
      "0.999472 0.000528416\n",
      "S(n)\n",
      "0.999491 0.000508819\n",
      "F(i, j)\n",
      "0.23389 0.76611\n",
      "F(k, l)\n",
      "0.999985 1.45364e-05\n",
      "¬F(j, n)\n",
      "0.999881 0.00011909\n",
      "S(a)\n",
      "0.999931 6.86524e-05\n",
      "S(e)\n",
      "0.998467 0.00153322\n",
      "S(f)\n",
      "0.999778 0.000222318\n",
      "S(g)\n",
      "0.322425 0.677575\n",
      "¬S(d)\n",
      "0.999866 0.00013411\n",
      "F(a, f)\n",
      "0.0246351 0.975365\n",
      "F(b, c)\n",
      "0.486112 0.513888\n",
      "F(c, d)\n",
      "1.0 1.20241e-12\n",
      "F(g, h)\n",
      "0.999992 8.28352e-06\n",
      "¬F(a, c)\n",
      "0.0765228 0.923477\n",
      "¬F(a, d)\n",
      "0.999985 1.49012e-05\n",
      "¬F(a, h)\n",
      "0.0626419 0.937358\n",
      "¬F(b, d)\n",
      "0.929551 0.0704491\n",
      "¬F(b, e)\n",
      "0.0427703 0.95723\n",
      "¬F(b, g)\n",
      "0.0328944 0.967106\n",
      "¬F(c, e)\n",
      "0.912254 0.0877462\n",
      "¬F(d, e)\n",
      "0.999963 3.68357e-05\n",
      "¬F(d, h)\n",
      "0.0969861 0.903014\n",
      "¬F(e, g)\n",
      "0.0277758 0.972224\n",
      "C(a)\n",
      "0.080063 0.919937\n",
      "C(e)\n",
      "0.128677 0.871323\n",
      "¬C(c)\n",
      "0.0132217 0.986778\n",
      "¬C(f)\n",
      "0.0137491 0.986251\n",
      "64\n"
     ]
    },
    {
     "name": "stderr",
     "output_type": "stream",
     "text": [
      " 15%|█▌        | 300/2000 [19:51<1:52:30,  3.97s/it]"
     ]
    },
    {
     "data": {
      "image/png": "[encoded data removed]",
      "text/plain": [
       "<matplotlib.figure.Figure at 0x1a209aac18>"
      ]
     },
     "metadata": {},
     "output_type": "display_data"
    },
    {
     "data": {
      "image/png": "[encoded data removed]",
      "text/plain": [
       "<matplotlib.figure.Figure at 0x1a209ec080>"
      ]
     },
     "metadata": {},
     "output_type": "display_data"
    },
    {
     "name": "stdout",
     "output_type": "stream",
     "text": [
      "F(k, i) ∨ F(k, j) ∨ F(k, k) ∨ F(k, l) ∨ F(k, m) ∨ F(k, n)\n",
      "0.999824 0.000176011\n",
      "F(l, i) ∨ F(l, j) ∨ F(l, k) ∨ F(l, l) ∨ F(l, m) ∨ F(l, n)\n",
      "0.999962 3.77395e-05\n",
      "¬F(i, j) ∨ F(j, i)\n",
      "0.0373932 0.962607\n",
      "¬F(n, n)\n",
      "1.0 0.0\n",
      "¬S(d) ∨ ¬F(d, a) ∨ S(a)\n",
      "0.0159132 0.984087\n",
      "F(h, a) ∨ F(h, b) ∨ F(h, c) ∨ F(h, d) ∨ F(h, e) ∨ F(h, f) ∨ F(h, g) ∨ F(h, h)\n",
      "0.88919 0.11081\n",
      "¬F(a, e) ∨ F(e, a)\n",
      "0.0621815 0.937818\n",
      "¬F(c, a) ∨ F(a, c)\n",
      "0.230709 0.769291\n",
      "¬F(c, d) ∨ F(d, c)\n",
      "0.0237843 0.976216\n",
      "¬F(d, a) ∨ F(a, d)\n",
      "0.0115722 0.988428\n",
      "¬F(f, e) ∨ F(e, f)\n",
      "0.0112273 0.988773\n",
      "¬F(h, b) ∨ F(b, h)\n",
      "0.11081 0.88919\n",
      "¬F(a, a)\n",
      "1.0 0.0\n",
      "¬F(e, e)\n",
      "0.998908 0.00109231\n",
      "¬F(f, f)\n",
      "0.99997 3.016e-05\n",
      "S(i)\n",
      "0.999757 0.000243258\n",
      "S(n)\n",
      "0.999928 7.17393e-05\n",
      "F(i, j)\n",
      "0.962607 0.0373931\n",
      "F(k, l)\n",
      "0.999979 2.08029e-05\n",
      "¬F(j, n)\n",
      "0.999965 3.46899e-05\n",
      "S(a)\n",
      "1.0 1.18117e-08\n",
      "S(e)\n",
      "0.998592 0.00140748\n",
      "S(f)\n",
      "0.999987 1.27246e-05\n",
      "S(g)\n",
      "0.997954 0.00204574\n",
      "¬S(d)\n",
      "0.0159132 0.984087\n",
      "F(b, c)\n",
      "0.992819 0.00718144\n",
      "F(c, d)\n",
      "0.976216 0.0237843\n",
      "F(e, f)\n",
      "0.0112273 0.988773\n",
      "F(g, h)\n",
      "1.0 2.53589e-12\n",
      "¬F(a, c)\n",
      "0.769291 0.230709\n",
      "¬F(a, d)\n",
      "0.988428 0.0115722\n"
     ]
    },
    {
     "name": "stderr",
     "output_type": "stream",
     "text": [
      "\r",
      " 15%|█▌        | 301/2000 [19:56<1:52:33,  3.97s/it]"
     ]
    },
    {
     "name": "stdout",
     "output_type": "stream",
     "text": [
      "¬C(d)\n",
      "0.999995 5.126e-06\n",
      "32\n"
     ]
    },
    {
     "name": "stderr",
     "output_type": "stream",
     "text": [
      " 20%|██        | 400/2000 [26:59<1:47:59,  4.05s/it]"
     ]
    },
    {
     "data": {
      "image/png": "[encoded data removed]",
      "text/plain": [
       "<matplotlib.figure.Figure at 0x1a1d0a3898>"
      ]
     },
     "metadata": {},
     "output_type": "display_data"
    },
    {
     "data": {
      "image/png": "[encoded data removed]",
      "text/plain": [
       "<matplotlib.figure.Figure at 0x1a209f3828>"
      ]
     },
     "metadata": {},
     "output_type": "display_data"
    },
    {
     "name": "stdout",
     "output_type": "stream",
     "text": [
      "F(k, i) ∨ F(k, j) ∨ F(k, k) ∨ F(k, l) ∨ F(k, m) ∨ F(k, n)\n",
      "0.844794 0.155206\n",
      "F(l, i) ∨ F(l, j) ∨ F(l, k) ∨ F(l, l) ∨ F(l, m) ∨ F(l, n)\n",
      "0.999952 4.84772e-05\n",
      "¬F(i, j) ∨ F(j, i)\n",
      "0.0171546 0.982845\n",
      "¬F(k, j) ∨ F(j, k)\n",
      "0.155206 0.844794\n",
      "¬F(n, n)\n",
      "0.99999 1.03712e-05\n",
      "F(h, a) ∨ F(h, b) ∨ F(h, c) ∨ F(h, d) ∨ F(h, e) ∨ F(h, f) ∨ F(h, g) ∨ F(h, h)\n",
      "0.999458 0.000542287\n",
      "¬F(c, a) ∨ F(a, c)\n",
      "0.527877 0.472123\n",
      "¬F(d, a) ∨ F(a, d)\n",
      "0.163409 0.836591\n",
      "¬F(f, e) ∨ F(e, f)\n",
      "0.01131 0.98869\n"
     ]
    },
    {
     "name": "stderr",
     "output_type": "stream",
     "text": [
      "\r",
      " 20%|██        | 401/2000 [27:05<1:48:00,  4.05s/it]"
     ]
    },
    {
     "name": "stdout",
     "output_type": "stream",
     "text": [
      "¬F(a, a)\n",
      "1.0 0.0\n",
      "¬F(e, e)\n",
      "0.998544 0.00145578\n",
      "¬F(f, f)\n",
      "0.999998 1.90735e-06\n",
      "S(i)\n",
      "0.999871 0.000129106\n",
      "S(n)\n",
      "0.99975 0.000250423\n",
      "F(i, j)\n",
      "0.982845 0.0171546\n",
      "F(k, l)\n",
      "0.999996 3.60727e-06\n",
      "¬F(j, n)\n",
      "0.999857 0.000143051\n",
      "S(a)\n",
      "1.0 3.96539e-10\n",
      "S(e)\n",
      "0.999869 0.000130727\n",
      "S(f)\n",
      "0.999986 1.41327e-05\n",
      "S(g)\n",
      "0.999679 0.000320772\n",
      "F(b, c)\n",
      "0.99996 3.96077e-05\n",
      "F(c, d)\n",
      "0.999969 3.13077e-05\n",
      "F(e, f)\n",
      "0.01131 0.98869\n",
      "F(g, h)\n",
      "1.0 3.71791e-09\n",
      "¬F(a, c)\n",
      "0.472123 0.527877\n",
      "¬F(a, d)\n",
      "0.836591 0.163409\n",
      "27\n"
     ]
    },
    {
     "name": "stderr",
     "output_type": "stream",
     "text": [
      " 25%|██▌       | 500/2000 [34:10<1:42:30,  4.10s/it]"
     ]
    },
    {
     "data": {
      "image/png": "[encoded data removed]",
      "text/plain": [
       "<matplotlib.figure.Figure at 0x1a1d043fd0>"
      ]
     },
     "metadata": {},
     "output_type": "display_data"
    },
    {
     "data": {
      "image/png": "[encoded data removed]",
      "text/plain": [
       "<matplotlib.figure.Figure at 0x1a1d433080>"
      ]
     },
     "metadata": {},
     "output_type": "display_data"
    },
    {
     "name": "stdout",
     "output_type": "stream",
     "text": [
      "¬S(n) ∨ ¬F(n, m) ∨ S(m)\n",
      "0.187914 0.812086\n",
      "F(j, i) ∨ F(j, j) ∨ F(j, k) ∨ F(j, l) ∨ F(j, m) ∨ F(j, n)\n",
      "0.279725 0.720275\n",
      "¬F(j, i) ∨ F(i, j)\n",
      "0.720275 0.279725\n",
      "¬F(k, i) ∨ F(i, k)\n",
      "0.199172 0.800828\n",
      "¬F(l, i) ∨ F(i, l)\n",
      "0.959407 0.0405928\n",
      "¬F(d, a) ∨ F(a, d)\n",
      "0.954995 0.0450049\n",
      "¬F(h, a) ∨ F(a, h)\n",
      "0.991314 0.00868596\n",
      "¬F(a, a)\n",
      "1.0 0.0\n",
      "¬F(e, e)\n",
      "0.99997 2.99215e-05\n",
      "¬F(f, f)\n",
      "0.999929 7.12872e-05\n",
      "S(i)\n",
      "1.0 1.71518e-10\n",
      "S(n)\n",
      "0.812086 0.187914\n",
      "F(i, j)\n",
      "0.998019 0.00198058\n",
      "F(k, l)\n",
      "0.997534 0.00246594\n",
      "¬F(i, k)\n",
      "0.800828 0.199172\n",
      "¬F(i, l)\n",
      "0.0405928 0.959407\n",
      "S(a)\n",
      "1.0 6.95196e-11\n",
      "S(e)\n",
      "0.999558 0.000441752\n",
      "S(f)\n",
      "0.999999 7.89589e-07\n"
     ]
    },
    {
     "name": "stderr",
     "output_type": "stream",
     "text": [
      "\r",
      " 25%|██▌       | 501/2000 [34:14<1:42:27,  4.10s/it]"
     ]
    },
    {
     "name": "stdout",
     "output_type": "stream",
     "text": [
      "S(g)\n",
      "0.999503 0.000496774\n",
      "F(b, c)\n",
      "0.999947 5.31859e-05\n",
      "F(c, d)\n",
      "0.999999 1.259e-06\n",
      "F(g, h)\n",
      "1.0 9.75674e-10\n",
      "¬F(a, c)\n",
      "0.99999 1.01328e-05\n",
      "¬F(a, d)\n",
      "0.0450049 0.954995\n",
      "25\n"
     ]
    },
    {
     "name": "stderr",
     "output_type": "stream",
     "text": [
      " 30%|███       | 600/2000 [39:36<1:32:26,  3.96s/it]"
     ]
    },
    {
     "data": {
      "image/png": "[encoded data removed]",
      "text/plain": [
       "<matplotlib.figure.Figure at 0x1a158039e8>"
      ]
     },
     "metadata": {},
     "output_type": "display_data"
    },
    {
     "data": {
      "image/png": "[encoded data removed]",
      "text/plain": [
       "<matplotlib.figure.Figure at 0x1a2084b240>"
      ]
     },
     "metadata": {},
     "output_type": "display_data"
    },
    {
     "name": "stdout",
     "output_type": "stream",
     "text": [
      "¬S(n) ∨ ¬F(n, m) ∨ S(m)\n",
      "0.0100932 0.989907\n",
      "F(j, i) ∨ F(j, j) ∨ F(j, k) ∨ F(j, l) ∨ F(j, m) ∨ F(j, n)\n",
      "0.986045 0.0139554\n",
      "¬F(j, i) ∨ F(i, j)\n",
      "0.0139554 0.986045\n",
      "¬F(k, i) ∨ F(i, k)\n",
      "0.99987 0.000130436\n",
      "¬F(l, i) ∨ F(i, l)\n",
      "0.999735 0.000265413\n",
      "¬F(d, a) ∨ F(a, d)\n",
      "0.122507 0.877493\n",
      "¬F(h, a) ∨ F(a, h)\n",
      "0.497952 0.502048\n",
      "¬F(a, a)\n",
      "1.0 0.0\n",
      "¬F(e, e)\n",
      "0.999933 6.69956e-05\n",
      "¬F(f, f)\n",
      "0.995219 0.00478071\n",
      "S(i)\n",
      "0.999998 1.614e-06\n",
      "S(n)\n",
      "0.989907 0.0100932\n",
      "F(i, j)\n",
      "0.999996 3.52591e-06\n",
      "F(k, l)\n",
      "0.999041 0.000958967\n"
     ]
    },
    {
     "name": "stderr",
     "output_type": "stream",
     "text": [
      "\r",
      " 30%|███       | 601/2000 [39:42<1:32:24,  3.96s/it]"
     ]
    },
    {
     "name": "stdout",
     "output_type": "stream",
     "text": [
      "S(a)\n",
      "1.0 5.93507e-09\n",
      "S(e)\n",
      "0.999953 4.72138e-05\n",
      "S(f)\n",
      "1.0 4.73346e-08\n",
      "S(g)\n",
      "0.999658 0.000342338\n",
      "F(b, c)\n",
      "0.999999 8.89595e-07\n",
      "F(c, d)\n",
      "0.999987 1.27252e-05\n",
      "F(g, h)\n",
      "1.0 3.26956e-10\n",
      "¬F(a, c)\n",
      "0.999891 0.000108957\n",
      "¬F(a, d)\n",
      "0.877493 0.122507\n",
      "¬F(a, h)\n",
      "0.502048 0.497952\n",
      "24\n"
     ]
    },
    {
     "name": "stderr",
     "output_type": "stream",
     "text": [
      " 35%|███▌      | 700/2000 [45:53<1:25:13,  3.93s/it]"
     ]
    },
    {
     "data": {
      "image/png": "[encoded data removed]",
      "text/plain": [
       "<matplotlib.figure.Figure at 0x1a157ddd68>"
      ]
     },
     "metadata": {},
     "output_type": "display_data"
    },
    {
     "data": {
      "image/png": "[encoded data removed]",
      "text/plain": [
       "<matplotlib.figure.Figure at 0x1a1d38edd8>"
      ]
     },
     "metadata": {},
     "output_type": "display_data"
    },
    {
     "name": "stdout",
     "output_type": "stream",
     "text": [
      "¬S(n) ∨ ¬F(n, m) ∨ S(m)\n",
      "0.883961 0.116039\n",
      "F(j, i) ∨ F(j, j) ∨ F(j, k) ∨ F(j, l) ∨ F(j, m) ∨ F(j, n)\n",
      "0.999977 2.3434e-05\n",
      "F(k, i) ∨ F(k, j) ∨ F(k, k) ∨ F(k, l) ∨ F(k, m) ∨ F(k, n)\n",
      "0.999978 2.16552e-05\n",
      "F(l, i) ∨ F(l, j) ∨ F(l, k) ∨ F(l, l) ∨ F(l, m) ∨ F(l, n)\n",
      "0.999973 2.70928e-05\n",
      "¬F(e, e) ∨ F(e, e)\n",
      "0.21224 0.78776\n",
      "¬F(a, a)\n",
      "1.0 0.0\n",
      "¬F(e, e)\n",
      "0.78776 0.21224\n",
      "S(i)\n",
      "0.994974 0.0050259\n",
      "S(n)\n",
      "0.116039 0.883961\n",
      "F(i, j)\n",
      "1.0 2.97627e-08\n",
      "F(k, l)\n",
      "0.999999 1.44469e-06\n",
      "S(a)\n",
      "0.999999 1.24209e-06\n",
      "S(e)\n",
      "0.999907 9.29209e-05\n",
      "S(f)\n",
      "0.999797 0.000202669\n",
      "S(g)\n",
      "0.999631 0.000368649\n",
      "F(b, c)\n",
      "1.0 5.40045e-08\n",
      "F(c, d)\n",
      "1.0 1.60005e-07\n",
      "F(e, f)\n",
      "0.999918 8.16721e-05\n",
      "F(g, h)\n",
      "1.0 1.15326e-13\n",
      "¬F(a, c)\n",
      "1.0 1.19209e-07\n",
      "¬F(a, d)\n",
      "0.999992 7.51019e-06\n",
      "¬F(a, h)\n",
      "0.995942 0.00405842\n"
     ]
    },
    {
     "name": "stderr",
     "output_type": "stream",
     "text": [
      "\r",
      " 35%|███▌      | 701/2000 [45:58<1:25:11,  3.93s/it]"
     ]
    },
    {
     "name": "stdout",
     "output_type": "stream",
     "text": [
      "22\n"
     ]
    },
    {
     "name": "stderr",
     "output_type": "stream",
     "text": [
      " 40%|████      | 800/2000 [52:24<1:18:37,  3.93s/it]"
     ]
    },
    {
     "data": {
      "image/png": "[encoded data removed]",
      "text/plain": [
       "<matplotlib.figure.Figure at 0x1a1d2f7438>"
      ]
     },
     "metadata": {},
     "output_type": "display_data"
    },
    {
     "data": {
      "image/png": "[encoded data removed]",
      "text/plain": [
       "<matplotlib.figure.Figure at 0x1a1cfd9d30>"
      ]
     },
     "metadata": {},
     "output_type": "display_data"
    },
    {
     "name": "stdout",
     "output_type": "stream",
     "text": [
      "¬S(i) ∨ ¬F(i, m) ∨ S(m)\n",
      "0.999661 0.000338912\n",
      "¬S(n) ∨ ¬F(n, m) ∨ S(m)\n",
      "0.99099 0.00900972\n",
      "F(j, i) ∨ F(j, j) ∨ F(j, k) ∨ F(j, l) ∨ F(j, m) ∨ F(j, n)\n",
      "0.999969 3.07332e-05\n",
      "F(k, i) ∨ F(k, j) ∨ F(k, k) ∨ F(k, l) ∨ F(k, m) ∨ F(k, n)\n",
      "0.999977 2.34098e-05\n",
      "F(l, i) ∨ F(l, j) ∨ F(l, k) ∨ F(l, l) ∨ F(l, m) ∨ F(l, n)\n",
      "0.999973 2.66201e-05\n",
      "¬S(e) ∨ ¬F(e, a) ∨ S(a)\n",
      "0.719671 0.280329\n",
      "¬F(c, a) ∨ F(a, c)\n",
      "0.193273 0.806727\n",
      "¬F(h, a) ∨ F(a, h)\n",
      "0.18807 0.81193\n",
      "¬F(a, a)\n",
      "1.0 0.0\n",
      "F(i, j)\n",
      "0.999965 3.54238e-05\n",
      "F(k, l)\n",
      "1.0 7.18977e-08\n",
      "S(a)\n",
      "1.0 9.17321e-09\n",
      "S(e)\n",
      "0.280329 0.719671\n",
      "S(f)\n",
      "0.999888 0.000112476\n",
      "S(g)\n",
      "0.999756 0.000243742\n"
     ]
    },
    {
     "name": "stderr",
     "output_type": "stream",
     "text": [
      "\r",
      " 40%|████      | 801/2000 [52:32<1:18:38,  3.94s/it]"
     ]
    },
    {
     "name": "stdout",
     "output_type": "stream",
     "text": [
      "F(b, c)\n",
      "0.999787 0.000213308\n",
      "F(c, d)\n",
      "1.0 5.04012e-07\n",
      "F(e, f)\n",
      "0.999963 3.68506e-05\n",
      "F(g, h)\n",
      "1.0 1.16142e-09\n",
      "¬F(a, c)\n",
      "0.806727 0.193273\n",
      "¬F(a, d)\n",
      "0.999735 0.000265181\n",
      "¬F(a, h)\n",
      "0.81193 0.18807\n",
      "22\n"
     ]
    },
    {
     "name": "stderr",
     "output_type": "stream",
     "text": [
      " 45%|████▌     | 900/2000 [1:00:14<1:13:37,  4.02s/it]"
     ]
    },
    {
     "data": {
      "image/png": "[encoded data removed]",
      "text/plain": [
       "<matplotlib.figure.Figure at 0x1a1cfb2630>"
      ]
     },
     "metadata": {},
     "output_type": "display_data"
    },
    {
     "data": {
      "image/png": "[encoded data removed]",
      "text/plain": [
       "<matplotlib.figure.Figure at 0x1a1d9178d0>"
      ]
     },
     "metadata": {},
     "output_type": "display_data"
    },
    {
     "name": "stdout",
     "output_type": "stream",
     "text": [
      "¬S(i) ∨ ¬F(i, m) ∨ S(m)\n",
      "0.999637 0.000362515\n",
      "¬S(n) ∨ ¬F(n, m) ∨ S(m)\n",
      "0.998617 0.00138295\n",
      "F(j, i) ∨ F(j, j) ∨ F(j, k) ∨ F(j, l) ∨ F(j, m) ∨ F(j, n)\n",
      "0.999972 2.84108e-05\n",
      "F(k, i) ∨ F(k, j) ∨ F(k, k) ∨ F(k, l) ∨ F(k, m) ∨ F(k, n)\n",
      "0.999974 2.55733e-05\n",
      "F(l, i) ∨ F(l, j) ∨ F(l, k) ∨ F(l, l) ∨ F(l, m) ∨ F(l, n)\n",
      "0.999974 2.59656e-05\n",
      "¬S(e) ∨ ¬F(e, a) ∨ S(a)\n",
      "0.273797 0.726203\n",
      "¬F(c, a) ∨ F(a, c)\n",
      "0.0114677 0.988532\n",
      "¬F(d, a) ∨ F(a, d)\n",
      "0.261262 0.738738\n",
      "¬F(a, a)\n",
      "1.0 0.0\n",
      "F(i, j)\n",
      "0.999983 1.73128e-05\n",
      "F(k, l)\n",
      "1.0 1.32807e-08\n",
      "S(a)"
     ]
    },
    {
     "name": "stderr",
     "output_type": "stream",
     "text": [
      "\r",
      " 45%|████▌     | 901/2000 [1:00:19<1:13:34,  4.02s/it]"
     ]
    },
    {
     "name": "stdout",
     "output_type": "stream",
     "text": [
      "\n",
      "0.999982 1.84727e-05\n",
      "S(e)\n",
      "0.726203 0.273797\n",
      "S(f)\n",
      "0.999966 3.39538e-05\n",
      "S(g)\n",
      "0.999758 0.000242322\n",
      "F(b, c)\n",
      "0.99999 9.85373e-06\n",
      "F(c, d)\n",
      "0.999996 4.16477e-06\n",
      "F(e, f)\n",
      "0.999982 1.7762e-05\n",
      "F(g, h)\n",
      "1.0 4.19915e-07\n",
      "¬F(a, c)\n",
      "0.988532 0.0114677\n",
      "¬F(a, d)\n",
      "0.738738 0.261262\n",
      "¬F(a, h)\n",
      "0.996643 0.0033567\n",
      "22\n"
     ]
    },
    {
     "name": "stderr",
     "output_type": "stream",
     "text": [
      " 50%|█████     | 1000/2000 [1:06:42<1:06:42,  4.00s/it]"
     ]
    },
    {
     "data": {
      "image/png": "[encoded data removed]",
      "text/plain": [
       "<matplotlib.figure.Figure at 0x1a1d4457f0>"
      ]
     },
     "metadata": {},
     "output_type": "display_data"
    },
    {
     "data": {
      "image/png": "[encoded data removed]",
      "text/plain": [
       "<matplotlib.figure.Figure at 0x1a1d2294a8>"
      ]
     },
     "metadata": {},
     "output_type": "display_data"
    },
    {
     "name": "stdout",
     "output_type": "stream",
     "text": [
      "¬S(i) ∨ ¬F(i, m) ∨ S(m)\n",
      "0.999517 0.000482798\n",
      "¬S(n) ∨ ¬F(n, m) ∨ S(m)\n",
      "0.999306 0.000694394\n",
      "F(j, i) ∨ F(j, j) ∨ F(j, k) ∨ F(j, l) ∨ F(j, m) ∨ F(j, n)\n",
      "0.999973 2.67297e-05\n",
      "F(k, i) ∨ F(k, j) ∨ F(k, k) ∨ F(k, l) ∨ F(k, m) ∨ F(k, n)\n",
      "0.999974 2.59141e-05\n",
      "F(l, i) ∨ F(l, j) ∨ F(l, k) ∨ F(l, l) ∨ F(l, m) ∨ F(l, n)\n",
      "0.999975 2.5225e-05\n",
      "¬S(e) ∨ ¬F(e, a) ∨ S(a)\n",
      "0.953375 0.046625\n",
      "¬F(c, a) ∨ F(a, c)\n",
      "0.0429934 0.957007\n",
      "¬F(d, a) ∨ F(a, d)\n",
      "0.741019 0.258981\n",
      "¬F(h, a) ∨ F(a, h)\n",
      "0.0149907 0.985009\n",
      "¬F(a, a)\n",
      "1.0 0.0\n",
      "F(i, j)\n",
      "0.999984 1.57515e-05\n",
      "F(k, l)\n"
     ]
    },
    {
     "name": "stderr",
     "output_type": "stream",
     "text": [
      "\r",
      " 50%|█████     | 1001/2000 [1:06:47<1:06:39,  4.00s/it]"
     ]
    },
    {
     "name": "stdout",
     "output_type": "stream",
     "text": [
      "1.0 5.96904e-09\n",
      "S(a)\n",
      "0.999952 4.75124e-05\n",
      "S(e)\n",
      "0.046625 0.953375\n",
      "S(f)\n",
      "0.999892 0.000108339\n",
      "S(g)\n",
      "0.999757 0.00024271\n",
      "F(b, c)\n",
      "0.999991 9.26918e-06\n",
      "F(c, d)\n",
      "0.999998 2.3659e-06\n",
      "F(e, f)\n",
      "0.999994 6.06891e-06\n",
      "F(g, h)\n",
      "0.999998 1.59045e-06\n",
      "¬F(a, c)\n",
      "0.957007 0.0429934\n",
      "¬F(a, d)\n",
      "0.258981 0.741019\n",
      "¬F(a, h)\n",
      "0.985009 0.0149907\n",
      "23\n"
     ]
    },
    {
     "name": "stderr",
     "output_type": "stream",
     "text": [
      " 52%|█████▏    | 1048/2000 [1:10:02<1:03:37,  4.01s/it]\n"
     ]
    },
    {
     "ename": "KeyboardInterrupt",
     "evalue": "",
     "output_type": "error",
     "traceback": [
      "\u001b[0;31m---------------------------------------------------------------------------\u001b[0m",
      "\u001b[0;31mKeyboardInterrupt\u001b[0m                         Traceback (most recent call last)",
      "\u001b[0;32m<ipython-input-27-d3690be08930>\u001b[0m in \u001b[0;36m<module>\u001b[0;34m()\u001b[0m\n\u001b[1;32m     11\u001b[0m     \u001b[0mtotal_loss\u001b[0m\u001b[0;34m=\u001b[0m\u001b[0;36m0.0\u001b[0m\u001b[0;34m\u001b[0m\u001b[0m\n\u001b[1;32m     12\u001b[0m     \u001b[0;32mfor\u001b[0m \u001b[0mclause\u001b[0m \u001b[0;32min\u001b[0m \u001b[0mkb_train\u001b[0m\u001b[0;34m.\u001b[0m\u001b[0mclauses\u001b[0m\u001b[0;34m:\u001b[0m\u001b[0;34m\u001b[0m\u001b[0m\n\u001b[0;32m---> 13\u001b[0;31m         \u001b[0mloss\u001b[0m\u001b[0;34m,\u001b[0m\u001b[0mprob\u001b[0m\u001b[0;34m=\u001b[0m\u001b[0mltn2\u001b[0m\u001b[0;34m.\u001b[0m\u001b[0mforward\u001b[0m\u001b[0;34m(\u001b[0m\u001b[0mclause\u001b[0m\u001b[0;34m=\u001b[0m\u001b[0mclause\u001b[0m\u001b[0;34m)\u001b[0m\u001b[0;34m\u001b[0m\u001b[0m\n\u001b[0m\u001b[1;32m     14\u001b[0m         \u001b[0mloss\u001b[0m\u001b[0;34m.\u001b[0m\u001b[0mbackward\u001b[0m\u001b[0;34m(\u001b[0m\u001b[0mone\u001b[0m\u001b[0;34m)\u001b[0m\u001b[0;34m\u001b[0m\u001b[0m\n\u001b[1;32m     15\u001b[0m         \u001b[0mtotal_probability\u001b[0m\u001b[0;34m+=\u001b[0m\u001b[0mprob\u001b[0m\u001b[0;34m.\u001b[0m\u001b[0mdata\u001b[0m\u001b[0;34m.\u001b[0m\u001b[0mnumpy\u001b[0m\u001b[0;34m(\u001b[0m\u001b[0;34m)\u001b[0m\u001b[0;34m[\u001b[0m\u001b[0;36m0\u001b[0m\u001b[0;34m]\u001b[0m\u001b[0;34m\u001b[0m\u001b[0m\n",
      "\u001b[0;32m<ipython-input-12-f1cb3570244f>\u001b[0m in \u001b[0;36mforward\u001b[0;34m(self, clause)\u001b[0m\n\u001b[1;32m     16\u001b[0m             \u001b[0mconstants\u001b[0m\u001b[0;34m=\u001b[0m\u001b[0mpredicate\u001b[0m\u001b[0;34m.\u001b[0m\u001b[0mvariables\u001b[0m\u001b[0;34m\u001b[0m\u001b[0m\n\u001b[1;32m     17\u001b[0m             \u001b[0membs\u001b[0m\u001b[0;34m=\u001b[0m\u001b[0mself\u001b[0m\u001b[0;34m.\u001b[0m\u001b[0mConstants\u001b[0m\u001b[0;34m.\u001b[0m\u001b[0mforward\u001b[0m\u001b[0;34m(\u001b[0m\u001b[0mconstants\u001b[0m\u001b[0;34m)\u001b[0m\u001b[0;34m\u001b[0m\u001b[0m\n\u001b[0;32m---> 18\u001b[0;31m             \u001b[0moutput\u001b[0m\u001b[0;34m=\u001b[0m\u001b[0mself\u001b[0m\u001b[0;34m.\u001b[0m\u001b[0mPredicates\u001b[0m\u001b[0;34m[\u001b[0m\u001b[0mname\u001b[0m\u001b[0;34m]\u001b[0m\u001b[0;34m.\u001b[0m\u001b[0mforward\u001b[0m\u001b[0;34m(\u001b[0m\u001b[0membs\u001b[0m\u001b[0;34m,\u001b[0m\u001b[0mnegation\u001b[0m\u001b[0;34m)\u001b[0m\u001b[0;34m\u001b[0m\u001b[0m\n\u001b[0m\u001b[1;32m     19\u001b[0m             \u001b[0;32mif\u001b[0m \u001b[0mPhi\u001b[0m \u001b[0;32mis\u001b[0m \u001b[0;32mNone\u001b[0m \u001b[0;32mor\u001b[0m \u001b[0mPhi\u001b[0m\u001b[0;34m.\u001b[0m\u001b[0mdata\u001b[0m\u001b[0;34m.\u001b[0m\u001b[0mnumpy\u001b[0m\u001b[0;34m(\u001b[0m\u001b[0;34m)\u001b[0m\u001b[0;34m[\u001b[0m\u001b[0;36m0\u001b[0m\u001b[0;34m]\u001b[0m\u001b[0;34m<\u001b[0m\u001b[0moutput\u001b[0m\u001b[0;34m.\u001b[0m\u001b[0mdata\u001b[0m\u001b[0;34m.\u001b[0m\u001b[0mnumpy\u001b[0m\u001b[0;34m(\u001b[0m\u001b[0;34m)\u001b[0m\u001b[0;34m[\u001b[0m\u001b[0;36m0\u001b[0m\u001b[0;34m]\u001b[0m\u001b[0;34m:\u001b[0m\u001b[0;34m\u001b[0m\u001b[0m\n\u001b[1;32m     20\u001b[0m                 \u001b[0mPhi\u001b[0m\u001b[0;34m=\u001b[0m\u001b[0moutput\u001b[0m\u001b[0;34m\u001b[0m\u001b[0m\n",
      "\u001b[0;32m<ipython-input-11-e0d67b044166>\u001b[0m in \u001b[0;36mforward\u001b[0;34m(self, embs, negation)\u001b[0m\n\u001b[1;32m     14\u001b[0m         \u001b[0mm\u001b[0m\u001b[0;34m=\u001b[0m\u001b[0mself\u001b[0m\u001b[0;34m.\u001b[0m\u001b[0mvariable_count\u001b[0m\u001b[0;34m*\u001b[0m\u001b[0mself\u001b[0m\u001b[0;34m.\u001b[0m\u001b[0memb_dim\u001b[0m\u001b[0;34m\u001b[0m\u001b[0m\n\u001b[1;32m     15\u001b[0m         \u001b[0mW\u001b[0m\u001b[0;34m=\u001b[0m\u001b[0mself\u001b[0m\u001b[0;34m.\u001b[0m\u001b[0mW\u001b[0m\u001b[0;34m.\u001b[0m\u001b[0mview\u001b[0m\u001b[0;34m(\u001b[0m\u001b[0mm\u001b[0m\u001b[0;34m,\u001b[0m\u001b[0;34m-\u001b[0m\u001b[0;36m1\u001b[0m\u001b[0;34m)\u001b[0m\u001b[0;34m\u001b[0m\u001b[0m\n\u001b[0;32m---> 16\u001b[0;31m         \u001b[0moutput\u001b[0m\u001b[0;34m=\u001b[0m\u001b[0mtorch\u001b[0m\u001b[0;34m.\u001b[0m\u001b[0mmm\u001b[0m\u001b[0;34m(\u001b[0m\u001b[0membs\u001b[0m\u001b[0;34m,\u001b[0m\u001b[0mW\u001b[0m\u001b[0;34m)\u001b[0m\u001b[0;34m\u001b[0m\u001b[0m\n\u001b[0m\u001b[1;32m     17\u001b[0m         \u001b[0moutput\u001b[0m\u001b[0;34m=\u001b[0m\u001b[0moutput\u001b[0m\u001b[0;34m.\u001b[0m\u001b[0mview\u001b[0m\u001b[0;34m(\u001b[0m\u001b[0;34m-\u001b[0m\u001b[0;36m1\u001b[0m\u001b[0;34m,\u001b[0m\u001b[0mm\u001b[0m\u001b[0;34m)\u001b[0m\u001b[0;34m\u001b[0m\u001b[0m\n\u001b[1;32m     18\u001b[0m         \u001b[0moutput\u001b[0m\u001b[0;34m=\u001b[0m\u001b[0mtorch\u001b[0m\u001b[0;34m.\u001b[0m\u001b[0mmm\u001b[0m\u001b[0;34m(\u001b[0m\u001b[0moutput\u001b[0m\u001b[0;34m,\u001b[0m\u001b[0membs\u001b[0m\u001b[0;34m.\u001b[0m\u001b[0mview\u001b[0m\u001b[0;34m(\u001b[0m\u001b[0;34m-\u001b[0m\u001b[0;36m1\u001b[0m\u001b[0;34m,\u001b[0m\u001b[0;36m1\u001b[0m\u001b[0;34m)\u001b[0m\u001b[0;34m)\u001b[0m\u001b[0;34m\u001b[0m\u001b[0m\n",
      "\u001b[0;32m~/anaconda3/lib/python3.6/site-packages/torch/autograd/variable.py\u001b[0m in \u001b[0;36mmm\u001b[0;34m(self, matrix)\u001b[0m\n\u001b[1;32m    577\u001b[0m     \u001b[0;32mdef\u001b[0m \u001b[0mmm\u001b[0m\u001b[0;34m(\u001b[0m\u001b[0mself\u001b[0m\u001b[0;34m,\u001b[0m \u001b[0mmatrix\u001b[0m\u001b[0;34m)\u001b[0m\u001b[0;34m:\u001b[0m\u001b[0;34m\u001b[0m\u001b[0m\n\u001b[1;32m    578\u001b[0m         \u001b[0moutput\u001b[0m \u001b[0;34m=\u001b[0m \u001b[0mVariable\u001b[0m\u001b[0;34m(\u001b[0m\u001b[0mself\u001b[0m\u001b[0;34m.\u001b[0m\u001b[0mdata\u001b[0m\u001b[0;34m.\u001b[0m\u001b[0mnew\u001b[0m\u001b[0;34m(\u001b[0m\u001b[0mself\u001b[0m\u001b[0;34m.\u001b[0m\u001b[0mdata\u001b[0m\u001b[0;34m.\u001b[0m\u001b[0msize\u001b[0m\u001b[0;34m(\u001b[0m\u001b[0;36m0\u001b[0m\u001b[0;34m)\u001b[0m\u001b[0;34m,\u001b[0m \u001b[0mmatrix\u001b[0m\u001b[0;34m.\u001b[0m\u001b[0mdata\u001b[0m\u001b[0;34m.\u001b[0m\u001b[0msize\u001b[0m\u001b[0;34m(\u001b[0m\u001b[0;36m1\u001b[0m\u001b[0;34m)\u001b[0m\u001b[0;34m)\u001b[0m\u001b[0;34m)\u001b[0m\u001b[0;34m\u001b[0m\u001b[0m\n\u001b[0;32m--> 579\u001b[0;31m         \u001b[0;32mreturn\u001b[0m \u001b[0mAddmm\u001b[0m\u001b[0;34m.\u001b[0m\u001b[0mapply\u001b[0m\u001b[0;34m(\u001b[0m\u001b[0moutput\u001b[0m\u001b[0;34m,\u001b[0m \u001b[0mself\u001b[0m\u001b[0;34m,\u001b[0m \u001b[0mmatrix\u001b[0m\u001b[0;34m,\u001b[0m \u001b[0;36m0\u001b[0m\u001b[0;34m,\u001b[0m \u001b[0;36m1\u001b[0m\u001b[0;34m,\u001b[0m \u001b[0;32mTrue\u001b[0m\u001b[0;34m)\u001b[0m\u001b[0;34m\u001b[0m\u001b[0m\n\u001b[0m\u001b[1;32m    580\u001b[0m \u001b[0;34m\u001b[0m\u001b[0m\n\u001b[1;32m    581\u001b[0m     \u001b[0;32mdef\u001b[0m \u001b[0mbmm\u001b[0m\u001b[0;34m(\u001b[0m\u001b[0mself\u001b[0m\u001b[0;34m,\u001b[0m \u001b[0mbatch\u001b[0m\u001b[0;34m)\u001b[0m\u001b[0;34m:\u001b[0m\u001b[0;34m\u001b[0m\u001b[0m\n",
      "\u001b[0;32m~/anaconda3/lib/python3.6/site-packages/torch/autograd/_functions/blas.py\u001b[0m in \u001b[0;36mforward\u001b[0;34m(ctx, add_matrix, matrix1, matrix2, alpha, beta, inplace)\u001b[0m\n\u001b[1;32m     24\u001b[0m         \u001b[0moutput\u001b[0m \u001b[0;34m=\u001b[0m \u001b[0m_get_output\u001b[0m\u001b[0;34m(\u001b[0m\u001b[0mctx\u001b[0m\u001b[0;34m,\u001b[0m \u001b[0madd_matrix\u001b[0m\u001b[0;34m,\u001b[0m \u001b[0minplace\u001b[0m\u001b[0;34m=\u001b[0m\u001b[0minplace\u001b[0m\u001b[0;34m)\u001b[0m\u001b[0;34m\u001b[0m\u001b[0m\n\u001b[1;32m     25\u001b[0m         return torch.addmm(alpha, add_matrix, beta,\n\u001b[0;32m---> 26\u001b[0;31m                            matrix1, matrix2, out=output)\n\u001b[0m\u001b[1;32m     27\u001b[0m \u001b[0;34m\u001b[0m\u001b[0m\n\u001b[1;32m     28\u001b[0m     \u001b[0;34m@\u001b[0m\u001b[0mstaticmethod\u001b[0m\u001b[0;34m\u001b[0m\u001b[0m\n",
      "\u001b[0;31mKeyboardInterrupt\u001b[0m: "
     ]
    }
   ],
   "source": [
    "kb_train=kb1.union(kb2).union(gkb1).union(gkb2)\n",
    "ltn2=LTN(emb_dim,'abcdefghijklmn',[['S',1],['F',2],['C',1]])\n",
    "optimizor=torch.optim.Adam(ltn2.parameters(),lr=0.1,weight_decay=0.1)\n",
    "mone=torch.FloatTensor([-1])\n",
    "one=torch.FloatTensor([1])\n",
    "average_prob=[]\n",
    "average_loss=[]\n",
    "for i in tqdm(range(2000)):\n",
    "    optimizor.zero_grad()\n",
    "    total_probability=0.0\n",
    "    total_loss=0.0\n",
    "    for clause in kb_train.clauses:\n",
    "        loss,prob=ltn2.forward(clause=clause)\n",
    "        loss.backward(one)\n",
    "        total_probability+=prob.data.numpy()[0]\n",
    "        total_loss+=loss.data.numpy()[0]\n",
    "    optimizor.step()\n",
    "    average_prob.append(total_probability/len(kb_train.clauses))\n",
    "    average_loss.append(total_loss/len(kb_train.clauses))\n",
    "    if i%100==0:\n",
    "        plt.plot(average_prob)\n",
    "        plt.show()\n",
    "        plt.plot(averate_loss)\n",
    "        plt.show()\n",
    "        show_results(ltn2,kb_train)"
   ]
  },
  {
   "cell_type": "code",
   "execution_count": 21,
   "metadata": {},
   "outputs": [
    {
     "name": "stdout",
     "output_type": "stream",
     "text": [
      "S(a)\n",
      "0.999971 2.89519e-05\n",
      "S(e)\n",
      "0.147613 0.852387\n",
      "S(f)\n",
      "0.999794 0.000206059\n",
      "S(g)\n",
      "0.999794 0.000206492\n",
      "F(b, c)\n",
      "0.999995 4.89541e-06\n",
      "F(c, d)\n",
      "0.999995 5.00549e-06\n",
      "F(e, f)\n",
      "0.999994 5.82879e-06\n",
      "F(g, h)\n",
      "0.999995 4.9862e-06\n",
      "¬F(a, c)\n",
      "0.999897 0.000103474\n",
      "¬F(a, d)\n",
      "0.999893 0.000106812\n",
      "¬F(a, h)\n",
      "0.999878 0.000121951\n",
      "11\n"
     ]
    }
   ],
   "source": [
    "show_results(ltn2,kb1)"
   ]
  },
  {
   "cell_type": "code",
   "execution_count": 37,
   "metadata": {
    "collapsed": true
   },
   "outputs": [],
   "source": [
    "import pandas as pd\n",
    "import numpy"
   ]
  },
  {
   "cell_type": "code",
   "execution_count": 49,
   "metadata": {},
   "outputs": [
    {
     "data": {
      "text/html": [
       "<div>\n",
       "<style>\n",
       "    .dataframe thead tr:only-child th {\n",
       "        text-align: right;\n",
       "    }\n",
       "\n",
       "    .dataframe thead th {\n",
       "        text-align: left;\n",
       "    }\n",
       "\n",
       "    .dataframe tbody tr th {\n",
       "        vertical-align: top;\n",
       "    }\n",
       "</style>\n",
       "<table border=\"1\" class=\"dataframe\">\n",
       "  <thead>\n",
       "    <tr style=\"text-align: right;\">\n",
       "      <th></th>\n",
       "      <th>a</th>\n",
       "      <th>b</th>\n",
       "      <th>c</th>\n",
       "    </tr>\n",
       "  </thead>\n",
       "  <tbody>\n",
       "    <tr>\n",
       "      <th>a</th>\n",
       "      <td>NaN</td>\n",
       "      <td>NaN</td>\n",
       "      <td>NaN</td>\n",
       "    </tr>\n",
       "    <tr>\n",
       "      <th>b</th>\n",
       "      <td>NaN</td>\n",
       "      <td>NaN</td>\n",
       "      <td>NaN</td>\n",
       "    </tr>\n",
       "    <tr>\n",
       "      <th>c</th>\n",
       "      <td>NaN</td>\n",
       "      <td>NaN</td>\n",
       "      <td>NaN</td>\n",
       "    </tr>\n",
       "    <tr>\n",
       "      <th>d</th>\n",
       "      <td>NaN</td>\n",
       "      <td>NaN</td>\n",
       "      <td>NaN</td>\n",
       "    </tr>\n",
       "  </tbody>\n",
       "</table>\n",
       "</div>"
      ],
      "text/plain": [
       "     a    b    c\n",
       "a  NaN  NaN  NaN\n",
       "b  NaN  NaN  NaN\n",
       "c  NaN  NaN  NaN\n",
       "d  NaN  NaN  NaN"
      ]
     },
     "execution_count": 49,
     "metadata": {},
     "output_type": "execute_result"
    }
   ],
   "source": [
    "data={\n",
    "}\n",
    "pd.DataFrame(index=list('abcd'),columns=['a','b','c'])"
   ]
  },
  {
   "cell_type": "code",
   "execution_count": 119,
   "metadata": {
    "collapsed": true
   },
   "outputs": [],
   "source": [
    "def get_DF_S(model,constants):\n",
    "    constants=list(constants)\n",
    "    df=pd.DataFrame(index=constants,columns=['S'])\n",
    "    for a in constants:\n",
    "        clause=Clause(1,1,[Predicate(name='S',variables=[a],negation=False)])\n",
    "        result=model.forward(clause)\n",
    "        df['S'][a]='%0.2f'%result[1].data.numpy()[0]\n",
    "    return df"
   ]
  },
  {
   "cell_type": "code",
   "execution_count": 120,
   "metadata": {
    "collapsed": true
   },
   "outputs": [],
   "source": [
    "def get_DF_C(model,constants):\n",
    "    constants=list(constants)\n",
    "    df=pd.DataFrame(index=constants,columns=['C'])\n",
    "    for a in constants:\n",
    "        clause=Clause(1,1,[Predicate(name='C',variables=[a],negation=False)])\n",
    "        result=model.forward(clause)\n",
    "        df['C'][a]='%0.2f'%result[1].data.numpy()[0]\n",
    "    return df"
   ]
  },
  {
   "cell_type": "code",
   "execution_count": 131,
   "metadata": {
    "collapsed": true
   },
   "outputs": [],
   "source": [
    "def get_DF_F(model,constants):\n",
    "    constants=list(constants)\n",
    "    df=pd.DataFrame(index=constants, columns=constants)\n",
    "    for a in constants:\n",
    "        for b in constants:\n",
    "#             if a>=b:\n",
    "#                 df[b][a]='-'\n",
    "#                 continue\n",
    "            clause=Clause(1,1,[Predicate(name='F',variables=[a,b],negation=False)])\n",
    "            result=model.forward(clause)\n",
    "            df[b][a]='%0.2f'%result[1].data.numpy()[0]\n",
    "    return df"
   ]
  },
  {
   "cell_type": "code",
   "execution_count": 132,
   "metadata": {
    "collapsed": true
   },
   "outputs": [],
   "source": [
    "def get_DF(model,constants):\n",
    "    df1=get_DF_S(model,constants)\n",
    "    df2=get_DF_C(model,constants)\n",
    "    df3=get_DF_F(model,constants)\n",
    "    df=pd.concat([df1,df2,df3],axis=1)\n",
    "    return df"
   ]
  },
  {
   "cell_type": "code",
   "execution_count": 136,
   "metadata": {},
   "outputs": [
    {
     "data": {
      "text/html": [
       "<div>\n",
       "<style>\n",
       "    .dataframe thead tr:only-child th {\n",
       "        text-align: right;\n",
       "    }\n",
       "\n",
       "    .dataframe thead th {\n",
       "        text-align: left;\n",
       "    }\n",
       "\n",
       "    .dataframe tbody tr th {\n",
       "        vertical-align: top;\n",
       "    }\n",
       "</style>\n",
       "<table border=\"1\" class=\"dataframe\">\n",
       "  <thead>\n",
       "    <tr style=\"text-align: right;\">\n",
       "      <th></th>\n",
       "      <th>S</th>\n",
       "      <th>C</th>\n",
       "      <th>a</th>\n",
       "      <th>b</th>\n",
       "      <th>c</th>\n",
       "      <th>d</th>\n",
       "      <th>e</th>\n",
       "      <th>f</th>\n",
       "      <th>g</th>\n",
       "      <th>h</th>\n",
       "    </tr>\n",
       "  </thead>\n",
       "  <tbody>\n",
       "    <tr>\n",
       "      <th>a</th>\n",
       "      <td>1.00</td>\n",
       "      <td>1.00</td>\n",
       "      <td>0.08</td>\n",
       "      <td>1.00</td>\n",
       "      <td>0.00</td>\n",
       "      <td>0.00</td>\n",
       "      <td>1.00</td>\n",
       "      <td>1.00</td>\n",
       "      <td>1.00</td>\n",
       "      <td>0.00</td>\n",
       "    </tr>\n",
       "    <tr>\n",
       "      <th>b</th>\n",
       "      <td>0.00</td>\n",
       "      <td>0.00</td>\n",
       "      <td>1.00</td>\n",
       "      <td>0.02</td>\n",
       "      <td>1.00</td>\n",
       "      <td>0.00</td>\n",
       "      <td>0.00</td>\n",
       "      <td>0.00</td>\n",
       "      <td>0.00</td>\n",
       "      <td>0.00</td>\n",
       "    </tr>\n",
       "    <tr>\n",
       "      <th>c</th>\n",
       "      <td>0.00</td>\n",
       "      <td>0.00</td>\n",
       "      <td>1.00</td>\n",
       "      <td>0.92</td>\n",
       "      <td>0.93</td>\n",
       "      <td>1.00</td>\n",
       "      <td>0.00</td>\n",
       "      <td>0.00</td>\n",
       "      <td>0.00</td>\n",
       "      <td>0.00</td>\n",
       "    </tr>\n",
       "    <tr>\n",
       "      <th>d</th>\n",
       "      <td>0.00</td>\n",
       "      <td>0.00</td>\n",
       "      <td>0.05</td>\n",
       "      <td>0.00</td>\n",
       "      <td>0.00</td>\n",
       "      <td>0.00</td>\n",
       "      <td>0.00</td>\n",
       "      <td>0.00</td>\n",
       "      <td>0.00</td>\n",
       "      <td>0.00</td>\n",
       "    </tr>\n",
       "    <tr>\n",
       "      <th>e</th>\n",
       "      <td>1.00</td>\n",
       "      <td>1.00</td>\n",
       "      <td>1.00</td>\n",
       "      <td>1.00</td>\n",
       "      <td>1.00</td>\n",
       "      <td>0.34</td>\n",
       "      <td>0.96</td>\n",
       "      <td>1.00</td>\n",
       "      <td>0.00</td>\n",
       "      <td>0.00</td>\n",
       "    </tr>\n",
       "    <tr>\n",
       "      <th>f</th>\n",
       "      <td>1.00</td>\n",
       "      <td>0.00</td>\n",
       "      <td>0.04</td>\n",
       "      <td>1.00</td>\n",
       "      <td>1.00</td>\n",
       "      <td>0.98</td>\n",
       "      <td>0.54</td>\n",
       "      <td>1.00</td>\n",
       "      <td>0.00</td>\n",
       "      <td>0.00</td>\n",
       "    </tr>\n",
       "    <tr>\n",
       "      <th>g</th>\n",
       "      <td>1.00</td>\n",
       "      <td>0.00</td>\n",
       "      <td>1.00</td>\n",
       "      <td>0.26</td>\n",
       "      <td>0.88</td>\n",
       "      <td>0.09</td>\n",
       "      <td>0.00</td>\n",
       "      <td>1.00</td>\n",
       "      <td>0.00</td>\n",
       "      <td>1.00</td>\n",
       "    </tr>\n",
       "    <tr>\n",
       "      <th>h</th>\n",
       "      <td>0.00</td>\n",
       "      <td>0.00</td>\n",
       "      <td>0.98</td>\n",
       "      <td>0.99</td>\n",
       "      <td>0.00</td>\n",
       "      <td>0.00</td>\n",
       "      <td>0.37</td>\n",
       "      <td>0.00</td>\n",
       "      <td>0.00</td>\n",
       "      <td>0.00</td>\n",
       "    </tr>\n",
       "  </tbody>\n",
       "</table>\n",
       "</div>"
      ],
      "text/plain": [
       "      S     C     a     b     c     d     e     f     g     h\n",
       "a  1.00  1.00  0.08  1.00  0.00  0.00  1.00  1.00  1.00  0.00\n",
       "b  0.00  0.00  1.00  0.02  1.00  0.00  0.00  0.00  0.00  0.00\n",
       "c  0.00  0.00  1.00  0.92  0.93  1.00  0.00  0.00  0.00  0.00\n",
       "d  0.00  0.00  0.05  0.00  0.00  0.00  0.00  0.00  0.00  0.00\n",
       "e  1.00  1.00  1.00  1.00  1.00  0.34  0.96  1.00  0.00  0.00\n",
       "f  1.00  0.00  0.04  1.00  1.00  0.98  0.54  1.00  0.00  0.00\n",
       "g  1.00  0.00  1.00  0.26  0.88  0.09  0.00  1.00  0.00  1.00\n",
       "h  0.00  0.00  0.98  0.99  0.00  0.00  0.37  0.00  0.00  0.00"
      ]
     },
     "execution_count": 136,
     "metadata": {},
     "output_type": "execute_result"
    }
   ],
   "source": [
    "get_DF(ltn1,'abcdefgh')"
   ]
  },
  {
   "cell_type": "code",
   "execution_count": 134,
   "metadata": {},
   "outputs": [
    {
     "data": {
      "text/html": [
       "<div>\n",
       "<style>\n",
       "    .dataframe thead tr:only-child th {\n",
       "        text-align: right;\n",
       "    }\n",
       "\n",
       "    .dataframe thead th {\n",
       "        text-align: left;\n",
       "    }\n",
       "\n",
       "    .dataframe tbody tr th {\n",
       "        vertical-align: top;\n",
       "    }\n",
       "</style>\n",
       "<table border=\"1\" class=\"dataframe\">\n",
       "  <thead>\n",
       "    <tr style=\"text-align: right;\">\n",
       "      <th></th>\n",
       "      <th>S</th>\n",
       "      <th>C</th>\n",
       "      <th>i</th>\n",
       "      <th>j</th>\n",
       "      <th>k</th>\n",
       "      <th>l</th>\n",
       "      <th>m</th>\n",
       "      <th>n</th>\n",
       "    </tr>\n",
       "  </thead>\n",
       "  <tbody>\n",
       "    <tr>\n",
       "      <th>i</th>\n",
       "      <td>1.00</td>\n",
       "      <td>1.00</td>\n",
       "      <td>0.91</td>\n",
       "      <td>1.00</td>\n",
       "      <td>0.00</td>\n",
       "      <td>0.00</td>\n",
       "      <td>1.00</td>\n",
       "      <td>0.00</td>\n",
       "    </tr>\n",
       "    <tr>\n",
       "      <th>j</th>\n",
       "      <td>0.00</td>\n",
       "      <td>1.00</td>\n",
       "      <td>1.00</td>\n",
       "      <td>0.00</td>\n",
       "      <td>0.00</td>\n",
       "      <td>0.00</td>\n",
       "      <td>0.00</td>\n",
       "      <td>0.00</td>\n",
       "    </tr>\n",
       "    <tr>\n",
       "      <th>k</th>\n",
       "      <td>0.00</td>\n",
       "      <td>1.00</td>\n",
       "      <td>1.00</td>\n",
       "      <td>1.00</td>\n",
       "      <td>1.00</td>\n",
       "      <td>1.00</td>\n",
       "      <td>0.00</td>\n",
       "      <td>1.00</td>\n",
       "    </tr>\n",
       "    <tr>\n",
       "      <th>l</th>\n",
       "      <td>0.00</td>\n",
       "      <td>0.88</td>\n",
       "      <td>1.00</td>\n",
       "      <td>0.53</td>\n",
       "      <td>0.00</td>\n",
       "      <td>0.00</td>\n",
       "      <td>0.00</td>\n",
       "      <td>0.00</td>\n",
       "    </tr>\n",
       "    <tr>\n",
       "      <th>m</th>\n",
       "      <td>0.00</td>\n",
       "      <td>0.03</td>\n",
       "      <td>1.00</td>\n",
       "      <td>0.08</td>\n",
       "      <td>0.31</td>\n",
       "      <td>0.97</td>\n",
       "      <td>0.07</td>\n",
       "      <td>1.00</td>\n",
       "    </tr>\n",
       "    <tr>\n",
       "      <th>n</th>\n",
       "      <td>1.00</td>\n",
       "      <td>1.00</td>\n",
       "      <td>1.00</td>\n",
       "      <td>1.00</td>\n",
       "      <td>0.15</td>\n",
       "      <td>1.00</td>\n",
       "      <td>0.09</td>\n",
       "      <td>0.99</td>\n",
       "    </tr>\n",
       "  </tbody>\n",
       "</table>\n",
       "</div>"
      ],
      "text/plain": [
       "      S     C     i     j     k     l     m     n\n",
       "i  1.00  1.00  0.91  1.00  0.00  0.00  1.00  0.00\n",
       "j  0.00  1.00  1.00  0.00  0.00  0.00  0.00  0.00\n",
       "k  0.00  1.00  1.00  1.00  1.00  1.00  0.00  1.00\n",
       "l  0.00  0.88  1.00  0.53  0.00  0.00  0.00  0.00\n",
       "m  0.00  0.03  1.00  0.08  0.31  0.97  0.07  1.00\n",
       "n  1.00  1.00  1.00  1.00  0.15  1.00  0.09  0.99"
      ]
     },
     "execution_count": 134,
     "metadata": {},
     "output_type": "execute_result"
    }
   ],
   "source": [
    "get_DF(ltn1,'ijklmn')"
   ]
  }
 ],
 "metadata": {
  "kernelspec": {
   "display_name": "Python 3",
   "language": "python",
   "name": "python3"
  },
  "language_info": {
   "codemirror_mode": {
    "name": "ipython",
    "version": 3
   },
   "file_extension": ".py",
   "mimetype": "text/x-python",
   "name": "python",
   "nbconvert_exporter": "python",
   "pygments_lexer": "ipython3",
   "version": "3.6.2"
  }
 },
 "nbformat": 4,
 "nbformat_minor": 2
}
