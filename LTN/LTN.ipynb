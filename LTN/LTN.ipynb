{
 "cells": [
  {
   "cell_type": "code",
   "execution_count": 1,
   "metadata": {
    "collapsed": true
   },
   "outputs": [],
   "source": [
    "import torch\n",
    "import torch.nn as nn\n",
    "from torch.autograd import Variable\n",
    "import torch.optim as optim\n",
    "from matplotlib import pyplot as plt\n",
    "import seaborn as sns\n",
    "from tqdm import tqdm\n",
    "import copy"
   ]
  },
  {
   "cell_type": "code",
   "execution_count": 2,
   "metadata": {
    "collapsed": true
   },
   "outputs": [],
   "source": [
    "emb_dim=100"
   ]
  },
  {
   "cell_type": "markdown",
   "metadata": {},
   "source": [
    "# Terms\n",
    "\n",
    "* variable\n",
    "* function\n",
    "* predicate\n",
    "* clause"
   ]
  },
  {
   "cell_type": "code",
   "execution_count": 3,
   "metadata": {
    "collapsed": true
   },
   "outputs": [],
   "source": [
    "class Predicate:\n",
    "    def __init__(self, name, variables, negation):\n",
    "        self.name=name\n",
    "        self.variables=variables\n",
    "        self.negation=negation\n",
    "    \n",
    "    def show(self):\n",
    "        s=''\n",
    "        if self.negation:\n",
    "            s+='¬'\n",
    "        s='%s%s(%s)'%(s,self.name,', '.join(self.variables))\n",
    "        return s"
   ]
  },
  {
   "cell_type": "code",
   "execution_count": 4,
   "metadata": {},
   "outputs": [],
   "source": [
    "class Clause:\n",
    "    def __init__(self, v,w,predicates):\n",
    "        self.v=float(v)\n",
    "        self.w=float(w)\n",
    "        self.predicates=predicates\n",
    "    def show(self):\n",
    "        ss=[]\n",
    "        for p in self.predicates:\n",
    "            ss.append(p.show())\n",
    "        ss=' ∨ '.join(ss)\n",
    "        return ss"
   ]
  },
  {
   "cell_type": "code",
   "execution_count": 5,
   "metadata": {
    "collapsed": true
   },
   "outputs": [],
   "source": [
    "class KnowledgeBase:\n",
    "    def __init__(self,clauses):\n",
    "        self.clauses=clauses\n",
    "    def show(self):\n",
    "        for i,c in enumerate(self.clauses):\n",
    "            print(c.show())\n",
    "    def union(self, knowledge_base):\n",
    "        new_knowledge_base=copy.deepcopy(knowledge_base)\n",
    "        for clause in self.clauses:\n",
    "            new_knowledge_base.clauses.append(clause)\n",
    "        return new_knowledge_base"
   ]
  },
  {
   "cell_type": "code",
   "execution_count": 6,
   "metadata": {
    "collapsed": true
   },
   "outputs": [],
   "source": [
    "class Propositional:\n",
    "    def __init__(self, v, w, conditions, clause):\n",
    "        self.v = v\n",
    "        self.w = w\n",
    "        self.conditions = conditions\n",
    "        self.clause = clause\n",
    "\n",
    "    def generate_knowledge_base(self,constants):\n",
    "        self.knowledge_base = KnowledgeBase([self.clause])\n",
    "        for condition in self.conditions:\n",
    "            new_knowledge_base = self.bound_knowledge_base(\n",
    "                self.knowledge_base, condition[1], constants, condition[0])\n",
    "            self.knowledge_base = new_knowledge_base\n",
    "        return self.knowledge_base\n",
    "\n",
    "    def bound_knowledge_base(self, knowledge_base, variable, constants,\n",
    "                             existential):\n",
    "        clauses = []\n",
    "        for clause in knowledge_base.clauses:\n",
    "            clauses += self.bound_clause_variable_with_constants(\n",
    "                clause, variable, constants, existential)\n",
    "        return KnowledgeBase(clauses=clauses)\n",
    "\n",
    "    def bound_clause_variable_with_constants(self, clause, variable, constants,\n",
    "                                             existential):\n",
    "        clauses = []\n",
    "        for constant in constants:\n",
    "            clauses.append(\n",
    "                self.bound_clause_variable_with_constant(\n",
    "                    clause, variable, constant))\n",
    "        if existential:\n",
    "            all_predicates = []\n",
    "            for clause in clauses:\n",
    "                all_predicates += clause.predicates\n",
    "            return [Clause(clauses[0].v, clauses[0].w, all_predicates)]\n",
    "        else:\n",
    "            return clauses\n",
    "\n",
    "    def bound_clause_variable_with_constant(self, clause, variable, constant):\n",
    "        new_clause = copy.deepcopy(clause)\n",
    "        for i in range(len(clause.predicates)):\n",
    "            for j in range(len(new_clause.predicates[i].variables)):\n",
    "                if new_clause.predicates[i].variables[j] == variable:\n",
    "                    new_clause.predicates[i].variables[j] = constant\n",
    "        return new_clause"
   ]
  },
  {
   "cell_type": "code",
   "execution_count": 7,
   "metadata": {
    "collapsed": true
   },
   "outputs": [],
   "source": [
    "def load_knowledge_base(filename):\n",
    "    clauses=[]\n",
    "    for line in open(filename):\n",
    "        line=line.strip().split('|')\n",
    "        v,w=line[0].split(',')\n",
    "        line=line[1].strip().split(',')\n",
    "        if line[0]=='not':\n",
    "            negation=True\n",
    "            line=line[1:]\n",
    "        else:\n",
    "            negation=False\n",
    "        predicate=Predicate(name=line[0],negation=negation,variables=line[1:])\n",
    "        clauses.append(Clause(v=v,w=w,predicates=[predicate]))\n",
    "    return KnowledgeBase(clauses)"
   ]
  },
  {
   "cell_type": "code",
   "execution_count": 8,
   "metadata": {},
   "outputs": [],
   "source": [
    "def load_propositional(filename):\n",
    "    propositionals=[]\n",
    "    for line in open(filename):\n",
    "        line=line.strip().split('|')\n",
    "        condition=[]\n",
    "        v,w=line[0].split(',')\n",
    "        for c in line[1].strip().split(','):\n",
    "            c=c.strip().split(' ')\n",
    "            if c[0]=='all':\n",
    "                c[0]=False\n",
    "            else:\n",
    "                c[0]=True\n",
    "            condition.append(c)\n",
    "        predicates=[]\n",
    "        for predicate in line[2:]:\n",
    "            predicate=predicate.strip().split(',')\n",
    "            if predicate[0]=='not':\n",
    "                predicate=Predicate(name=predicate[1],negation=True,variables=predicate[2:])\n",
    "            else:\n",
    "                predicate=Predicate(name=predicate[0],negation=False,variables=predicate[1:])\n",
    "            predicates.append(predicate)\n",
    "        propositionals.append(Propositional(v,w,condition,Clause(v,w,predicates)))\n",
    "    return propositionals"
   ]
  },
  {
   "cell_type": "code",
   "execution_count": 9,
   "metadata": {
    "collapsed": true
   },
   "outputs": [],
   "source": [
    "def show_results(model, knowledge_base):\n",
    "    wrong=0\n",
    "    for clause in knowledge_base.clauses:\n",
    "        output=model.forward(clause=clause)\n",
    "        if output[0].data.numpy()[0]<0.01:\n",
    "            continue\n",
    "        print(clause.show())\n",
    "        print(output[0].data.numpy()[0], output[1].data.numpy()[0])\n",
    "        wrong+=1\n",
    "    print(wrong)"
   ]
  },
  {
   "cell_type": "code",
   "execution_count": 10,
   "metadata": {
    "collapsed": true
   },
   "outputs": [],
   "source": [
    "class GConstants(nn.Module):\n",
    "    def __init__(self, constants,emb_dim):\n",
    "        super(GConstants, self).__init__()\n",
    "        self.symbol2id=dict()\n",
    "        self.id2symbol=dict()\n",
    "        for i,s in enumerate(constants):\n",
    "            self.symbol2id[s]=i\n",
    "            self.id2symbol[i]=s\n",
    "        self.embeddings = nn.Embedding(len(self.symbol2id), emb_dim)\n",
    "    def forward(self,constants):\n",
    "        constant_id=[]\n",
    "        for c in constants:\n",
    "            constant_id.append(self.symbol2id[c])\n",
    "        embs=self.embeddings(Variable(torch.LongTensor(constant_id)))\n",
    "        embs=torch.cat(embs).view(1,-1)\n",
    "        return embs"
   ]
  },
  {
   "cell_type": "code",
   "execution_count": 11,
   "metadata": {
    "collapsed": true
   },
   "outputs": [],
   "source": [
    "class GPredicate(nn.Module):\n",
    "    def __init__(self, name, variable_count, emb_dim):\n",
    "        super(GPredicate, self).__init__()\n",
    "        self.name=name\n",
    "        self.variable_count=variable_count\n",
    "        self.emb_dim=emb_dim\n",
    "        m=variable_count*emb_dim\n",
    "        self.variable_count=variable_count\n",
    "        self.W=Variable(torch.randn(m, emb_dim, m), requires_grad=True)\n",
    "        self.V=Variable(torch.randn(m, emb_dim), requires_grad=True)\n",
    "        self.B=Variable(torch.randn(emb_dim), requires_grad=True)\n",
    "        self.u=Variable(torch.randn(emb_dim), requires_grad=True)\n",
    "    def forward(self, embs, negation):\n",
    "        m=self.variable_count*self.emb_dim\n",
    "        W=self.W.view(m,-1)\n",
    "        output=torch.mm(embs,W)\n",
    "        output=output.view(-1,m)\n",
    "        output=torch.mm(output,embs.view(-1,1))\n",
    "        output=output.view(1,-1)\n",
    "        output=output.add(torch.mm(embs,self.V))\n",
    "        output=output.add(self.B)\n",
    "        output=output.view(-1)\n",
    "        output=torch.tanh(output)\n",
    "        output=torch.mul(output,self.u).sum()\n",
    "        output=torch.sigmoid(output)\n",
    "        if negation:\n",
    "            output=1.0-output\n",
    "        return output"
   ]
  },
  {
   "cell_type": "code",
   "execution_count": 12,
   "metadata": {
    "collapsed": true
   },
   "outputs": [],
   "source": [
    "class LTN(nn.Module):\n",
    "    def __init__(self, emb_dim, constants, predicates):\n",
    "        super(LTN, self).__init__()\n",
    "        self.emb_dim=emb_dim\n",
    "        self.Constants=GConstants(constants, emb_dim)\n",
    "        self.Predicates=dict()\n",
    "        for name,n in predicates:\n",
    "            self.Predicates[name]=GPredicate(name,n,emb_dim)\n",
    "    def forward(self, clause):\n",
    "        Phi=None\n",
    "        v=Variable(torch.FloatTensor([clause.v]))\n",
    "        w=Variable(torch.FloatTensor([clause.w]))\n",
    "        for predicate in clause.predicates:\n",
    "            negation=predicate.negation\n",
    "            name=predicate.name\n",
    "            constants=predicate.variables\n",
    "            embs=self.Constants.forward(constants)\n",
    "            output=self.Predicates[name].forward(embs,negation)\n",
    "            if Phi is None or Phi.data.numpy()[0]<output.data.numpy()[0]:\n",
    "                Phi=output\n",
    "        if (Phi>w).data.all():\n",
    "            loss=Phi-w\n",
    "        elif (Phi<v).data.all():\n",
    "            loss=v-Phi\n",
    "        else:\n",
    "            loss=Variable(torch.FloatTensor([0]),requires_grad=True)\n",
    "        return loss,Phi\n",
    "    def parameters(self):\n",
    "        results=list(self.Constants.parameters())\n",
    "        for name in self.Predicates:\n",
    "            results+=list(self.Predicates[name].parameters())\n",
    "        return results"
   ]
  },
  {
   "cell_type": "code",
   "execution_count": 13,
   "metadata": {},
   "outputs": [],
   "source": [
    "kb1=load_knowledge_base('./facts1.txt')\n",
    "kb2=load_knowledge_base('./facts2.txt')\n",
    "propositionals=load_propositional('./knowledge.txt')\n",
    "gkbs1=[]\n",
    "for p in propositionals:\n",
    "    gkbs1.append(p.generate_knowledge_base('abcdefgh'))\n",
    "gkb1=gkbs1[0]\n",
    "for tkb in gkbs1[1:]:\n",
    "    gkb1=gkb1.union(tkb)\n",
    "gkbs2=[]\n",
    "for p in propositionals:\n",
    "    gkbs2.append(p.generate_knowledge_base('ijklmn'))\n",
    "gkb2=gkbs2[0]\n",
    "for tkb in gkbs2[1:]:\n",
    "    gkb2=gkb2.union(tkb)"
   ]
  },
  {
   "cell_type": "code",
   "execution_count": 24,
   "metadata": {
    "scrolled": true
   },
   "outputs": [
    {
     "name": "stderr",
     "output_type": "stream",
     "text": [
      "\r",
      "  0%|          | 0/2000 [00:00<?, ?it/s]"
     ]
    },
    {
     "data": {
      "image/png": "[encoded data removed]",
      "text/plain": [
       "<matplotlib.figure.Figure at 0x1a157df908>"
      ]
     },
     "metadata": {},
     "output_type": "display_data"
    },
    {
     "data": {
      "image/png": "[encoded data removed]",
      "text/plain": [
       "<matplotlib.figure.Figure at 0x1a1d124c88>"
      ]
     },
     "metadata": {},
     "output_type": "display_data"
    },
    {
     "name": "stdout",
     "output_type": "stream",
     "text": [
      "S(i)\n",
      "0.988445 0.011555\n",
      "¬S(j)\n",
      "0.769194 0.230806\n",
      "¬S(l)\n",
      "0.123239 0.876761\n",
      "F(i, j)\n",
      "0.999785 0.0002145\n",
      "F(i, m)\n",
      "0.993702 0.00629808\n",
      "F(k, l)\n",
      "0.644376 0.355624\n",
      "F(m, n)\n",
      "0.987018 0.0129816\n",
      "¬F(i, l)\n",
      "0.0133018 0.986698\n",
      "¬F(j, m)\n",
      "0.161299 0.838701\n",
      "¬F(l, n)\n",
      "0.999629 0.000370741\n",
      "¬F(l, m)\n",
      "1.0 0.0\n",
      "S(a)\n",
      "0.934985 0.0650152\n",
      "S(e)\n",
      "0.919937 0.0800627\n",
      "S(f)\n",
      "0.999724 0.000275875\n",
      "S(g)\n",
      "0.0135491 0.986451\n",
      "¬S(d)\n",
      "0.997347 0.00265324\n",
      "F(a, b)\n",
      "0.0520901 0.94791\n",
      "F(a, e)\n",
      "0.284325 0.715675\n",
      "F(a, g)\n",
      "0.370691 0.629309\n",
      "F(e, f)\n",
      "0.998736 0.00126434\n",
      "F(g, h)\n",
      "0.0397776 0.960222\n",
      "¬F(a, c)\n",
      "0.0139196 0.98608\n",
      "¬F(b, d)\n",
      "0.99999 1.00136e-05\n",
      "¬F(b, e)\n",
      "0.69851 0.30149\n",
      "¬F(b, f)\n",
      "0.996101 0.00389886\n",
      "¬F(b, g)\n",
      "0.999979 2.13385e-05\n"
     ]
    },
    {
     "name": "stderr",
     "output_type": "stream",
     "text": [
      "\r",
      "  0%|          | 1/2000 [00:01<52:29,  1.58s/it]"
     ]
    },
    {
     "name": "stdout",
     "output_type": "stream",
     "text": [
      "¬F(b, h)\n",
      "0.991098 0.00890231\n",
      "¬F(c, f)\n",
      "0.984843 0.0151569\n",
      "¬F(d, g)\n",
      "0.999899 0.000100732\n",
      "¬F(f, g)\n",
      "0.0175093 0.982491\n",
      "¬F(f, h)\n",
      "0.877192 0.122808\n",
      "C(a)\n",
      "0.445227 0.554773\n",
      "C(e)\n",
      "0.853861 0.146139\n",
      "¬C(b)\n",
      "0.188281 0.811719\n",
      "¬C(d)\n",
      "0.999751 0.000249326\n",
      "¬C(f)\n",
      "0.999998 1.66893e-06\n",
      "¬C(h)\n",
      "0.999936 6.4373e-05\n",
      "37\n"
     ]
    },
    {
     "name": "stderr",
     "output_type": "stream",
     "text": [
      "  5%|▌         | 100/2000 [01:12<22:56,  1.38it/s]"
     ]
    },
    {
     "data": {
      "image/png": "[encoded data removed]",
      "text/plain": [
       "<matplotlib.figure.Figure at 0x1a157a66a0>"
      ]
     },
     "metadata": {},
     "output_type": "display_data"
    },
    {
     "data": {
      "image/png": "[encoded data removed]",
      "text/plain": [
       "<matplotlib.figure.Figure at 0x1a1579e7b8>"
      ]
     },
     "metadata": {},
     "output_type": "display_data"
    },
    {
     "name": "stderr",
     "output_type": "stream",
     "text": [
      "\r",
      "  5%|▌         | 101/2000 [01:13<23:05,  1.37it/s]"
     ]
    },
    {
     "name": "stdout",
     "output_type": "stream",
     "text": [
      "S(e)\n",
      "0.515298 0.484702\n",
      "F(e, f)\n",
      "0.0207701 0.97923\n",
      "¬C(d)\n",
      "0.234211 0.765789\n",
      "3\n"
     ]
    },
    {
     "name": "stderr",
     "output_type": "stream",
     "text": [
      " 10%|█         | 200/2000 [02:32<22:55,  1.31it/s]"
     ]
    },
    {
     "data": {
      "image/png": "[encoded data removed]",
      "text/plain": [
       "<matplotlib.figure.Figure at 0x1a1d3de2e8>"
      ]
     },
     "metadata": {},
     "output_type": "display_data"
    },
    {
     "data": {
      "image/png": "[encoded data removed]",
      "text/plain": [
       "<matplotlib.figure.Figure at 0x1a1d139b70>"
      ]
     },
     "metadata": {},
     "output_type": "display_data"
    },
    {
     "name": "stderr",
     "output_type": "stream",
     "text": [
      "\r",
      " 10%|█         | 201/2000 [02:34<23:00,  1.30it/s]"
     ]
    },
    {
     "name": "stdout",
     "output_type": "stream",
     "text": [
      "0\n"
     ]
    },
    {
     "name": "stderr",
     "output_type": "stream",
     "text": [
      " 11%|█         | 220/2000 [02:47<22:34,  1.31it/s]"
     ]
    },
    {
     "ename": "KeyboardInterrupt",
     "evalue": "",
     "output_type": "error",
     "traceback": [
      "\u001b[0;31m---------------------------------------------------------------------------\u001b[0m",
      "\u001b[0;31mKeyboardInterrupt\u001b[0m                         Traceback (most recent call last)",
      "\u001b[0;32m<ipython-input-24-04230ee0ca87>\u001b[0m in \u001b[0;36m<module>\u001b[0;34m()\u001b[0m\n\u001b[1;32m     12\u001b[0m     \u001b[0;32mfor\u001b[0m \u001b[0mclause\u001b[0m \u001b[0;32min\u001b[0m \u001b[0mkb_train\u001b[0m\u001b[0;34m.\u001b[0m\u001b[0mclauses\u001b[0m\u001b[0;34m:\u001b[0m\u001b[0;34m\u001b[0m\u001b[0m\n\u001b[1;32m     13\u001b[0m         \u001b[0mloss\u001b[0m\u001b[0;34m,\u001b[0m\u001b[0mprob\u001b[0m\u001b[0;34m=\u001b[0m\u001b[0mltn1\u001b[0m\u001b[0;34m.\u001b[0m\u001b[0mforward\u001b[0m\u001b[0;34m(\u001b[0m\u001b[0mclause\u001b[0m\u001b[0;34m=\u001b[0m\u001b[0mclause\u001b[0m\u001b[0;34m)\u001b[0m\u001b[0;34m\u001b[0m\u001b[0m\n\u001b[0;32m---> 14\u001b[0;31m         \u001b[0mloss\u001b[0m\u001b[0;34m.\u001b[0m\u001b[0mbackward\u001b[0m\u001b[0;34m(\u001b[0m\u001b[0mone\u001b[0m\u001b[0;34m)\u001b[0m\u001b[0;34m\u001b[0m\u001b[0m\n\u001b[0m\u001b[1;32m     15\u001b[0m         \u001b[0mtotal_probability\u001b[0m\u001b[0;34m+=\u001b[0m\u001b[0mprob\u001b[0m\u001b[0;34m.\u001b[0m\u001b[0mdata\u001b[0m\u001b[0;34m.\u001b[0m\u001b[0mnumpy\u001b[0m\u001b[0;34m(\u001b[0m\u001b[0;34m)\u001b[0m\u001b[0;34m[\u001b[0m\u001b[0;36m0\u001b[0m\u001b[0;34m]\u001b[0m\u001b[0;34m\u001b[0m\u001b[0m\n\u001b[1;32m     16\u001b[0m         \u001b[0mtotal_loss\u001b[0m\u001b[0;34m+=\u001b[0m\u001b[0mloss\u001b[0m\u001b[0;34m.\u001b[0m\u001b[0mdata\u001b[0m\u001b[0;34m.\u001b[0m\u001b[0mnumpy\u001b[0m\u001b[0;34m(\u001b[0m\u001b[0;34m)\u001b[0m\u001b[0;34m[\u001b[0m\u001b[0;36m0\u001b[0m\u001b[0;34m]\u001b[0m\u001b[0;34m\u001b[0m\u001b[0m\n",
      "\u001b[0;32m~/anaconda3/lib/python3.6/site-packages/torch/autograd/variable.py\u001b[0m in \u001b[0;36mbackward\u001b[0;34m(self, gradient, retain_graph, create_graph, retain_variables)\u001b[0m\n\u001b[1;32m    154\u001b[0m                 \u001b[0mVariable\u001b[0m\u001b[0;34m.\u001b[0m\u001b[0;34m\u001b[0m\u001b[0m\n\u001b[1;32m    155\u001b[0m         \"\"\"\n\u001b[0;32m--> 156\u001b[0;31m         \u001b[0mtorch\u001b[0m\u001b[0;34m.\u001b[0m\u001b[0mautograd\u001b[0m\u001b[0;34m.\u001b[0m\u001b[0mbackward\u001b[0m\u001b[0;34m(\u001b[0m\u001b[0mself\u001b[0m\u001b[0;34m,\u001b[0m \u001b[0mgradient\u001b[0m\u001b[0;34m,\u001b[0m \u001b[0mretain_graph\u001b[0m\u001b[0;34m,\u001b[0m \u001b[0mcreate_graph\u001b[0m\u001b[0;34m,\u001b[0m \u001b[0mretain_variables\u001b[0m\u001b[0;34m)\u001b[0m\u001b[0;34m\u001b[0m\u001b[0m\n\u001b[0m\u001b[1;32m    157\u001b[0m \u001b[0;34m\u001b[0m\u001b[0m\n\u001b[1;32m    158\u001b[0m     \u001b[0;32mdef\u001b[0m \u001b[0mregister_hook\u001b[0m\u001b[0;34m(\u001b[0m\u001b[0mself\u001b[0m\u001b[0;34m,\u001b[0m \u001b[0mhook\u001b[0m\u001b[0;34m)\u001b[0m\u001b[0;34m:\u001b[0m\u001b[0;34m\u001b[0m\u001b[0m\n",
      "\u001b[0;32m~/anaconda3/lib/python3.6/site-packages/torch/autograd/__init__.py\u001b[0m in \u001b[0;36mbackward\u001b[0;34m(variables, grad_variables, retain_graph, create_graph, retain_variables)\u001b[0m\n\u001b[1;32m     96\u001b[0m \u001b[0;34m\u001b[0m\u001b[0m\n\u001b[1;32m     97\u001b[0m     Variable._execution_engine.run_backward(\n\u001b[0;32m---> 98\u001b[0;31m         variables, grad_variables, retain_graph)\n\u001b[0m\u001b[1;32m     99\u001b[0m \u001b[0;34m\u001b[0m\u001b[0m\n\u001b[1;32m    100\u001b[0m \u001b[0;34m\u001b[0m\u001b[0m\n",
      "\u001b[0;31mKeyboardInterrupt\u001b[0m: "
     ]
    }
   ],
   "source": [
    "ltn1=LTN(emb_dim,'abcdefghijklmn',[['S',1],['F',2],['C',1]])\n",
    "kb_train=kb1.union(kb2)\n",
    "optimizor=torch.optim.Adam(ltn1.parameters(),lr=0.1,weight_decay=0.1)\n",
    "mone=torch.FloatTensor([-1])\n",
    "one=torch.FloatTensor([1])\n",
    "average_prob=[]\n",
    "averate_loss=[]\n",
    "for i in tqdm(range(2000)):\n",
    "    optimizor.zero_grad()\n",
    "    total_probability=0.0\n",
    "    total_loss=0.0\n",
    "    for clause in kb_train.clauses:\n",
    "        loss,prob=ltn1.forward(clause=clause)\n",
    "        loss.backward(one)\n",
    "        total_probability+=prob.data.numpy()[0]\n",
    "        total_loss+=loss.data.numpy()[0]\n",
    "    optimizor.step()\n",
    "    average_prob.append(total_probability/len(kb_train.clauses))\n",
    "    averate_loss.append(total_loss/len(kb_train.clauses))\n",
    "    \n",
    "    if i%100==0:\n",
    "        plt.plot(average_prob)\n",
    "        plt.show()\n",
    "        plt.plot(averate_loss)\n",
    "        plt.show()\n",
    "        show_results(ltn1, kb_train)"
   ]
  },
  {
   "cell_type": "code",
   "execution_count": 25,
   "metadata": {
    "scrolled": true
   },
   "outputs": [
    {
     "name": "stdout",
     "output_type": "stream",
     "text": [
      "(Variable containing:\n",
      "1.00000e-02 *\n",
      "  7.9611\n",
      "[torch.FloatTensor of size 1]\n",
      ", Variable containing:\n",
      " 0.9204\n",
      "[torch.FloatTensor of size 1]\n",
      ")\n",
      "F(c, b)\n"
     ]
    }
   ],
   "source": [
    "c=Clause(1,1,[Predicate('F',['c','b'],False)])\n",
    "print(ltn1.forward(c))\n",
    "print(c.show())"
   ]
  },
  {
   "cell_type": "code",
   "execution_count": null,
   "metadata": {
    "scrolled": true
   },
   "outputs": [
    {
     "name": "stderr",
     "output_type": "stream",
     "text": [
      "\n",
      "  0%|          | 0/2000 [00:00<?, ?it/s]\u001b[A"
     ]
    },
    {
     "data": {
      "image/png": "[encoded data removed]",
      "text/plain": [
       "<matplotlib.figure.Figure at 0x1a157ef240>"
      ]
     },
     "metadata": {},
     "output_type": "display_data"
    },
    {
     "data": {
      "image/png": "[encoded data removed]",
      "text/plain": [
       "<matplotlib.figure.Figure at 0x1a16be9cf8>"
      ]
     },
     "metadata": {},
     "output_type": "display_data"
    },
    {
     "name": "stdout",
     "output_type": "stream",
     "text": [
      "¬S(i) ∨ C(i)\n",
      "0.999967 3.28403e-05\n",
      "¬S(i) ∨ ¬F(i, j) ∨ S(j)\n",
      "0.999586 0.000414431\n",
      "¬S(i) ∨ ¬F(i, l) ∨ S(l)\n",
      "0.997065 0.00293487\n",
      "¬S(k) ∨ ¬F(k, j) ∨ S(j)\n",
      "0.562536 0.437464\n",
      "¬S(k) ∨ ¬F(k, l) ∨ S(l)\n",
      "0.730473 0.269527\n",
      "¬S(k) ∨ ¬F(k, m) ∨ S(m)\n",
      "0.200082 0.799918\n",
      "¬S(k) ∨ ¬F(k, n) ∨ S(n)\n",
      "0.730473 0.269527\n",
      "¬F(i, i) ∨ F(i, i)\n",
      "0.28875 0.71125\n",
      "¬F(i, j) ∨ F(j, i)\n",
      "0.982799 0.0172014\n",
      "¬F(i, l) ∨ F(l, i)\n",
      "0.681322 0.318678\n",
      "¬F(j, k) ∨ F(k, j)\n",
      "0.437464 0.562536\n",
      "¬F(j, l) ∨ F(l, j)\n",
      "0.907557 0.0924428\n",
      "¬F(j, n) ∨ F(n, j)\n",
      "0.0436706 0.956329\n",
      "¬F(k, i) ∨ F(i, k)\n",
      "0.997872 0.00212765\n",
      "¬F(k, j) ∨ F(j, k)\n",
      "0.0297787 0.970221\n",
      "¬F(k, m) ∨ F(m, k)\n",
      "0.200082 0.799918\n",
      "¬F(k, n) ∨ F(n, k)\n",
      "0.999914 8.58307e-05\n",
      "¬F(m, i) ∨ F(i, m)\n",
      "0.982785 0.0172148\n",
      "¬F(m, k) ∨ F(k, m)\n",
      "0.516389 0.483611\n",
      "¬F(m, l) ∨ F(l, m)\n",
      "0.973237 0.0267631\n",
      "¬F(m, n) ∨ F(n, m)\n",
      "0.954235 0.0457647\n",
      "¬F(n, i) ∨ F(i, n)\n",
      "0.999784 0.000216067\n",
      "¬F(n, j) ∨ F(j, n)\n",
      "0.178497 0.821503\n",
      "¬F(n, n) ∨ F(n, n)\n",
      "0.0473002 0.9527\n",
      "¬F(i, i)\n",
      "0.28875 0.71125\n",
      "¬F(l, l)\n",
      "1.0 3.57628e-07\n",
      "¬F(m, m)\n",
      "1.0 0.0\n",
      "¬F(n, n)\n",
      "0.0473002 0.9527\n",
      "¬S(a) ∨ C(a)\n",
      "0.997716 0.00228357\n",
      "¬S(c) ∨ C(c)\n",
      "0.371984 0.628016\n",
      "¬S(a) ∨ ¬F(a, b) ∨ S(b)\n",
      "0.950621 0.049379\n",
      "¬S(a) ∨ ¬F(a, c) ∨ S(c)\n",
      "0.628016 0.371984\n",
      "¬S(a) ∨ ¬F(a, d) ∨ S(d)\n",
      "0.997716 0.00228357\n",
      "¬S(a) ∨ ¬F(a, e) ∨ S(e)\n",
      "0.997716 0.00228357\n",
      "¬S(c) ∨ ¬F(c, c) ∨ S(c)\n",
      "0.019493 0.980507\n",
      "¬S(c) ∨ ¬F(c, e) ∨ S(e)\n",
      "0.371984 0.628016\n",
      "¬S(g) ∨ ¬F(g, b) ∨ S(b)\n",
      "0.176412 0.823588\n",
      "¬S(g) ∨ ¬F(g, c) ∨ S(c)\n",
      "0.628016 0.371984\n",
      "¬S(g) ∨ ¬F(g, d) ∨ S(d)\n",
      "0.971184 0.0288159\n",
      "¬S(g) ∨ ¬F(g, e) ∨ S(e)\n",
      "0.997456 0.00254399\n",
      "¬S(g) ∨ ¬F(g, f) ∨ S(f)\n",
      "0.0860333 0.913967\n",
      "F(c, a) ∨ F(c, b) ∨ F(c, c) ∨ F(c, d) ∨ F(c, e) ∨ F(c, f) ∨ F(c, g) ∨ F(c, h)\n",
      "0.0595183 0.940482\n",
      "¬F(a, b) ∨ F(b, a)\n",
      "0.897184 0.102816\n",
      "¬F(a, c) ∨ F(c, a)\n",
      "0.999978 2.15769e-05\n",
      "¬F(a, e) ∨ F(e, a)\n",
      "0.0192059 0.980794\n",
      "¬F(a, g) ∨ F(g, a)\n",
      "0.0405267 0.959473\n",
      "¬F(b, a) ∨ F(a, b)\n",
      "0.049379 0.950621\n",
      "¬F(b, b) ∨ F(b, b)\n",
      "0.248675 0.751325\n",
      "¬F(b, c) ∨ F(c, b)\n",
      "0.999366 0.000633947\n",
      "¬F(b, d) ∨ F(d, b)\n",
      "0.783331 0.216669\n",
      "¬F(b, e) ∨ F(e, b)\n",
      "0.369969 0.630031\n",
      "¬F(b, f) ∨ F(f, b)\n",
      "0.949914 0.0500858\n",
      "¬F(c, c) ∨ F(c, c)\n",
      "0.019493 0.980507\n",
      "¬F(c, e) ∨ F(e, c)\n",
      "0.771246 0.228754\n",
      "¬F(d, c) ∨ F(c, d)\n",
      "0.96248 0.0375197\n",
      "¬F(d, e) ∨ F(e, d)\n",
      "0.0113231 0.988677\n",
      "¬F(e, c) ∨ F(c, e)\n",
      "0.0595183 0.940482\n",
      "¬F(e, d) ∨ F(d, e)\n",
      "0.483038 0.516962\n",
      "¬F(f, a) ∨ F(a, f)\n",
      "0.999855 0.000144551\n",
      "¬F(f, b) ∨ F(b, f)\n",
      "0.013315 0.986685\n",
      "¬F(f, c) ∨ F(c, f)\n",
      "0.996343 0.00365707\n",
      "¬F(f, d) ∨ F(d, f)\n",
      "0.872086 0.127914\n",
      "¬F(f, e) ∨ F(e, f)\n",
      "0.253655 0.746345\n",
      "¬F(f, f) ∨ F(f, f)\n",
      "0.259416 0.740584\n",
      "¬F(f, g) ∨ F(g, f)\n",
      "0.844696 0.155304\n",
      "¬F(g, b) ∨ F(b, g)\n",
      "0.176412 0.823588\n",
      "¬F(g, c) ∨ F(c, g)\n",
      "0.694811 0.305189\n",
      "¬F(g, d) ∨ F(d, g)\n",
      "0.971184 0.0288159\n",
      "¬F(g, e) ∨ F(e, g)\n",
      "0.0342185 0.965782\n",
      "¬F(g, f) ∨ F(f, g)\n",
      "0.0860333 0.913967\n",
      "¬F(h, c) ∨ F(c, h)\n",
      "0.0109828 0.989017\n",
      "¬F(h, d) ∨ F(d, h)\n",
      "0.135179 0.864821\n",
      "¬F(h, e) ∨ F(e, h)\n",
      "0.998978 0.00102174\n",
      "¬F(h, f) ∨ F(f, h)\n",
      "0.75313 0.24687\n",
      "¬F(h, g) ∨ F(g, h)\n",
      "0.999994 6.19888e-06\n",
      "¬F(a, a)\n",
      "0.999983 1.74046e-05\n",
      "¬F(b, b)\n",
      "0.248675 0.751325\n",
      "¬F(c, c)\n",
      "0.019493 0.980507\n",
      "¬F(d, d)\n",
      "0.999985 1.46627e-05\n",
      "¬F(e, e)\n",
      "1.0 1.19209e-07\n",
      "¬F(f, f)\n",
      "0.259416 0.740584\n",
      "¬F(g, g)\n",
      "0.999997 2.5034e-06\n",
      "S(n)\n",
      "1.0 1.26043e-09\n",
      "¬S(k)\n",
      "0.730473 0.269527\n",
      "F(i, m)\n",
      "0.99777 0.00222955\n",
      "¬F(i, l)\n",
      "0.997065 0.00293487\n",
      "¬F(j, k)\n",
      "0.970221 0.0297787\n",
      "¬F(j, l)\n",
      "0.999102 0.000897527\n",
      "¬F(j, n)\n",
      "0.821503 0.178497\n",
      "¬F(l, n)\n",
      "0.999624 0.000376463\n",
      "¬F(k, m)\n",
      "0.200082 0.799918\n",
      "S(e)\n",
      "0.999261 0.000739253\n",
      "S(f)\n",
      "0.996154 0.00384613\n",
      "¬S(c)\n",
      "0.371984 0.628016\n",
      "F(a, b)\n",
      "0.049379 0.950621\n",
      "F(a, f)\n",
      "0.999855 "
     ]
    },
    {
     "name": "stderr",
     "output_type": "stream",
     "text": [
      "\n",
      "  0%|          | 1/2000 [00:06<3:45:29,  6.77s/it]\u001b[A"
     ]
    },
    {
     "name": "stdout",
     "output_type": "stream",
     "text": [
      "0.000144551\n",
      "F(c, d)\n",
      "0.998947 0.00105302\n",
      "F(e, f)\n",
      "0.253655 0.746345\n",
      "F(g, h)\n",
      "1.0 1.47258e-08\n",
      "¬F(a, c)\n",
      "0.999978 2.15769e-05\n",
      "¬F(a, d)\n",
      "0.999858 0.000142097\n",
      "¬F(b, d)\n",
      "0.783331 0.216669\n",
      "¬F(b, e)\n",
      "0.999887 0.00011313\n",
      "¬F(b, f)\n",
      "0.986685 0.013315\n",
      "¬F(c, e)\n",
      "0.940482 0.0595183\n",
      "¬F(c, g)\n",
      "0.305189 0.694811\n",
      "¬F(d, e)\n",
      "0.516962 0.483038\n",
      "¬F(d, f)\n",
      "0.127914 0.872086\n",
      "¬F(d, h)\n",
      "0.864821 0.135179\n",
      "¬F(e, g)\n",
      "0.965782 0.0342185\n",
      "¬F(f, g)\n",
      "0.844696 0.155304\n",
      "C(a)\n",
      "0.999963 3.74586e-05\n",
      "¬C(b)\n",
      "0.990892 0.00910848\n",
      "¬C(c)\n",
      "0.0228243 0.977176\n",
      "¬C(f)\n",
      "0.999994 5.72205e-06\n",
      "¬C(g)\n",
      "1.0 2.38419e-07\n",
      "¬C(h)\n",
      "0.999702 0.000298202\n",
      "117\n"
     ]
    },
    {
     "name": "stderr",
     "output_type": "stream",
     "text": [
      "\n",
      "Exception in thread Thread-6:\n",
      "Traceback (most recent call last):\n",
      "  File \"/Users/sunxiaofei/anaconda3/lib/python3.6/threading.py\", line 916, in _bootstrap_inner\n",
      "    self.run()\n",
      "  File \"/Users/sunxiaofei/anaconda3/lib/python3.6/site-packages/tqdm/_tqdm.py\", line 144, in run\n",
      "    for instance in self.tqdm_cls._instances:\n",
      "  File \"/Users/sunxiaofei/anaconda3/lib/python3.6/_weakrefset.py\", line 60, in __iter__\n",
      "    for itemref in self.data:\n",
      "RuntimeError: Set changed size during iteration\n",
      "\n",
      "  4%|▍         | 76/2000 [05:57<2:30:39,  4.70s/it]"
     ]
    }
   ],
   "source": [
    "kb_train=kb1.union(kb2).union(gkb1).union(gkb2)\n",
    "ltn2=LTN(emb_dim,'abcdefghijklmn',[['S',1],['F',2],['C',1]])\n",
    "optimizor=torch.optim.Adam(ltn2.parameters(),lr=0.1,weight_decay=0.1)\n",
    "mone=torch.FloatTensor([-1])\n",
    "one=torch.FloatTensor([1])\n",
    "average_prob=[]\n",
    "average_loss=[]\n",
    "for i in tqdm(range(2000)):\n",
    "    optimizor.zero_grad()\n",
    "    total_probability=0.0\n",
    "    total_loss=0.0\n",
    "    for clause in kb_train.clauses:\n",
    "        loss,prob=ltn2.forward(clause=clause)\n",
    "        loss.backward(one)\n",
    "        total_probability+=prob.data.numpy()[0]\n",
    "        total_loss+=loss.data.numpy()[0]\n",
    "    optimizor.step()\n",
    "    average_prob.append(total_probability/len(kb_train.clauses))\n",
    "    average_loss.append(total_loss/len(kb_train.clauses))\n",
    "    if i%100==0:\n",
    "        plt.plot(average_prob)\n",
    "        plt.show()\n",
    "        plt.plot(averate_loss)\n",
    "        plt.show()\n",
    "        show_results(ltn2,kb_train)"
   ]
  },
  {
   "cell_type": "code",
   "execution_count": 21,
   "metadata": {},
   "outputs": [
    {
     "name": "stdout",
     "output_type": "stream",
     "text": [
      "S(a)\n",
      "0.999971 2.89519e-05\n",
      "S(e)\n",
      "0.147613 0.852387\n",
      "S(f)\n",
      "0.999794 0.000206059\n",
      "S(g)\n",
      "0.999794 0.000206492\n",
      "F(b, c)\n",
      "0.999995 4.89541e-06\n",
      "F(c, d)\n",
      "0.999995 5.00549e-06\n",
      "F(e, f)\n",
      "0.999994 5.82879e-06\n",
      "F(g, h)\n",
      "0.999995 4.9862e-06\n",
      "¬F(a, c)\n",
      "0.999897 0.000103474\n",
      "¬F(a, d)\n",
      "0.999893 0.000106812\n",
      "¬F(a, h)\n",
      "0.999878 0.000121951\n",
      "11\n"
     ]
    }
   ],
   "source": [
    "show_results(ltn2,kb1)"
   ]
  }
 ],
 "metadata": {
  "kernelspec": {
   "display_name": "Python 3",
   "language": "python",
   "name": "python3"
  },
  "language_info": {
   "codemirror_mode": {
    "name": "ipython",
    "version": 3
   },
   "file_extension": ".py",
   "mimetype": "text/x-python",
   "name": "python",
   "nbconvert_exporter": "python",
   "pygments_lexer": "ipython3",
   "version": "3.6.2"
  }
 },
 "nbformat": 4,
 "nbformat_minor": 2
}
