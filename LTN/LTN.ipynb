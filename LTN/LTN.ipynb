{
 "cells": [
  {
   "cell_type": "code",
   "execution_count": 1219,
   "metadata": {
    "collapsed": true
   },
   "outputs": [],
   "source": [
    "import torch\n",
    "import torch.nn as nn\n",
    "from torch.autograd import Variable\n",
    "import torch.optim as optim\n",
    "from matplotlib import pyplot as plt\n",
    "import seaborn as sns\n",
    "from tqdm import tqdm\n",
    "import copy"
   ]
  },
  {
   "cell_type": "code",
   "execution_count": 1091,
   "metadata": {
    "collapsed": true
   },
   "outputs": [],
   "source": [
    "emb_dim=100"
   ]
  },
  {
   "cell_type": "code",
   "execution_count": 966,
   "metadata": {},
   "outputs": [],
   "source": [
    "def load_facts(filename):\n",
    "    facts=[]\n",
    "    for line in open(filename):\n",
    "        line=line.strip().split(',')\n",
    "        fact=[]\n",
    "        if line[0]=='not':\n",
    "            fact.append(True)\n",
    "            line=line[1:]\n",
    "        else:\n",
    "            fact.append(False)\n",
    "        fact.append(line[0])\n",
    "        fact.append(line[1:])\n",
    "        facts.append(fact)\n",
    "    return facts\n",
    "        "
   ]
  },
  {
   "cell_type": "code",
   "execution_count": 1310,
   "metadata": {
    "collapsed": true
   },
   "outputs": [],
   "source": [
    "class Constants(nn.Module):\n",
    "    def __init__(self, constants,emb_dim):\n",
    "        super(Constants, self).__init__()\n",
    "        self.symbol2id=dict()\n",
    "        self.id2symbol=dict()\n",
    "        for i,s in enumerate(constants):\n",
    "            self.symbol2id[s]=i\n",
    "            self.id2symbol[i]=s\n",
    "        self.embeddings = nn.Embedding(len(self.symbol2id), emb_dim)\n",
    "    def forward(self,constants):\n",
    "        constant_id=[]\n",
    "        for c in constants:\n",
    "            constant_id.append(self.symbol2id[c])\n",
    "        embs=self.embeddings(Variable(torch.LongTensor(constant_id)))\n",
    "        embs=torch.cat(embs).view(1,-1)\n",
    "        return embs"
   ]
  },
  {
   "cell_type": "code",
   "execution_count": 1311,
   "metadata": {
    "collapsed": true
   },
   "outputs": [],
   "source": [
    "class Predicate(nn.Module):\n",
    "    def __init__(self, name, variable_count, emb_dim):\n",
    "        super(Predicate, self).__init__()\n",
    "        self.name=name\n",
    "        self.variable_count=variable_count\n",
    "        self.emb_dim=emb_dim\n",
    "        m=variable_count*emb_dim\n",
    "        self.variable_count=variable_count\n",
    "        self.W=Variable(torch.randn(m, emb_dim, m), requires_grad=True)\n",
    "        self.V=Variable(torch.randn(m, emb_dim), requires_grad=True)\n",
    "        self.B=Variable(torch.randn(emb_dim), requires_grad=True)\n",
    "        self.u=Variable(torch.randn(emb_dim), requires_grad=True)\n",
    "    def forward(self, embs, negation):\n",
    "        m=self.variable_count*self.emb_dim\n",
    "        W=self.W.view(m,-1)\n",
    "        output=torch.mm(embs,W)\n",
    "        output=output.view(-1,m)\n",
    "        output=torch.mm(output,embs.view(-1,1))\n",
    "        output=output.view(1,-1)\n",
    "        output=output.add(torch.mm(embs,self.V))\n",
    "        output=output.add(self.B)\n",
    "        output=output.view(-1)\n",
    "        output=torch.tanh(output)\n",
    "        output=torch.mul(output,self.u).sum()\n",
    "        output=torch.sigmoid(output)\n",
    "        if negation:\n",
    "            output=1.0-output\n",
    "        return output"
   ]
  },
  {
   "cell_type": "code",
   "execution_count": 1330,
   "metadata": {
    "collapsed": true
   },
   "outputs": [],
   "source": [
    "class LTN2(nn.Module):\n",
    "    def __init__(self, emb_dim, constants, predicates):\n",
    "        super(LTN2, self).__init__()\n",
    "        self.emb_dim=emb_dim\n",
    "        self.Constants=Constants(constants, emb_dim)\n",
    "        self.Predicates=dict()\n",
    "        for name,n in predicates:\n",
    "            self.Predicates[name]=Predicate(name,n,emb_dim)\n",
    "    def forward(self, clause):\n",
    "        predicate_results=[]\n",
    "        Ans=None\n",
    "        for predicate in clause:\n",
    "            negation=predicate[0]\n",
    "            name=predicate[1]\n",
    "            constants=predicate[2]\n",
    "            embs=self.Constants.forward(constants)\n",
    "            output=self.Predicates[name].forward(embs,negation)\n",
    "            predicate_results.append(output)\n",
    "            if Ans is None or Ans.data.numpy()[0]<output.data.numpy()[0]:\n",
    "                Ans=output\n",
    "#         predicate_results=Variable(torch.FloatTensor(predicate_results))\n",
    "#         return predicate_results[0]\n",
    "        return torch.log(Ans),Ans\n",
    "    def parameters(self):\n",
    "        results=list(self.Constants.parameters())\n",
    "        for name in self.Predicates:\n",
    "            results+=list(self.Predicates[name].parameters())\n",
    "        return results"
   ]
  },
  {
   "cell_type": "code",
   "execution_count": 1333,
   "metadata": {},
   "outputs": [
    {
     "data": {
      "text/plain": [
       "(Variable containing:\n",
       " -1.3209\n",
       " [torch.FloatTensor of size 1], Variable containing:\n",
       "  0.2669\n",
       " [torch.FloatTensor of size 1])"
      ]
     },
     "execution_count": 1333,
     "metadata": {},
     "output_type": "execute_result"
    }
   ],
   "source": [
    "facts1=load_facts('./facts1.txt')\n",
    "facts2=load_facts('./facts2.txt')\n",
    "facts=facts1+facts2\n",
    "ltn=LTN2(emb_dim,'abcdefghijklmn',[['S',1],['F',2],['C',1]])\n",
    "ltn.forward(clause=facts[0:1])"
   ]
  },
  {
   "cell_type": "code",
   "execution_count": null,
   "metadata": {},
   "outputs": [
    {
     "name": "stderr",
     "output_type": "stream",
     "text": [
      "\r",
      "  0%|          | 0/2000 [00:00<?, ?it/s]"
     ]
    },
    {
     "data": {
      "image/png": "[encoded data removed]",
      "text/plain": [
       "<matplotlib.figure.Figure at 0x1a50831278>"
      ]
     },
     "metadata": {},
     "output_type": "display_data"
    },
    {
     "name": "stderr",
     "output_type": "stream",
     "text": [
      "\r",
      "  0%|          | 1/2000 [00:01<37:21,  1.12s/it]"
     ]
    },
    {
     "name": "stdout",
     "output_type": "stream",
     "text": [
      "[False, 'S', ['a']]\n",
      "0.319781\n",
      "[False, 'S', ['f']]\n",
      "1.61787e-06\n",
      "[True, 'S', ['b']]\n",
      "0.0685193\n",
      "[True, 'S', ['c']]\n",
      "0.000962138\n",
      "[True, 'S', ['d']]\n",
      "0.0\n",
      "[True, 'S', ['g']]\n",
      "0.000148773\n",
      "[False, 'F', ['a', 'b']]\n",
      "0.0025197\n",
      "[False, 'F', ['a', 'e']]\n",
      "0.0152733\n",
      "[False, 'F', ['a', 'f']]\n",
      "0.792803\n",
      "[False, 'F', ['e', 'f']]\n",
      "0.0147101\n",
      "[False, 'F', ['g', 'h']]\n",
      "0.0531988\n",
      "[True, 'F', ['a', 'd']]\n",
      "0.402774\n",
      "[True, 'F', ['a', 'h']]\n",
      "0.932851\n",
      "[True, 'F', ['b', 'd']]\n",
      "0.00656688\n",
      "[True, 'F', ['c', 'g']]\n",
      "4.76837e-07\n",
      "[True, 'F', ['c', 'h']]\n",
      "0.021305\n",
      "[True, 'F', ['d', 'e']]\n",
      "0.0\n",
      "[True, 'F', ['d', 'f']]\n",
      "0.326539\n",
      "[True, 'F', ['d', 'g']]\n",
      "1.28746e-05\n",
      "[True, 'F', ['f', 'g']]\n",
      "0.844532\n",
      "[True, 'F', ['f', 'h']]\n",
      "0.15214\n",
      "[False, 'C', ['a']]\n",
      "0.00340126\n",
      "[True, 'C', ['b']]\n",
      "4.87566e-05\n",
      "[True, 'C', ['d']]\n",
      "0.0\n",
      "[False, 'S', ['i']]\n",
      "1.28265e-06\n",
      "[True, 'S', ['j']]\n",
      "0.0186088\n",
      "[True, 'S', ['l']]\n",
      "0.776143\n",
      "[True, 'S', ['m']]\n",
      "2.38419e-07\n",
      "[False, 'F', ['i', 'm']]\n",
      "0.642201\n",
      "[False, 'F', ['k', 'l']]\n",
      "0.00132768\n",
      "[False, 'F', ['m', 'n']]\n",
      "0.00012396\n",
      "[True, 'F', ['i', 'l']]\n",
      "0.0\n",
      "[True, 'F', ['i', 'n']]\n",
      "0.000375628\n",
      "[True, 'F', ['j', 'l']]\n",
      "7.39098e-06\n",
      "[True, 'F', ['j', 'm']]\n",
      "0.554815\n",
      "[True, 'F', ['j', 'n']]\n",
      "0.922701\n",
      "[True, 'F', ['l', 'n']]\n",
      "0.133061\n",
      "[True, 'F', ['k', 'm']]\n",
      "0.00421506\n",
      "38\n"
     ]
    },
    {
     "name": "stderr",
     "output_type": "stream",
     "text": [
      "  5%|▌         | 100/2000 [01:06<20:59,  1.51it/s]"
     ]
    },
    {
     "data": {
      "image/png": "[encoded data removed]",
      "text/plain": [
       "<matplotlib.figure.Figure at 0x1a5dc28eb8>"
      ]
     },
     "metadata": {},
     "output_type": "display_data"
    },
    {
     "name": "stderr",
     "output_type": "stream",
     "text": [
      "\r",
      "  5%|▌         | 101/2000 [01:07<21:05,  1.50it/s]"
     ]
    },
    {
     "name": "stdout",
     "output_type": "stream",
     "text": [
      "[False, 'S', ['f']]\n",
      "3.00347e-09\n",
      "[True, 'S', ['g']]\n",
      "0.000226319\n",
      "[False, 'S', ['i']]\n",
      "2.65836e-06\n",
      "[False, 'F', ['m', 'n']]\n",
      "9.32503e-11\n",
      "4\n"
     ]
    },
    {
     "name": "stderr",
     "output_type": "stream",
     "text": [
      " 10%|█         | 200/2000 [02:16<20:32,  1.46it/s]"
     ]
    },
    {
     "data": {
      "image/png": "[encoded data removed]",
      "text/plain": [
       "<matplotlib.figure.Figure at 0x1a5dc34128>"
      ]
     },
     "metadata": {},
     "output_type": "display_data"
    },
    {
     "name": "stderr",
     "output_type": "stream",
     "text": [
      "\r",
      " 10%|█         | 201/2000 [02:17<20:33,  1.46it/s]"
     ]
    },
    {
     "name": "stdout",
     "output_type": "stream",
     "text": [
      "[False, 'S', ['f']]\n",
      "6.82857e-06\n",
      "[False, 'S', ['g']]\n",
      "0.00419558\n",
      "[False, 'F', ['m', 'n']]\n",
      "4.85356e-06\n",
      "3\n"
     ]
    },
    {
     "name": "stderr",
     "output_type": "stream",
     "text": [
      " 15%|█▌        | 300/2000 [03:23<19:13,  1.47it/s]"
     ]
    },
    {
     "data": {
      "image/png": "[encoded data removed]",
      "text/plain": [
       "<matplotlib.figure.Figure at 0x1a5df1d518>"
      ]
     },
     "metadata": {},
     "output_type": "display_data"
    },
    {
     "name": "stderr",
     "output_type": "stream",
     "text": [
      "\r",
      " 15%|█▌        | 301/2000 [03:24<19:14,  1.47it/s]"
     ]
    },
    {
     "name": "stdout",
     "output_type": "stream",
     "text": [
      "[False, 'S', ['g']]\n",
      "0.00180069\n",
      "[False, 'F', ['i', 'm']]\n",
      "0.0087309\n",
      "[True, 'F', ['i', 'l']]\n",
      "0.923864\n",
      "[True, 'F', ['l', 'm']]\n",
      "0.223871\n",
      "4\n"
     ]
    },
    {
     "name": "stderr",
     "output_type": "stream",
     "text": [
      " 20%|██        | 400/2000 [45:11<3:00:45,  6.78s/it]"
     ]
    },
    {
     "data": {
      "image/png": "[encoded data removed]",
      "text/plain": [
       "<matplotlib.figure.Figure at 0x1a5df23780>"
      ]
     },
     "metadata": {},
     "output_type": "display_data"
    },
    {
     "name": "stderr",
     "output_type": "stream",
     "text": [
      "\r",
      " 20%|██        | 401/2000 [45:12<3:00:17,  6.76s/it]"
     ]
    },
    {
     "name": "stdout",
     "output_type": "stream",
     "text": [
      "[False, 'S', ['g']]\n",
      "0.00114766\n",
      "[False, 'F', ['i', 'j']]\n",
      "1.58043e-05\n",
      "[False, 'F', ['i', 'm']]\n",
      "1.68828e-06\n",
      "3\n"
     ]
    },
    {
     "name": "stderr",
     "output_type": "stream",
     "text": [
      " 25%|██▌       | 500/2000 [46:41<2:20:05,  5.60s/it]"
     ]
    },
    {
     "data": {
      "image/png": "[encoded data removed]",
      "text/plain": [
       "<matplotlib.figure.Figure at 0x1a5e024668>"
      ]
     },
     "metadata": {},
     "output_type": "display_data"
    },
    {
     "name": "stderr",
     "output_type": "stream",
     "text": [
      "\r",
      " 25%|██▌       | 501/2000 [46:43<2:19:46,  5.59s/it]"
     ]
    },
    {
     "name": "stdout",
     "output_type": "stream",
     "text": [
      "[False, 'S', ['g']]\n",
      "0.0049422\n",
      "1\n"
     ]
    },
    {
     "name": "stderr",
     "output_type": "stream",
     "text": [
      " 30%|███       | 600/2000 [48:00<1:52:01,  4.80s/it]"
     ]
    },
    {
     "data": {
      "image/png": "[encoded data removed]",
      "text/plain": [
       "<matplotlib.figure.Figure at 0x1a5e0e7940>"
      ]
     },
     "metadata": {},
     "output_type": "display_data"
    },
    {
     "name": "stderr",
     "output_type": "stream",
     "text": [
      "\r",
      " 30%|███       | 601/2000 [48:01<1:51:48,  4.79s/it]"
     ]
    },
    {
     "name": "stdout",
     "output_type": "stream",
     "text": [
      "[False, 'S', ['g']]\n",
      "0.00240728\n",
      "1\n"
     ]
    },
    {
     "name": "stderr",
     "output_type": "stream",
     "text": [
      " 33%|███▎      | 659/2000 [48:52<1:39:26,  4.45s/it]"
     ]
    }
   ],
   "source": [
    "optimizor=torch.optim.Adam(ltn.parameters(),lr=0.1,weight_decay=0.1)\n",
    "mone=torch.FloatTensor([-1])\n",
    "errs=[]\n",
    "for i in tqdm(range(2000)):\n",
    "    optimizor.zero_grad()\n",
    "    total_probability=0\n",
    "    for f in facts:\n",
    "        log,prob=ltn.forward(clause=[f])\n",
    "        prob.backward(mone)\n",
    "        total_probability+=prob.data.numpy()[0]\n",
    "    optimizor.step()\n",
    "    errs.append(total_probability/len(facts))\n",
    "    if i%100==0:\n",
    "        plt.plot(errs)\n",
    "        plt.show()\n",
    "        show_results(facts)"
   ]
  },
  {
   "cell_type": "code",
   "execution_count": 1336,
   "metadata": {
    "collapsed": true
   },
   "outputs": [],
   "source": [
    "def show_results(facts):\n",
    "    wrong=0\n",
    "    for f in facts:\n",
    "        output=ltn.forward(clause=[f])\n",
    "        if output[1].data.numpy()[0]>0.95:\n",
    "            continue\n",
    "        print(f)\n",
    "        print(output[1].data.numpy()[0])\n",
    "        wrong+=1\n",
    "    print(wrong)"
   ]
  },
  {
   "cell_type": "code",
   "execution_count": 1195,
   "metadata": {},
   "outputs": [
    {
     "name": "stdout",
     "output_type": "stream",
     "text": [
      "[False, 'S', ['g']]\n",
      "0.119012\n",
      "[True, 'S', ['g']]\n",
      "0.880988\n",
      "2\n"
     ]
    }
   ],
   "source": [
    "show_results(facts)"
   ]
  },
  {
   "cell_type": "code",
   "execution_count": 1221,
   "metadata": {
    "collapsed": true
   },
   "outputs": [],
   "source": [
    "clauses=[\n",
    "    [[True,'F','x','y'],[False,'F','y','x']]\n",
    "]"
   ]
  },
  {
   "cell_type": "code",
   "execution_count": 1254,
   "metadata": {
    "collapsed": true
   },
   "outputs": [],
   "source": [
    "clauses=[\n",
    "    [[False,'F','x','y']]\n",
    "]"
   ]
  },
  {
   "cell_type": "code",
   "execution_count": 1255,
   "metadata": {
    "collapsed": true
   },
   "outputs": [],
   "source": [
    "def construct_training(clauses, variable, for_all):\n",
    "    constants='abcdefghijklmn'\n",
    "    new_clauses=[]\n",
    "    if for_all:\n",
    "        for clause in clauses:\n",
    "            new_clauses+=replace_clause(clause,variable,constants)\n",
    "    else:\n",
    "        for clause in clauses:\n",
    "            disjunction=[]\n",
    "            for clause in replace_clause(clause,variable,constants):\n",
    "                disjunction+=clause\n",
    "            new_clauses.append(disjunction)\n",
    "    return new_clauses\n",
    "\n",
    "def replace_clause(clause,variable,constants):\n",
    "    new_clauses=[]\n",
    "    for constant in constants:\n",
    "        new_clause=copy.deepcopy(clause)\n",
    "        for i in range(len(new_clause)):\n",
    "            for j in range(2,len(new_clause[i])):\n",
    "                if new_clause[i][j]==variable:\n",
    "                    new_clause[i][j]=constant\n",
    "        new_clauses.append(new_clause)\n",
    "    return new_clauses"
   ]
  },
  {
   "cell_type": "code",
   "execution_count": 1256,
   "metadata": {},
   "outputs": [],
   "source": [
    "new=construct_training(clauses,'x',True)"
   ]
  },
  {
   "cell_type": "code",
   "execution_count": 1257,
   "metadata": {},
   "outputs": [],
   "source": [
    "newnew=construct_training(new,'y',False)"
   ]
  },
  {
   "cell_type": "code",
   "execution_count": 1260,
   "metadata": {},
   "outputs": [
    {
     "data": {
      "text/plain": [
       "14"
      ]
     },
     "execution_count": 1260,
     "metadata": {},
     "output_type": "execute_result"
    }
   ],
   "source": [
    "len(newnew[0])"
   ]
  }
 ],
 "metadata": {
  "kernelspec": {
   "display_name": "Python 3",
   "language": "python",
   "name": "python3"
  },
  "language_info": {
   "codemirror_mode": {
    "name": "ipython",
    "version": 3
   },
   "file_extension": ".py",
   "mimetype": "text/x-python",
   "name": "python",
   "nbconvert_exporter": "python",
   "pygments_lexer": "ipython3",
   "version": "3.6.2"
  }
 },
 "nbformat": 4,
 "nbformat_minor": 2
}
