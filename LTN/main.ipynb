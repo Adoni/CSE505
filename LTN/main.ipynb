{
 "cells": [
  {
   "cell_type": "code",
   "execution_count": 1,
   "metadata": {
    "collapsed": true
   },
   "outputs": [],
   "source": [
    "import torch\n",
    "import torch.nn as nn\n",
    "from torch.autograd import Variable\n",
    "import torch.optim as optim\n",
    "from matplotlib import pyplot as plt\n",
    "import seaborn as sns\n",
    "from tqdm import tqdm\n",
    "import copy\n",
    "from utils import Predicate,Clause,KnowledgeBase, Propositional\n",
    "from utils import load_knowledge_base,load_propositional\n",
    "from models import LTN\n",
    "import pickle\n",
    "import numpy as np\n",
    "import seaborn as sns\n",
    "sns.set(style=\"white\", context=\"talk\")"
   ]
  },
  {
   "cell_type": "code",
   "execution_count": 2,
   "metadata": {
    "collapsed": true
   },
   "outputs": [],
   "source": [
    "def get_accuracy(model,kb):\n",
    "    results=[]\n",
    "    for clause in kb.clauses:\n",
    "        o1,o2=model.forward(clause)\n",
    "        if o2.data.numpy()[0][0]>0.9:\n",
    "            results.append(1.0)\n",
    "        else:\n",
    "            results.append(0.0)\n",
    "\n",
    "    return sum(results)/len(kb.clauses)"
   ]
  },
  {
   "cell_type": "code",
   "execution_count": 3,
   "metadata": {
    "collapsed": true
   },
   "outputs": [],
   "source": [
    "def test_model(model,kb1, kb2):\n",
    "    kb_train=kb1.union(kb2)\n",
    "    optimizor=torch.optim.Adam(model.parameters(),lr=0.1,weight_decay=0.1)\n",
    "    mone=torch.FloatTensor([-1])\n",
    "    one=torch.FloatTensor([1])\n",
    "    average_prob=[]\n",
    "    averate_loss=[]\n",
    "    best_accuracy1=0.0\n",
    "    best_accuracy2=0.0\n",
    "    for i in tqdm(range(20)):\n",
    "        optimizor.zero_grad()\n",
    "        total_probability=0.0\n",
    "        total_loss=0.0\n",
    "        for clause in kb_train.clauses:\n",
    "            loss,prob=model.forward(clause=clause)\n",
    "            loss.backward(one)\n",
    "            total_probability+=prob.data.numpy()[0]\n",
    "            total_loss+=loss.data.numpy()[0]\n",
    "        optimizor.step()\n",
    "        average_prob.append(total_probability/len(kb_train.clauses))\n",
    "        averate_loss.append(total_loss/len(kb_train.clauses))\n",
    "        accuracy1=get_accuracy(model,kb1)\n",
    "        accuracy2=get_accuracy(model,kb2)\n",
    "        if accuracy1+accuracy2>best_accuracy1+best_accuracy2:\n",
    "            best_accuracy1=accuracy1\n",
    "            best_accuracy2=accuracy2\n",
    "    return average_prob,averate_loss,best_accuracy1,best_accuracy2"
   ]
  },
  {
   "cell_type": "code",
   "execution_count": 4,
   "metadata": {
    "collapsed": true
   },
   "outputs": [],
   "source": [
    "kb1=load_knowledge_base('./facts1.txt')\n",
    "kb2=load_knowledge_base('./facts2.txt')\n",
    "propositionals=load_propositional('./knowledge.txt')\n",
    "gkbs1=[]\n",
    "for p in propositionals:\n",
    "    gkbs1.append(p.generate_knowledge_base('abcdefgh',change_weight=False))\n",
    "gkb1=gkbs1[0]\n",
    "for tkb in gkbs1[1:]:\n",
    "    gkb1=gkb1.union(tkb)\n",
    "gkbs2=[]\n",
    "for p in propositionals:\n",
    "    gkbs2.append(p.generate_knowledge_base('ijklmn',change_weight=False))\n",
    "gkb2=gkbs2[0]\n",
    "for tkb in gkbs2[1:]:\n",
    "    gkb2=gkb2.union(tkb)\n",
    "\n",
    "gkbs3=[]\n",
    "for p in propositionals:\n",
    "    gkbs3.append(p.generate_knowledge_base('abcdefgh',change_weight=True))\n",
    "gkb3=gkbs3[0]\n",
    "for tkb in gkbs3[1:]:\n",
    "    gkb3=gkb3.union(tkb)\n",
    "gkbs4=[]\n",
    "for p in propositionals:\n",
    "    gkbs4.append(p.generate_knowledge_base('ijklmn',change_weight=True))\n",
    "gkb4=gkbs4[0]\n",
    "for tkb in gkbs4[1:]:\n",
    "    gkb4=gkb4.union(tkb)"
   ]
  },
  {
   "cell_type": "code",
   "execution_count": 7,
   "metadata": {
    "collapsed": true
   },
   "outputs": [],
   "source": [
    "emb_dim=10"
   ]
  },
  {
   "cell_type": "code",
   "execution_count": 10,
   "metadata": {},
   "outputs": [
    {
     "name": "stderr",
     "output_type": "stream",
     "text": [
      "100%|██████████| 20/20 [00:36<00:00,  1.82s/it]\n"
     ]
    }
   ],
   "source": [
    "prob1,loss1,first1,second1=test_model(\n",
    "    model=LTN(emb_dim,'abcdefghijklmn',[['S',1],['F',2],['C',1]], CLTN=False),\n",
    "    kb1=kb1.union(gkb1),\n",
    "    kb2=kb2.union(gkb2)\n",
    ")\n",
    "pickle.dump((prob1,loss1,first1,second1), open( \"./results/result1.pkl\", \"wb\" ) )"
   ]
  },
  {
   "cell_type": "code",
   "execution_count": 11,
   "metadata": {},
   "outputs": [
    {
     "name": "stderr",
     "output_type": "stream",
     "text": [
      "100%|██████████| 20/20 [00:15<00:00,  1.26it/s]\n"
     ]
    }
   ],
   "source": [
    "prob2,loss2,first2,second2=test_model(\n",
    "    model=LTN(emb_dim,'abcdefghijklmn',[['S',1],['F',2],['C',1]], CLTN=True),\n",
    "    kb1=kb1.union(gkb1),\n",
    "    kb2=kb2.union(gkb2)\n",
    ")\n",
    "pickle.dump((prob2,loss2,first2,second2), open( \"./results/result2.pkl\", \"wb\" ) )"
   ]
  },
  {
   "cell_type": "code",
   "execution_count": 12,
   "metadata": {},
   "outputs": [
    {
     "name": "stderr",
     "output_type": "stream",
     "text": [
      "100%|██████████| 20/20 [00:33<00:00,  1.70s/it]\n"
     ]
    }
   ],
   "source": [
    "prob3,loss3,first3,second3=test_model(\n",
    "    model=LTN(emb_dim,'abcdefghijklmn',[['S',1],['F',2],['C',1]], CLTN=False),\n",
    "    kb1=kb1.union(gkb3),\n",
    "    kb2=kb2.union(gkb4)\n",
    ")\n",
    "pickle.dump((prob3,loss3,first3,second3), open( \"./results/result3.pkl\", \"wb\" ) )"
   ]
  },
  {
   "cell_type": "code",
   "execution_count": 13,
   "metadata": {},
   "outputs": [
    {
     "name": "stderr",
     "output_type": "stream",
     "text": [
      "100%|██████████| 20/20 [00:17<00:00,  1.17it/s]\n"
     ]
    }
   ],
   "source": [
    "prob4,loss4,first4,second4=test_model(\n",
    "    model=LTN(emb_dim,'abcdefghijklmn',[['S',1],['F',2],['C',1]], CLTN=True),\n",
    "    kb1=kb1.union(gkb3),\n",
    "    kb2=kb2.union(gkb4)\n",
    ")\n",
    "pickle.dump((prob4,loss4,first4,second4), open( \"./results/result4.pkl\", \"wb\" ) )"
   ]
  },
  {
   "cell_type": "code",
   "execution_count": 14,
   "metadata": {
    "collapsed": true
   },
   "outputs": [],
   "source": [
    "prob1,loss1,first1,second1=pickle.load(open('./results/result1.pkl','rb'))\n",
    "prob2,loss2,first2,second2=pickle.load(open('./results/result2.pkl','rb'))\n",
    "prob3,loss3,first3,second3=pickle.load(open('./results/result3.pkl','rb'))\n",
    "prob4,loss4,first4,second4=pickle.load(open('./results/result4.pkl','rb'))"
   ]
  },
  {
   "cell_type": "code",
   "execution_count": 15,
   "metadata": {},
   "outputs": [
    {
     "data": {
      "image/png": "[encoded data removed]",
      "text/plain": [
       "<matplotlib.figure.Figure at 0x108a674e0>"
      ]
     },
     "metadata": {},
     "output_type": "display_data"
    }
   ],
   "source": [
    "plt.plot(prob1,label='LTN')\n",
    "plt.plot(prob2,label='C-LTN')\n",
    "plt.plot(prob3,label='Weighted LTN')\n",
    "plt.plot(prob4,label='Weighted C-LTN')\n",
    "plt.legend()\n",
    "plt.show()"
   ]
  },
  {
   "cell_type": "code",
   "execution_count": 18,
   "metadata": {},
   "outputs": [
    {
     "data": {
      "image/png": "[encoded data removed]",
      "text/plain": [
       "<matplotlib.figure.Figure at 0x11486be48>"
      ]
     },
     "metadata": {},
     "output_type": "display_data"
    }
   ],
   "source": [
    "x = np.array(list(\"ABCD\"))\n",
    "y1 = np.array([first1,first2,first3,first4])\n",
    "y2 = np.array([second1,second2,second3,second4])\n",
    "sns.barplot(x, y1)\n",
    "plt.ylabel(\"Accuracy\")\n",
    "plt.ylim((0.7,1.0))\n",
    "plt.show()"
   ]
  }
 ],
 "metadata": {
  "kernelspec": {
   "display_name": "Python 3",
   "language": "python",
   "name": "python3"
  },
  "language_info": {
   "codemirror_mode": {
    "name": "ipython",
    "version": 3
   },
   "file_extension": ".py",
   "mimetype": "text/x-python",
   "name": "python",
   "nbconvert_exporter": "python",
   "pygments_lexer": "ipython3",
   "version": "3.6.2"
  }
 },
 "nbformat": 4,
 "nbformat_minor": 2
}
